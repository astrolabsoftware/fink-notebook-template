{
 "cells": [
  {
   "cell_type": "markdown",
   "id": "b4f9641d-a53d-485e-8060-989edc8e8fc3",
   "metadata": {},
   "source": [
    "<img src=\"https://raw.githubusercontent.com/astrolabsoftware/fink-notebook-template/main/Fink_PrimaryLogo_WEB.jpg\" width=400 />\n",
    "\n",
    "# Fink case study: name resolver"
   ]
  },
  {
   "cell_type": "markdown",
   "id": "4b66bfd8-957f-43d6-8f20-2fca24e3381f",
   "metadata": {},
   "source": [
    "## Goal\n",
    "\n",
    "This notebook shows how to resolve object names using various databases."
   ]
  },
  {
   "cell_type": "markdown",
   "id": "e2948656-617f-48d1-8f2e-8b8f935f9dcd",
   "metadata": {},
   "source": [
    "## What is behind?\n",
    "\n",
    "Giving names is a complex process, and often objects end up with multiple names or designations. At the era of big data, this is especially harder as the need to names million of objects quickly lead to non-intuitive designation process. We will not come up with a new naming scheme here, but rather offer a new service to explore existing names for a given object. Currently, you will be able to resolve ZTF object names in SIMBAD, the Transient Name Server, and Solar System databases known by the Quaero service from SSODNET -- and vice versa meaning given an object in one of those 3 databases, you will know if there is a corresponding ZTF objects. This service is expanding, and we will keep adding new source of information."
   ]
  },
  {
   "cell_type": "code",
   "execution_count": 1,
   "id": "f6385137-4cdf-4a62-ac95-86f3540f3580",
   "metadata": {},
   "outputs": [],
   "source": [
    "import io\n",
    "import requests\n",
    "import pandas as pd"
   ]
  },
  {
   "cell_type": "markdown",
   "id": "f1aa1e80-6408-4ae6-8f64-9a6fc6c11693",
   "metadata": {},
   "source": [
    "## TNS to ZTF\n",
    "\n",
    "I have a TNS identifier, are there ZTF objects corresponding?"
   ]
  },
  {
   "cell_type": "code",
   "execution_count": 2,
   "id": "697ddbe6-ad7d-4a9e-883c-d42cc82c2277",
   "metadata": {},
   "outputs": [
    {
     "data": {
      "text/html": [
       "<div>\n",
       "<style scoped>\n",
       "    .dataframe tbody tr th:only-of-type {\n",
       "        vertical-align: middle;\n",
       "    }\n",
       "\n",
       "    .dataframe tbody tr th {\n",
       "        vertical-align: top;\n",
       "    }\n",
       "\n",
       "    .dataframe thead th {\n",
       "        text-align: right;\n",
       "    }\n",
       "</style>\n",
       "<table border=\"1\" class=\"dataframe\">\n",
       "  <thead>\n",
       "    <tr style=\"text-align: right;\">\n",
       "      <th></th>\n",
       "      <th>d:declination</th>\n",
       "      <th>d:fullname</th>\n",
       "      <th>d:internalname</th>\n",
       "      <th>d:ra</th>\n",
       "      <th>d:type</th>\n",
       "      <th>key:time</th>\n",
       "    </tr>\n",
       "  </thead>\n",
       "  <tbody>\n",
       "    <tr>\n",
       "      <th>0</th>\n",
       "      <td>52.219894</td>\n",
       "      <td>SN 2023vwy</td>\n",
       "      <td>ATLAS23url</td>\n",
       "      <td>47.765951</td>\n",
       "      <td>SN Ia</td>\n",
       "      <td>1701889538816</td>\n",
       "    </tr>\n",
       "    <tr>\n",
       "      <th>1</th>\n",
       "      <td>52.219894</td>\n",
       "      <td>SN 2023vwy</td>\n",
       "      <td>ZTF23abmwsrw</td>\n",
       "      <td>47.765951</td>\n",
       "      <td>SN Ia</td>\n",
       "      <td>1701889538816</td>\n",
       "    </tr>\n",
       "  </tbody>\n",
       "</table>\n",
       "</div>"
      ],
      "text/plain": [
       "   d:declination  d:fullname d:internalname       d:ra d:type       key:time\n",
       "0      52.219894  SN 2023vwy     ATLAS23url  47.765951  SN Ia  1701889538816\n",
       "1      52.219894  SN 2023vwy   ZTF23abmwsrw  47.765951  SN Ia  1701889538816"
      ]
     },
     "execution_count": 2,
     "metadata": {},
     "output_type": "execute_result"
    }
   ],
   "source": [
    "r = requests.post(\n",
    "  'https://fink-portal.org/api/v1/resolver',\n",
    "  json={\n",
    "    'resolver': 'tns',\n",
    "    'name': 'SN 2023vwy'\n",
    "  }\n",
    ")\n",
    "\n",
    "# Format output in a DataFrame\n",
    "pdf = pd.read_json(io.BytesIO(r.content))\n",
    "pdf"
   ]
  },
  {
   "cell_type": "markdown",
   "id": "7c43a1f2-266a-4e69-8048-cc641befcad8",
   "metadata": {},
   "source": [
    "## ZTF to TNS\n",
    "\n",
    "I have a ZTF object name, are there counterparts in TNS?"
   ]
  },
  {
   "cell_type": "code",
   "execution_count": 3,
   "id": "89e75d35-1e5f-4fa0-847e-6a0474745862",
   "metadata": {},
   "outputs": [
    {
     "data": {
      "text/html": [
       "<div>\n",
       "<style scoped>\n",
       "    .dataframe tbody tr th:only-of-type {\n",
       "        vertical-align: middle;\n",
       "    }\n",
       "\n",
       "    .dataframe tbody tr th {\n",
       "        vertical-align: top;\n",
       "    }\n",
       "\n",
       "    .dataframe thead th {\n",
       "        text-align: right;\n",
       "    }\n",
       "</style>\n",
       "<table border=\"1\" class=\"dataframe\">\n",
       "  <thead>\n",
       "    <tr style=\"text-align: right;\">\n",
       "      <th></th>\n",
       "      <th>d:declination</th>\n",
       "      <th>d:fullname</th>\n",
       "      <th>d:internalname</th>\n",
       "      <th>d:ra</th>\n",
       "      <th>d:type</th>\n",
       "      <th>key:time</th>\n",
       "    </tr>\n",
       "  </thead>\n",
       "  <tbody>\n",
       "    <tr>\n",
       "      <th>0</th>\n",
       "      <td>52.219904</td>\n",
       "      <td>AT 2023vwy</td>\n",
       "      <td>ZTF23abmwsrw</td>\n",
       "      <td>47.765935</td>\n",
       "      <td>nan</td>\n",
       "      <td>1698788550829</td>\n",
       "    </tr>\n",
       "    <tr>\n",
       "      <th>1</th>\n",
       "      <td>52.219894</td>\n",
       "      <td>SN 2023vwy</td>\n",
       "      <td>ZTF23abmwsrw</td>\n",
       "      <td>47.765951</td>\n",
       "      <td>SN Ia</td>\n",
       "      <td>1701889538816</td>\n",
       "    </tr>\n",
       "  </tbody>\n",
       "</table>\n",
       "</div>"
      ],
      "text/plain": [
       "   d:declination  d:fullname d:internalname       d:ra d:type       key:time\n",
       "0      52.219904  AT 2023vwy   ZTF23abmwsrw  47.765935    nan  1698788550829\n",
       "1      52.219894  SN 2023vwy   ZTF23abmwsrw  47.765951  SN Ia  1701889538816"
      ]
     },
     "execution_count": 3,
     "metadata": {},
     "output_type": "execute_result"
    }
   ],
   "source": [
    "r = requests.post(\n",
    "  'https://fink-portal.org/api/v1/resolver',\n",
    "  json={\n",
    "    'resolver': 'tns',\n",
    "    'reverse': True,\n",
    "    'name': 'ZTF23abmwsrw'\n",
    "  }\n",
    ")\n",
    "\n",
    "# Format output in a DataFrame\n",
    "pdf = pd.read_json(io.BytesIO(r.content))\n",
    "pdf"
   ]
  },
  {
   "cell_type": "markdown",
   "id": "ccd2d86f-88ab-46a6-ba94-f3c518d41bd6",
   "metadata": {},
   "source": [
    "## SIMBAD to ZTF\n",
    "\n",
    "I have an astronomical object name referenced in SIMBAD, are there counterparts in ZTF? As these objects can be extended, we typically provide coordinates, and then you need to run a conesearch:"
   ]
  },
  {
   "cell_type": "code",
   "execution_count": 4,
   "id": "762e5669-de6c-484a-91f9-301753401bd7",
   "metadata": {},
   "outputs": [
    {
     "name": "stdout",
     "output_type": "stream",
     "text": [
      "Object found!\n",
      "[{'name': 'Si=Simbad, all IDs (via url)', 'oid': 1579005, 'oname': 'Mrk 2', 'otype': 'GiG', 'jpos': '01:54:53.80 +36:55:04.6', 'jradeg': 28.7241958, 'jdedeg': 36.9179556, 'refPos': '2006AJ....131.1163S', 'z': None, 'MType': 'SBa', 'nrefs': 138}]\n",
      "\n",
      "Object(s) in ZTF: ['ZTF18aabfjoi']\n"
     ]
    }
   ],
   "source": [
    "r = requests.post(\n",
    "  'https://fink-portal.org/api/v1/resolver',\n",
    "  json={\n",
    "    'resolver': 'simbad',\n",
    "    'name': 'Markarian 2'\n",
    "  }\n",
    ")\n",
    "\n",
    "if r.json() != []:\n",
    "    print('Object found!')\n",
    "    print(r.json())\n",
    "    print()\n",
    "\n",
    "    r = requests.post(\n",
    "      'https://fink-portal.org/api/v1/explorer',\n",
    "      json={\n",
    "        'ra': r.json()[0]['jradeg'],\n",
    "        'dec': r.json()[0]['jdedeg'],\n",
    "        'radius': 60\n",
    "      }\n",
    "    )\n",
    "    \n",
    "    # Format output in a DataFrame\n",
    "    pdf = pd.read_json(io.BytesIO(r.content))\n",
    "    print('Object(s) in ZTF: {}'.format(pdf['i:objectId'].values))\n",
    "else:\n",
    "    print('No objects found')"
   ]
  },
  {
   "cell_type": "markdown",
   "id": "c02d372f-d551-40f9-a608-914a45969a3f",
   "metadata": {},
   "source": [
    "## ZTF to SIMBAD\n",
    "\n",
    "I have a ZTF object name, are there counterparts in SIMBAD?"
   ]
  },
  {
   "cell_type": "code",
   "execution_count": 5,
   "id": "d06094f8-a0ae-454d-b495-b7baf4ae742a",
   "metadata": {},
   "outputs": [
    {
     "data": {
      "text/html": [
       "<div>\n",
       "<style scoped>\n",
       "    .dataframe tbody tr th:only-of-type {\n",
       "        vertical-align: middle;\n",
       "    }\n",
       "\n",
       "    .dataframe tbody tr th {\n",
       "        vertical-align: top;\n",
       "    }\n",
       "\n",
       "    .dataframe thead th {\n",
       "        text-align: right;\n",
       "    }\n",
       "</style>\n",
       "<table border=\"1\" class=\"dataframe\">\n",
       "  <thead>\n",
       "    <tr style=\"text-align: right;\">\n",
       "      <th></th>\n",
       "      <th>d:cdsxmatch</th>\n",
       "      <th>i:dec</th>\n",
       "      <th>i:objectId</th>\n",
       "      <th>i:ra</th>\n",
       "    </tr>\n",
       "  </thead>\n",
       "  <tbody>\n",
       "    <tr>\n",
       "      <th>0</th>\n",
       "      <td>GinGroup</td>\n",
       "      <td>36.917909</td>\n",
       "      <td>ZTF18aabfjoi</td>\n",
       "      <td>28.724092</td>\n",
       "    </tr>\n",
       "    <tr>\n",
       "      <th>1</th>\n",
       "      <td>GinGroup</td>\n",
       "      <td>36.917912</td>\n",
       "      <td>ZTF18aabfjoi</td>\n",
       "      <td>28.724130</td>\n",
       "    </tr>\n",
       "    <tr>\n",
       "      <th>2</th>\n",
       "      <td>GinGroup</td>\n",
       "      <td>36.917924</td>\n",
       "      <td>ZTF18aabfjoi</td>\n",
       "      <td>28.724110</td>\n",
       "    </tr>\n",
       "    <tr>\n",
       "      <th>3</th>\n",
       "      <td>GinGroup</td>\n",
       "      <td>36.917913</td>\n",
       "      <td>ZTF18aabfjoi</td>\n",
       "      <td>28.724100</td>\n",
       "    </tr>\n",
       "    <tr>\n",
       "      <th>4</th>\n",
       "      <td>GinGroup</td>\n",
       "      <td>36.917892</td>\n",
       "      <td>ZTF18aabfjoi</td>\n",
       "      <td>28.724094</td>\n",
       "    </tr>\n",
       "  </tbody>\n",
       "</table>\n",
       "</div>"
      ],
      "text/plain": [
       "  d:cdsxmatch      i:dec    i:objectId       i:ra\n",
       "0    GinGroup  36.917909  ZTF18aabfjoi  28.724092\n",
       "1    GinGroup  36.917912  ZTF18aabfjoi  28.724130\n",
       "2    GinGroup  36.917924  ZTF18aabfjoi  28.724110\n",
       "3    GinGroup  36.917913  ZTF18aabfjoi  28.724100\n",
       "4    GinGroup  36.917892  ZTF18aabfjoi  28.724094"
      ]
     },
     "execution_count": 5,
     "metadata": {},
     "output_type": "execute_result"
    }
   ],
   "source": [
    "r = requests.post(\n",
    "  'https://fink-portal.org/api/v1/resolver',\n",
    "  json={\n",
    "    'resolver': 'simbad',\n",
    "    'reverse': True,\n",
    "    'name': 'ZTF18aabfjoi'\n",
    "  }\n",
    ")\n",
    "pdf = pd.read_json(io.BytesIO(r.content))\n",
    "pdf"
   ]
  },
  {
   "cell_type": "markdown",
   "id": "9214a5b4-06d7-418a-9f45-d7d0b37cd97d",
   "metadata": {},
   "source": [
    "## SSO to ZTF\n",
    "\n",
    "I have a SSO name or number, are there ZTF objects corresponding? Note that by default the search has a `contain` strategy -- namely we will look for all objects whose name _contains_ the provided search term (this is not a exact name search). By default, we only returns the first 10 matches. We will add in the future an option to specify exact search as well."
   ]
  },
  {
   "cell_type": "code",
   "execution_count": 6,
   "id": "450e2a74-20a2-4274-b36c-210f43b200f0",
   "metadata": {},
   "outputs": [
    {
     "data": {
      "text/html": [
       "<div>\n",
       "<style scoped>\n",
       "    .dataframe tbody tr th:only-of-type {\n",
       "        vertical-align: middle;\n",
       "    }\n",
       "\n",
       "    .dataframe tbody tr th {\n",
       "        vertical-align: top;\n",
       "    }\n",
       "\n",
       "    .dataframe thead th {\n",
       "        text-align: right;\n",
       "    }\n",
       "</style>\n",
       "<table border=\"1\" class=\"dataframe\">\n",
       "  <thead>\n",
       "    <tr style=\"text-align: right;\">\n",
       "      <th></th>\n",
       "      <th>type</th>\n",
       "      <th>system</th>\n",
       "      <th>class</th>\n",
       "      <th>updated</th>\n",
       "      <th>ephemeris</th>\n",
       "      <th>id</th>\n",
       "      <th>aliases</th>\n",
       "      <th>links</th>\n",
       "      <th>physical-ephemeris</th>\n",
       "      <th>name</th>\n",
       "      <th>parent</th>\n",
       "    </tr>\n",
       "  </thead>\n",
       "  <tbody>\n",
       "    <tr>\n",
       "      <th>0</th>\n",
       "      <td>Asteroid</td>\n",
       "      <td>Sun</td>\n",
       "      <td>[MB, Inner]</td>\n",
       "      <td>2023-07-24</td>\n",
       "      <td>True</td>\n",
       "      <td>Julienpeloton</td>\n",
       "      <td>[1976 SU10, 1998 HC30, 1999 VK210, 2001 DR108,...</td>\n",
       "      <td>{'self': 'https://api.ssodnet.imcce.fr/quaero/...</td>\n",
       "      <td>False</td>\n",
       "      <td>Julienpeloton</td>\n",
       "      <td>Sun</td>\n",
       "    </tr>\n",
       "  </tbody>\n",
       "</table>\n",
       "</div>"
      ],
      "text/plain": [
       "       type system        class     updated  ephemeris             id   \n",
       "0  Asteroid    Sun  [MB, Inner]  2023-07-24       True  Julienpeloton  \\\n",
       "\n",
       "                                             aliases   \n",
       "0  [1976 SU10, 1998 HC30, 1999 VK210, 2001 DR108,...  \\\n",
       "\n",
       "                                               links  physical-ephemeris   \n",
       "0  {'self': 'https://api.ssodnet.imcce.fr/quaero/...               False  \\\n",
       "\n",
       "            name parent  \n",
       "0  Julienpeloton    Sun  "
      ]
     },
     "execution_count": 6,
     "metadata": {},
     "output_type": "execute_result"
    }
   ],
   "source": [
    "r = requests.post(\n",
    "  'https://fink-portal.org/api/v1/resolver',\n",
    "  json={\n",
    "    'resolver': 'ssodnet',\n",
    "    'name': '1999 VK210'\n",
    "  }\n",
    ")\n",
    "\n",
    "pdf = pd.read_json(io.BytesIO(r.content))\n",
    "pdf"
   ]
  },
  {
   "cell_type": "code",
   "execution_count": 7,
   "id": "0e780519-fa35-4428-9902-b3554fda7372",
   "metadata": {},
   "outputs": [
    {
     "name": "stdout",
     "output_type": "stream",
     "text": [
      "[list(['1976 SU10', '1998 HC30', '1999 VK210', '2001 DR108', '2001 FA193', '2001 FY172', '2033803', '33803', 'J76S10U', 'J98H30C', 'J99VL0K', 'K01DA8R', 'K01FH2Y', 'K01FJ3A'])]\n"
     ]
    }
   ],
   "source": [
    "print(pdf['aliases'].values)"
   ]
  },
  {
   "cell_type": "code",
   "execution_count": 8,
   "id": "806f7638-bf78-4f98-bc51-a148f3d0221e",
   "metadata": {},
   "outputs": [
    {
     "name": "stdout",
     "output_type": "stream",
     "text": [
      "33803 found in ZTF with 92 alerts\n"
     ]
    }
   ],
   "source": [
    "for name in pdf['aliases'].values[0]:\n",
    "    r = requests.post(\n",
    "      'https://fink-portal.org/api/v1/sso',\n",
    "      json={\n",
    "        'n_or_d': name,\n",
    "      }\n",
    "    )\n",
    "\n",
    "    if r.json() != []:\n",
    "        print('{} found in ZTF with {} alerts'.format(name, len(r.json())))        "
   ]
  },
  {
   "cell_type": "markdown",
   "id": "2bed1f3b-060f-476f-8af3-4233994506d6",
   "metadata": {},
   "source": [
    "## ZTF to SSO\n",
    "\n",
    "I have a ZTF object name, is there a counterpart in the SsODNet quaero database, and what are all the aliases?"
   ]
  },
  {
   "cell_type": "code",
   "execution_count": 9,
   "id": "1fdb03c2-f9cd-400e-ac65-15938310e8ed",
   "metadata": {},
   "outputs": [
    {
     "name": "stdout",
     "output_type": "stream",
     "text": [
      "Asteroid counterpart found with designation 8467\n",
      "\n",
      "In the quaero database, this corresponds to: \n",
      "         type         name                    class   \n",
      "0  Spacecraft     OPS 4428  [LEO, Payload, Decayed]  \\\n",
      "1    Asteroid  Benoitcarry              [MB, Outer]   \n",
      "2    Asteroid    2002 VG84             [MB, Middle]   \n",
      "3    Asteroid    2002 VW87              [MB, Outer]   \n",
      "4    Asteroid    2002 VT88             [MB, Middle]   \n",
      "5    Asteroid    2002 VW88             [MB, Middle]   \n",
      "6    Asteroid    2002 VT87             [MB, Middle]   \n",
      "7    Asteroid    2002 VS83             [MB, Middle]   \n",
      "8    Asteroid    2002 VM88             [MB, Middle]   \n",
      "9    Asteroid    2002 VF83             [MB, Middle]   \n",
      "\n",
      "                                          aliases  \n",
      "0                               [1975-114A, 8467]  \n",
      "1      [08467, 1981 ES35, 2008467, 8467, J81E35S]  \n",
      "2                       [2084672, 84672, K02V84G]  \n",
      "3                       [2084675, 84675, K02V87W]  \n",
      "4                       [2084677, 84677, K02V88T]  \n",
      "5    [2084678, 4562 P-L, 84678, K02V88W, PLS4562]  \n",
      "6    [1997 RL5, 2084674, 84674, J97R05L, K02V87T]  \n",
      "7   [2001 OP30, 2084671, 84671, K01O30P, K02V83S]  \n",
      "8  [2000 GR160, 2084676, 84676, K00GG0R, K02V88M]  \n",
      "9  [2000 EB174, 2084670, 84670, K00EH4B, K02V83F]  \n"
     ]
    }
   ],
   "source": [
    "r = requests.post(\n",
    "  'https://fink-portal.org/api/v1/resolver',\n",
    "  json={\n",
    "    'resolver': 'ssodnet',\n",
    "    'reverse': True,\n",
    "    'name': 'ZTF23abpkzcn'\n",
    "  }\n",
    ")\n",
    "\n",
    "if r.json() != []:\n",
    "    name = r.json()[0]['i:ssnamenr']\n",
    "    print('Asteroid counterpart found with designation {}'.format(name))\n",
    "    print()\n",
    "\n",
    "    r = requests.post(\n",
    "      'https://fink-portal.org/api/v1/resolver',\n",
    "      json={\n",
    "        'resolver': 'ssodnet',\n",
    "        'name': name\n",
    "      }\n",
    "    )\n",
    "    \n",
    "    pdf = pd.read_json(io.BytesIO(r.content))\n",
    "    print('In the quaero database, this corresponds to: ')\n",
    "    print(pdf[['type', 'name', 'class', 'aliases']])"
   ]
  },
  {
   "cell_type": "code",
   "execution_count": null,
   "id": "693f103a-433b-41aa-a2d0-2d71bc065a65",
   "metadata": {},
   "outputs": [],
   "source": []
  }
 ],
 "metadata": {
  "kernelspec": {
   "display_name": "Python 3 (ipykernel)",
   "language": "python",
   "name": "python3"
  },
  "language_info": {
   "codemirror_mode": {
    "name": "ipython",
    "version": 3
   },
   "file_extension": ".py",
   "mimetype": "text/x-python",
   "name": "python",
   "nbconvert_exporter": "python",
   "pygments_lexer": "ipython3",
   "version": "3.9.12"
  }
 },
 "nbformat": 4,
 "nbformat_minor": 5
}
