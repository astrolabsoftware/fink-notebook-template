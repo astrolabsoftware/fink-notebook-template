{
 "cells": [
  {
   "cell_type": "markdown",
   "metadata": {},
   "source": [
    "<img src=\"../Fink_PrimaryLogo_WEB.jpg\" width=400 />\n",
    "\n",
    "# Fink case study: extragalactic science"
   ]
  },
  {
   "cell_type": "markdown",
   "metadata": {},
   "source": [
    "## Goal\n",
    "\n",
    "The goal of this notebook is to show how Fink can contribute to extragalactic science. This notebook includes queries for **Active Galactic Nucleii** and **Supernova** science. \n",
    "\n",
    "Real-time analysis for follow-up coordination will be better done through the Fink livestreams which processes and makes available the alert data within minutes of reception. Access through this notebook uses the API access which is not real-time based. We aggregate the data into our API and Science Portal database at the end of each observing night. API access can be useful to analyze last night and older alerts. "
   ]
  },
  {
   "cell_type": "markdown",
   "metadata": {},
   "source": [
    "## What is behind?\n",
    "\n",
    "This notebook will use:\n",
    "- **Fink cross-match** with close by sources in the  [SIMBAD (Wenger et al. 2020)](https://aas.aanda.org/articles/aas/abs/2000/07/ds1821/ds1821.html) catalogue (within 1'') using [xmatch service](http://cdsxmatch.u-strasbg.fr) provided by the Centre de Données astronomiques de Strasbourg (CDS) .\n",
    "- **Fink's machine learning classification** scores \n",
    "    - [SuperNNova](https://github.com/supernnova/SuperNNova) [(Möller & de Boissière 2019)](https://academic.oup.com/mnras/article-abstract/491/3/4277/5651173) to classify SNe at all light-curve epochs\n",
    "    - Random Forest (Leoni et al. in prep) and [(Ishida et al. 2019b)](https://ui.adsabs.harvard.edu/abs/2019MNRAS.483....2I/abstract) to classify early (pre-max) SN candidates\n",
    "- **Fink's extra features** such as color \"r-g\" when possible."
   ]
  },
  {
   "cell_type": "markdown",
   "metadata": {},
   "source": [
    "# 1st case study: known AGNs"
   ]
  },
  {
   "cell_type": "markdown",
   "metadata": {},
   "source": [
    "### <font color='blue'>API query:</font> <font color='orange'> latest alerts</font> associated with known AGNs\n",
    "\n",
    "Each night, alerts are cross-matched in real-time against the CDS SIMBAD database. About 30% of the stream (after applying quality cuts) ends-up with a counter-part. Classified alerts can be then queried using the Fink API service. To know all available classes in SIMBAD, see http://134.158.75.151:24000/api/v1/classes. We will first focus on alerts spatially coincident with a catalogued AGN in the CDS Simbad catalogue:"
   ]
  },
  {
   "cell_type": "code",
   "execution_count": 12,
   "metadata": {},
   "outputs": [],
   "source": [
    "import requests\n",
    "import pandas as pd\n",
    "\n",
    "# Get latests 5 alerts linked to AGNs\n",
    "r = requests.post(\n",
    "  'http://134.158.75.151:24000/api/v1/latests',\n",
    "  json={\n",
    "    'class': '(SIMBAD) AGN', # tag from CDSxmatch service\n",
    "    'n': '5' # number of alerts\n",
    "  }\n",
    ")\n",
    "\n",
    "# Format output in a DataFrame\n",
    "pdf = pd.read_json(r.content)"
   ]
  },
  {
   "cell_type": "markdown",
   "metadata": {},
   "source": [
    "Note that you can also use the `startdate` and `stopdate` arguments in the query. See http://134.158.75.151:24000/api/v1/latests to check all the available arguments. This table contains all alerts linked to a CDS catalogue AGN. This includes\n",
    "- Alert information from ZTF processing (just latest photometry points).\n",
    "- Fink's added values.\n",
    "\n",
    "The table schema is described at http://134.158.75.151:24000/api/v1/columns."
   ]
  },
  {
   "cell_type": "code",
   "execution_count": 13,
   "metadata": {},
   "outputs": [
    {
     "data": {
      "text/html": [
       "<div>\n",
       "<style scoped>\n",
       "    .dataframe tbody tr th:only-of-type {\n",
       "        vertical-align: middle;\n",
       "    }\n",
       "\n",
       "    .dataframe tbody tr th {\n",
       "        vertical-align: top;\n",
       "    }\n",
       "\n",
       "    .dataframe thead th {\n",
       "        text-align: right;\n",
       "    }\n",
       "</style>\n",
       "<table border=\"1\" class=\"dataframe\">\n",
       "  <thead>\n",
       "    <tr style=\"text-align: right;\">\n",
       "      <th></th>\n",
       "      <th>d:cdsxmatch</th>\n",
       "      <th>d:knscore</th>\n",
       "      <th>d:mulens_class_1</th>\n",
       "      <th>d:mulens_class_2</th>\n",
       "      <th>d:rfscore</th>\n",
       "      <th>d:roid</th>\n",
       "      <th>d:snn_sn_vs_all</th>\n",
       "      <th>d:snn_snia_vs_nonia</th>\n",
       "      <th>i:candid</th>\n",
       "      <th>i:chipsf</th>\n",
       "      <th>...</th>\n",
       "      <th>i:ssdistnr</th>\n",
       "      <th>i:ssmagnr</th>\n",
       "      <th>i:ssnamenr</th>\n",
       "      <th>i:tooflag</th>\n",
       "      <th>i:xpos</th>\n",
       "      <th>i:ypos</th>\n",
       "      <th>v:classification</th>\n",
       "      <th>v:r-g</th>\n",
       "      <th>v:rate(r-g)</th>\n",
       "      <th>v:lastdate</th>\n",
       "    </tr>\n",
       "  </thead>\n",
       "  <tbody>\n",
       "    <tr>\n",
       "      <th>0</th>\n",
       "      <td>AGN</td>\n",
       "      <td>0.00</td>\n",
       "      <td></td>\n",
       "      <td>ML</td>\n",
       "      <td>0.057</td>\n",
       "      <td>0</td>\n",
       "      <td>0.831975</td>\n",
       "      <td>0.006203</td>\n",
       "      <td>1555511593015015017</td>\n",
       "      <td>1.866592</td>\n",
       "      <td>...</td>\n",
       "      <td>-999</td>\n",
       "      <td>-999</td>\n",
       "      <td>null</td>\n",
       "      <td>0</td>\n",
       "      <td>1256.7980</td>\n",
       "      <td>2469.8535</td>\n",
       "      <td>AGN</td>\n",
       "      <td>NaN</td>\n",
       "      <td>NaN</td>\n",
       "      <td>2021-04-05 12:16:41.998</td>\n",
       "    </tr>\n",
       "    <tr>\n",
       "      <th>1</th>\n",
       "      <td>AGN</td>\n",
       "      <td>0.00</td>\n",
       "      <td></td>\n",
       "      <td>ML</td>\n",
       "      <td>0.066</td>\n",
       "      <td>0</td>\n",
       "      <td>0.836230</td>\n",
       "      <td>0.005987</td>\n",
       "      <td>1555507673015015013</td>\n",
       "      <td>2.525831</td>\n",
       "      <td>...</td>\n",
       "      <td>-999</td>\n",
       "      <td>-999</td>\n",
       "      <td>null</td>\n",
       "      <td>0</td>\n",
       "      <td>1255.2045</td>\n",
       "      <td>2467.8994</td>\n",
       "      <td>AGN</td>\n",
       "      <td>NaN</td>\n",
       "      <td>NaN</td>\n",
       "      <td>2021-04-05 12:11:02.999</td>\n",
       "    </tr>\n",
       "    <tr>\n",
       "      <th>2</th>\n",
       "      <td>AGN</td>\n",
       "      <td>0.00</td>\n",
       "      <td></td>\n",
       "      <td></td>\n",
       "      <td>0.046</td>\n",
       "      <td>0</td>\n",
       "      <td>0.765180</td>\n",
       "      <td>0.277203</td>\n",
       "      <td>1555501581715015023</td>\n",
       "      <td>1.009318</td>\n",
       "      <td>...</td>\n",
       "      <td>-999</td>\n",
       "      <td>-999</td>\n",
       "      <td>null</td>\n",
       "      <td>0</td>\n",
       "      <td>412.9164</td>\n",
       "      <td>2287.4822</td>\n",
       "      <td>AGN</td>\n",
       "      <td>NaN</td>\n",
       "      <td>NaN</td>\n",
       "      <td>2021-04-05 12:02:16.996</td>\n",
       "    </tr>\n",
       "    <tr>\n",
       "      <th>3</th>\n",
       "      <td>AGN</td>\n",
       "      <td>0.00</td>\n",
       "      <td></td>\n",
       "      <td>CONSTANT</td>\n",
       "      <td>0.046</td>\n",
       "      <td>0</td>\n",
       "      <td>0.158549</td>\n",
       "      <td>0.709585</td>\n",
       "      <td>1555497303115015002</td>\n",
       "      <td>3.999249</td>\n",
       "      <td>...</td>\n",
       "      <td>-999</td>\n",
       "      <td>-999</td>\n",
       "      <td>null</td>\n",
       "      <td>0</td>\n",
       "      <td>1155.3190</td>\n",
       "      <td>1563.2535</td>\n",
       "      <td>AGN</td>\n",
       "      <td>NaN</td>\n",
       "      <td>NaN</td>\n",
       "      <td>2021-04-05 11:56:06.996</td>\n",
       "    </tr>\n",
       "    <tr>\n",
       "      <th>4</th>\n",
       "      <td>AGN</td>\n",
       "      <td>0.02</td>\n",
       "      <td></td>\n",
       "      <td></td>\n",
       "      <td>0.000</td>\n",
       "      <td>0</td>\n",
       "      <td>0.525105</td>\n",
       "      <td>0.541973</td>\n",
       "      <td>1555493934715015010</td>\n",
       "      <td>0.934490</td>\n",
       "      <td>...</td>\n",
       "      <td>-999</td>\n",
       "      <td>-999</td>\n",
       "      <td>null</td>\n",
       "      <td>0</td>\n",
       "      <td>1603.1781</td>\n",
       "      <td>2950.5244</td>\n",
       "      <td>AGN</td>\n",
       "      <td>NaN</td>\n",
       "      <td>NaN</td>\n",
       "      <td>2021-04-05 11:51:16.001</td>\n",
       "    </tr>\n",
       "  </tbody>\n",
       "</table>\n",
       "<p>5 rows × 48 columns</p>\n",
       "</div>"
      ],
      "text/plain": [
       "  d:cdsxmatch  d:knscore d:mulens_class_1 d:mulens_class_2  d:rfscore  d:roid  \\\n",
       "0         AGN       0.00                                ML      0.057       0   \n",
       "1         AGN       0.00                                ML      0.066       0   \n",
       "2         AGN       0.00                                        0.046       0   \n",
       "3         AGN       0.00                          CONSTANT      0.046       0   \n",
       "4         AGN       0.02                                        0.000       0   \n",
       "\n",
       "   d:snn_sn_vs_all  d:snn_snia_vs_nonia             i:candid  i:chipsf  ...  \\\n",
       "0         0.831975             0.006203  1555511593015015017  1.866592  ...   \n",
       "1         0.836230             0.005987  1555507673015015013  2.525831  ...   \n",
       "2         0.765180             0.277203  1555501581715015023  1.009318  ...   \n",
       "3         0.158549             0.709585  1555497303115015002  3.999249  ...   \n",
       "4         0.525105             0.541973  1555493934715015010  0.934490  ...   \n",
       "\n",
       "   i:ssdistnr  i:ssmagnr  i:ssnamenr  i:tooflag     i:xpos     i:ypos  \\\n",
       "0        -999       -999        null          0  1256.7980  2469.8535   \n",
       "1        -999       -999        null          0  1255.2045  2467.8994   \n",
       "2        -999       -999        null          0   412.9164  2287.4822   \n",
       "3        -999       -999        null          0  1155.3190  1563.2535   \n",
       "4        -999       -999        null          0  1603.1781  2950.5244   \n",
       "\n",
       "   v:classification  v:r-g v:rate(r-g)               v:lastdate  \n",
       "0               AGN    NaN         NaN  2021-04-05 12:16:41.998  \n",
       "1               AGN    NaN         NaN  2021-04-05 12:11:02.999  \n",
       "2               AGN    NaN         NaN  2021-04-05 12:02:16.996  \n",
       "3               AGN    NaN         NaN  2021-04-05 11:56:06.996  \n",
       "4               AGN    NaN         NaN  2021-04-05 11:51:16.001  \n",
       "\n",
       "[5 rows x 48 columns]"
      ]
     },
     "execution_count": 13,
     "metadata": {},
     "output_type": "execute_result"
    }
   ],
   "source": [
    "pdf"
   ]
  },
  {
   "cell_type": "markdown",
   "metadata": {},
   "source": [
    "Get objects Ids associated to these alerts associated to AGNs in ZTF."
   ]
  },
  {
   "cell_type": "code",
   "execution_count": 14,
   "metadata": {},
   "outputs": [],
   "source": [
    "recent_AGN_objectIds = pdf['i:objectId'].unique()"
   ]
  },
  {
   "cell_type": "markdown",
   "metadata": {},
   "source": [
    "### <font color='blue'>API query:</font> get <font color='orange'> photometry </font> for one of these AGNs\n",
    "\n",
    "You can then use the `objects` API service to get all the photometry about a particular object."
   ]
  },
  {
   "cell_type": "code",
   "execution_count": 15,
   "metadata": {},
   "outputs": [],
   "source": [
    "# import requests\n",
    "# import pandas as pd\n",
    "r = requests.post(\n",
    "  'http://134.158.75.151:24000/api/v1/objects',\n",
    "  json={\n",
    "    'objectId': recent_AGN_objectIds[1],\n",
    "    'output-format': 'json',\n",
    "    'withupperlim': 'True'\n",
    "  }\n",
    ")\n",
    "\n",
    "# Format output in a DataFrame\n",
    "single_object = pd.read_json(r.content)"
   ]
  },
  {
   "cell_type": "markdown",
   "metadata": {},
   "source": [
    "This query can include upper limits and bad  quality  data associated to this object using the argument `withupperlim`.\n",
    "\n",
    "See http://134.158.75.151:24000/api/v1/objects to get the list of available arguments."
   ]
  },
  {
   "cell_type": "markdown",
   "metadata": {},
   "source": [
    "### <font color='blue'>Analysing the output:</font> plot the light-curve for visualization\n",
    "\n",
    "See the example on http://134.158.75.151:24000/api to plot full lightcurve with layout template.  We implement here an useful function for plotting light-curves in this notebook."
   ]
  },
  {
   "cell_type": "code",
   "execution_count": 16,
   "metadata": {},
   "outputs": [],
   "source": [
    "import numpy as np\n",
    "import matplotlib.pyplot as plt\n",
    "import seaborn as sns\n",
    "sns.set_context('talk')\n",
    "\n",
    "def plot_lc(pdf):\n",
    "    \"\"\" Plot photometry contains in an alert\n",
    "    \n",
    "    Parameters\n",
    "    ----------\n",
    "    pdf: pandas DataFrame\n",
    "        Pandas DataFrame with single alert row\n",
    "    \"\"\"\n",
    "    fig = plt.figure(figsize=(15, 6))\n",
    "\n",
    "    # Colors to plot\n",
    "    colordic = {1: 'C0', 2: 'C1'}\n",
    "\n",
    "    # Labels of ZTF filters\n",
    "    filtdic = {1: 'g', 2: 'r'}\n",
    "\n",
    "    for filt in np.unique(pdf['i:fid']):\n",
    "        # select data from one filter at a time\n",
    "        maskFilt = pdf['i:fid'] == filt\n",
    "\n",
    "        # The column `d:tag` is used to check data type\n",
    "        maskValid = pdf['d:tag'] == 'valid'\n",
    "        plt.errorbar(\n",
    "            pdf[maskValid & maskFilt]['i:jd'].apply(lambda x: x - 2400000.5),\n",
    "            pdf[maskValid & maskFilt]['i:magpsf'],\n",
    "            pdf[maskValid & maskFilt]['i:sigmapsf'],\n",
    "            ls = '', marker='o', color=colordic[filt], label=filtdic[filt]\n",
    "        )\n",
    "\n",
    "        maskUpper = pdf['d:tag'] == 'upperlim'\n",
    "        plt.plot(\n",
    "            pdf[maskUpper & maskFilt]['i:jd'].apply(lambda x: x - 2400000.5),\n",
    "            pdf[maskUpper & maskFilt]['i:diffmaglim'],\n",
    "            ls='', marker='^', color=colordic[filt], markerfacecolor='none'\n",
    "        )\n",
    "\n",
    "        maskBadquality = pdf['d:tag'] == 'badquality'\n",
    "        plt.errorbar(\n",
    "            pdf[maskBadquality & maskFilt]['i:jd'].apply(lambda x: x - 2400000.5),\n",
    "            pdf[maskBadquality & maskFilt]['i:magpsf'],\n",
    "            pdf[maskBadquality & maskFilt]['i:sigmapsf'],\n",
    "            ls='', marker='v', color=colordic[filt]\n",
    "        )\n",
    "\n",
    "    plt.gca().invert_yaxis()\n",
    "    plt.legend()\n",
    "    plt.title(pdf['i:objectId'][0])\n",
    "    plt.xlabel('Modified Julian Date')\n",
    "    plt.ylabel('Magnitude')\n",
    "    plt.show()"
   ]
  },
  {
   "cell_type": "code",
   "execution_count": 17,
   "metadata": {},
   "outputs": [
    {
     "data": {
      "image/png": "[encoded data removed]",
      "text/plain": [
       "<Figure size 1080x432 with 1 Axes>"
      ]
     },
     "metadata": {
      "needs_background": "light"
     },
     "output_type": "display_data"
    }
   ],
   "source": [
    "plot_lc(single_object)"
   ]
  },
  {
   "cell_type": "markdown",
   "metadata": {},
   "source": [
    "In this plot:\n",
    "- Circles (●) with error bars show valid alerts that pass the Fink quality cuts. \n",
    "- Upper triangles with errors (▲), represent alert measurements that do not satisfy Fink quality cuts, but are nevetheless contained in the history of valid alerts and used by classifiers.\n",
    "- Lower triangles (▽), represent 5-sigma mag limit in difference image based on PSF-fit photometry contained in the history of valid alerts."
   ]
  },
  {
   "cell_type": "markdown",
   "metadata": {},
   "source": [
    "# 2nd case study: early supernovae candidates\n",
    "**Early supernova candidates is a tag defined and provided by Fink.** \n",
    "It requires that the alert has no known transient association (from catalogues), it is relatively new (number of previous detections < 20) and when both a [SuperNNova](https://github.com/supernnova/SuperNNova) [(Möller & de Boissière 2019)](https://academic.oup.com/mnras/article-abstract/491/3/4277/5651173) trained to identify SNe Ia or SNe and a Random Forest (Leoni et al. in prep.) based on [(Ishida et al. 2019b)](https://ui.adsabs.harvard.edu/abs/2019MNRAS.483....2I/abstract) trained to select early supernovae have a probability higher than 50% of this object being a SN."
   ]
  },
  {
   "cell_type": "markdown",
   "metadata": {},
   "source": [
    "### <font color='blue'>API query:</font>   <font color='orange'>latest alerts </font>  tagged as early supernovae candidates"
   ]
  },
  {
   "cell_type": "code",
   "execution_count": 18,
   "metadata": {},
   "outputs": [],
   "source": [
    "# Get latests 50 Early SN candidates\n",
    "r = requests.post(\n",
    "  'http://134.158.75.151:24000/api/v1/latests',\n",
    "  json={\n",
    "    'class': 'Early SN candidate',\n",
    "    'n': '50'\n",
    "  }\n",
    ")\n",
    "\n",
    "# Format output in a DataFrame\n",
    "pdf = pd.read_json(r.content)"
   ]
  },
  {
   "cell_type": "markdown",
   "metadata": {},
   "source": [
    "### <font color='blue'>Analysing the output:</font>   <font color='orange'>color</font>  of these alerts (if g and r measurements in the same night)\n",
    "Color `v:r-g` is an added value provided by Fink. It is computed as the subtraction of the `magpsf` in the `g` filter minus its corresponding `magpsf` in the `r` filter for an object in a given night. If no same-night different filter measurements are available, the value of color is `NaN`."
   ]
  },
  {
   "cell_type": "code",
   "execution_count": 19,
   "metadata": {},
   "outputs": [
    {
     "data": {
      "text/html": [
       "<div>\n",
       "<style scoped>\n",
       "    .dataframe tbody tr th:only-of-type {\n",
       "        vertical-align: middle;\n",
       "    }\n",
       "\n",
       "    .dataframe tbody tr th {\n",
       "        vertical-align: top;\n",
       "    }\n",
       "\n",
       "    .dataframe thead th {\n",
       "        text-align: right;\n",
       "    }\n",
       "</style>\n",
       "<table border=\"1\" class=\"dataframe\">\n",
       "  <thead>\n",
       "    <tr style=\"text-align: right;\">\n",
       "      <th></th>\n",
       "      <th>v:lastdate</th>\n",
       "      <th>v:rate(r-g)</th>\n",
       "      <th>v:r-g</th>\n",
       "      <th>v:classification</th>\n",
       "      <th>i:ypos</th>\n",
       "      <th>i:xpos</th>\n",
       "      <th>i:tooflag</th>\n",
       "      <th>i:ssnamenr</th>\n",
       "      <th>i:ssmagnr</th>\n",
       "      <th>i:ssdistnr</th>\n",
       "      <th>...</th>\n",
       "      <th>i:chipsf</th>\n",
       "      <th>i:candid</th>\n",
       "      <th>d:snn_snia_vs_nonia</th>\n",
       "      <th>d:snn_sn_vs_all</th>\n",
       "      <th>d:roid</th>\n",
       "      <th>d:rfscore</th>\n",
       "      <th>d:mulens_class_2</th>\n",
       "      <th>d:mulens_class_1</th>\n",
       "      <th>d:knscore</th>\n",
       "      <th>d:cdsxmatch</th>\n",
       "    </tr>\n",
       "  </thead>\n",
       "  <tbody>\n",
       "    <tr>\n",
       "      <th>3</th>\n",
       "      <td>2021-04-05 07:06:10.996</td>\n",
       "      <td>NaN</td>\n",
       "      <td>-0.111226</td>\n",
       "      <td>Early SN candidate</td>\n",
       "      <td>1374.0474</td>\n",
       "      <td>707.3941</td>\n",
       "      <td>0</td>\n",
       "      <td>null</td>\n",
       "      <td>-999</td>\n",
       "      <td>-999</td>\n",
       "      <td>...</td>\n",
       "      <td>4.217286</td>\n",
       "      <td>1555295960015015007</td>\n",
       "      <td>0.862435</td>\n",
       "      <td>0.837984</td>\n",
       "      <td>0</td>\n",
       "      <td>0.593</td>\n",
       "      <td></td>\n",
       "      <td></td>\n",
       "      <td>0</td>\n",
       "      <td>Unknown</td>\n",
       "    </tr>\n",
       "    <tr>\n",
       "      <th>4</th>\n",
       "      <td>2021-04-05 06:34:36.002</td>\n",
       "      <td>NaN</td>\n",
       "      <td>-0.111226</td>\n",
       "      <td>Early SN candidate</td>\n",
       "      <td>1370.0476</td>\n",
       "      <td>2404.7056</td>\n",
       "      <td>0</td>\n",
       "      <td>null</td>\n",
       "      <td>-999</td>\n",
       "      <td>-999</td>\n",
       "      <td>...</td>\n",
       "      <td>3.098888</td>\n",
       "      <td>1555274021315015015</td>\n",
       "      <td>0.850378</td>\n",
       "      <td>0.752411</td>\n",
       "      <td>0</td>\n",
       "      <td>0.549</td>\n",
       "      <td></td>\n",
       "      <td></td>\n",
       "      <td>0</td>\n",
       "      <td>Unknown</td>\n",
       "    </tr>\n",
       "    <tr>\n",
       "      <th>5</th>\n",
       "      <td>2021-04-05 06:33:15.002</td>\n",
       "      <td>NaN</td>\n",
       "      <td>-0.111226</td>\n",
       "      <td>Early SN candidate</td>\n",
       "      <td>1370.9312</td>\n",
       "      <td>697.5049</td>\n",
       "      <td>0</td>\n",
       "      <td>null</td>\n",
       "      <td>-999</td>\n",
       "      <td>-999</td>\n",
       "      <td>...</td>\n",
       "      <td>10.111935</td>\n",
       "      <td>1555273090015015019</td>\n",
       "      <td>0.841570</td>\n",
       "      <td>0.546331</td>\n",
       "      <td>0</td>\n",
       "      <td>0.557</td>\n",
       "      <td></td>\n",
       "      <td></td>\n",
       "      <td>0</td>\n",
       "      <td>Unknown</td>\n",
       "    </tr>\n",
       "    <tr>\n",
       "      <th>6</th>\n",
       "      <td>2021-04-05 05:57:46.996</td>\n",
       "      <td>0.021414</td>\n",
       "      <td>0.006494</td>\n",
       "      <td>Early SN candidate</td>\n",
       "      <td>2388.5818</td>\n",
       "      <td>935.0552</td>\n",
       "      <td>0</td>\n",
       "      <td>null</td>\n",
       "      <td>-999</td>\n",
       "      <td>-999</td>\n",
       "      <td>...</td>\n",
       "      <td>2.621395</td>\n",
       "      <td>1555248461715015012</td>\n",
       "      <td>0.772468</td>\n",
       "      <td>0.364776</td>\n",
       "      <td>0</td>\n",
       "      <td>0.904</td>\n",
       "      <td></td>\n",
       "      <td></td>\n",
       "      <td>0</td>\n",
       "      <td>Unknown</td>\n",
       "    </tr>\n",
       "    <tr>\n",
       "      <th>8</th>\n",
       "      <td>2021-04-05 05:03:50.003</td>\n",
       "      <td>NaN</td>\n",
       "      <td>0.027423</td>\n",
       "      <td>Early SN candidate</td>\n",
       "      <td>1424.3228</td>\n",
       "      <td>2177.1980</td>\n",
       "      <td>0</td>\n",
       "      <td>null</td>\n",
       "      <td>-999</td>\n",
       "      <td>-999</td>\n",
       "      <td>...</td>\n",
       "      <td>33.033653</td>\n",
       "      <td>1555210995615015002</td>\n",
       "      <td>0.901508</td>\n",
       "      <td>0.644788</td>\n",
       "      <td>0</td>\n",
       "      <td>0.686</td>\n",
       "      <td></td>\n",
       "      <td></td>\n",
       "      <td>0</td>\n",
       "      <td>Unknown</td>\n",
       "    </tr>\n",
       "  </tbody>\n",
       "</table>\n",
       "<p>5 rows × 48 columns</p>\n",
       "</div>"
      ],
      "text/plain": [
       "                v:lastdate  v:rate(r-g)     v:r-g    v:classification  \\\n",
       "3  2021-04-05 07:06:10.996          NaN -0.111226  Early SN candidate   \n",
       "4  2021-04-05 06:34:36.002          NaN -0.111226  Early SN candidate   \n",
       "5  2021-04-05 06:33:15.002          NaN -0.111226  Early SN candidate   \n",
       "6  2021-04-05 05:57:46.996     0.021414  0.006494  Early SN candidate   \n",
       "8  2021-04-05 05:03:50.003          NaN  0.027423  Early SN candidate   \n",
       "\n",
       "      i:ypos     i:xpos  i:tooflag i:ssnamenr  i:ssmagnr  i:ssdistnr  ...  \\\n",
       "3  1374.0474   707.3941          0       null       -999        -999  ...   \n",
       "4  1370.0476  2404.7056          0       null       -999        -999  ...   \n",
       "5  1370.9312   697.5049          0       null       -999        -999  ...   \n",
       "6  2388.5818   935.0552          0       null       -999        -999  ...   \n",
       "8  1424.3228  2177.1980          0       null       -999        -999  ...   \n",
       "\n",
       "    i:chipsf             i:candid  d:snn_snia_vs_nonia  d:snn_sn_vs_all  \\\n",
       "3   4.217286  1555295960015015007             0.862435         0.837984   \n",
       "4   3.098888  1555274021315015015             0.850378         0.752411   \n",
       "5  10.111935  1555273090015015019             0.841570         0.546331   \n",
       "6   2.621395  1555248461715015012             0.772468         0.364776   \n",
       "8  33.033653  1555210995615015002             0.901508         0.644788   \n",
       "\n",
       "   d:roid  d:rfscore d:mulens_class_2 d:mulens_class_1  d:knscore  d:cdsxmatch  \n",
       "3       0      0.593                                            0      Unknown  \n",
       "4       0      0.549                                            0      Unknown  \n",
       "5       0      0.557                                            0      Unknown  \n",
       "6       0      0.904                                            0      Unknown  \n",
       "8       0      0.686                                            0      Unknown  \n",
       "\n",
       "[5 rows x 48 columns]"
      ]
     },
     "execution_count": 19,
     "metadata": {},
     "output_type": "execute_result"
    }
   ],
   "source": [
    "# select only valid color measurements\n",
    "candSNe_w_color = pdf[~pdf[\"v:r-g\"].isna()]\n",
    "\n",
    "# display 5 of these alerts with inverted column order\n",
    "candSNe_w_color[candSNe_w_color.columns[::-1]][:5]"
   ]
  },
  {
   "cell_type": "markdown",
   "metadata": {},
   "source": [
    "The table schema is described at http://134.158.75.151:24000/api/v1/columns."
   ]
  },
  {
   "cell_type": "markdown",
   "metadata": {},
   "source": [
    "We may want now to see the distribution of the latest colors of alerts"
   ]
  },
  {
   "cell_type": "code",
   "execution_count": 21,
   "metadata": {},
   "outputs": [
    {
     "data": {
      "text/plain": [
       "Text(0.5, 0, 'Color evolution (r-g)')"
      ]
     },
     "execution_count": 21,
     "metadata": {},
     "output_type": "execute_result"
    },
    {
     "data": {
      "image/png": "[encoded data removed]",
      "text/plain": [
       "<Figure size 1080x432 with 1 Axes>"
      ]
     },
     "metadata": {
      "needs_background": "light"
     },
     "output_type": "display_data"
    }
   ],
   "source": [
    "fig = plt.figure(figsize=(15, 6))\n",
    "\n",
    "plt.hist(candSNe_w_color[\"v:r-g\"], histtype='step')\n",
    "plt.xlabel(\"Color evolution (r-g)\")"
   ]
  },
  {
   "cell_type": "markdown",
   "metadata": {},
   "source": [
    "### <font color='blue'>Analysing the output:</font>   <font color='orange'>\"bluer\" color</font>  (e.g. r-g<0)\n",
    "\n",
    "An example for a possible query: searching alerts which have negative `v:r-g`. Which is equivalent to loosely saying they are \"bluer\" events."
   ]
  },
  {
   "cell_type": "code",
   "execution_count": 22,
   "metadata": {},
   "outputs": [
    {
     "data": {
      "text/html": [
       "<div>\n",
       "<style scoped>\n",
       "    .dataframe tbody tr th:only-of-type {\n",
       "        vertical-align: middle;\n",
       "    }\n",
       "\n",
       "    .dataframe tbody tr th {\n",
       "        vertical-align: top;\n",
       "    }\n",
       "\n",
       "    .dataframe thead th {\n",
       "        text-align: right;\n",
       "    }\n",
       "</style>\n",
       "<table border=\"1\" class=\"dataframe\">\n",
       "  <thead>\n",
       "    <tr style=\"text-align: right;\">\n",
       "      <th></th>\n",
       "      <th>i:objectId</th>\n",
       "      <th>v:r-g</th>\n",
       "    </tr>\n",
       "  </thead>\n",
       "  <tbody>\n",
       "    <tr>\n",
       "      <th>3</th>\n",
       "      <td>ZTF21aaquhqr</td>\n",
       "      <td>-0.111226</td>\n",
       "    </tr>\n",
       "    <tr>\n",
       "      <th>4</th>\n",
       "      <td>ZTF21aaquhqr</td>\n",
       "      <td>-0.111226</td>\n",
       "    </tr>\n",
       "    <tr>\n",
       "      <th>5</th>\n",
       "      <td>ZTF21aaquhqr</td>\n",
       "      <td>-0.111226</td>\n",
       "    </tr>\n",
       "    <tr>\n",
       "      <th>13</th>\n",
       "      <td>ZTF21aappktx</td>\n",
       "      <td>-0.066378</td>\n",
       "    </tr>\n",
       "    <tr>\n",
       "      <th>33</th>\n",
       "      <td>ZTF21aaqkqwq</td>\n",
       "      <td>-0.073208</td>\n",
       "    </tr>\n",
       "    <tr>\n",
       "      <th>34</th>\n",
       "      <td>ZTF21aappktx</td>\n",
       "      <td>-0.066378</td>\n",
       "    </tr>\n",
       "    <tr>\n",
       "      <th>36</th>\n",
       "      <td>ZTF21aaqkqwq</td>\n",
       "      <td>-0.073208</td>\n",
       "    </tr>\n",
       "    <tr>\n",
       "      <th>38</th>\n",
       "      <td>ZTF21aappktx</td>\n",
       "      <td>-0.066378</td>\n",
       "    </tr>\n",
       "  </tbody>\n",
       "</table>\n",
       "</div>"
      ],
      "text/plain": [
       "      i:objectId     v:r-g\n",
       "3   ZTF21aaquhqr -0.111226\n",
       "4   ZTF21aaquhqr -0.111226\n",
       "5   ZTF21aaquhqr -0.111226\n",
       "13  ZTF21aappktx -0.066378\n",
       "33  ZTF21aaqkqwq -0.073208\n",
       "34  ZTF21aappktx -0.066378\n",
       "36  ZTF21aaqkqwq -0.073208\n",
       "38  ZTF21aappktx -0.066378"
      ]
     },
     "execution_count": 22,
     "metadata": {},
     "output_type": "execute_result"
    }
   ],
   "source": [
    "color_selected = candSNe_w_color[candSNe_w_color[\"v:r-g\"] < 0]\n",
    "\n",
    "color_selected[['i:objectId', \"v:r-g\"]]"
   ]
  },
  {
   "cell_type": "markdown",
   "metadata": {},
   "source": [
    "### <font color='blue'>Analysing the output:</font>   <font color='orange'>\"bluer\" brighter</font>    select alerts with given color and brighter than magpsf 19 (either filter)\n",
    "An example for a possible query: searching alerts which have negative `v:r-g` and are brighter than a given magnitude.\n",
    "Please note that this is the latest measured magnitude, not a projection."
   ]
  },
  {
   "cell_type": "code",
   "execution_count": 23,
   "metadata": {},
   "outputs": [
    {
     "data": {
      "text/html": [
       "<div>\n",
       "<style scoped>\n",
       "    .dataframe tbody tr th:only-of-type {\n",
       "        vertical-align: middle;\n",
       "    }\n",
       "\n",
       "    .dataframe tbody tr th {\n",
       "        vertical-align: top;\n",
       "    }\n",
       "\n",
       "    .dataframe thead th {\n",
       "        text-align: right;\n",
       "    }\n",
       "</style>\n",
       "<table border=\"1\" class=\"dataframe\">\n",
       "  <thead>\n",
       "    <tr style=\"text-align: right;\">\n",
       "      <th></th>\n",
       "      <th>i:objectId</th>\n",
       "      <th>i:magpsf</th>\n",
       "      <th>v:r-g</th>\n",
       "      <th>v:rate(r-g)</th>\n",
       "    </tr>\n",
       "  </thead>\n",
       "  <tbody>\n",
       "    <tr>\n",
       "      <th>3</th>\n",
       "      <td>ZTF21aaquhqr</td>\n",
       "      <td>17.883242</td>\n",
       "      <td>-0.111226</td>\n",
       "      <td>NaN</td>\n",
       "    </tr>\n",
       "    <tr>\n",
       "      <th>4</th>\n",
       "      <td>ZTF21aaquhqr</td>\n",
       "      <td>17.849483</td>\n",
       "      <td>-0.111226</td>\n",
       "      <td>NaN</td>\n",
       "    </tr>\n",
       "    <tr>\n",
       "      <th>5</th>\n",
       "      <td>ZTF21aaquhqr</td>\n",
       "      <td>17.879236</td>\n",
       "      <td>-0.111226</td>\n",
       "      <td>NaN</td>\n",
       "    </tr>\n",
       "    <tr>\n",
       "      <th>13</th>\n",
       "      <td>ZTF21aappktx</td>\n",
       "      <td>18.460170</td>\n",
       "      <td>-0.066378</td>\n",
       "      <td>NaN</td>\n",
       "    </tr>\n",
       "    <tr>\n",
       "      <th>33</th>\n",
       "      <td>ZTF21aaqkqwq</td>\n",
       "      <td>18.856342</td>\n",
       "      <td>-0.073208</td>\n",
       "      <td>NaN</td>\n",
       "    </tr>\n",
       "    <tr>\n",
       "      <th>34</th>\n",
       "      <td>ZTF21aappktx</td>\n",
       "      <td>18.388426</td>\n",
       "      <td>-0.066378</td>\n",
       "      <td>NaN</td>\n",
       "    </tr>\n",
       "    <tr>\n",
       "      <th>36</th>\n",
       "      <td>ZTF21aaqkqwq</td>\n",
       "      <td>18.735836</td>\n",
       "      <td>-0.073208</td>\n",
       "      <td>NaN</td>\n",
       "    </tr>\n",
       "    <tr>\n",
       "      <th>38</th>\n",
       "      <td>ZTF21aappktx</td>\n",
       "      <td>18.405067</td>\n",
       "      <td>-0.066378</td>\n",
       "      <td>NaN</td>\n",
       "    </tr>\n",
       "  </tbody>\n",
       "</table>\n",
       "</div>"
      ],
      "text/plain": [
       "      i:objectId   i:magpsf     v:r-g  v:rate(r-g)\n",
       "3   ZTF21aaquhqr  17.883242 -0.111226          NaN\n",
       "4   ZTF21aaquhqr  17.849483 -0.111226          NaN\n",
       "5   ZTF21aaquhqr  17.879236 -0.111226          NaN\n",
       "13  ZTF21aappktx  18.460170 -0.066378          NaN\n",
       "33  ZTF21aaqkqwq  18.856342 -0.073208          NaN\n",
       "34  ZTF21aappktx  18.388426 -0.066378          NaN\n",
       "36  ZTF21aaqkqwq  18.735836 -0.073208          NaN\n",
       "38  ZTF21aappktx  18.405067 -0.066378          NaN"
      ]
     },
     "execution_count": 23,
     "metadata": {},
     "output_type": "execute_result"
    }
   ],
   "source": [
    "bright_candSNe_w_color = color_selected[color_selected[\"i:magpsf\"] < 19]\n",
    "\n",
    "bright_candSNe_w_color[[\"i:objectId\", \"i:magpsf\", \"v:r-g\", \"v:rate(r-g)\"]]"
   ]
  },
  {
   "cell_type": "markdown",
   "metadata": {},
   "source": [
    "If there has been two consecutive nights with color measurement, the `v:rate(r-g)` would be non `NaN`. This could be an useful added value to inspect the color evolution of the transient and filter candidates."
   ]
  },
  {
   "cell_type": "markdown",
   "metadata": {},
   "source": [
    "### <font color='blue'> API query:</font>   <font color='orange'>photometry</font>  for one high-probability alert with given color and brighter than magpsf 19 (either filter)\n",
    "An example for a possible query: searching alerts with high-classification probability which have negative `v:r-g` and are brighter than a given magnitude.\n",
    "\n",
    "[SuperNNova](https://github.com/supernnova/SuperNNova) [(Möller & de Boissière 2019)](https://academic.oup.com/mnras/article-abstract/491/3/4277/5651173) can be trained in different ways. Currently we have models trained to disentangle `SNe Ia vs non Ia` `(snn_snia_vs_nonia)` and `SNe vs other transients` `(snn_sn_vs_all)`. These algorithms ave been trained using [(Muthukrishna et al. 2019)](https://arxiv.org/abs/1904.00014) simulations."
   ]
  },
  {
   "cell_type": "code",
   "execution_count": 24,
   "metadata": {},
   "outputs": [],
   "source": [
    "prob_threshold = 0.8 # 80% confidence"
   ]
  },
  {
   "cell_type": "code",
   "execution_count": 25,
   "metadata": {},
   "outputs": [],
   "source": [
    "# select alerts that fit criteria\n",
    "f1 = bright_candSNe_w_color['d:snn_sn_vs_all']>prob_threshold\n",
    "f2 = bright_candSNe_w_color['d:snn_snia_vs_nonia']>prob_threshold\n",
    "high_prob_objs = bright_candSNe_w_color[f1 | f2]"
   ]
  },
  {
   "cell_type": "code",
   "execution_count": 26,
   "metadata": {},
   "outputs": [],
   "source": [
    "# select the latests alert and object\n",
    "high_prob_obj = high_prob_objs.sort_values(by=['i:ndethist'])['i:objectId'].iloc[-1]"
   ]
  },
  {
   "cell_type": "code",
   "execution_count": 27,
   "metadata": {},
   "outputs": [],
   "source": [
    "r = requests.post(\n",
    "  'http://134.158.75.151:24000/api/v1/objects',\n",
    "  json={\n",
    "    'objectId': high_prob_obj,\n",
    "    'output-format': 'json',\n",
    "    'withupperlim': 'True'\n",
    "  }\n",
    ")\n",
    "\n",
    "# Format output in a DataFrame\n",
    "single_object = pd.read_json(r.content)"
   ]
  },
  {
   "cell_type": "code",
   "execution_count": 28,
   "metadata": {},
   "outputs": [
    {
     "data": {
      "image/png": "[encoded data removed]",
      "text/plain": [
       "<Figure size 1080x432 with 1 Axes>"
      ]
     },
     "metadata": {
      "needs_background": "light"
     },
     "output_type": "display_data"
    }
   ],
   "source": [
    "plot_lc(single_object)"
   ]
  },
  {
   "cell_type": "markdown",
   "metadata": {},
   "source": [
    "# 3rd case study: spectroscopically classified (TNS) type Ia supernovae in Fink\n",
    "\n",
    "In Fink, we cross-match objects against the TNS database. This database provides spectroscopically classified transients with a strong bias for SNe. This is an interesting sample to analyze since many of these SNe have been detected as well by ZTF.\n",
    "\n",
    "To know all available classes available in TNS see http://134.158.75.151:24000/api/v1/classes"
   ]
  },
  {
   "cell_type": "markdown",
   "metadata": {},
   "source": [
    "### <font color='blue'> API query:</font>   <font color='orange'>latest alerts</font> associated with known type Ia SNe"
   ]
  },
  {
   "cell_type": "markdown",
   "metadata": {},
   "source": [
    "You can query recent spectroscopically classified SNe in TNS.\n",
    "For example, query all objects classified as `SN Ia` in TNS between `2020/12/01` and `2021/04/05`, with a maximum of `n alerts` search inside the database"
   ]
  },
  {
   "cell_type": "code",
   "execution_count": 29,
   "metadata": {},
   "outputs": [
    {
     "name": "stdout",
     "output_type": "stream",
     "text": [
      "0    ZTF18abncdhd\n",
      "1    ZTF18abcoxmc\n",
      "2    ZTF18abvuceu\n",
      "3    ZTF18acjxyak\n",
      "4    ZTF21aamwzfi\n",
      "5    ZTF21aafdxca\n",
      "6    ZTF21aaqwjlz\n",
      "7    ZTF21aaplooj\n",
      "8    ZTF21aapvsxv\n",
      "9    ZTF21aaplnxw\n",
      "Name: i:objectId, dtype: object\n"
     ]
    }
   ],
   "source": [
    "# import requests\n",
    "# import pandas as pd\n",
    "\n",
    "r = requests.post(\n",
    "  'http://134.158.75.151:24000/api/v1/latests',\n",
    "  json={\n",
    "    'class': '(TNS) SN Ia',  # TNS classification\n",
    "    'n': '10',  # n alerts to query in database\n",
    "    'startdate': '2020-12-01', # start TNS classification\n",
    "    'stopdate': '2021-04-05',  # end TNS classification\n",
    "  }\n",
    ")\n",
    "# Format output in a DataFrame\n",
    "pdf = pd.read_json(r.content)\n",
    "print(pdf['i:objectId'])"
   ]
  },
  {
   "cell_type": "markdown",
   "metadata": {},
   "source": [
    "### <font color='blue'> API query:</font>   <font color='orange'>photometry</font> of one known type Ia SNe"
   ]
  },
  {
   "cell_type": "markdown",
   "metadata": {},
   "source": [
    "You can then use the `objects` API service to get all the photometry about a particular object and plot it with limits as in http://134.158.75.151:24000/api."
   ]
  },
  {
   "cell_type": "code",
   "execution_count": 30,
   "metadata": {},
   "outputs": [],
   "source": [
    "selected_SNeIa = pdf['i:objectId'].iloc[-1]"
   ]
  },
  {
   "cell_type": "code",
   "execution_count": 31,
   "metadata": {},
   "outputs": [],
   "source": [
    "r = requests.post(\n",
    "  'http://134.158.75.151:24000/api/v1/objects',\n",
    "  json={\n",
    "    'objectId': selected_SNeIa,\n",
    "    'output-format': 'json',\n",
    "    'withupperlim': 'True'\n",
    "  }\n",
    ")\n",
    "\n",
    "# Format output in a DataFrame\n",
    "single_object = pd.read_json(r.content)"
   ]
  },
  {
   "cell_type": "code",
   "execution_count": 32,
   "metadata": {},
   "outputs": [
    {
     "data": {
      "image/png": "[encoded data removed]",
      "text/plain": [
       "<Figure size 1080x432 with 1 Axes>"
      ]
     },
     "metadata": {
      "needs_background": "light"
     },
     "output_type": "display_data"
    }
   ],
   "source": [
    "plot_lc(single_object)"
   ]
  },
  {
   "cell_type": "markdown",
   "metadata": {},
   "source": [
    "### <font color='blue'> Analysing the output:</font>   <font color='orange'>Latest ML scores</font> associated with known type Ia SNe"
   ]
  },
  {
   "cell_type": "markdown",
   "metadata": {},
   "source": [
    "A more general query could be to analyze the ML classification algorithm scores for these recent SNe Ia. To do this we plot the last classification score obtained for the SNe Ia in our list."
   ]
  },
  {
   "cell_type": "code",
   "execution_count": 34,
   "metadata": {},
   "outputs": [
    {
     "data": {
      "text/plain": [
       "<matplotlib.legend.Legend at 0x7feda3836278>"
      ]
     },
     "execution_count": 34,
     "metadata": {},
     "output_type": "execute_result"
    },
    {
     "data": {
      "image/png": "[encoded data removed]",
      "text/plain": [
       "<Figure size 1080x432 with 1 Axes>"
      ]
     },
     "metadata": {
      "needs_background": "light"
     },
     "output_type": "display_data"
    }
   ],
   "source": [
    "fig = plt.figure(figsize=(15, 6))\n",
    "\n",
    "for score in ['d:snn_sn_vs_all', 'd:snn_snia_vs_nonia', 'd:rfscore']:\n",
    "    plt.hist(pdf[score], histtype='step', label=score)\n",
    "plt.xlabel('sn score probability')\n",
    "plt.legend()"
   ]
  },
  {
   "cell_type": "markdown",
   "metadata": {},
   "source": [
    "Many of these SNe Ia are post-peak since spectroscopic follow-up is usually done around maximum brightness. Note that:\n",
    "- **'rfscore' is designed only for early SNe classification**, therefore it should not provide high scores for post-peak brightness SNe.\n",
    "- While SuperNNova scores should be valid post-maximum, some of these light-curves may be on the detection tail of the object and/or not have the SN light anymore (e.g. spurious detetions). "
   ]
  },
  {
   "cell_type": "markdown",
   "metadata": {},
   "source": [
    "### <font color='blue'> Analising the output:</font>   <font color='orange'>SNe with close-by galaxies</font> (not necessarily their host-galaxies)"
   ]
  },
  {
   "cell_type": "markdown",
   "metadata": {},
   "source": [
    "For your science case, it may be useful to check if there is a close-by galaxy to the spectroscopically classified SNe Ia.\n",
    "\n",
    "Fink cross-matches each alert to the closest source (within 1'' radius) in the SIMBAD xmatch service providing `d:cdsxmatch` tag."
   ]
  },
  {
   "cell_type": "code",
   "execution_count": 35,
   "metadata": {},
   "outputs": [],
   "source": [
    "# select alerts that have a cross-matched Galaxy\n",
    "with_closeby_gal = pdf[pdf['d:cdsxmatch'] == 'Galaxy']"
   ]
  },
  {
   "cell_type": "markdown",
   "metadata": {},
   "source": [
    "You can expand this query to any type of galaxy present in the SIMBAD catalogue, see http://simbad.u-strasbg.fr/simbad/sim-display?data=otypes  like clusters, Seyfert, etc."
   ]
  },
  {
   "cell_type": "markdown",
   "metadata": {},
   "source": [
    "ZTF alert stream also provides useful information of close neighbours:\n",
    "\n",
    "-`i:distnr`: distance to nearest source in reference image PSF-catalog within 30 arcsec [pixels]\n",
    "\n",
    "-`i:magnr`: magnitude of nearest source in reference image PSF-catalog within 30 arcsec [mag]"
   ]
  },
  {
   "cell_type": "code",
   "execution_count": 37,
   "metadata": {
    "scrolled": true
   },
   "outputs": [
    {
     "data": {
      "text/html": [
       "<div>\n",
       "<style scoped>\n",
       "    .dataframe tbody tr th:only-of-type {\n",
       "        vertical-align: middle;\n",
       "    }\n",
       "\n",
       "    .dataframe tbody tr th {\n",
       "        vertical-align: top;\n",
       "    }\n",
       "\n",
       "    .dataframe thead th {\n",
       "        text-align: right;\n",
       "    }\n",
       "</style>\n",
       "<table border=\"1\" class=\"dataframe\">\n",
       "  <thead>\n",
       "    <tr style=\"text-align: right;\">\n",
       "      <th></th>\n",
       "      <th>i:objectId</th>\n",
       "      <th>i:distnr</th>\n",
       "      <th>i:magnr</th>\n",
       "    </tr>\n",
       "  </thead>\n",
       "  <tbody>\n",
       "    <tr>\n",
       "      <th>3</th>\n",
       "      <td>ZTF18acjxyak</td>\n",
       "      <td>0.669415</td>\n",
       "      <td>15.710999</td>\n",
       "    </tr>\n",
       "    <tr>\n",
       "      <th>7</th>\n",
       "      <td>ZTF21aaplooj</td>\n",
       "      <td>0.928013</td>\n",
       "      <td>16.910000</td>\n",
       "    </tr>\n",
       "  </tbody>\n",
       "</table>\n",
       "</div>"
      ],
      "text/plain": [
       "     i:objectId  i:distnr    i:magnr\n",
       "3  ZTF18acjxyak  0.669415  15.710999\n",
       "7  ZTF21aaplooj  0.928013  16.910000"
      ]
     },
     "execution_count": 37,
     "metadata": {},
     "output_type": "execute_result"
    }
   ],
   "source": [
    "with_closeby_gal[['i:objectId', 'i:distnr', 'i:magnr']]"
   ]
  },
  {
   "cell_type": "markdown",
   "metadata": {},
   "source": [
    "### <font color='blue'> API query:</font>   <font color='orange'>thumbnails</font> of one known type Ia SNe\n",
    "It may be useful to visualize in the ZTF provided stamps or thumbnails centered on the transient."
   ]
  },
  {
   "cell_type": "code",
   "execution_count": 38,
   "metadata": {},
   "outputs": [],
   "source": [
    "# transfer cutout data\n",
    "r = requests.post(\n",
    "  'http://134.158.75.151:24000/api/v1/objects',\n",
    "  json={\n",
    "    'objectId': with_closeby_gal['i:objectId'].iloc[0],\n",
    "    'withcutouts': 'True'\n",
    "  }\n",
    ")\n",
    "\n",
    "# Format output in a DataFrame\n",
    "pdf = pd.read_json(r.content)"
   ]
  },
  {
   "cell_type": "code",
   "execution_count": 39,
   "metadata": {},
   "outputs": [
    {
     "data": {
      "image/png": "[encoded data removed]",
      "text/plain": [
       "<Figure size 1080x432 with 3 Axes>"
      ]
     },
     "metadata": {
      "needs_background": "light"
     },
     "output_type": "display_data"
    }
   ],
   "source": [
    "fig, axes = plt.subplots(1, 3, figsize=(15, 6))\n",
    "\n",
    "columns = [\n",
    "    'b:cutoutScience_stampData',\n",
    "    'b:cutoutTemplate_stampData',\n",
    "    'b:cutoutDifference_stampData'\n",
    "]\n",
    "for index, col in enumerate(columns):\n",
    "    # 2D array\n",
    "    data = pdf[col].values[0]\n",
    "\n",
    "    # do whatever plotting\n",
    "    axes[index].imshow(data)\n",
    "    axes[index].set_title(col)\n",
    "plt.show()"
   ]
  },
  {
   "cell_type": "markdown",
   "metadata": {},
   "source": [
    "# Summary\n",
    "In this notebook we have searched for AGNs and SNe:\n",
    "- Querying Fink's API for latest alerts using known catalogue types, e.g. from SIMBAD or TNS.\n",
    "- Querying Fink's API for candidate SNe selected using our ML algorithms.\n",
    "- Filtering all of these alerts according to your science case.\n",
    "- Querying Fink's API for photometry and thumbnails for a given object."
   ]
  },
  {
   "cell_type": "markdown",
   "metadata": {},
   "source": []
  }
 ],
 "metadata": {
  "kernelspec": {
   "display_name": "Python 3",
   "language": "python",
   "name": "python3"
  },
  "language_info": {
   "codemirror_mode": {
    "name": "ipython",
    "version": 3
   },
   "file_extension": ".py",
   "mimetype": "text/x-python",
   "name": "python",
   "nbconvert_exporter": "python",
   "pygments_lexer": "ipython3",
   "version": "3.7.1"
  }
 },
 "nbformat": 4,
 "nbformat_minor": 4
}
