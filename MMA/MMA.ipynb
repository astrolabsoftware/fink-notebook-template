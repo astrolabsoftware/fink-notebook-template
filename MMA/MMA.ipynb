{
 "cells": [
  {
   "cell_type": "markdown",
   "metadata": {},
   "source": [
    "<img src=\"../Fink_PrimaryLogo_WEB.jpg\" width=300 />\n",
    "\n",
    "# Fink case study: multi-messenger/wavelength astronomy"
   ]
  },
  {
   "cell_type": "markdown",
   "metadata": {},
   "source": [
    "## Goal\n",
    "\n",
    "The goal of this notebook is to show how Fink can contribute to multi-messenger and multi-wavelength science. This notebook includes queries for science related to **Kilonovae** and **GRBs counterparts**. \n",
    "\n",
    "Real-time analysis for follow-up coordination will be better done through the Fink livestreams which processes and makes available the alert data within minutes of reception. Access through this notebook uses the API access which is not real-time based. We aggregate the data into our API and Science Portal database at the end of each observing night. API access can be useful to analyze last night and older alerts. For example in case of reprocessing analysis in the search for low signal-to-noise events in GW or other wavelength detectors."
   ]
  },
  {
   "cell_type": "markdown",
   "metadata": {},
   "source": [
    "## What is behind?\n",
    "\n",
    "This notebook will use:\n",
<<<<<<< EmilleIshida/review
    "- **Fink cross-match** with close by sources in the [SIMBAD (Wenger et al. 2020)](https://aas.aanda.org/articles/aas/abs/2000/07/ds1821/ds1821.html) catalogue (within 1'') using [xmatch service](http://cdsxmatch.u-strasbg.fr) provided by the Centre de Données astronomiques de Strasbourg (CDS) .\n",
=======
    "- **Fink cross-match** with close by sources in the  [SIMBAD (Wenger et al. 2020)](https://aas.aanda.org/articles/aas/abs/2000/07/ds1821/ds1821.html) catalogue (within 1'') using [xmatch service](http://cdsxmatch.u-strasbg.fr) provided by the Centre de Données astronomiques de Strasbourg (CDS) .\n",
>>>>>>> main
    "- **Fink's machine learning classification** scores trained with [(Muthukrishna et al. 2019)](https://arxiv.org/abs/1904.00014) and [(Stachie et al. 2019)](https://arxiv.org/abs/1912.06383):\n",
    "    - Random Forest to classify Kilonovae (Biswas et al. in prep)\n",
    "    - [SuperNNova](https://github.com/supernnova/SuperNNova) [(Möller & de Boissière 2019)](https://academic.oup.com/mnras/article-abstract/491/3/4277/5651173) to classify SNe at all light-curve epochs\n",
    "    - Random Forest (Leoni et al. in prep) and [(Ishida et al. 2019b)](https://ui.adsabs.harvard.edu/abs/2019MNRAS.483....2I/abstract) to classify early (pre-max) SN candidates\n",
    "- **Fink's extra features** such as color `r-g` when possible."
   ]
  },
  {
   "cell_type": "markdown",
   "metadata": {},
   "source": [
    "## Environment set up\n",
    "\n",
    "To run this notebook, you need to import the following libraries (already installed in colab):"
   ]
  },
  {
   "cell_type": "code",
   "execution_count": 1,
   "metadata": {},
   "outputs": [],
   "source": [
    "import requests\n",
    "\n",
    "import pandas as pd\n",
    "import numpy as np\n",
    "\n",
    "import matplotlib.pyplot as plt\n",
    "import seaborn as sns\n",
    "sns.set_context('talk')"
   ]
  },
  {
   "cell_type": "markdown",
   "metadata": {},
   "source": [
    "# 1st case study: selecting kilonovae candidates"
   ]
  },
  {
   "cell_type": "markdown",
   "metadata": {},
   "source": [
    "### <font color='blue'>API query:</font> <font color='orange'> latest alerts</font> of kilonovae candidates\n",
    "**Kilonovae candidates is a tag defined and provided by Fink.** It requires that the alert has no known transient association (from catalogues), it is relatively new (number of previous detections < 20) and when our ML algorithm trained to select early kilonovae have a probability higher than 50% of this object being a kilonova."
   ]
  },
  {
   "cell_type": "code",
   "execution_count": 2,
   "metadata": {},
   "outputs": [],
   "source": [
    "# Get latests 20 alerts associated to Kilonova eventa\n",
    "r = requests.post(\n",
    "  'http://134.158.75.151:24000/api/v1/latests',\n",
    "  json={\n",
    "    'class': 'Kilonova candidate',\n",
    "    'n': '20',\n",
    "  }\n",
    ")\n",
    "\n",
    "# Format output in a DataFrame\n",
    "pdf = pd.read_json(r.content)"
   ]
  },
  {
   "cell_type": "markdown",
   "metadata": {},
   "source": [
    "See http://134.158.75.151:24000/api/v1/latests to check all the available arguments. \n",
    "\n",
    "This table contains all alerts linked to a kilonova candidate. This includes:\n",
    "- Alert information from ZTF processing (just latest photometry points).\n",
    "- Fink's added values.\n",
    "\n",
    "The table schema is described at http://134.158.75.151:24000/api/v1/columns."
   ]
  },
  {
   "cell_type": "code",
   "execution_count": 3,
   "metadata": {},
   "outputs": [
    {
     "data": {
      "text/html": [
       "<div>\n",
       "<style scoped>\n",
       "    .dataframe tbody tr th:only-of-type {\n",
       "        vertical-align: middle;\n",
       "    }\n",
       "\n",
       "    .dataframe tbody tr th {\n",
       "        vertical-align: top;\n",
       "    }\n",
       "\n",
       "    .dataframe thead th {\n",
       "        text-align: right;\n",
       "    }\n",
       "</style>\n",
       "<table border=\"1\" class=\"dataframe\">\n",
       "  <thead>\n",
       "    <tr style=\"text-align: right;\">\n",
       "      <th></th>\n",
       "      <th>d:cdsxmatch</th>\n",
       "      <th>d:knscore</th>\n",
       "      <th>d:mulens_class_1</th>\n",
       "      <th>d:mulens_class_2</th>\n",
       "      <th>d:rfscore</th>\n",
       "      <th>d:roid</th>\n",
       "      <th>d:snn_sn_vs_all</th>\n",
       "      <th>d:snn_snia_vs_nonia</th>\n",
       "      <th>i:candid</th>\n",
       "      <th>i:chipsf</th>\n",
       "      <th>...</th>\n",
       "      <th>i:ssdistnr</th>\n",
       "      <th>i:ssmagnr</th>\n",
       "      <th>i:ssnamenr</th>\n",
       "      <th>i:tooflag</th>\n",
       "      <th>i:xpos</th>\n",
       "      <th>i:ypos</th>\n",
       "      <th>v:classification</th>\n",
       "      <th>v:r-g</th>\n",
       "      <th>v:rate(r-g)</th>\n",
       "      <th>v:lastdate</th>\n",
       "    </tr>\n",
       "  </thead>\n",
       "  <tbody>\n",
       "    <tr>\n",
       "      <th>0</th>\n",
       "      <td>Unknown</td>\n",
       "      <td>0.56</td>\n",
       "      <td></td>\n",
       "      <td></td>\n",
       "      <td>0.046</td>\n",
       "      <td>0</td>\n",
       "      <td>0.006310</td>\n",
       "      <td>0.327049</td>\n",
       "      <td>1555499173515015006</td>\n",
       "      <td>1.635409</td>\n",
       "      <td>...</td>\n",
       "      <td>-999</td>\n",
       "      <td>-999</td>\n",
       "      <td>null</td>\n",
       "      <td>0</td>\n",
       "      <td>2198.3813</td>\n",
       "      <td>1655.1515</td>\n",
       "      <td>Kilonova candidate</td>\n",
       "      <td>NaN</td>\n",
       "      <td>NaN</td>\n",
       "      <td>2021-04-05 11:58:48.996</td>\n",
       "    </tr>\n",
       "    <tr>\n",
       "      <th>1</th>\n",
       "      <td>Unknown</td>\n",
       "      <td>0.52</td>\n",
       "      <td></td>\n",
       "      <td></td>\n",
       "      <td>0.046</td>\n",
       "      <td>0</td>\n",
       "      <td>0.593986</td>\n",
       "      <td>0.571447</td>\n",
       "      <td>1555482374415015004</td>\n",
       "      <td>0.924199</td>\n",
       "      <td>...</td>\n",
       "      <td>-999</td>\n",
       "      <td>-999</td>\n",
       "      <td>null</td>\n",
       "      <td>0</td>\n",
       "      <td>1021.9538</td>\n",
       "      <td>1425.2974</td>\n",
       "      <td>Kilonova candidate</td>\n",
       "      <td>NaN</td>\n",
       "      <td>NaN</td>\n",
       "      <td>2021-04-05 11:34:37.001</td>\n",
       "    </tr>\n",
       "    <tr>\n",
       "      <th>2</th>\n",
       "      <td>Unknown</td>\n",
       "      <td>0.78</td>\n",
       "      <td></td>\n",
       "      <td></td>\n",
       "      <td>0.046</td>\n",
       "      <td>0</td>\n",
       "      <td>0.566644</td>\n",
       "      <td>0.615225</td>\n",
       "      <td>1555212892815015000</td>\n",
       "      <td>1.278985</td>\n",
       "      <td>...</td>\n",
       "      <td>-999</td>\n",
       "      <td>-999</td>\n",
       "      <td>null</td>\n",
       "      <td>0</td>\n",
       "      <td>1998.1176</td>\n",
       "      <td>28.9625</td>\n",
       "      <td>Kilonova candidate</td>\n",
       "      <td>NaN</td>\n",
       "      <td>NaN</td>\n",
       "      <td>2021-04-05 05:06:33.998</td>\n",
       "    </tr>\n",
       "    <tr>\n",
       "      <th>3</th>\n",
       "      <td>Unknown</td>\n",
       "      <td>0.74</td>\n",
       "      <td></td>\n",
       "      <td></td>\n",
       "      <td>0.046</td>\n",
       "      <td>0</td>\n",
       "      <td>0.036744</td>\n",
       "      <td>0.764796</td>\n",
       "      <td>1555187461115015004</td>\n",
       "      <td>61.152374</td>\n",
       "      <td>...</td>\n",
       "      <td>-999</td>\n",
       "      <td>-999</td>\n",
       "      <td>null</td>\n",
       "      <td>0</td>\n",
       "      <td>1768.2220</td>\n",
       "      <td>983.2989</td>\n",
       "      <td>Kilonova candidate</td>\n",
       "      <td>NaN</td>\n",
       "      <td>NaN</td>\n",
       "      <td>2021-04-05 04:29:57.002</td>\n",
       "    </tr>\n",
       "    <tr>\n",
       "      <th>4</th>\n",
       "      <td>Unknown</td>\n",
       "      <td>0.70</td>\n",
       "      <td></td>\n",
       "      <td></td>\n",
       "      <td>0.046</td>\n",
       "      <td>0</td>\n",
       "      <td>0.577882</td>\n",
       "      <td>0.668809</td>\n",
       "      <td>1553377920715015002</td>\n",
       "      <td>1.465893</td>\n",
       "      <td>...</td>\n",
       "      <td>-999</td>\n",
       "      <td>-999</td>\n",
       "      <td>null</td>\n",
       "      <td>0</td>\n",
       "      <td>2911.3691</td>\n",
       "      <td>351.2066</td>\n",
       "      <td>Kilonova candidate</td>\n",
       "      <td>NaN</td>\n",
       "      <td>NaN</td>\n",
       "      <td>2021-04-03 09:04:12.996</td>\n",
       "    </tr>\n",
       "    <tr>\n",
       "      <th>5</th>\n",
       "      <td>Unknown</td>\n",
       "      <td>0.76</td>\n",
       "      <td></td>\n",
       "      <td></td>\n",
       "      <td>0.046</td>\n",
       "      <td>0</td>\n",
       "      <td>0.369564</td>\n",
       "      <td>0.674247</td>\n",
       "      <td>1553307341715015013</td>\n",
       "      <td>27.003778</td>\n",
       "      <td>...</td>\n",
       "      <td>-999</td>\n",
       "      <td>-999</td>\n",
       "      <td>null</td>\n",
       "      <td>0</td>\n",
       "      <td>1743.2869</td>\n",
       "      <td>1291.5006</td>\n",
       "      <td>Kilonova candidate</td>\n",
       "      <td>0.241809</td>\n",
       "      <td>NaN</td>\n",
       "      <td>2021-04-03 07:22:34.997</td>\n",
       "    </tr>\n",
       "    <tr>\n",
       "      <th>6</th>\n",
       "      <td>Unknown</td>\n",
       "      <td>0.84</td>\n",
       "      <td></td>\n",
       "      <td></td>\n",
       "      <td>0.000</td>\n",
       "      <td>0</td>\n",
       "      <td>0.072057</td>\n",
       "      <td>0.411323</td>\n",
       "      <td>1553235211715015011</td>\n",
       "      <td>10.559757</td>\n",
       "      <td>...</td>\n",
       "      <td>-999</td>\n",
       "      <td>-999</td>\n",
       "      <td>null</td>\n",
       "      <td>0</td>\n",
       "      <td>1756.6012</td>\n",
       "      <td>1280.7938</td>\n",
       "      <td>Kilonova candidate</td>\n",
       "      <td>0.241809</td>\n",
       "      <td>NaN</td>\n",
       "      <td>2021-04-03 05:38:42.999</td>\n",
       "    </tr>\n",
       "    <tr>\n",
       "      <th>7</th>\n",
       "      <td>Unknown</td>\n",
       "      <td>0.52</td>\n",
       "      <td></td>\n",
       "      <td></td>\n",
       "      <td>0.046</td>\n",
       "      <td>0</td>\n",
       "      <td>0.621601</td>\n",
       "      <td>0.701202</td>\n",
       "      <td>1553222761115015008</td>\n",
       "      <td>23.290575</td>\n",
       "      <td>...</td>\n",
       "      <td>-999</td>\n",
       "      <td>-999</td>\n",
       "      <td>null</td>\n",
       "      <td>0</td>\n",
       "      <td>1751.8320</td>\n",
       "      <td>987.2286</td>\n",
       "      <td>Kilonova candidate</td>\n",
       "      <td>NaN</td>\n",
       "      <td>NaN</td>\n",
       "      <td>2021-04-03 05:20:47.000</td>\n",
       "    </tr>\n",
       "    <tr>\n",
       "      <th>8</th>\n",
       "      <td>Unknown</td>\n",
       "      <td>0.52</td>\n",
       "      <td></td>\n",
       "      <td></td>\n",
       "      <td>0.046</td>\n",
       "      <td>0</td>\n",
       "      <td>0.587073</td>\n",
       "      <td>0.698982</td>\n",
       "      <td>1549425335015015000</td>\n",
       "      <td>2.039243</td>\n",
       "      <td>...</td>\n",
       "      <td>-999</td>\n",
       "      <td>-999</td>\n",
       "      <td>null</td>\n",
       "      <td>0</td>\n",
       "      <td>2148.7202</td>\n",
       "      <td>236.2409</td>\n",
       "      <td>Kilonova candidate</td>\n",
       "      <td>NaN</td>\n",
       "      <td>NaN</td>\n",
       "      <td>2021-03-30 10:12:28.996</td>\n",
       "    </tr>\n",
       "    <tr>\n",
       "      <th>9</th>\n",
       "      <td>Unknown</td>\n",
       "      <td>0.68</td>\n",
       "      <td></td>\n",
       "      <td></td>\n",
       "      <td>0.046</td>\n",
       "      <td>0</td>\n",
       "      <td>0.252169</td>\n",
       "      <td>0.655686</td>\n",
       "      <td>1546419165315015001</td>\n",
       "      <td>1.214597</td>\n",
       "      <td>...</td>\n",
       "      <td>-999</td>\n",
       "      <td>-999</td>\n",
       "      <td>null</td>\n",
       "      <td>0</td>\n",
       "      <td>1833.1669</td>\n",
       "      <td>1147.4520</td>\n",
       "      <td>Kilonova candidate</td>\n",
       "      <td>NaN</td>\n",
       "      <td>NaN</td>\n",
       "      <td>2021-03-27 10:03:36.003</td>\n",
       "    </tr>\n",
       "  </tbody>\n",
       "</table>\n",
       "<p>10 rows × 48 columns</p>\n",
       "</div>"
      ],
      "text/plain": [
       "  d:cdsxmatch  d:knscore d:mulens_class_1 d:mulens_class_2  d:rfscore  d:roid  \\\n",
       "0     Unknown       0.56                                        0.046       0   \n",
       "1     Unknown       0.52                                        0.046       0   \n",
       "2     Unknown       0.78                                        0.046       0   \n",
       "3     Unknown       0.74                                        0.046       0   \n",
       "4     Unknown       0.70                                        0.046       0   \n",
       "5     Unknown       0.76                                        0.046       0   \n",
       "6     Unknown       0.84                                        0.000       0   \n",
       "7     Unknown       0.52                                        0.046       0   \n",
       "8     Unknown       0.52                                        0.046       0   \n",
       "9     Unknown       0.68                                        0.046       0   \n",
       "\n",
       "   d:snn_sn_vs_all  d:snn_snia_vs_nonia             i:candid   i:chipsf  ...  \\\n",
       "0         0.006310             0.327049  1555499173515015006   1.635409  ...   \n",
       "1         0.593986             0.571447  1555482374415015004   0.924199  ...   \n",
       "2         0.566644             0.615225  1555212892815015000   1.278985  ...   \n",
       "3         0.036744             0.764796  1555187461115015004  61.152374  ...   \n",
       "4         0.577882             0.668809  1553377920715015002   1.465893  ...   \n",
       "5         0.369564             0.674247  1553307341715015013  27.003778  ...   \n",
       "6         0.072057             0.411323  1553235211715015011  10.559757  ...   \n",
       "7         0.621601             0.701202  1553222761115015008  23.290575  ...   \n",
       "8         0.587073             0.698982  1549425335015015000   2.039243  ...   \n",
       "9         0.252169             0.655686  1546419165315015001   1.214597  ...   \n",
       "\n",
       "   i:ssdistnr  i:ssmagnr  i:ssnamenr  i:tooflag     i:xpos     i:ypos  \\\n",
       "0        -999       -999        null          0  2198.3813  1655.1515   \n",
       "1        -999       -999        null          0  1021.9538  1425.2974   \n",
       "2        -999       -999        null          0  1998.1176    28.9625   \n",
       "3        -999       -999        null          0  1768.2220   983.2989   \n",
       "4        -999       -999        null          0  2911.3691   351.2066   \n",
       "5        -999       -999        null          0  1743.2869  1291.5006   \n",
       "6        -999       -999        null          0  1756.6012  1280.7938   \n",
       "7        -999       -999        null          0  1751.8320   987.2286   \n",
       "8        -999       -999        null          0  2148.7202   236.2409   \n",
       "9        -999       -999        null          0  1833.1669  1147.4520   \n",
       "\n",
       "     v:classification     v:r-g v:rate(r-g)               v:lastdate  \n",
       "0  Kilonova candidate       NaN         NaN  2021-04-05 11:58:48.996  \n",
       "1  Kilonova candidate       NaN         NaN  2021-04-05 11:34:37.001  \n",
       "2  Kilonova candidate       NaN         NaN  2021-04-05 05:06:33.998  \n",
       "3  Kilonova candidate       NaN         NaN  2021-04-05 04:29:57.002  \n",
       "4  Kilonova candidate       NaN         NaN  2021-04-03 09:04:12.996  \n",
       "5  Kilonova candidate  0.241809         NaN  2021-04-03 07:22:34.997  \n",
       "6  Kilonova candidate  0.241809         NaN  2021-04-03 05:38:42.999  \n",
       "7  Kilonova candidate       NaN         NaN  2021-04-03 05:20:47.000  \n",
       "8  Kilonova candidate       NaN         NaN  2021-03-30 10:12:28.996  \n",
       "9  Kilonova candidate       NaN         NaN  2021-03-27 10:03:36.003  \n",
       "\n",
       "[10 rows x 48 columns]"
      ]
     },
     "execution_count": 3,
     "metadata": {},
     "output_type": "execute_result"
    }
   ],
   "source": [
    "pdf"
   ]
  },
  {
   "cell_type": "markdown",
   "metadata": {},
   "source": [
    "### <font color='blue'>Analysing the output:</font>   <font color='orange'>scores</font>  of these alerts"
   ]
  },
  {
   "cell_type": "code",
   "execution_count": 4,
   "metadata": {},
   "outputs": [
    {
     "data": {
<<<<<<< EmilleIshida/review
      "image/png": "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\n",
=======
      "image/png": "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\n",
>>>>>>> main
      "text/plain": [
       "<Figure size 1080x432 with 1 Axes>"
      ]
     },
     "metadata": {},
     "output_type": "display_data"
    }
   ],
   "source": [
    "fig = plt.figure(figsize=(15, 6))\n",
    "\n",
    "plt.hist(pdf['d:knscore'],histtype='step')\n",
    "plt.ylabel('number of objects')\n",
    "plt.xlabel('kN score')\n",
    "plt.yticks(range(5), range(5));"
   ]
  },
  {
   "cell_type": "markdown",
   "metadata": {},
   "source": [
    "An interesting question to ask is wether there are some of these events that may be also high-probability candidate SNe."
   ]
  },
  {
   "cell_type": "code",
   "execution_count": 5,
   "metadata": {},
   "outputs": [
    {
     "data": {
<<<<<<< EmilleIshida/review
      "image/png": "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\n",
=======
      "text/plain": [
       "Text(0.5, 0, 'score')"
      ]
     },
     "execution_count": 5,
     "metadata": {},
     "output_type": "execute_result"
    },
    {
     "data": {
      "image/png": "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\n",
>>>>>>> main
      "text/plain": [
       "<Figure size 1080x432 with 1 Axes>"
      ]
     },
     "metadata": {},
     "output_type": "display_data"
    }
   ],
   "source": [
    "fig = plt.figure(figsize=(15, 6))\n",
    "\n",
    "bins = np.arange(0,1,0.05)\n",
    "\n",
    "plt.hist(pdf['d:knscore'],histtype='step',label='kN',bins=bins)\n",
    "plt.hist(pdf['d:snn_sn_vs_all'],histtype='step',label='SNN SN vs all',bins=bins)\n",
    "plt.hist(pdf['d:snn_snia_vs_nonia'],histtype='step',label='SNN SN Ia vs non Ia',bins=bins)\n",
    "plt.hist(pdf['d:rfscore'],histtype='step',label='RF early SN Ia vs all',bins=bins)\n",
    "\n",
    "plt.legend()\n",
    "plt.xlabel('score')\n",
    "plt.ylabel('number of objects')\n",
    "plt.yticks(range(5), range(5))\n",
    "plt.show()"
   ]
  },
  {
   "cell_type": "markdown",
   "metadata": {},
   "source": [
    "Most the kilonova candidates are not tagged as early SNe Ia but can be tagged as possible SNe."
   ]
  },
  {
   "cell_type": "markdown",
   "metadata": {},
   "source": [
    "How many individual objects have been tagged as possible kN?"
   ]
  },
  {
   "cell_type": "code",
   "execution_count": 6,
   "metadata": {},
   "outputs": [
    {
     "data": {
      "text/plain": [
       "array(['ZTF21aaraakd', 'ZTF21aassamj', 'ZTF21aartgiv', 'ZTF21aarqkes',\n",
       "       'ZTF21aaridvf', 'ZTF21aarenhl', 'ZTF21aaqwjlz', 'ZTF21aaqpykm'],\n",
       "      dtype=object)"
      ]
     },
     "execution_count": 6,
     "metadata": {},
     "output_type": "execute_result"
    }
   ],
   "source": [
    "pdf['i:objectId'].unique()"
   ]
  },
  {
   "cell_type": "markdown",
   "metadata": {},
   "source": [
    "### <font color='blue'>API query:</font> <font color='orange'> photometry </font> of a kilonova candidate"
   ]
  },
  {
   "cell_type": "code",
   "execution_count": 7,
   "metadata": {},
   "outputs": [],
   "source": [
    "# identify the first object in the list of potential KN\n",
    "cond = pdf['i:objectId'] == pdf['i:objectId'].unique()[0]\n",
    "single_object = pdf[cond]['i:objectId'][0]"
   ]
  },
  {
   "cell_type": "code",
   "execution_count": 8,
   "metadata": {},
   "outputs": [
    {
     "data": {
      "text/plain": [
       "'ZTF21aaraakd'"
      ]
     },
     "execution_count": 8,
     "metadata": {},
     "output_type": "execute_result"
    }
   ],
   "source": [
    "single_object"
   ]
  },
  {
   "cell_type": "code",
   "execution_count": 9,
   "metadata": {},
   "outputs": [],
   "source": [
    "# get all alert information related to this object\n",
    "r = requests.post(\n",
    "   'http://134.158.75.151:24000/api/v1/objects',\n",
    "   json={\n",
    "     'objectId': single_object,\n",
    "     'withupperlim': 'True'\n",
    "   }\n",
    " )\n",
    "\n",
    "# Format output in a DataFrame\n",
    "single_object = pd.read_json(r.content)"
   ]
  },
  {
   "cell_type": "markdown",
   "metadata": {},
   "source": [
    "This query can include upper limits and bad quality data associated to this object using the argument `withupperlim`.\n",
    "See http://134.158.75.151:24000/api/v1/objects to get the list of available arguments.\n"
   ]
  },
  {
   "cell_type": "markdown",
   "metadata": {},
   "source": [
    "### <font color='blue'>Analysing the output:</font>  plot one light-curve for visualization\n",
    "\n",
    "See the example on http://134.158.75.151:24000/api to plot full lightcurve with layout template. We implement here an useful function for plotting light-curves in this notebook."
   ]
  },
  {
   "cell_type": "code",
   "execution_count": 10,
   "metadata": {},
   "outputs": [],
   "source": [
    "def plot_lc(pdf):\n",
    "    \"\"\" Plot photometry contains in an alert\n",
    "    \n",
    "    Parameters\n",
    "    ----------\n",
    "    pdf: pandas DataFrame\n",
    "        Pandas DataFrame with single alert row\n",
    "    \"\"\"\n",
    "    fig = plt.figure(figsize=(15, 6))\n",
    "\n",
    "    # Colors to plot\n",
    "    colordic = {1: 'C0', 2: 'C1'}\n",
    "\n",
    "    # Labels of ZTF filters\n",
    "    filtdic = {1: 'g', 2: 'r'}\n",
    "\n",
    "    for filt in np.unique(pdf['i:fid']):\n",
    "        # select data from one filter at a time\n",
    "        maskFilt = pdf['i:fid'] == filt\n",
    "\n",
    "        # The column `d:tag` is used to check data type\n",
    "        maskValid = pdf['d:tag'] == 'valid'\n",
    "        plt.errorbar(\n",
    "            pdf[maskValid & maskFilt]['i:jd'].apply(lambda x: x - 2400000.5),\n",
    "            pdf[maskValid & maskFilt]['i:magpsf'],\n",
    "            pdf[maskValid & maskFilt]['i:sigmapsf'],\n",
    "            ls = '', marker='o', color=colordic[filt], label=filtdic[filt]\n",
    "        )\n",
    "\n",
    "        maskUpper = pdf['d:tag'] == 'upperlim'\n",
    "        plt.plot(\n",
    "            pdf[maskUpper & maskFilt]['i:jd'].apply(lambda x: x - 2400000.5),\n",
    "            pdf[maskUpper & maskFilt]['i:diffmaglim'],\n",
    "            ls='', marker='^', color=colordic[filt], markerfacecolor='none'\n",
    "        )\n",
    "\n",
    "        maskBadquality = pdf['d:tag'] == 'badquality'\n",
    "        plt.errorbar(\n",
    "            pdf[maskBadquality & maskFilt]['i:jd'].apply(lambda x: x - 2400000.5),\n",
    "            pdf[maskBadquality & maskFilt]['i:magpsf'],\n",
    "            pdf[maskBadquality & maskFilt]['i:sigmapsf'],\n",
    "            ls='', marker='v', color=colordic[filt]\n",
    "        )\n",
    "\n",
    "    plt.gca().invert_yaxis()\n",
    "    plt.legend()\n",
    "    plt.title(pdf['i:objectId'][0])\n",
    "    plt.xlabel('Modified Julian Date')\n",
    "    plt.ylabel('Magnitude')\n",
    "    plt.show()"
   ]
  },
  {
   "cell_type": "code",
   "execution_count": 11,
   "metadata": {},
   "outputs": [
    {
     "data": {
      "image/png": "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\n",
      "text/plain": [
       "<Figure size 1080x432 with 1 Axes>"
      ]
     },
     "metadata": {},
     "output_type": "display_data"
    }
   ],
   "source": [
    "plot_lc(single_object)"
   ]
  },
  {
   "cell_type": "markdown",
   "metadata": {},
   "source": [
    "In this plot:\n",
    "- Circles (●) with error bars show valid alerts that pass the Fink quality cuts.\n",
    "- Upper triangles with errors (▲), represent alert measurements that do not satisfy Fink quality cuts, but are nevetheless contained in the history of valid alerts and used by classifiers.\n",
    "- Lower triangles (▽), represent 5-sigma mag limit in difference image based on PSF-fit photometry contained in the history of valid alerts."
   ]
  },
  {
   "cell_type": "markdown",
   "metadata": {},
   "source": [
    "### <font color='blue'>Analysing the output:</font>   <font color='orange'>color</font>  of these alerts (if there are g and r measurements in the same night)\n",
    "Color `v:r-g` is an added value provided by Fink. It is computed as the subtraction of the `magpsf` in the `g` filter minus its corresponding `magpsf` in the `r` filter for an object in a given night. If no same-night different filter measurements are available, the value of color is `NaN`."
   ]
  },
  {
   "cell_type": "code",
   "execution_count": 12,
   "metadata": {},
   "outputs": [
    {
     "data": {
<<<<<<< EmilleIshida/review
      "image/png": "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\n",
=======
      "text/plain": [
       "Text(0.5, 0, 'v:r-g')"
      ]
     },
     "execution_count": 12,
     "metadata": {},
     "output_type": "execute_result"
    },
    {
     "data": {
      "image/png": "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\n",
>>>>>>> main
      "text/plain": [
       "<Figure size 1080x432 with 1 Axes>"
      ]
     },
     "metadata": {},
     "output_type": "display_data"
    }
   ],
   "source": [
    "fig = plt.figure(figsize=(15, 6))\n",
    "\n",
    "plt.hist(pdf[\"v:r-g\"], histtype='step')\n",
    "plt.xlabel(\"v:r-g\")\n",
    "plt.ylabel('number of objects')\n",
    "plt.yticks(range(3), range(3))\n",
    "plt.show()"
   ]
  },
  {
   "cell_type": "markdown",
   "metadata": {},
   "source": [
    "# 2nd case study: transients within an area of the sky\n",
    "\n",
    "Your MMA survey may have a low S/N event that was not communicated through VOEvents. You may want to see if there was a transient within an area of the sky. "
   ]
  },
  {
   "cell_type": "markdown",
   "metadata": {},
   "source": [
    "### <font color='blue'>API query:</font> <font color='orange'> objects</font> within a conesearch\n",
    "\n",
    "The API allows a conesearch around a position on the sky given by (RA, Dec, radius). The initializer for RA/Dec is very flexible and supports inputs provided in a number of convenient formats. Radius is specified in arcsecond.\n",
    "\n",
    "More information on parameters of query: http://134.158.75.151:24000/api/v1/explorer"
   ]
  },
  {
   "cell_type": "code",
   "execution_count": 13,
   "metadata": {},
   "outputs": [],
   "source": [
    "# Get all objects falling within (center, radius) = ((ra, dec), radius)\n",
    "r = requests.post(\n",
    "  'http://134.158.75.151:24000/api/v1/explorer',\n",
    "  json={\n",
    "    'ra': '261.723',\n",
    "    'dec': '13.178',\n",
    "    'radius': '10', # radius in arcsec\n",
    "  }\n",
    ")\n",
    "\n",
    "# Format output in a DataFrame\n",
    "pdf_cone = pd.read_json(r.content)"
   ]
  },
  {
   "cell_type": "code",
   "execution_count": 14,
   "metadata": {},
   "outputs": [
    {
     "data": {
      "text/html": [
       "<div>\n",
       "<style scoped>\n",
       "    .dataframe tbody tr th:only-of-type {\n",
       "        vertical-align: middle;\n",
       "    }\n",
       "\n",
       "    .dataframe tbody tr th {\n",
       "        vertical-align: top;\n",
       "    }\n",
       "\n",
       "    .dataframe thead th {\n",
       "        text-align: right;\n",
       "    }\n",
       "</style>\n",
       "<table border=\"1\" class=\"dataframe\">\n",
       "  <thead>\n",
       "    <tr style=\"text-align: right;\">\n",
       "      <th></th>\n",
       "      <th>d:cdsxmatch</th>\n",
       "      <th>d:knscore</th>\n",
       "      <th>d:mulens_class_1</th>\n",
       "      <th>d:mulens_class_2</th>\n",
       "      <th>d:rfscore</th>\n",
       "      <th>d:roid</th>\n",
       "      <th>d:snn_sn_vs_all</th>\n",
       "      <th>d:snn_snia_vs_nonia</th>\n",
       "      <th>i:candid</th>\n",
       "      <th>i:chipsf</th>\n",
       "      <th>...</th>\n",
       "      <th>i:ssdistnr</th>\n",
       "      <th>i:ssmagnr</th>\n",
       "      <th>i:ssnamenr</th>\n",
       "      <th>i:tooflag</th>\n",
       "      <th>i:xpos</th>\n",
       "      <th>i:ypos</th>\n",
       "      <th>v:classification</th>\n",
       "      <th>v:r-g</th>\n",
       "      <th>v:rate(r-g)</th>\n",
       "      <th>v:lastdate</th>\n",
       "    </tr>\n",
       "  </thead>\n",
       "  <tbody>\n",
       "    <tr>\n",
       "      <th>0</th>\n",
       "      <td>Unknown</td>\n",
       "      <td>0.52</td>\n",
       "      <td></td>\n",
       "      <td></td>\n",
       "      <td>0.046</td>\n",
       "      <td>0</td>\n",
       "      <td>0.593986</td>\n",
       "      <td>0.571447</td>\n",
       "      <td>1555482374415015004</td>\n",
       "      <td>0.924199</td>\n",
       "      <td>...</td>\n",
       "      <td>-999</td>\n",
       "      <td>-999</td>\n",
       "      <td>null</td>\n",
       "      <td>0</td>\n",
       "      <td>1021.9538</td>\n",
       "      <td>1425.2974</td>\n",
       "      <td>Kilonova candidate</td>\n",
       "      <td>NaN</td>\n",
       "      <td>NaN</td>\n",
       "      <td>2021-04-05 11:34:37.001</td>\n",
       "    </tr>\n",
       "  </tbody>\n",
       "</table>\n",
       "<p>1 rows × 48 columns</p>\n",
       "</div>"
      ],
      "text/plain": [
       "  d:cdsxmatch  d:knscore d:mulens_class_1 d:mulens_class_2  d:rfscore  d:roid  \\\n",
       "0     Unknown       0.52                                        0.046       0   \n",
       "\n",
       "   d:snn_sn_vs_all  d:snn_snia_vs_nonia             i:candid  i:chipsf  ...  \\\n",
       "0         0.593986             0.571447  1555482374415015004  0.924199  ...   \n",
       "\n",
       "   i:ssdistnr  i:ssmagnr  i:ssnamenr  i:tooflag     i:xpos     i:ypos  \\\n",
       "0        -999       -999        null          0  1021.9538  1425.2974   \n",
       "\n",
       "     v:classification  v:r-g v:rate(r-g)               v:lastdate  \n",
       "0  Kilonova candidate    NaN         NaN  2021-04-05 11:34:37.001  \n",
       "\n",
       "[1 rows x 48 columns]"
      ]
     },
     "execution_count": 14,
     "metadata": {},
     "output_type": "execute_result"
    }
   ],
   "source": [
    "pdf_cone"
   ]
  },
  {
   "cell_type": "markdown",
   "metadata": {},
   "source": [
    "This table contains all alerts linked to the conesearch candidate. This includes:\n",
    "- Alert information from ZTF processing (just latest photometry points).\n",
    "- Fink's added values.\n",
    "\n",
    "The table schema is described at http://134.158.75.151:24000/api/v1/columns."
   ]
  },
  {
   "cell_type": "markdown",
   "metadata": {},
   "source": [
    "# 3rd case study: transients within a time window\n",
    "\n",
    "Your MMA survey may have detected a transient that could have an optical counterpart in ZTF. This can be useful for offline searches of GRB, FRBs and others counterparts!"
   ]
  },
  {
   "cell_type": "markdown",
   "metadata": {},
   "source": [
    "### <font color='blue'>API query:</font>   <font color='orange'>objects </font>  within a time window\n",
    "\n",
    "The API allows a search within a time window (maximum 180 minutes) of all alerts.\n",
    "\n",
    "More information on parameters of query: http://134.158.75.151:24000/api/v1/explorer"
   ]
  },
  {
   "cell_type": "code",
   "execution_count": 15,
   "metadata": {},
   "outputs": [],
   "source": [
    "# Get all objects within observed at \"stardate\" within an interval of \"window\"\n",
    "r = requests.post(\n",
    "  'http://134.158.75.151:24000/api/v1/explorer',\n",
    "  json={\n",
    "    'startdate': '2021-02-05 09:39:34.998',\n",
    "    'window': 1            # Time window in minutes. Maximum is 180 minutes\n",
    "  }\n",
    ")\n",
    "\n",
    "# Format output in a DataFrame\n",
    "pdf_time_window = pd.read_json(r.content)"
   ]
  },
  {
   "cell_type": "code",
   "execution_count": 16,
   "metadata": {},
   "outputs": [
    {
     "data": {
      "text/html": [
       "<div>\n",
       "<style scoped>\n",
       "    .dataframe tbody tr th:only-of-type {\n",
       "        vertical-align: middle;\n",
       "    }\n",
       "\n",
       "    .dataframe tbody tr th {\n",
       "        vertical-align: top;\n",
       "    }\n",
       "\n",
       "    .dataframe thead th {\n",
       "        text-align: right;\n",
       "    }\n",
       "</style>\n",
       "<table border=\"1\" class=\"dataframe\">\n",
       "  <thead>\n",
       "    <tr style=\"text-align: right;\">\n",
       "      <th></th>\n",
       "      <th>d:cdsxmatch</th>\n",
       "      <th>d:mulens_class_1</th>\n",
       "      <th>d:mulens_class_2</th>\n",
       "      <th>d:rfscore</th>\n",
       "      <th>d:roid</th>\n",
       "      <th>d:snn_sn_vs_all</th>\n",
       "      <th>d:snn_snia_vs_nonia</th>\n",
       "      <th>i:candid</th>\n",
       "      <th>i:chipsf</th>\n",
       "      <th>i:classtar</th>\n",
       "      <th>...</th>\n",
       "      <th>i:ssmagnr</th>\n",
       "      <th>i:ssnamenr</th>\n",
       "      <th>i:tooflag</th>\n",
       "      <th>i:xpos</th>\n",
       "      <th>i:ypos</th>\n",
       "      <th>d:knscore</th>\n",
       "      <th>v:classification</th>\n",
       "      <th>v:r-g</th>\n",
       "      <th>v:rate(r-g)</th>\n",
       "      <th>v:lastdate</th>\n",
       "    </tr>\n",
       "  </thead>\n",
       "  <tbody>\n",
       "    <tr>\n",
       "      <th>0</th>\n",
       "      <td>EB*</td>\n",
       "      <td></td>\n",
       "      <td></td>\n",
       "      <td>0.046</td>\n",
       "      <td>0</td>\n",
       "      <td>0.489134</td>\n",
       "      <td>0.662373</td>\n",
       "      <td>1496403024615010008</td>\n",
       "      <td>1.945299</td>\n",
       "      <td>0.678</td>\n",
       "      <td>...</td>\n",
       "      <td>-999.0</td>\n",
       "      <td>null</td>\n",
       "      <td>0</td>\n",
       "      <td>1501.5800</td>\n",
       "      <td>2493.3577</td>\n",
       "      <td>0</td>\n",
       "      <td>EB*</td>\n",
       "      <td>NaN</td>\n",
       "      <td>NaN</td>\n",
       "      <td>2021-02-05 09:40:20.997</td>\n",
       "    </tr>\n",
       "    <tr>\n",
       "      <th>1</th>\n",
       "      <td>Unknown</td>\n",
       "      <td></td>\n",
       "      <td></td>\n",
       "      <td>0.046</td>\n",
       "      <td>0</td>\n",
       "      <td>0.435424</td>\n",
       "      <td>0.461750</td>\n",
       "      <td>1496403023915015001</td>\n",
       "      <td>2.678864</td>\n",
       "      <td>0.982</td>\n",
       "      <td>...</td>\n",
       "      <td>-999.0</td>\n",
       "      <td>null</td>\n",
       "      <td>0</td>\n",
       "      <td>647.3141</td>\n",
       "      <td>305.6288</td>\n",
       "      <td>0</td>\n",
       "      <td>Unknown</td>\n",
       "      <td>NaN</td>\n",
       "      <td>NaN</td>\n",
       "      <td>2021-02-05 09:40:20.997</td>\n",
       "    </tr>\n",
       "    <tr>\n",
       "      <th>2</th>\n",
       "      <td>Seyfert_1</td>\n",
       "      <td></td>\n",
       "      <td></td>\n",
       "      <td>0.097</td>\n",
       "      <td>0</td>\n",
       "      <td>0.820583</td>\n",
       "      <td>0.770986</td>\n",
       "      <td>1496403025415010000</td>\n",
       "      <td>1.097149</td>\n",
       "      <td>0.964</td>\n",
       "      <td>...</td>\n",
       "      <td>-999.0</td>\n",
       "      <td>null</td>\n",
       "      <td>0</td>\n",
       "      <td>1181.4911</td>\n",
       "      <td>770.3105</td>\n",
       "      <td>0</td>\n",
       "      <td>Seyfert_1</td>\n",
       "      <td>NaN</td>\n",
       "      <td>NaN</td>\n",
       "      <td>2021-02-05 09:40:20.997</td>\n",
       "    </tr>\n",
       "    <tr>\n",
       "      <th>3</th>\n",
       "      <td>Seyfert_1</td>\n",
       "      <td></td>\n",
       "      <td></td>\n",
       "      <td>0.044</td>\n",
       "      <td>0</td>\n",
       "      <td>0.284639</td>\n",
       "      <td>0.755072</td>\n",
       "      <td>1496403020515015000</td>\n",
       "      <td>0.921451</td>\n",
       "      <td>0.877</td>\n",
       "      <td>...</td>\n",
       "      <td>-999.0</td>\n",
       "      <td>null</td>\n",
       "      <td>0</td>\n",
       "      <td>1251.8640</td>\n",
       "      <td>108.9154</td>\n",
       "      <td>0</td>\n",
       "      <td>Seyfert_1</td>\n",
       "      <td>NaN</td>\n",
       "      <td>NaN</td>\n",
       "      <td>2021-02-05 09:40:20.997</td>\n",
       "    </tr>\n",
       "    <tr>\n",
       "      <th>4</th>\n",
       "      <td>QSO</td>\n",
       "      <td></td>\n",
       "      <td></td>\n",
       "      <td>0.046</td>\n",
       "      <td>0</td>\n",
       "      <td>0.661695</td>\n",
       "      <td>0.665472</td>\n",
       "      <td>1496403020615010000</td>\n",
       "      <td>0.951429</td>\n",
       "      <td>0.741</td>\n",
       "      <td>...</td>\n",
       "      <td>-999.0</td>\n",
       "      <td>null</td>\n",
       "      <td>0</td>\n",
       "      <td>1738.1085</td>\n",
       "      <td>1131.4220</td>\n",
       "      <td>0</td>\n",
       "      <td>QSO</td>\n",
       "      <td>NaN</td>\n",
       "      <td>NaN</td>\n",
       "      <td>2021-02-05 09:40:20.997</td>\n",
       "    </tr>\n",
       "    <tr>\n",
       "      <th>...</th>\n",
       "      <td>...</td>\n",
       "      <td>...</td>\n",
       "      <td>...</td>\n",
       "      <td>...</td>\n",
       "      <td>...</td>\n",
       "      <td>...</td>\n",
       "      <td>...</td>\n",
       "      <td>...</td>\n",
       "      <td>...</td>\n",
       "      <td>...</td>\n",
       "      <td>...</td>\n",
       "      <td>...</td>\n",
       "      <td>...</td>\n",
       "      <td>...</td>\n",
       "      <td>...</td>\n",
       "      <td>...</td>\n",
       "      <td>...</td>\n",
       "      <td>...</td>\n",
       "      <td>...</td>\n",
       "      <td>...</td>\n",
       "      <td>...</td>\n",
       "    </tr>\n",
       "    <tr>\n",
       "      <th>219</th>\n",
       "      <td>QSO</td>\n",
       "      <td></td>\n",
       "      <td></td>\n",
       "      <td>0.021</td>\n",
       "      <td>0</td>\n",
       "      <td>0.423889</td>\n",
       "      <td>0.214797</td>\n",
       "      <td>1496402485415015009</td>\n",
       "      <td>8.570228</td>\n",
       "      <td>0.983</td>\n",
       "      <td>...</td>\n",
       "      <td>-999.0</td>\n",
       "      <td>null</td>\n",
       "      <td>0</td>\n",
       "      <td>733.1411</td>\n",
       "      <td>1602.8613</td>\n",
       "      <td>0</td>\n",
       "      <td>QSO</td>\n",
       "      <td>NaN</td>\n",
       "      <td>NaN</td>\n",
       "      <td>2021-02-05 09:39:34.998</td>\n",
       "    </tr>\n",
       "    <tr>\n",
       "      <th>220</th>\n",
       "      <td>QSO</td>\n",
       "      <td></td>\n",
       "      <td></td>\n",
       "      <td>0.106</td>\n",
       "      <td>0</td>\n",
       "      <td>0.017314</td>\n",
       "      <td>0.879068</td>\n",
       "      <td>1496402483715015006</td>\n",
       "      <td>1.528782</td>\n",
       "      <td>0.982</td>\n",
       "      <td>...</td>\n",
       "      <td>-999.0</td>\n",
       "      <td>null</td>\n",
       "      <td>0</td>\n",
       "      <td>2334.9320</td>\n",
       "      <td>2984.3088</td>\n",
       "      <td>0</td>\n",
       "      <td>QSO</td>\n",
       "      <td>NaN</td>\n",
       "      <td>NaN</td>\n",
       "      <td>2021-02-05 09:39:34.998</td>\n",
       "    </tr>\n",
       "    <tr>\n",
       "      <th>221</th>\n",
       "      <td>BLLac</td>\n",
       "      <td></td>\n",
       "      <td></td>\n",
       "      <td>0.046</td>\n",
       "      <td>0</td>\n",
       "      <td>0.187105</td>\n",
       "      <td>0.473891</td>\n",
       "      <td>1496402482315015003</td>\n",
       "      <td>48.342330</td>\n",
       "      <td>0.991</td>\n",
       "      <td>...</td>\n",
       "      <td>-999.0</td>\n",
       "      <td>null</td>\n",
       "      <td>0</td>\n",
       "      <td>2122.3743</td>\n",
       "      <td>166.0863</td>\n",
       "      <td>0</td>\n",
       "      <td>BLLac</td>\n",
       "      <td>NaN</td>\n",
       "      <td>NaN</td>\n",
       "      <td>2021-02-05 09:39:34.998</td>\n",
       "    </tr>\n",
       "    <tr>\n",
       "      <th>222</th>\n",
       "      <td>Unknown</td>\n",
       "      <td></td>\n",
       "      <td>ML</td>\n",
       "      <td>0.182</td>\n",
       "      <td>0</td>\n",
       "      <td>0.000005</td>\n",
       "      <td>0.371922</td>\n",
       "      <td>1496402480615015007</td>\n",
       "      <td>70.509580</td>\n",
       "      <td>1.000</td>\n",
       "      <td>...</td>\n",
       "      <td>-999.0</td>\n",
       "      <td>null</td>\n",
       "      <td>0</td>\n",
       "      <td>2903.8247</td>\n",
       "      <td>1036.4460</td>\n",
       "      <td>0</td>\n",
       "      <td>Unknown</td>\n",
       "      <td>NaN</td>\n",
       "      <td>NaN</td>\n",
       "      <td>2021-02-05 09:39:34.998</td>\n",
       "    </tr>\n",
       "    <tr>\n",
       "      <th>223</th>\n",
       "      <td>QSO</td>\n",
       "      <td></td>\n",
       "      <td></td>\n",
       "      <td>0.062</td>\n",
       "      <td>0</td>\n",
       "      <td>0.531126</td>\n",
       "      <td>0.646981</td>\n",
       "      <td>1496402480915010000</td>\n",
       "      <td>0.942207</td>\n",
       "      <td>0.727</td>\n",
       "      <td>...</td>\n",
       "      <td>-999.0</td>\n",
       "      <td>null</td>\n",
       "      <td>0</td>\n",
       "      <td>1470.0854</td>\n",
       "      <td>792.5887</td>\n",
       "      <td>0</td>\n",
       "      <td>QSO</td>\n",
       "      <td>NaN</td>\n",
       "      <td>NaN</td>\n",
       "      <td>2021-02-05 09:39:34.998</td>\n",
       "    </tr>\n",
       "  </tbody>\n",
       "</table>\n",
       "<p>224 rows × 48 columns</p>\n",
       "</div>"
      ],
      "text/plain": [
       "    d:cdsxmatch d:mulens_class_1 d:mulens_class_2  d:rfscore  d:roid  \\\n",
       "0           EB*                                        0.046       0   \n",
       "1       Unknown                                        0.046       0   \n",
       "2     Seyfert_1                                        0.097       0   \n",
       "3     Seyfert_1                                        0.044       0   \n",
       "4           QSO                                        0.046       0   \n",
       "..          ...              ...              ...        ...     ...   \n",
       "219         QSO                                        0.021       0   \n",
       "220         QSO                                        0.106       0   \n",
       "221       BLLac                                        0.046       0   \n",
       "222     Unknown                                ML      0.182       0   \n",
       "223         QSO                                        0.062       0   \n",
       "\n",
       "     d:snn_sn_vs_all  d:snn_snia_vs_nonia             i:candid   i:chipsf  \\\n",
       "0           0.489134             0.662373  1496403024615010008   1.945299   \n",
       "1           0.435424             0.461750  1496403023915015001   2.678864   \n",
       "2           0.820583             0.770986  1496403025415010000   1.097149   \n",
       "3           0.284639             0.755072  1496403020515015000   0.921451   \n",
       "4           0.661695             0.665472  1496403020615010000   0.951429   \n",
       "..               ...                  ...                  ...        ...   \n",
       "219         0.423889             0.214797  1496402485415015009   8.570228   \n",
       "220         0.017314             0.879068  1496402483715015006   1.528782   \n",
       "221         0.187105             0.473891  1496402482315015003  48.342330   \n",
       "222         0.000005             0.371922  1496402480615015007  70.509580   \n",
       "223         0.531126             0.646981  1496402480915010000   0.942207   \n",
       "\n",
       "     i:classtar  ...  i:ssmagnr  i:ssnamenr  i:tooflag     i:xpos     i:ypos  \\\n",
       "0         0.678  ...     -999.0        null          0  1501.5800  2493.3577   \n",
       "1         0.982  ...     -999.0        null          0   647.3141   305.6288   \n",
       "2         0.964  ...     -999.0        null          0  1181.4911   770.3105   \n",
       "3         0.877  ...     -999.0        null          0  1251.8640   108.9154   \n",
       "4         0.741  ...     -999.0        null          0  1738.1085  1131.4220   \n",
       "..          ...  ...        ...         ...        ...        ...        ...   \n",
       "219       0.983  ...     -999.0        null          0   733.1411  1602.8613   \n",
       "220       0.982  ...     -999.0        null          0  2334.9320  2984.3088   \n",
       "221       0.991  ...     -999.0        null          0  2122.3743   166.0863   \n",
       "222       1.000  ...     -999.0        null          0  2903.8247  1036.4460   \n",
       "223       0.727  ...     -999.0        null          0  1470.0854   792.5887   \n",
       "\n",
       "     d:knscore  v:classification v:r-g  v:rate(r-g)               v:lastdate  \n",
       "0            0               EB*   NaN          NaN  2021-02-05 09:40:20.997  \n",
       "1            0           Unknown   NaN          NaN  2021-02-05 09:40:20.997  \n",
       "2            0         Seyfert_1   NaN          NaN  2021-02-05 09:40:20.997  \n",
       "3            0         Seyfert_1   NaN          NaN  2021-02-05 09:40:20.997  \n",
       "4            0               QSO   NaN          NaN  2021-02-05 09:40:20.997  \n",
       "..         ...               ...   ...          ...                      ...  \n",
       "219          0               QSO   NaN          NaN  2021-02-05 09:39:34.998  \n",
       "220          0               QSO   NaN          NaN  2021-02-05 09:39:34.998  \n",
       "221          0             BLLac   NaN          NaN  2021-02-05 09:39:34.998  \n",
       "222          0           Unknown   NaN          NaN  2021-02-05 09:39:34.998  \n",
       "223          0               QSO   NaN          NaN  2021-02-05 09:39:34.998  \n",
       "\n",
       "[224 rows x 48 columns]"
      ]
     },
     "execution_count": 16,
     "metadata": {},
     "output_type": "execute_result"
    }
   ],
   "source": [
    "pdf_time_window"
   ]
  },
  {
   "cell_type": "markdown",
   "metadata": {},
   "source": [
    "### <font color='blue'>Analysing the output:</font>  resticting to  an area in the sky"
   ]
  },
  {
   "cell_type": "code",
   "execution_count": 17,
   "metadata": {},
   "outputs": [],
   "source": [
    "# additional constraint on position over objects suviving the time search\n",
    "cond1 = pdf_time_window['i:ra'] > 198\n",
    "cond2 = pdf_time_window['i:ra'] < 199\n",
    "cond3 = pdf_time_window['i:dec'] > 35\n",
    "cond4 = pdf_time_window['i:dec'] < 38\n",
    "\n",
    "pdf_time_window_area = pdf_time_window[cond1 & cond2 & cond3 & cond4]"
   ]
  },
  {
   "cell_type": "code",
   "execution_count": 18,
   "metadata": {},
   "outputs": [
    {
     "data": {
      "text/html": [
       "<div>\n",
       "<style scoped>\n",
       "    .dataframe tbody tr th:only-of-type {\n",
       "        vertical-align: middle;\n",
       "    }\n",
       "\n",
       "    .dataframe tbody tr th {\n",
       "        vertical-align: top;\n",
       "    }\n",
       "\n",
       "    .dataframe thead th {\n",
       "        text-align: right;\n",
       "    }\n",
       "</style>\n",
       "<table border=\"1\" class=\"dataframe\">\n",
       "  <thead>\n",
       "    <tr style=\"text-align: right;\">\n",
       "      <th></th>\n",
       "      <th>d:cdsxmatch</th>\n",
       "      <th>d:mulens_class_1</th>\n",
       "      <th>d:mulens_class_2</th>\n",
       "      <th>d:rfscore</th>\n",
       "      <th>d:roid</th>\n",
       "      <th>d:snn_sn_vs_all</th>\n",
       "      <th>d:snn_snia_vs_nonia</th>\n",
       "      <th>i:candid</th>\n",
       "      <th>i:chipsf</th>\n",
       "      <th>i:classtar</th>\n",
       "      <th>...</th>\n",
       "      <th>i:ssmagnr</th>\n",
       "      <th>i:ssnamenr</th>\n",
       "      <th>i:tooflag</th>\n",
       "      <th>i:xpos</th>\n",
       "      <th>i:ypos</th>\n",
       "      <th>d:knscore</th>\n",
       "      <th>v:classification</th>\n",
       "      <th>v:r-g</th>\n",
       "      <th>v:rate(r-g)</th>\n",
       "      <th>v:lastdate</th>\n",
       "    </tr>\n",
       "  </thead>\n",
       "  <tbody>\n",
       "    <tr>\n",
       "      <th>148</th>\n",
       "      <td>Unknown</td>\n",
       "      <td></td>\n",
       "      <td></td>\n",
       "      <td>0.000</td>\n",
       "      <td>2</td>\n",
       "      <td>0.023380</td>\n",
       "      <td>0.326569</td>\n",
       "      <td>1496402485515015009</td>\n",
       "      <td>3.911325</td>\n",
       "      <td>0.983</td>\n",
       "      <td>...</td>\n",
       "      <td>17.9</td>\n",
       "      <td>33908</td>\n",
       "      <td>0</td>\n",
       "      <td>601.059</td>\n",
       "      <td>2609.828</td>\n",
       "      <td>0</td>\n",
       "      <td>Solar System candidate</td>\n",
       "      <td>NaN</td>\n",
       "      <td>NaN</td>\n",
       "      <td>2021-02-05 09:39:34.998</td>\n",
       "    </tr>\n",
       "    <tr>\n",
       "      <th>217</th>\n",
       "      <td>Seyfert_1</td>\n",
       "      <td></td>\n",
       "      <td></td>\n",
       "      <td>0.046</td>\n",
       "      <td>0</td>\n",
       "      <td>0.246455</td>\n",
       "      <td>0.591664</td>\n",
       "      <td>1496402485215015014</td>\n",
       "      <td>9.474269</td>\n",
       "      <td>0.997</td>\n",
       "      <td>...</td>\n",
       "      <td>-999.0</td>\n",
       "      <td>null</td>\n",
       "      <td>0</td>\n",
       "      <td>227.569</td>\n",
       "      <td>1712.966</td>\n",
       "      <td>0</td>\n",
       "      <td>Seyfert_1</td>\n",
       "      <td>NaN</td>\n",
       "      <td>NaN</td>\n",
       "      <td>2021-02-05 09:39:34.998</td>\n",
       "    </tr>\n",
       "  </tbody>\n",
       "</table>\n",
       "<p>2 rows × 48 columns</p>\n",
       "</div>"
      ],
      "text/plain": [
       "    d:cdsxmatch d:mulens_class_1 d:mulens_class_2  d:rfscore  d:roid  \\\n",
       "148     Unknown                                        0.000       2   \n",
       "217   Seyfert_1                                        0.046       0   \n",
       "\n",
       "     d:snn_sn_vs_all  d:snn_snia_vs_nonia             i:candid  i:chipsf  \\\n",
       "148         0.023380             0.326569  1496402485515015009  3.911325   \n",
       "217         0.246455             0.591664  1496402485215015014  9.474269   \n",
       "\n",
       "     i:classtar  ...  i:ssmagnr  i:ssnamenr  i:tooflag   i:xpos    i:ypos  \\\n",
       "148       0.983  ...       17.9       33908          0  601.059  2609.828   \n",
       "217       0.997  ...     -999.0        null          0  227.569  1712.966   \n",
       "\n",
       "     d:knscore        v:classification v:r-g  v:rate(r-g)  \\\n",
       "148          0  Solar System candidate   NaN          NaN   \n",
       "217          0               Seyfert_1   NaN          NaN   \n",
       "\n",
       "                  v:lastdate  \n",
       "148  2021-02-05 09:39:34.998  \n",
       "217  2021-02-05 09:39:34.998  \n",
       "\n",
       "[2 rows x 48 columns]"
      ]
     },
     "execution_count": 18,
     "metadata": {},
     "output_type": "execute_result"
    }
   ],
   "source": [
    "pdf_time_window_area"
   ]
  },
  {
   "cell_type": "markdown",
   "metadata": {},
   "source": [
    "Instecting the classification by Fink `v:classification` we see that one of the objects may be an asteroid as determined by Fink's filters. \n",
    "\n",
    "The probable optical event associated to your MMA is:"
   ]
  },
  {
   "cell_type": "code",
   "execution_count": 19,
   "metadata": {},
   "outputs": [
    {
     "name": "stdout",
     "output_type": "stream",
     "text": [
      "ZTF20aaccwtk\n"
     ]
    }
   ],
   "source": [
    "MMAobjname = pdf_time_window_area.loc[217]['i:objectId']\n",
    "print(MMAobjname)\n"
   ]
  },
  {
   "cell_type": "markdown",
   "metadata": {},
   "source": [
    "### <font color='blue'>API query:</font>  fetch thumbnails for this object"
   ]
  },
  {
   "cell_type": "code",
   "execution_count": 20,
   "metadata": {},
   "outputs": [],
   "source": [
    "# transfer cutout data\n",
    "r = requests.post(\n",
    "  'http://134.158.75.151:24000/api/v1/objects',\n",
    "  json={\n",
    "    'objectId': MMAobjname,\n",
    "    'withcutouts': 'True'\n",
    "  }\n",
    ")\n",
    "\n",
    "# Format output in a DataFrame\n",
    "pdf = pd.read_json(r.content)"
   ]
  },
  {
   "cell_type": "code",
   "execution_count": 21,
   "metadata": {},
   "outputs": [
    {
     "data": {
      "image/png": "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\n",
      "text/plain": [
       "<Figure size 1080x432 with 3 Axes>"
      ]
     },
     "metadata": {},
     "output_type": "display_data"
    }
   ],
   "source": [
    "fig, axes = plt.subplots(1, 3, figsize=(15, 6))\n",
    "\n",
    "columns = [\n",
    "    'b:cutoutScience_stampData',\n",
    "    'b:cutoutTemplate_stampData',\n",
    "    'b:cutoutDifference_stampData'\n",
    "]\n",
    "for index, col in enumerate(columns):\n",
    "    # 2D array\n",
    "    data = pdf[col].values[0]\n",
    "\n",
    "    # do whatever plotting\n",
    "    axes[index].imshow(data)\n",
    "    axes[index].set_title(col)\n",
    "plt.show()"
   ]
  },
  {
   "cell_type": "markdown",
   "metadata": {},
   "source": [
    "Alternatively for displaying images, you can use our cutout service (see http://134.158.75.151:24000/api/v1/cutouts for the list of available arguments):"
   ]
  },
  {
   "cell_type": "code",
   "execution_count": 22,
   "metadata": {},
   "outputs": [
    {
     "data": {
      "image/png": "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\n",
      "text/plain": [
<<<<<<< EmilleIshida/review
       "<PIL.Image.Image image mode=L size=400x400 at 0x7FE62D4F5E48>"
=======
       "<PIL.Image.Image image mode=L size=400x400 at 0x1383A7748>"
>>>>>>> main
      ]
     },
     "execution_count": 22,
     "metadata": {},
     "output_type": "execute_result"
    }
   ],
   "source": [
    "import io\n",
    "from PIL import Image as im\n",
    "\n",
    "# get processed image data\n",
    "r = requests.post(\n",
    "    'http://134.158.75.151:24000/api/v1/cutouts',\n",
    "    json={\n",
    "        'objectId': MMAobjname,\n",
    "        'kind': 'Science', # Science, Template, Difference\n",
    "    }\n",
    ")\n",
    "\n",
    "image = im.open(io.BytesIO(r.content))\n",
    "image.resize((400, 400))"
   ]
  },
  {
   "cell_type": "markdown",
   "metadata": {},
   "source": [
    "# Summary\n",
    "In this notebook we have searched for possible MMA optical counterparts:\n",
    "- Querying Fink's API for latest alerts using our science filters.\n",
    "- Querying Fink's API for latest alerts using a conesearch.\n",
    "- Querying Fink's API for latest alerts using a time-window.\n",
    "- Querying Fink's API for photometry and thumbnails for a given object.\n",
    "\n",
    "The API servive is not a real-time database. For real time services please use the live-stream. However, the API is useful for offline searches and analysis!"
   ]
  },
  {
   "cell_type": "markdown",
   "metadata": {},
   "source": [
    "### An issue to report, or a question to ask: contact@fink-broker.org !"
   ]
  },
  {
   "cell_type": "code",
   "execution_count": null,
   "metadata": {},
   "outputs": [],
   "source": []
  }
 ],
 "metadata": {
  "kernelspec": {
   "display_name": "Python 3",
   "language": "python",
   "name": "python3"
  },
  "language_info": {
   "codemirror_mode": {
    "name": "ipython",
    "version": 3
   },
   "file_extension": ".py",
   "mimetype": "text/x-python",
   "name": "python",
   "nbconvert_exporter": "python",
   "pygments_lexer": "ipython3",
   "version": "3.6.8"
  }
 },
 "nbformat": 4,
 "nbformat_minor": 4
}
