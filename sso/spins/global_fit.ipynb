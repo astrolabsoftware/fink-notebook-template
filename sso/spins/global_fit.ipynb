{
 "cells": [
  {
   "cell_type": "code",
   "execution_count": 1,
   "id": "fd6a48fe",
   "metadata": {},
   "outputs": [],
   "source": [
    "import io\n",
    "import requests\n",
    "import pandas as pd\n",
    "import numpy as np\n",
    "\n",
    "from scipy import linalg"
   ]
  },
  {
   "cell_type": "markdown",
   "id": "079653ea",
   "metadata": {},
   "source": [
    "## Get the data"
   ]
  },
  {
   "cell_type": "code",
   "execution_count": 2,
   "id": "078f875d",
   "metadata": {},
   "outputs": [],
   "source": [
    "import requests\n",
    "import pandas as pd\n",
    "\n",
    "r = requests.post(\n",
    "  'https://fink-portal.org/api/v1/sso',\n",
    "  json={\n",
    "    'n_or_d': '1465',\n",
    "    'withEphem': True,\n",
    "    'output-format': 'json'\n",
    "  }\n",
    ")\n",
    "\n",
    "# Format output in a DataFrame\n",
    "pdf = pd.read_json(io.BytesIO(r.content))\n",
    "pdf = pdf.sort_values('Phase')"
   ]
  },
  {
   "cell_type": "code",
   "execution_count": 3,
   "id": "59b09cd2",
   "metadata": {
    "scrolled": true
   },
   "outputs": [
    {
     "data": {
      "text/html": [
       "<div>\n",
       "<style scoped>\n",
       "    .dataframe tbody tr th:only-of-type {\n",
       "        vertical-align: middle;\n",
       "    }\n",
       "\n",
       "    .dataframe tbody tr th {\n",
       "        vertical-align: top;\n",
       "    }\n",
       "\n",
       "    .dataframe thead th {\n",
       "        text-align: right;\n",
       "    }\n",
       "</style>\n",
       "<table border=\"1\" class=\"dataframe\">\n",
       "  <thead>\n",
       "    <tr style=\"text-align: right;\">\n",
       "      <th></th>\n",
       "      <th>index</th>\n",
       "      <th>Date</th>\n",
       "      <th>LAST</th>\n",
       "      <th>HA</th>\n",
       "      <th>Az</th>\n",
       "      <th>H</th>\n",
       "      <th>Dobs</th>\n",
       "      <th>Dhelio</th>\n",
       "      <th>VMag</th>\n",
       "      <th>SDSS:g</th>\n",
       "      <th>...</th>\n",
       "      <th>i:tooflag</th>\n",
       "      <th>i:xpos</th>\n",
       "      <th>i:ypos</th>\n",
       "      <th>d:tracklet</th>\n",
       "      <th>v:classification</th>\n",
       "      <th>v:lastdate</th>\n",
       "      <th>v:firstdate</th>\n",
       "      <th>v:lapse</th>\n",
       "      <th>v:constellation</th>\n",
       "      <th>i:magpsf_red</th>\n",
       "    </tr>\n",
       "  </thead>\n",
       "  <tbody>\n",
       "    <tr>\n",
       "      <th>164</th>\n",
       "      <td>164</td>\n",
       "      <td>2.459175e+06</td>\n",
       "      <td>04:13:01.52</td>\n",
       "      <td>0.201273</td>\n",
       "      <td>186.775076</td>\n",
       "      <td>63.710023</td>\n",
       "      <td>2.542281</td>\n",
       "      <td>3.511448</td>\n",
       "      <td>16.860343</td>\n",
       "      <td>17.303143</td>\n",
       "      <td>...</td>\n",
       "      <td>0</td>\n",
       "      <td>666.5447</td>\n",
       "      <td>734.6332</td>\n",
       "      <td></td>\n",
       "      <td>Solar System MPC</td>\n",
       "      <td>2020-11-21 07:57:05.996</td>\n",
       "      <td>2020-11-21 07:57:05.996</td>\n",
       "      <td>0.000000</td>\n",
       "      <td>Taurus</td>\n",
       "      <td>12.239638</td>\n",
       "    </tr>\n",
       "    <tr>\n",
       "      <th>163</th>\n",
       "      <td>163</td>\n",
       "      <td>2.459177e+06</td>\n",
       "      <td>04:04:21.95</td>\n",
       "      <td>0.083356</td>\n",
       "      <td>182.804538</td>\n",
       "      <td>63.734315</td>\n",
       "      <td>2.541769</td>\n",
       "      <td>3.510093</td>\n",
       "      <td>16.861588</td>\n",
       "      <td>17.304388</td>\n",
       "      <td>...</td>\n",
       "      <td>0</td>\n",
       "      <td>2062.4023</td>\n",
       "      <td>1089.3254</td>\n",
       "      <td></td>\n",
       "      <td>Solar System MPC</td>\n",
       "      <td>2020-11-23 07:40:35.999</td>\n",
       "      <td>2020-11-23 07:39:14.999</td>\n",
       "      <td>0.000937</td>\n",
       "      <td>Taurus</td>\n",
       "      <td>11.643147</td>\n",
       "    </tr>\n",
       "    <tr>\n",
       "      <th>162</th>\n",
       "      <td>162</td>\n",
       "      <td>2.459177e+06</td>\n",
       "      <td>04:38:14.44</td>\n",
       "      <td>0.648257</td>\n",
       "      <td>201.101307</td>\n",
       "      <td>62.255539</td>\n",
       "      <td>2.541770</td>\n",
       "      <td>3.510077</td>\n",
       "      <td>16.861650</td>\n",
       "      <td>17.304450</td>\n",
       "      <td>...</td>\n",
       "      <td>0</td>\n",
       "      <td>2081.8350</td>\n",
       "      <td>1087.7336</td>\n",
       "      <td></td>\n",
       "      <td>Solar System MPC</td>\n",
       "      <td>2020-11-23 08:14:23.004</td>\n",
       "      <td>2020-11-23 08:14:23.004</td>\n",
       "      <td>0.000000</td>\n",
       "      <td>Taurus</td>\n",
       "      <td>12.210151</td>\n",
       "    </tr>\n",
       "  </tbody>\n",
       "</table>\n",
       "<p>3 rows × 97 columns</p>\n",
       "</div>"
      ],
      "text/plain": [
       "     index          Date         LAST        HA          Az          H  \\\n",
       "164    164  2.459175e+06  04:13:01.52  0.201273  186.775076  63.710023   \n",
       "163    163  2.459177e+06  04:04:21.95  0.083356  182.804538  63.734315   \n",
       "162    162  2.459177e+06  04:38:14.44  0.648257  201.101307  62.255539   \n",
       "\n",
       "         Dobs    Dhelio       VMag     SDSS:g  ...  i:tooflag     i:xpos  \\\n",
       "164  2.542281  3.511448  16.860343  17.303143  ...          0   666.5447   \n",
       "163  2.541769  3.510093  16.861588  17.304388  ...          0  2062.4023   \n",
       "162  2.541770  3.510077  16.861650  17.304450  ...          0  2081.8350   \n",
       "\n",
       "        i:ypos  d:tracklet  v:classification               v:lastdate  \\\n",
       "164   734.6332              Solar System MPC  2020-11-21 07:57:05.996   \n",
       "163  1089.3254              Solar System MPC  2020-11-23 07:40:35.999   \n",
       "162  1087.7336              Solar System MPC  2020-11-23 08:14:23.004   \n",
       "\n",
       "                 v:firstdate   v:lapse  v:constellation  i:magpsf_red  \n",
       "164  2020-11-21 07:57:05.996  0.000000           Taurus     12.239638  \n",
       "163  2020-11-23 07:39:14.999  0.000937           Taurus     11.643147  \n",
       "162  2020-11-23 08:14:23.004  0.000000           Taurus     12.210151  \n",
       "\n",
       "[3 rows x 97 columns]"
      ]
     },
     "execution_count": 3,
     "metadata": {},
     "output_type": "execute_result"
    }
   ],
   "source": [
    "pdf.head(3)"
   ]
  },
  {
   "cell_type": "markdown",
   "id": "36c6eb60",
   "metadata": {},
   "source": [
    "## Standard fit\n",
    "\n",
    "All the bands are aggregated into one lightcurve, and we fit:\n",
    "\n",
    "$$\n",
    "\\begin{equation}\n",
    "H = m_{obs} + f(distance) + h(\\phi, G_1, G_2) + s(R, \\alpha_0, \\delta_0)\n",
    "\\end{equation}\n",
    "$$\n",
    "\n",
    "for $(H, G_1, G_2, R, \\alpha_0, \\beta_0)$"
   ]
  },
  {
   "cell_type": "code",
   "execution_count": 4,
   "id": "cd1cc2c3",
   "metadata": {},
   "outputs": [],
   "source": [
    "from fink_utils.sso.spins import func_hg1g2_with_spin, add_ztf_color_correction, estimate_sso_params"
   ]
  },
  {
   "cell_type": "code",
   "execution_count": 5,
   "id": "e61ff2cb",
   "metadata": {},
   "outputs": [],
   "source": [
    "params = ['H', 'G1', 'G2', 'R', 'alpha[deg]', 'delta[deg]']\n",
    "bounds = (\n",
    "    [0, 0, 0, 1e-1, 0, -np.pi/2],\n",
    "    [30, 1, 1, 1, 2*np.pi, np.pi/2]\n",
    ")"
   ]
  },
  {
   "cell_type": "code",
   "execution_count": 6,
   "id": "c31e2bba",
   "metadata": {},
   "outputs": [],
   "source": [
    "pdf = add_ztf_color_correction(pdf, combined=True)"
   ]
  },
  {
   "cell_type": "code",
   "execution_count": 7,
   "id": "3b2dc8dc",
   "metadata": {},
   "outputs": [],
   "source": [
    "popt, perr, chisq_red = estimate_sso_params(\n",
    "    pdf,\n",
    "    func_hg1g2_with_spin,\n",
    "    bounds=bounds\n",
    ")"
   ]
  },
  {
   "cell_type": "code",
   "execution_count": 8,
   "id": "bdc339f8",
   "metadata": {},
   "outputs": [
    {
     "name": "stdout",
     "output_type": "stream",
     "text": [
      "\n",
      "H = 11.42121833273937 +/- 0.3445875592694126\n",
      "G1 = 0.6896769873480129 +/- 0.4464931289578242\n",
      "G2 = 0.03843879687589978 +/- 0.12248298490039101\n",
      "---\n",
      "R = 0.26680189348336286 +/- 0.1319513451385938\n",
      "alpha[deg] = 2.209387408310816 +/- 0.03398572151000516\n",
      "delta[deg] = -0.7303241760977177 +/- 0.12501375464433337\n",
      "--\n",
      "chi2red = 6.642540126226144\n",
      "\n"
     ]
    }
   ],
   "source": [
    "msg = \"\"\"\n",
    "{} = {} +/- {}\n",
    "{} = {} +/- {}\n",
    "{} = {} +/- {}\n",
    "---\n",
    "{} = {} +/- {}\n",
    "{} = {} +/- {}\n",
    "{} = {} +/- {}\n",
    "--\n",
    "chi2red = {}\n",
    "\"\"\".format(*np.ravel(list(zip(params, popt, perr))), chisq_red)\n",
    "print(msg)"
   ]
  },
  {
   "cell_type": "markdown",
   "id": "c1afbb5b",
   "metadata": {},
   "source": [
    "## Generalisation\n",
    "\n",
    "Before we assumed no wavelength dependency for the $(H, G_1, G_2)$ parameters, and use all data available to fit for \n",
    "\n",
    "$$\n",
    "\\begin{equation}\n",
    "( H, G_1, G_2, R, \\alpha_0, \\delta_0)\n",
    "\\end{equation}\n",
    "$$\n",
    "\n",
    "but in principle we should rather estimate:\n",
    "\n",
    "$$\n",
    "\\begin{equation}\n",
    "( H^g, G_1^g, G_2^g, H^r, G_1^r, G_2^r, R, \\alpha_0, \\delta_0)\n",
    "\\end{equation}\n",
    "$$\n",
    "\n",
    "Let's then build a system of equation and solve for:\n",
    "\n",
    "$$\n",
    "\\begin{align}\n",
    "H^g &= m_{obs} + f(distance) + h(\\alpha, G_1^g, G_2^g) + s(R, \\alpha_0, \\delta_0) \\\\\n",
    "H^r &= m_{obs} + f(distance) + h(\\alpha, G_1^r, G_2^r) + s(R, \\alpha_0, \\delta_0) \\\\\n",
    "\\end{align}\n",
    "$$"
   ]
  },
  {
   "cell_type": "code",
   "execution_count": 9,
   "id": "48437d3b",
   "metadata": {},
   "outputs": [],
   "source": [
    "from fink_utils.sso.spins import estimate_hybrid_sso_params\n",
    "\n",
    "# Extract relevant information\n",
    "magpsf_red = pdf['i:magpsf_red'].values\n",
    "sigmapsf = pdf['i:sigmapsf'].values\n",
    "phase = np.deg2rad(pdf['Phase'].values)\n",
    "ra = np.deg2rad(pdf['i:ra'].values)\n",
    "dec = np.deg2rad(pdf['i:dec'].values)\n",
    "filters = pdf['i:fid'].values\n",
    "\n",
    "outdic = estimate_hybrid_sso_params(magpsf_red, sigmapsf, phase, ra, dec, filters)"
   ]
  },
  {
   "cell_type": "code",
   "execution_count": 10,
   "id": "918eb8b8",
   "metadata": {},
   "outputs": [
    {
     "name": "stdout",
     "output_type": "stream",
     "text": [
      "\n",
      "H_1 = 11.649803136095752 +/- 0.3084260488920951\n",
      "G1_1 = 0.6145410723459498 +/- 0.4005833267797545\n",
      "G2_1 = 0.13666090209790469 +/- 0.09948396135348006\n",
      "---\n",
      "H_2 = 11.29809900171781 +/- 0.529125306103251\n",
      "G1_2 = 0.9999999999540693 +/- 0.8179948996456996\n",
      "G2_2 = 0.04236681889044076 +/- 0.17314216400267116\n",
      "--\n",
      "R = 0.44894461967946925 +/- 0.05695551126987151\n",
      "alpha0 = 2.234471753701158 +/- 0.030159451470918947\n",
      "delta0 = 0.7481148001898047 +/- 0.167662284907787\n",
      "--\n",
      "chi2red = 3.2692922297145466\n",
      "\n"
     ]
    }
   ],
   "source": [
    "params = ['H_1', 'G1_1', 'G2_1', 'H_2', 'G1_2', 'G2_2', 'R', 'alpha0', 'delta0']\n",
    "\n",
    "msg = \"\"\"\n",
    "{} = {} +/- {}\n",
    "{} = {} +/- {}\n",
    "{} = {} +/- {}\n",
    "---\n",
    "{} = {} +/- {}\n",
    "{} = {} +/- {}\n",
    "{} = {} +/- {}\n",
    "--\n",
    "{} = {} +/- {}\n",
    "{} = {} +/- {}\n",
    "{} = {} +/- {}\n",
    "--\n",
    "chi2red = {}\n",
    "\"\"\".format(*np.ravel(list(zip(params, [outdic[i] for i in params], [outdic['err'+i] for i in params]))), outdic['chi2red'])\n",
    "print(msg)"
   ]
  },
  {
   "cell_type": "markdown",
   "id": "477a6dbf",
   "metadata": {},
   "source": [
    "## Notes\n",
    "\n",
    "The new method is a low level implementation of a least-square instead of the higher curve_fit API. Eventually, for a specific set of params, both least_squares and curve_fit agree (with a small 2% difference on the reduced chi2 though). But they each have pros and cons when it comes to optimisation:\n",
    "\n",
    "| method | Pros | cons |\n",
    "|--------|-----|------|\n",
    "| `least_squares` | Flexible inputs | no errors as input |\n",
    "| `curve_fit` | account for error estimates as input | no flexibility in the inputs |"
   ]
  },
  {
   "cell_type": "code",
   "execution_count": null,
   "id": "c6ca0046",
   "metadata": {},
   "outputs": [],
   "source": []
  }
 ],
 "metadata": {
  "kernelspec": {
   "display_name": "Python 3 (ipykernel)",
   "language": "python",
   "name": "python3"
  },
  "language_info": {
   "codemirror_mode": {
    "name": "ipython",
    "version": 3
   },
   "file_extension": ".py",
   "mimetype": "text/x-python",
   "name": "python",
   "nbconvert_exporter": "python",
   "pygments_lexer": "ipython3",
   "version": "3.9.12"
  }
 },
 "nbformat": 4,
 "nbformat_minor": 5
}
