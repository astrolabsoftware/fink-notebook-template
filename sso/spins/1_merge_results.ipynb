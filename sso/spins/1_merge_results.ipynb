{
 "cells": [
  {
   "cell_type": "code",
   "execution_count": 1,
   "id": "c67cc7b8-e6e2-44d4-9be9-ddafd36bca34",
   "metadata": {},
   "outputs": [],
   "source": [
    "import glob\n",
    "import numpy as np\n",
    "import pandas as pd\n",
    "\n",
    "import matplotlib.pyplot as plt\n",
    "\n",
    "import rocks\n",
    "rocks.set_log_level(\"error\")\n",
    "import time as t\n",
    "\n",
    "\n",
    "from astropy.time import Time\n",
    "import requests\n",
    "import io\n",
    "\n",
    "import astropy.units as u\n",
    "from astropy.coordinates import SkyCoord\n",
    "from astropy.coordinates import angular_separation\n",
    "\n",
    "from fink_utils.sso import spins as finkus"
   ]
  },
  {
   "cell_type": "markdown",
   "id": "6198a3d1-286c-4c4b-806e-5c085aabc386",
   "metadata": {},
   "source": [
    "# Get ZTF fit"
   ]
  },
  {
   "cell_type": "code",
   "execution_count": 2,
   "id": "b76b0d15-20ce-4b38-907d-6ce100dfd15f",
   "metadata": {},
   "outputs": [],
   "source": [
    "# Local Configuration\n",
    "data_fink = '/data/fink/tutorials/sso/spins/'\n",
    "data_fink = './'\n",
    "\n",
    "# To choose the definition of sets\n",
    "# gold_silver_choice = 'julien'\n",
    "gold_silver_choice = 'benoit'"
   ]
  },
  {
   "cell_type": "code",
   "execution_count": 3,
   "id": "97ca23d0-f509-45ca-8cf0-0b427ef6c6d6",
   "metadata": {},
   "outputs": [],
   "source": [
    "\n",
    "# ZTF filters 1: g, 2: r\n",
    "filters = {'1': 'g', '2': 'r'}\n",
    "filters = {'1': 'g', '2': 'r', 3:'o', 4:'c'}"
   ]
  },
  {
   "cell_type": "code",
   "execution_count": 4,
   "id": "6b4db0c1-36bc-4db9-b2d2-751e97ba0d35",
   "metadata": {},
   "outputs": [],
   "source": [
    "# data_hg1g2hyb = pd.read_parquet(f'{data_fink}data/sso_bft_50_inf_hybrid_bounds.parquet') # All\n",
    "data_hg1g2hyb = pd.read_parquet(f'{data_fink}data/sso_bft_50_inf_hybrid_ATLAS.parquet') # Test ATLAS\n",
    "data_hg1g2sp = pd.read_parquet(f'{data_fink}data/sso_bft_50_inf_hg1g2spins.parquet')\n",
    "data_hg1g2 = pd.read_parquet(f'{data_fink}data/sso_bft_50_inf_hg1g2.parquet')\n",
    "data_hg12 = pd.read_parquet(f'{data_fink}data/sso_bft_50_inf_hg12.parquet')\n",
    "data_hg = pd.read_parquet(f'{data_fink}data/sso_bft_50_inf_hg.parquet')"
   ]
  },
  {
   "cell_type": "code",
   "execution_count": 5,
   "id": "08b33276-79b7-4a6e-b9f3-9780be262f6f",
   "metadata": {},
   "outputs": [
    {
     "data": {
      "text/plain": [
       "(104242, 104242, 104242, 104242, 104242)"
      ]
     },
     "execution_count": 5,
     "metadata": {},
     "output_type": "execute_result"
    }
   ],
   "source": [
    "len(data_hg), len(data_hg12),  len(data_hg1g2),  len(data_hg1g2sp),  len(data_hg1g2hyb)"
   ]
  },
  {
   "cell_type": "markdown",
   "id": "cf0502d9-96ac-47fd-81e8-117536a18681",
   "metadata": {},
   "source": [
    "# Reformat solutions"
   ]
  },
  {
   "cell_type": "code",
   "execution_count": 6,
   "id": "07e17835-8b81-4846-b2f8-f60660475ea0",
   "metadata": {},
   "outputs": [
    {
     "data": {
      "text/html": [
       "<pre style=\"white-space:pre;overflow-x:auto;line-height:normal;font-family:Menlo,'DejaVu Sans Mono',consolas,'Courier New',monospace\"><span style=\"color: #800000; text-decoration-color: #800000; font-weight: bold\">ERROR   </span> <span style=\"font-weight: bold\">[</span>rocks<span style=\"font-weight: bold\">]</span> Could not identify <span style=\"color: #008000; text-decoration-color: #008000\">'2002 XZ04'</span>.                                                                   \n",
       "</pre>\n"
      ],
      "text/plain": [
       "\u001b[1;31mERROR   \u001b[0m \u001b[1m[\u001b[0mrocks\u001b[1m]\u001b[0m Could not identify \u001b[32m'2002 XZ04'\u001b[0m.                                                                   \n"
      ]
     },
     "metadata": {},
     "output_type": "display_data"
    },
    {
     "data": {
      "text/html": [
       "<pre style=\"white-space:pre;overflow-x:auto;line-height:normal;font-family:Menlo,'DejaVu Sans Mono',consolas,'Courier New',monospace\"><span style=\"color: #800000; text-decoration-color: #800000; font-weight: bold\">ERROR   </span> <span style=\"font-weight: bold\">[</span>rocks<span style=\"font-weight: bold\">]</span> Could not identify <span style=\"color: #008000; text-decoration-color: #008000\">'2012 LV07'</span>.                                                                   \n",
       "</pre>\n"
      ],
      "text/plain": [
       "\u001b[1;31mERROR   \u001b[0m \u001b[1m[\u001b[0mrocks\u001b[1m]\u001b[0m Could not identify \u001b[32m'2012 LV07'\u001b[0m.                                                                   \n"
      ]
     },
     "metadata": {},
     "output_type": "display_data"
    },
    {
     "data": {
      "text/html": [
       "<pre style=\"white-space:pre;overflow-x:auto;line-height:normal;font-family:Menlo,'DejaVu Sans Mono',consolas,'Courier New',monospace\"><span style=\"color: #800000; text-decoration-color: #800000; font-weight: bold\">ERROR   </span> <span style=\"font-weight: bold\">[</span>rocks<span style=\"font-weight: bold\">]</span> Could not identify <span style=\"color: #008000; text-decoration-color: #008000\">'2017 LO01'</span>.                                                                   \n",
       "</pre>\n"
      ],
      "text/plain": [
       "\u001b[1;31mERROR   \u001b[0m \u001b[1m[\u001b[0mrocks\u001b[1m]\u001b[0m Could not identify \u001b[32m'2017 LO01'\u001b[0m.                                                                   \n"
      ]
     },
     "metadata": {},
     "output_type": "display_data"
    },
    {
     "data": {
      "text/html": [
       "<pre style=\"white-space:pre;overflow-x:auto;line-height:normal;font-family:Menlo,'DejaVu Sans Mono',consolas,'Courier New',monospace\"><span style=\"color: #800000; text-decoration-color: #800000; font-weight: bold\">ERROR   </span> <span style=\"font-weight: bold\">[</span>rocks<span style=\"font-weight: bold\">]</span> Could not identify <span style=\"color: #008000; text-decoration-color: #008000\">'2001 BO02'</span>.                                                                   \n",
       "</pre>\n"
      ],
      "text/plain": [
       "\u001b[1;31mERROR   \u001b[0m \u001b[1m[\u001b[0mrocks\u001b[1m]\u001b[0m Could not identify \u001b[32m'2001 BO02'\u001b[0m.                                                                   \n"
      ]
     },
     "metadata": {},
     "output_type": "display_data"
    },
    {
     "data": {
      "text/html": [
       "<pre style=\"white-space:pre;overflow-x:auto;line-height:normal;font-family:Menlo,'DejaVu Sans Mono',consolas,'Courier New',monospace\"><span style=\"color: #800000; text-decoration-color: #800000; font-weight: bold\">ERROR   </span> <span style=\"font-weight: bold\">[</span>rocks<span style=\"font-weight: bold\">]</span> Could not identify <span style=\"color: #008000; text-decoration-color: #008000\">'2020 AV02'</span>.                                                                   \n",
       "</pre>\n"
      ],
      "text/plain": [
       "\u001b[1;31mERROR   \u001b[0m \u001b[1m[\u001b[0mrocks\u001b[1m]\u001b[0m Could not identify \u001b[32m'2020 AV02'\u001b[0m.                                                                   \n"
      ]
     },
     "metadata": {},
     "output_type": "display_data"
    },
    {
     "data": {
      "text/html": [
       "<pre style=\"white-space:pre;overflow-x:auto;line-height:normal;font-family:Menlo,'DejaVu Sans Mono',consolas,'Courier New',monospace\"><span style=\"color: #800000; text-decoration-color: #800000; font-weight: bold\">ERROR   </span> <span style=\"font-weight: bold\">[</span>rocks<span style=\"font-weight: bold\">]</span> Could not identify <span style=\"color: #008000; text-decoration-color: #008000\">'2018 XV05'</span>.                                                                   \n",
       "</pre>\n"
      ],
      "text/plain": [
       "\u001b[1;31mERROR   \u001b[0m \u001b[1m[\u001b[0mrocks\u001b[1m]\u001b[0m Could not identify \u001b[32m'2018 XV05'\u001b[0m.                                                                   \n"
      ]
     },
     "metadata": {},
     "output_type": "display_data"
    },
    {
     "data": {
      "text/html": [
       "<pre style=\"white-space:pre;overflow-x:auto;line-height:normal;font-family:Menlo,'DejaVu Sans Mono',consolas,'Courier New',monospace\"><span style=\"color: #800000; text-decoration-color: #800000; font-weight: bold\">ERROR   </span> <span style=\"font-weight: bold\">[</span>rocks<span style=\"font-weight: bold\">]</span> Could not identify <span style=\"color: #008000; text-decoration-color: #008000\">'2018 LM04'</span>.                                                                   \n",
       "</pre>\n"
      ],
      "text/plain": [
       "\u001b[1;31mERROR   \u001b[0m \u001b[1m[\u001b[0mrocks\u001b[1m]\u001b[0m Could not identify \u001b[32m'2018 LM04'\u001b[0m.                                                                   \n"
      ]
     },
     "metadata": {},
     "output_type": "display_data"
    },
    {
     "data": {
      "text/html": [
       "<pre style=\"white-space:pre;overflow-x:auto;line-height:normal;font-family:Menlo,'DejaVu Sans Mono',consolas,'Courier New',monospace\"><span style=\"color: #800000; text-decoration-color: #800000; font-weight: bold\">ERROR   </span> <span style=\"font-weight: bold\">[</span>rocks<span style=\"font-weight: bold\">]</span> Could not identify <span style=\"color: #008000; text-decoration-color: #008000\">'2018 KG02'</span>.                                                                   \n",
       "</pre>\n"
      ],
      "text/plain": [
       "\u001b[1;31mERROR   \u001b[0m \u001b[1m[\u001b[0mrocks\u001b[1m]\u001b[0m Could not identify \u001b[32m'2018 KG02'\u001b[0m.                                                                   \n"
      ]
     },
     "metadata": {},
     "output_type": "display_data"
    },
    {
     "data": {
      "text/html": [
       "<pre style=\"white-space:pre;overflow-x:auto;line-height:normal;font-family:Menlo,'DejaVu Sans Mono',consolas,'Courier New',monospace\"><span style=\"color: #800000; text-decoration-color: #800000; font-weight: bold\">ERROR   </span> <span style=\"font-weight: bold\">[</span>rocks<span style=\"font-weight: bold\">]</span> Could not identify <span style=\"color: #008000; text-decoration-color: #008000\">'2011 YQ04'</span>.                                                                   \n",
       "</pre>\n"
      ],
      "text/plain": [
       "\u001b[1;31mERROR   \u001b[0m \u001b[1m[\u001b[0mrocks\u001b[1m]\u001b[0m Could not identify \u001b[32m'2011 YQ04'\u001b[0m.                                                                   \n"
      ]
     },
     "metadata": {},
     "output_type": "display_data"
    },
    {
     "data": {
      "text/html": [
       "<pre style=\"white-space:pre;overflow-x:auto;line-height:normal;font-family:Menlo,'DejaVu Sans Mono',consolas,'Courier New',monospace\"><span style=\"color: #800000; text-decoration-color: #800000; font-weight: bold\">ERROR   </span> <span style=\"font-weight: bold\">[</span>rocks<span style=\"font-weight: bold\">]</span> Could not identify <span style=\"color: #008000; text-decoration-color: #008000\">'2007 LX00'</span>.                                                                   \n",
       "</pre>\n"
      ],
      "text/plain": [
       "\u001b[1;31mERROR   \u001b[0m \u001b[1m[\u001b[0mrocks\u001b[1m]\u001b[0m Could not identify \u001b[32m'2007 LX00'\u001b[0m.                                                                   \n"
      ]
     },
     "metadata": {},
     "output_type": "display_data"
    },
    {
     "data": {
      "text/html": [
       "<pre style=\"white-space:pre;overflow-x:auto;line-height:normal;font-family:Menlo,'DejaVu Sans Mono',consolas,'Courier New',monospace\"><span style=\"color: #800000; text-decoration-color: #800000; font-weight: bold\">ERROR   </span> <span style=\"font-weight: bold\">[</span>rocks<span style=\"font-weight: bold\">]</span> Could not identify <span style=\"color: #008000; text-decoration-color: #008000\">'2016 VW01'</span>.                                                                   \n",
       "</pre>\n"
      ],
      "text/plain": [
       "\u001b[1;31mERROR   \u001b[0m \u001b[1m[\u001b[0mrocks\u001b[1m]\u001b[0m Could not identify \u001b[32m'2016 VW01'\u001b[0m.                                                                   \n"
      ]
     },
     "metadata": {},
     "output_type": "display_data"
    },
    {
     "data": {
      "text/html": [
       "<pre style=\"white-space:pre;overflow-x:auto;line-height:normal;font-family:Menlo,'DejaVu Sans Mono',consolas,'Courier New',monospace\"><span style=\"color: #800000; text-decoration-color: #800000; font-weight: bold\">ERROR   </span> <span style=\"font-weight: bold\">[</span>rocks<span style=\"font-weight: bold\">]</span> Could not identify <span style=\"color: #008000; text-decoration-color: #008000\">'2021 LK02'</span>.                                                                   \n",
       "</pre>\n"
      ],
      "text/plain": [
       "\u001b[1;31mERROR   \u001b[0m \u001b[1m[\u001b[0mrocks\u001b[1m]\u001b[0m Could not identify \u001b[32m'2021 LK02'\u001b[0m.                                                                   \n"
      ]
     },
     "metadata": {},
     "output_type": "display_data"
    },
    {
     "data": {
      "text/html": [
       "<pre style=\"white-space:pre;overflow-x:auto;line-height:normal;font-family:Menlo,'DejaVu Sans Mono',consolas,'Courier New',monospace\"><span style=\"color: #800000; text-decoration-color: #800000; font-weight: bold\">ERROR   </span> <span style=\"font-weight: bold\">[</span>rocks<span style=\"font-weight: bold\">]</span> Could not identify <span style=\"color: #008000; text-decoration-color: #008000\">'2021 NX07'</span>.                                                                   \n",
       "</pre>\n"
      ],
      "text/plain": [
       "\u001b[1;31mERROR   \u001b[0m \u001b[1m[\u001b[0mrocks\u001b[1m]\u001b[0m Could not identify \u001b[32m'2021 NX07'\u001b[0m.                                                                   \n"
      ]
     },
     "metadata": {},
     "output_type": "display_data"
    },
    {
     "data": {
      "text/html": [
       "<pre style=\"white-space:pre;overflow-x:auto;line-height:normal;font-family:Menlo,'DejaVu Sans Mono',consolas,'Courier New',monospace\"><span style=\"color: #800000; text-decoration-color: #800000; font-weight: bold\">ERROR   </span> <span style=\"font-weight: bold\">[</span>rocks<span style=\"font-weight: bold\">]</span> Could not identify <span style=\"color: #008000; text-decoration-color: #008000\">'2007 UT07'</span>.                                                                   \n",
       "</pre>\n"
      ],
      "text/plain": [
       "\u001b[1;31mERROR   \u001b[0m \u001b[1m[\u001b[0mrocks\u001b[1m]\u001b[0m Could not identify \u001b[32m'2007 UT07'\u001b[0m.                                                                   \n"
      ]
     },
     "metadata": {},
     "output_type": "display_data"
    },
    {
     "data": {
      "text/html": [
       "<pre style=\"white-space:pre;overflow-x:auto;line-height:normal;font-family:Menlo,'DejaVu Sans Mono',consolas,'Courier New',monospace\"><span style=\"color: #800000; text-decoration-color: #800000; font-weight: bold\">ERROR   </span> <span style=\"font-weight: bold\">[</span>rocks<span style=\"font-weight: bold\">]</span> Could not identify <span style=\"color: #008000; text-decoration-color: #008000\">'2020 OW03'</span>.                                                                   \n",
       "</pre>\n"
      ],
      "text/plain": [
       "\u001b[1;31mERROR   \u001b[0m \u001b[1m[\u001b[0mrocks\u001b[1m]\u001b[0m Could not identify \u001b[32m'2020 OW03'\u001b[0m.                                                                   \n"
      ]
     },
     "metadata": {},
     "output_type": "display_data"
    },
    {
     "data": {
      "text/html": [
       "<pre style=\"white-space:pre;overflow-x:auto;line-height:normal;font-family:Menlo,'DejaVu Sans Mono',consolas,'Courier New',monospace\"><span style=\"color: #800000; text-decoration-color: #800000; font-weight: bold\">ERROR   </span> <span style=\"font-weight: bold\">[</span>rocks<span style=\"font-weight: bold\">]</span> Could not identify <span style=\"color: #008000; text-decoration-color: #008000\">'2013 XE04'</span>.                                                                   \n",
       "</pre>\n"
      ],
      "text/plain": [
       "\u001b[1;31mERROR   \u001b[0m \u001b[1m[\u001b[0mrocks\u001b[1m]\u001b[0m Could not identify \u001b[32m'2013 XE04'\u001b[0m.                                                                   \n"
      ]
     },
     "metadata": {},
     "output_type": "display_data"
    },
    {
     "data": {
      "text/html": [
       "<pre style=\"white-space:pre;overflow-x:auto;line-height:normal;font-family:Menlo,'DejaVu Sans Mono',consolas,'Courier New',monospace\"><span style=\"color: #800000; text-decoration-color: #800000; font-weight: bold\">ERROR   </span> <span style=\"font-weight: bold\">[</span>rocks<span style=\"font-weight: bold\">]</span> Could not identify <span style=\"color: #008000; text-decoration-color: #008000\">'2007 NX01'</span>.                                                                   \n",
       "</pre>\n"
      ],
      "text/plain": [
       "\u001b[1;31mERROR   \u001b[0m \u001b[1m[\u001b[0mrocks\u001b[1m]\u001b[0m Could not identify \u001b[32m'2007 NX01'\u001b[0m.                                                                   \n"
      ]
     },
     "metadata": {},
     "output_type": "display_data"
    },
    {
     "data": {
      "text/html": [
       "<pre style=\"white-space:pre;overflow-x:auto;line-height:normal;font-family:Menlo,'DejaVu Sans Mono',consolas,'Courier New',monospace\"><span style=\"color: #800000; text-decoration-color: #800000; font-weight: bold\">ERROR   </span> <span style=\"font-weight: bold\">[</span>rocks<span style=\"font-weight: bold\">]</span> Could not identify <span style=\"color: #008000; text-decoration-color: #008000\">'2009 PA09'</span>.                                                                   \n",
       "</pre>\n"
      ],
      "text/plain": [
       "\u001b[1;31mERROR   \u001b[0m \u001b[1m[\u001b[0mrocks\u001b[1m]\u001b[0m Could not identify \u001b[32m'2009 PA09'\u001b[0m.                                                                   \n"
      ]
     },
     "metadata": {},
     "output_type": "display_data"
    },
    {
     "data": {
      "text/html": [
       "<pre style=\"white-space:pre;overflow-x:auto;line-height:normal;font-family:Menlo,'DejaVu Sans Mono',consolas,'Courier New',monospace\"><span style=\"color: #800000; text-decoration-color: #800000; font-weight: bold\">ERROR   </span> <span style=\"font-weight: bold\">[</span>rocks<span style=\"font-weight: bold\">]</span> Could not identify <span style=\"color: #008000; text-decoration-color: #008000\">'2012 UA00'</span>.                                                                   \n",
       "</pre>\n"
      ],
      "text/plain": [
       "\u001b[1;31mERROR   \u001b[0m \u001b[1m[\u001b[0mrocks\u001b[1m]\u001b[0m Could not identify \u001b[32m'2012 UA00'\u001b[0m.                                                                   \n"
      ]
     },
     "metadata": {},
     "output_type": "display_data"
    },
    {
     "data": {
      "text/html": [
       "<pre style=\"white-space:pre;overflow-x:auto;line-height:normal;font-family:Menlo,'DejaVu Sans Mono',consolas,'Courier New',monospace\"><span style=\"color: #800000; text-decoration-color: #800000; font-weight: bold\">ERROR   </span> <span style=\"font-weight: bold\">[</span>rocks<span style=\"font-weight: bold\">]</span> Could not identify <span style=\"color: #008000; text-decoration-color: #008000\">'2004 MJ03'</span>.                                                                   \n",
       "</pre>\n"
      ],
      "text/plain": [
       "\u001b[1;31mERROR   \u001b[0m \u001b[1m[\u001b[0mrocks\u001b[1m]\u001b[0m Could not identify \u001b[32m'2004 MJ03'\u001b[0m.                                                                   \n"
      ]
     },
     "metadata": {},
     "output_type": "display_data"
    },
    {
     "data": {
      "text/html": [
       "<pre style=\"white-space:pre;overflow-x:auto;line-height:normal;font-family:Menlo,'DejaVu Sans Mono',consolas,'Courier New',monospace\"><span style=\"color: #800000; text-decoration-color: #800000; font-weight: bold\">ERROR   </span> <span style=\"font-weight: bold\">[</span>rocks<span style=\"font-weight: bold\">]</span> Could not identify <span style=\"color: #008000; text-decoration-color: #008000\">'2020 PD01'</span>.                                                                   \n",
       "</pre>\n"
      ],
      "text/plain": [
       "\u001b[1;31mERROR   \u001b[0m \u001b[1m[\u001b[0mrocks\u001b[1m]\u001b[0m Could not identify \u001b[32m'2020 PD01'\u001b[0m.                                                                   \n"
      ]
     },
     "metadata": {},
     "output_type": "display_data"
    },
    {
     "data": {
      "text/html": [
       "<pre style=\"white-space:pre;overflow-x:auto;line-height:normal;font-family:Menlo,'DejaVu Sans Mono',consolas,'Courier New',monospace\"><span style=\"color: #800000; text-decoration-color: #800000; font-weight: bold\">ERROR   </span> <span style=\"font-weight: bold\">[</span>rocks<span style=\"font-weight: bold\">]</span> Could not identify <span style=\"color: #008000; text-decoration-color: #008000\">'2013 WJ00'</span>.                                                                   \n",
       "</pre>\n"
      ],
      "text/plain": [
       "\u001b[1;31mERROR   \u001b[0m \u001b[1m[\u001b[0mrocks\u001b[1m]\u001b[0m Could not identify \u001b[32m'2013 WJ00'\u001b[0m.                                                                   \n"
      ]
     },
     "metadata": {},
     "output_type": "display_data"
    },
    {
     "data": {
      "text/html": [
       "<pre style=\"white-space:pre;overflow-x:auto;line-height:normal;font-family:Menlo,'DejaVu Sans Mono',consolas,'Courier New',monospace\"><span style=\"color: #800000; text-decoration-color: #800000; font-weight: bold\">ERROR   </span> <span style=\"font-weight: bold\">[</span>rocks<span style=\"font-weight: bold\">]</span> Could not identify <span style=\"color: #008000; text-decoration-color: #008000\">'2003 RK07'</span>.                                                                   \n",
       "</pre>\n"
      ],
      "text/plain": [
       "\u001b[1;31mERROR   \u001b[0m \u001b[1m[\u001b[0mrocks\u001b[1m]\u001b[0m Could not identify \u001b[32m'2003 RK07'\u001b[0m.                                                                   \n"
      ]
     },
     "metadata": {},
     "output_type": "display_data"
    },
    {
     "data": {
      "text/html": [
       "<pre style=\"white-space:pre;overflow-x:auto;line-height:normal;font-family:Menlo,'DejaVu Sans Mono',consolas,'Courier New',monospace\"><span style=\"color: #800000; text-decoration-color: #800000; font-weight: bold\">ERROR   </span> <span style=\"font-weight: bold\">[</span>rocks<span style=\"font-weight: bold\">]</span> Could not identify <span style=\"color: #008000; text-decoration-color: #008000\">'2003 UR00'</span>.                                                                   \n",
       "</pre>\n"
      ],
      "text/plain": [
       "\u001b[1;31mERROR   \u001b[0m \u001b[1m[\u001b[0mrocks\u001b[1m]\u001b[0m Could not identify \u001b[32m'2003 UR00'\u001b[0m.                                                                   \n"
      ]
     },
     "metadata": {},
     "output_type": "display_data"
    },
    {
     "data": {
      "text/html": [
       "<pre style=\"white-space:pre;overflow-x:auto;line-height:normal;font-family:Menlo,'DejaVu Sans Mono',consolas,'Courier New',monospace\"><span style=\"color: #800000; text-decoration-color: #800000; font-weight: bold\">ERROR   </span> <span style=\"font-weight: bold\">[</span>rocks<span style=\"font-weight: bold\">]</span> Could not identify <span style=\"color: #008000; text-decoration-color: #008000\">'2016 XB07'</span>.                                                                   \n",
       "</pre>\n"
      ],
      "text/plain": [
       "\u001b[1;31mERROR   \u001b[0m \u001b[1m[\u001b[0mrocks\u001b[1m]\u001b[0m Could not identify \u001b[32m'2016 XB07'\u001b[0m.                                                                   \n"
      ]
     },
     "metadata": {},
     "output_type": "display_data"
    },
    {
     "data": {
      "text/html": [
       "<pre style=\"white-space:pre;overflow-x:auto;line-height:normal;font-family:Menlo,'DejaVu Sans Mono',consolas,'Courier New',monospace\"><span style=\"color: #800000; text-decoration-color: #800000; font-weight: bold\">ERROR   </span> <span style=\"font-weight: bold\">[</span>rocks<span style=\"font-weight: bold\">]</span> Could not identify <span style=\"color: #008000; text-decoration-color: #008000\">'2015 JO05'</span>.                                                                   \n",
       "</pre>\n"
      ],
      "text/plain": [
       "\u001b[1;31mERROR   \u001b[0m \u001b[1m[\u001b[0mrocks\u001b[1m]\u001b[0m Could not identify \u001b[32m'2015 JO05'\u001b[0m.                                                                   \n"
      ]
     },
     "metadata": {},
     "output_type": "display_data"
    },
    {
     "data": {
      "text/html": [
       "<pre style=\"white-space:pre;overflow-x:auto;line-height:normal;font-family:Menlo,'DejaVu Sans Mono',consolas,'Courier New',monospace\"><span style=\"color: #800000; text-decoration-color: #800000; font-weight: bold\">ERROR   </span> <span style=\"font-weight: bold\">[</span>rocks<span style=\"font-weight: bold\">]</span> Could not identify <span style=\"color: #008000; text-decoration-color: #008000\">'2020 ML03'</span>.                                                                   \n",
       "</pre>\n"
      ],
      "text/plain": [
       "\u001b[1;31mERROR   \u001b[0m \u001b[1m[\u001b[0mrocks\u001b[1m]\u001b[0m Could not identify \u001b[32m'2020 ML03'\u001b[0m.                                                                   \n"
      ]
     },
     "metadata": {},
     "output_type": "display_data"
    },
    {
     "data": {
      "text/html": [
       "<pre style=\"white-space:pre;overflow-x:auto;line-height:normal;font-family:Menlo,'DejaVu Sans Mono',consolas,'Courier New',monospace\"><span style=\"color: #800000; text-decoration-color: #800000; font-weight: bold\">ERROR   </span> <span style=\"font-weight: bold\">[</span>rocks<span style=\"font-weight: bold\">]</span> Could not identify <span style=\"color: #008000; text-decoration-color: #008000\">'2003 YM01'</span>.                                                                   \n",
       "</pre>\n"
      ],
      "text/plain": [
       "\u001b[1;31mERROR   \u001b[0m \u001b[1m[\u001b[0mrocks\u001b[1m]\u001b[0m Could not identify \u001b[32m'2003 YM01'\u001b[0m.                                                                   \n"
      ]
     },
     "metadata": {},
     "output_type": "display_data"
    },
    {
     "data": {
      "text/html": [
       "<pre style=\"white-space:pre;overflow-x:auto;line-height:normal;font-family:Menlo,'DejaVu Sans Mono',consolas,'Courier New',monospace\"><span style=\"color: #800000; text-decoration-color: #800000; font-weight: bold\">ERROR   </span> <span style=\"font-weight: bold\">[</span>rocks<span style=\"font-weight: bold\">]</span> Could not identify <span style=\"color: #008000; text-decoration-color: #008000\">'2009 CD04'</span>.                                                                   \n",
       "</pre>\n"
      ],
      "text/plain": [
       "\u001b[1;31mERROR   \u001b[0m \u001b[1m[\u001b[0mrocks\u001b[1m]\u001b[0m Could not identify \u001b[32m'2009 CD04'\u001b[0m.                                                                   \n"
      ]
     },
     "metadata": {},
     "output_type": "display_data"
    },
    {
     "data": {
      "text/html": [
       "<pre style=\"white-space:pre;overflow-x:auto;line-height:normal;font-family:Menlo,'DejaVu Sans Mono',consolas,'Courier New',monospace\"><span style=\"color: #800000; text-decoration-color: #800000; font-weight: bold\">ERROR   </span> <span style=\"font-weight: bold\">[</span>rocks<span style=\"font-weight: bold\">]</span> Could not identify <span style=\"color: #008000; text-decoration-color: #008000\">'2001 YU03'</span>.                                                                   \n",
       "</pre>\n"
      ],
      "text/plain": [
       "\u001b[1;31mERROR   \u001b[0m \u001b[1m[\u001b[0mrocks\u001b[1m]\u001b[0m Could not identify \u001b[32m'2001 YU03'\u001b[0m.                                                                   \n"
      ]
     },
     "metadata": {},
     "output_type": "display_data"
    },
    {
     "data": {
      "text/html": [
       "<pre style=\"white-space:pre;overflow-x:auto;line-height:normal;font-family:Menlo,'DejaVu Sans Mono',consolas,'Courier New',monospace\"><span style=\"color: #800000; text-decoration-color: #800000; font-weight: bold\">ERROR   </span> <span style=\"font-weight: bold\">[</span>rocks<span style=\"font-weight: bold\">]</span> Could not identify <span style=\"color: #008000; text-decoration-color: #008000\">'1999 UK05'</span>.                                                                   \n",
       "</pre>\n"
      ],
      "text/plain": [
       "\u001b[1;31mERROR   \u001b[0m \u001b[1m[\u001b[0mrocks\u001b[1m]\u001b[0m Could not identify \u001b[32m'1999 UK05'\u001b[0m.                                                                   \n"
      ]
     },
     "metadata": {},
     "output_type": "display_data"
    },
    {
     "data": {
      "text/html": [
       "<pre style=\"white-space:pre;overflow-x:auto;line-height:normal;font-family:Menlo,'DejaVu Sans Mono',consolas,'Courier New',monospace\"><span style=\"color: #800000; text-decoration-color: #800000; font-weight: bold\">ERROR   </span> <span style=\"font-weight: bold\">[</span>rocks<span style=\"font-weight: bold\">]</span> Could not identify <span style=\"color: #008000; text-decoration-color: #008000\">'2004 XM00'</span>.                                                                   \n",
       "</pre>\n"
      ],
      "text/plain": [
       "\u001b[1;31mERROR   \u001b[0m \u001b[1m[\u001b[0mrocks\u001b[1m]\u001b[0m Could not identify \u001b[32m'2004 XM00'\u001b[0m.                                                                   \n"
      ]
     },
     "metadata": {},
     "output_type": "display_data"
    },
    {
     "data": {
      "text/html": [
       "<pre style=\"white-space:pre;overflow-x:auto;line-height:normal;font-family:Menlo,'DejaVu Sans Mono',consolas,'Courier New',monospace\"><span style=\"color: #800000; text-decoration-color: #800000; font-weight: bold\">ERROR   </span> <span style=\"font-weight: bold\">[</span>rocks<span style=\"font-weight: bold\">]</span> Could not identify <span style=\"color: #008000; text-decoration-color: #008000\">'2014 KL05'</span>.                                                                   \n",
       "</pre>\n"
      ],
      "text/plain": [
       "\u001b[1;31mERROR   \u001b[0m \u001b[1m[\u001b[0mrocks\u001b[1m]\u001b[0m Could not identify \u001b[32m'2014 KL05'\u001b[0m.                                                                   \n"
      ]
     },
     "metadata": {},
     "output_type": "display_data"
    },
    {
     "data": {
      "text/html": [
       "<pre style=\"white-space:pre;overflow-x:auto;line-height:normal;font-family:Menlo,'DejaVu Sans Mono',consolas,'Courier New',monospace\"><span style=\"color: #800000; text-decoration-color: #800000; font-weight: bold\">ERROR   </span> <span style=\"font-weight: bold\">[</span>rocks<span style=\"font-weight: bold\">]</span> Could not identify <span style=\"color: #008000; text-decoration-color: #008000\">'2003 VD01'</span>.                                                                   \n",
       "</pre>\n"
      ],
      "text/plain": [
       "\u001b[1;31mERROR   \u001b[0m \u001b[1m[\u001b[0mrocks\u001b[1m]\u001b[0m Could not identify \u001b[32m'2003 VD01'\u001b[0m.                                                                   \n"
      ]
     },
     "metadata": {},
     "output_type": "display_data"
    },
    {
     "data": {
      "text/html": [
       "<pre style=\"white-space:pre;overflow-x:auto;line-height:normal;font-family:Menlo,'DejaVu Sans Mono',consolas,'Courier New',monospace\"><span style=\"color: #800000; text-decoration-color: #800000; font-weight: bold\">ERROR   </span> <span style=\"font-weight: bold\">[</span>rocks<span style=\"font-weight: bold\">]</span> Could not identify <span style=\"color: #008000; text-decoration-color: #008000\">'2010 WQ07'</span>.                                                                   \n",
       "</pre>\n"
      ],
      "text/plain": [
       "\u001b[1;31mERROR   \u001b[0m \u001b[1m[\u001b[0mrocks\u001b[1m]\u001b[0m Could not identify \u001b[32m'2010 WQ07'\u001b[0m.                                                                   \n"
      ]
     },
     "metadata": {},
     "output_type": "display_data"
    },
    {
     "data": {
      "text/html": [
       "<pre style=\"white-space:pre;overflow-x:auto;line-height:normal;font-family:Menlo,'DejaVu Sans Mono',consolas,'Courier New',monospace\"><span style=\"color: #800000; text-decoration-color: #800000; font-weight: bold\">ERROR   </span> <span style=\"font-weight: bold\">[</span>rocks<span style=\"font-weight: bold\">]</span> Could not identify <span style=\"color: #008000; text-decoration-color: #008000\">'2011 AJ05'</span>.                                                                   \n",
       "</pre>\n"
      ],
      "text/plain": [
       "\u001b[1;31mERROR   \u001b[0m \u001b[1m[\u001b[0mrocks\u001b[1m]\u001b[0m Could not identify \u001b[32m'2011 AJ05'\u001b[0m.                                                                   \n"
      ]
     },
     "metadata": {},
     "output_type": "display_data"
    },
    {
     "data": {
      "text/html": [
       "<pre style=\"white-space:pre;overflow-x:auto;line-height:normal;font-family:Menlo,'DejaVu Sans Mono',consolas,'Courier New',monospace\"><span style=\"color: #800000; text-decoration-color: #800000; font-weight: bold\">ERROR   </span> <span style=\"font-weight: bold\">[</span>rocks<span style=\"font-weight: bold\">]</span> Could not identify <span style=\"color: #008000; text-decoration-color: #008000\">'2010 LS00'</span>.                                                                   \n",
       "</pre>\n"
      ],
      "text/plain": [
       "\u001b[1;31mERROR   \u001b[0m \u001b[1m[\u001b[0mrocks\u001b[1m]\u001b[0m Could not identify \u001b[32m'2010 LS00'\u001b[0m.                                                                   \n"
      ]
     },
     "metadata": {},
     "output_type": "display_data"
    },
    {
     "data": {
      "text/html": [
       "<pre style=\"white-space:pre;overflow-x:auto;line-height:normal;font-family:Menlo,'DejaVu Sans Mono',consolas,'Courier New',monospace\"><span style=\"color: #800000; text-decoration-color: #800000; font-weight: bold\">ERROR   </span> <span style=\"font-weight: bold\">[</span>rocks<span style=\"font-weight: bold\">]</span> Could not identify <span style=\"color: #008000; text-decoration-color: #008000\">'2014 RP00'</span>.                                                                   \n",
       "</pre>\n"
      ],
      "text/plain": [
       "\u001b[1;31mERROR   \u001b[0m \u001b[1m[\u001b[0mrocks\u001b[1m]\u001b[0m Could not identify \u001b[32m'2014 RP00'\u001b[0m.                                                                   \n"
      ]
     },
     "metadata": {},
     "output_type": "display_data"
    },
    {
     "data": {
      "text/html": [
       "<pre style=\"white-space:pre;overflow-x:auto;line-height:normal;font-family:Menlo,'DejaVu Sans Mono',consolas,'Courier New',monospace\"><span style=\"color: #800000; text-decoration-color: #800000; font-weight: bold\">ERROR   </span> <span style=\"font-weight: bold\">[</span>rocks<span style=\"font-weight: bold\">]</span> Could not identify <span style=\"color: #008000; text-decoration-color: #008000\">'2008 TE07'</span>.                                                                   \n",
       "</pre>\n"
      ],
      "text/plain": [
       "\u001b[1;31mERROR   \u001b[0m \u001b[1m[\u001b[0mrocks\u001b[1m]\u001b[0m Could not identify \u001b[32m'2008 TE07'\u001b[0m.                                                                   \n"
      ]
     },
     "metadata": {},
     "output_type": "display_data"
    },
    {
     "data": {
      "text/html": [
       "<pre style=\"white-space:pre;overflow-x:auto;line-height:normal;font-family:Menlo,'DejaVu Sans Mono',consolas,'Courier New',monospace\"><span style=\"color: #800000; text-decoration-color: #800000; font-weight: bold\">ERROR   </span> <span style=\"font-weight: bold\">[</span>rocks<span style=\"font-weight: bold\">]</span> Could not identify <span style=\"color: #008000; text-decoration-color: #008000\">'2016 XE01'</span>.                                                                   \n",
       "</pre>\n"
      ],
      "text/plain": [
       "\u001b[1;31mERROR   \u001b[0m \u001b[1m[\u001b[0mrocks\u001b[1m]\u001b[0m Could not identify \u001b[32m'2016 XE01'\u001b[0m.                                                                   \n"
      ]
     },
     "metadata": {},
     "output_type": "display_data"
    },
    {
     "data": {
      "text/html": [
       "<pre style=\"white-space:pre;overflow-x:auto;line-height:normal;font-family:Menlo,'DejaVu Sans Mono',consolas,'Courier New',monospace\"><span style=\"color: #800000; text-decoration-color: #800000; font-weight: bold\">ERROR   </span> <span style=\"font-weight: bold\">[</span>rocks<span style=\"font-weight: bold\">]</span> Could not identify <span style=\"color: #008000; text-decoration-color: #008000\">'2002 NS07'</span>.                                                                   \n",
       "</pre>\n"
      ],
      "text/plain": [
       "\u001b[1;31mERROR   \u001b[0m \u001b[1m[\u001b[0mrocks\u001b[1m]\u001b[0m Could not identify \u001b[32m'2002 NS07'\u001b[0m.                                                                   \n"
      ]
     },
     "metadata": {},
     "output_type": "display_data"
    },
    {
     "data": {
      "text/html": [
       "<pre style=\"white-space:pre;overflow-x:auto;line-height:normal;font-family:Menlo,'DejaVu Sans Mono',consolas,'Courier New',monospace\"><span style=\"color: #800000; text-decoration-color: #800000; font-weight: bold\">ERROR   </span> <span style=\"font-weight: bold\">[</span>rocks<span style=\"font-weight: bold\">]</span> Could not identify <span style=\"color: #008000; text-decoration-color: #008000\">'2008 YF02'</span>.                                                                   \n",
       "</pre>\n"
      ],
      "text/plain": [
       "\u001b[1;31mERROR   \u001b[0m \u001b[1m[\u001b[0mrocks\u001b[1m]\u001b[0m Could not identify \u001b[32m'2008 YF02'\u001b[0m.                                                                   \n"
      ]
     },
     "metadata": {},
     "output_type": "display_data"
    },
    {
     "data": {
      "text/html": [
       "<pre style=\"white-space:pre;overflow-x:auto;line-height:normal;font-family:Menlo,'DejaVu Sans Mono',consolas,'Courier New',monospace\"><span style=\"color: #800000; text-decoration-color: #800000; font-weight: bold\">ERROR   </span> <span style=\"font-weight: bold\">[</span>rocks<span style=\"font-weight: bold\">]</span> Could not identify <span style=\"color: #008000; text-decoration-color: #008000\">'2003 NM03'</span>.                                                                   \n",
       "</pre>\n"
      ],
      "text/plain": [
       "\u001b[1;31mERROR   \u001b[0m \u001b[1m[\u001b[0mrocks\u001b[1m]\u001b[0m Could not identify \u001b[32m'2003 NM03'\u001b[0m.                                                                   \n"
      ]
     },
     "metadata": {},
     "output_type": "display_data"
    },
    {
     "data": {
      "text/html": [
       "<pre style=\"white-space:pre;overflow-x:auto;line-height:normal;font-family:Menlo,'DejaVu Sans Mono',consolas,'Courier New',monospace\"><span style=\"color: #800000; text-decoration-color: #800000; font-weight: bold\">ERROR   </span> <span style=\"font-weight: bold\">[</span>rocks<span style=\"font-weight: bold\">]</span> Could not identify <span style=\"color: #008000; text-decoration-color: #008000\">'162P'</span>.                                                                        \n",
       "</pre>\n"
      ],
      "text/plain": [
       "\u001b[1;31mERROR   \u001b[0m \u001b[1m[\u001b[0mrocks\u001b[1m]\u001b[0m Could not identify \u001b[32m'162P'\u001b[0m.                                                                        \n"
      ]
     },
     "metadata": {},
     "output_type": "display_data"
    },
    {
     "data": {
      "text/html": [
       "<pre style=\"white-space:pre;overflow-x:auto;line-height:normal;font-family:Menlo,'DejaVu Sans Mono',consolas,'Courier New',monospace\"><span style=\"color: #800000; text-decoration-color: #800000; font-weight: bold\">ERROR   </span> <span style=\"font-weight: bold\">[</span>rocks<span style=\"font-weight: bold\">]</span> Could not identify <span style=\"color: #008000; text-decoration-color: #008000\">'2020 FW03'</span>.                                                                   \n",
       "</pre>\n"
      ],
      "text/plain": [
       "\u001b[1;31mERROR   \u001b[0m \u001b[1m[\u001b[0mrocks\u001b[1m]\u001b[0m Could not identify \u001b[32m'2020 FW03'\u001b[0m.                                                                   \n"
      ]
     },
     "metadata": {},
     "output_type": "display_data"
    },
    {
     "data": {
      "text/html": [
       "<pre style=\"white-space:pre;overflow-x:auto;line-height:normal;font-family:Menlo,'DejaVu Sans Mono',consolas,'Courier New',monospace\"><span style=\"color: #800000; text-decoration-color: #800000; font-weight: bold\">ERROR   </span> <span style=\"font-weight: bold\">[</span>rocks<span style=\"font-weight: bold\">]</span> Could not identify <span style=\"color: #008000; text-decoration-color: #008000\">'2002 TA09'</span>.                                                                   \n",
       "</pre>\n"
      ],
      "text/plain": [
       "\u001b[1;31mERROR   \u001b[0m \u001b[1m[\u001b[0mrocks\u001b[1m]\u001b[0m Could not identify \u001b[32m'2002 TA09'\u001b[0m.                                                                   \n"
      ]
     },
     "metadata": {},
     "output_type": "display_data"
    },
    {
     "data": {
      "text/html": [
       "<pre style=\"white-space:pre;overflow-x:auto;line-height:normal;font-family:Menlo,'DejaVu Sans Mono',consolas,'Courier New',monospace\"><span style=\"color: #800000; text-decoration-color: #800000; font-weight: bold\">ERROR   </span> <span style=\"font-weight: bold\">[</span>rocks<span style=\"font-weight: bold\">]</span> Could not identify <span style=\"color: #008000; text-decoration-color: #008000\">'2002 GZ08'</span>.                                                                   \n",
       "</pre>\n"
      ],
      "text/plain": [
       "\u001b[1;31mERROR   \u001b[0m \u001b[1m[\u001b[0mrocks\u001b[1m]\u001b[0m Could not identify \u001b[32m'2002 GZ08'\u001b[0m.                                                                   \n"
      ]
     },
     "metadata": {},
     "output_type": "display_data"
    },
    {
     "data": {
      "text/html": [
       "<pre style=\"white-space:pre;overflow-x:auto;line-height:normal;font-family:Menlo,'DejaVu Sans Mono',consolas,'Courier New',monospace\"><span style=\"color: #800000; text-decoration-color: #800000; font-weight: bold\">ERROR   </span> <span style=\"font-weight: bold\">[</span>rocks<span style=\"font-weight: bold\">]</span> Could not identify <span style=\"color: #008000; text-decoration-color: #008000\">'2001 RD02'</span>.                                                                   \n",
       "</pre>\n"
      ],
      "text/plain": [
       "\u001b[1;31mERROR   \u001b[0m \u001b[1m[\u001b[0mrocks\u001b[1m]\u001b[0m Could not identify \u001b[32m'2001 RD02'\u001b[0m.                                                                   \n"
      ]
     },
     "metadata": {},
     "output_type": "display_data"
    },
    {
     "data": {
      "text/html": [
       "<pre style=\"white-space:pre;overflow-x:auto;line-height:normal;font-family:Menlo,'DejaVu Sans Mono',consolas,'Courier New',monospace\"><span style=\"color: #800000; text-decoration-color: #800000; font-weight: bold\">ERROR   </span> <span style=\"font-weight: bold\">[</span>rocks<span style=\"font-weight: bold\">]</span> Could not identify <span style=\"color: #008000; text-decoration-color: #008000\">'2007 OR01'</span>.                                                                   \n",
       "</pre>\n"
      ],
      "text/plain": [
       "\u001b[1;31mERROR   \u001b[0m \u001b[1m[\u001b[0mrocks\u001b[1m]\u001b[0m Could not identify \u001b[32m'2007 OR01'\u001b[0m.                                                                   \n"
      ]
     },
     "metadata": {},
     "output_type": "display_data"
    },
    {
     "data": {
      "text/html": [
       "<pre style=\"white-space:pre;overflow-x:auto;line-height:normal;font-family:Menlo,'DejaVu Sans Mono',consolas,'Courier New',monospace\"><span style=\"color: #800000; text-decoration-color: #800000; font-weight: bold\">ERROR   </span> <span style=\"font-weight: bold\">[</span>rocks<span style=\"font-weight: bold\">]</span> Could not identify <span style=\"color: #008000; text-decoration-color: #008000\">'2019 AQ03'</span>.                                                                   \n",
       "</pre>\n"
      ],
      "text/plain": [
       "\u001b[1;31mERROR   \u001b[0m \u001b[1m[\u001b[0mrocks\u001b[1m]\u001b[0m Could not identify \u001b[32m'2019 AQ03'\u001b[0m.                                                                   \n"
      ]
     },
     "metadata": {},
     "output_type": "display_data"
    },
    {
     "data": {
      "text/html": [
       "<pre style=\"white-space:pre;overflow-x:auto;line-height:normal;font-family:Menlo,'DejaVu Sans Mono',consolas,'Courier New',monospace\"><span style=\"color: #800000; text-decoration-color: #800000; font-weight: bold\">ERROR   </span> <span style=\"font-weight: bold\">[</span>rocks<span style=\"font-weight: bold\">]</span> Could not identify <span style=\"color: #008000; text-decoration-color: #008000\">'1998 UQ01'</span>.                                                                   \n",
       "</pre>\n"
      ],
      "text/plain": [
       "\u001b[1;31mERROR   \u001b[0m \u001b[1m[\u001b[0mrocks\u001b[1m]\u001b[0m Could not identify \u001b[32m'1998 UQ01'\u001b[0m.                                                                   \n"
      ]
     },
     "metadata": {},
     "output_type": "display_data"
    },
    {
     "data": {
      "text/html": [
       "<pre style=\"white-space:pre;overflow-x:auto;line-height:normal;font-family:Menlo,'DejaVu Sans Mono',consolas,'Courier New',monospace\"><span style=\"color: #800000; text-decoration-color: #800000; font-weight: bold\">ERROR   </span> <span style=\"font-weight: bold\">[</span>rocks<span style=\"font-weight: bold\">]</span> Could not identify <span style=\"color: #008000; text-decoration-color: #008000\">'2013 PY06'</span>.                                                                   \n",
       "</pre>\n"
      ],
      "text/plain": [
       "\u001b[1;31mERROR   \u001b[0m \u001b[1m[\u001b[0mrocks\u001b[1m]\u001b[0m Could not identify \u001b[32m'2013 PY06'\u001b[0m.                                                                   \n"
      ]
     },
     "metadata": {},
     "output_type": "display_data"
    },
    {
     "data": {
      "text/html": [
       "<pre style=\"white-space:pre;overflow-x:auto;line-height:normal;font-family:Menlo,'DejaVu Sans Mono',consolas,'Courier New',monospace\"><span style=\"color: #800000; text-decoration-color: #800000; font-weight: bold\">ERROR   </span> <span style=\"font-weight: bold\">[</span>rocks<span style=\"font-weight: bold\">]</span> Could not identify <span style=\"color: #008000; text-decoration-color: #008000\">'2020 OL03'</span>.                                                                   \n",
       "</pre>\n"
      ],
      "text/plain": [
       "\u001b[1;31mERROR   \u001b[0m \u001b[1m[\u001b[0mrocks\u001b[1m]\u001b[0m Could not identify \u001b[32m'2020 OL03'\u001b[0m.                                                                   \n"
      ]
     },
     "metadata": {},
     "output_type": "display_data"
    },
    {
     "data": {
      "text/html": [
       "<pre style=\"white-space:pre;overflow-x:auto;line-height:normal;font-family:Menlo,'DejaVu Sans Mono',consolas,'Courier New',monospace\"><span style=\"color: #800000; text-decoration-color: #800000; font-weight: bold\">ERROR   </span> <span style=\"font-weight: bold\">[</span>rocks<span style=\"font-weight: bold\">]</span> Could not identify <span style=\"color: #008000; text-decoration-color: #008000\">'2020 NA00'</span>.                                                                   \n",
       "</pre>\n"
      ],
      "text/plain": [
       "\u001b[1;31mERROR   \u001b[0m \u001b[1m[\u001b[0mrocks\u001b[1m]\u001b[0m Could not identify \u001b[32m'2020 NA00'\u001b[0m.                                                                   \n"
      ]
     },
     "metadata": {},
     "output_type": "display_data"
    },
    {
     "data": {
      "text/html": [
       "<pre style=\"white-space:pre;overflow-x:auto;line-height:normal;font-family:Menlo,'DejaVu Sans Mono',consolas,'Courier New',monospace\"><span style=\"color: #800000; text-decoration-color: #800000; font-weight: bold\">ERROR   </span> <span style=\"font-weight: bold\">[</span>rocks<span style=\"font-weight: bold\">]</span> Could not identify <span style=\"color: #008000; text-decoration-color: #008000\">'28P'</span>.                                                                         \n",
       "</pre>\n"
      ],
      "text/plain": [
       "\u001b[1;31mERROR   \u001b[0m \u001b[1m[\u001b[0mrocks\u001b[1m]\u001b[0m Could not identify \u001b[32m'28P'\u001b[0m.                                                                         \n"
      ]
     },
     "metadata": {},
     "output_type": "display_data"
    },
    {
     "data": {
      "text/html": [
       "<pre style=\"white-space:pre;overflow-x:auto;line-height:normal;font-family:Menlo,'DejaVu Sans Mono',consolas,'Courier New',monospace\"><span style=\"color: #800000; text-decoration-color: #800000; font-weight: bold\">ERROR   </span> <span style=\"font-weight: bold\">[</span>rocks<span style=\"font-weight: bold\">]</span> Could not identify <span style=\"color: #008000; text-decoration-color: #008000\">'2017 YH03'</span>.                                                                   \n",
       "</pre>\n"
      ],
      "text/plain": [
       "\u001b[1;31mERROR   \u001b[0m \u001b[1m[\u001b[0mrocks\u001b[1m]\u001b[0m Could not identify \u001b[32m'2017 YH03'\u001b[0m.                                                                   \n"
      ]
     },
     "metadata": {},
     "output_type": "display_data"
    },
    {
     "data": {
      "text/html": [
       "<pre style=\"white-space:pre;overflow-x:auto;line-height:normal;font-family:Menlo,'DejaVu Sans Mono',consolas,'Courier New',monospace\"><span style=\"color: #800000; text-decoration-color: #800000; font-weight: bold\">ERROR   </span> <span style=\"font-weight: bold\">[</span>rocks<span style=\"font-weight: bold\">]</span> Could not identify <span style=\"color: #008000; text-decoration-color: #008000\">'2020 KJ06'</span>.                                                                   \n",
       "</pre>\n"
      ],
      "text/plain": [
       "\u001b[1;31mERROR   \u001b[0m \u001b[1m[\u001b[0mrocks\u001b[1m]\u001b[0m Could not identify \u001b[32m'2020 KJ06'\u001b[0m.                                                                   \n"
      ]
     },
     "metadata": {},
     "output_type": "display_data"
    },
    {
     "data": {
      "text/html": [
       "<pre style=\"white-space:pre;overflow-x:auto;line-height:normal;font-family:Menlo,'DejaVu Sans Mono',consolas,'Courier New',monospace\"><span style=\"color: #800000; text-decoration-color: #800000; font-weight: bold\">ERROR   </span> <span style=\"font-weight: bold\">[</span>rocks<span style=\"font-weight: bold\">]</span> Could not identify <span style=\"color: #008000; text-decoration-color: #008000\">'2020 JQ00'</span>.                                                                   \n",
       "</pre>\n"
      ],
      "text/plain": [
       "\u001b[1;31mERROR   \u001b[0m \u001b[1m[\u001b[0mrocks\u001b[1m]\u001b[0m Could not identify \u001b[32m'2020 JQ00'\u001b[0m.                                                                   \n"
      ]
     },
     "metadata": {},
     "output_type": "display_data"
    },
    {
     "data": {
      "text/html": [
       "<pre style=\"white-space:pre;overflow-x:auto;line-height:normal;font-family:Menlo,'DejaVu Sans Mono',consolas,'Courier New',monospace\"><span style=\"color: #800000; text-decoration-color: #800000; font-weight: bold\">ERROR   </span> <span style=\"font-weight: bold\">[</span>rocks<span style=\"font-weight: bold\">]</span> Could not identify <span style=\"color: #008000; text-decoration-color: #008000\">'2011 LZ05'</span>.                                                                   \n",
       "</pre>\n"
      ],
      "text/plain": [
       "\u001b[1;31mERROR   \u001b[0m \u001b[1m[\u001b[0mrocks\u001b[1m]\u001b[0m Could not identify \u001b[32m'2011 LZ05'\u001b[0m.                                                                   \n"
      ]
     },
     "metadata": {},
     "output_type": "display_data"
    },
    {
     "data": {
      "text/html": [
       "<pre style=\"white-space:pre;overflow-x:auto;line-height:normal;font-family:Menlo,'DejaVu Sans Mono',consolas,'Courier New',monospace\"><span style=\"color: #800000; text-decoration-color: #800000; font-weight: bold\">ERROR   </span> <span style=\"font-weight: bold\">[</span>rocks<span style=\"font-weight: bold\">]</span> Could not identify <span style=\"color: #008000; text-decoration-color: #008000\">'2016 VM04'</span>.                                                                   \n",
       "</pre>\n"
      ],
      "text/plain": [
       "\u001b[1;31mERROR   \u001b[0m \u001b[1m[\u001b[0mrocks\u001b[1m]\u001b[0m Could not identify \u001b[32m'2016 VM04'\u001b[0m.                                                                   \n"
      ]
     },
     "metadata": {},
     "output_type": "display_data"
    },
    {
     "data": {
      "text/html": [
       "<pre style=\"white-space:pre;overflow-x:auto;line-height:normal;font-family:Menlo,'DejaVu Sans Mono',consolas,'Courier New',monospace\"><span style=\"color: #800000; text-decoration-color: #800000; font-weight: bold\">ERROR   </span> <span style=\"font-weight: bold\">[</span>rocks<span style=\"font-weight: bold\">]</span> Could not identify <span style=\"color: #008000; text-decoration-color: #008000\">'2016 WQ05'</span>.                                                                   \n",
       "</pre>\n"
      ],
      "text/plain": [
       "\u001b[1;31mERROR   \u001b[0m \u001b[1m[\u001b[0mrocks\u001b[1m]\u001b[0m Could not identify \u001b[32m'2016 WQ05'\u001b[0m.                                                                   \n"
      ]
     },
     "metadata": {},
     "output_type": "display_data"
    },
    {
     "data": {
      "text/html": [
       "<pre style=\"white-space:pre;overflow-x:auto;line-height:normal;font-family:Menlo,'DejaVu Sans Mono',consolas,'Courier New',monospace\"><span style=\"color: #800000; text-decoration-color: #800000; font-weight: bold\">ERROR   </span> <span style=\"font-weight: bold\">[</span>rocks<span style=\"font-weight: bold\">]</span> Could not identify <span style=\"color: #008000; text-decoration-color: #008000\">'2014 RH00'</span>.                                                                   \n",
       "</pre>\n"
      ],
      "text/plain": [
       "\u001b[1;31mERROR   \u001b[0m \u001b[1m[\u001b[0mrocks\u001b[1m]\u001b[0m Could not identify \u001b[32m'2014 RH00'\u001b[0m.                                                                   \n"
      ]
     },
     "metadata": {},
     "output_type": "display_data"
    },
    {
     "data": {
      "text/html": [
       "<pre style=\"white-space:pre;overflow-x:auto;line-height:normal;font-family:Menlo,'DejaVu Sans Mono',consolas,'Courier New',monospace\"><span style=\"color: #800000; text-decoration-color: #800000; font-weight: bold\">ERROR   </span> <span style=\"font-weight: bold\">[</span>rocks<span style=\"font-weight: bold\">]</span> Could not identify <span style=\"color: #008000; text-decoration-color: #008000\">'2015 WV01'</span>.                                                                   \n",
       "</pre>\n"
      ],
      "text/plain": [
       "\u001b[1;31mERROR   \u001b[0m \u001b[1m[\u001b[0mrocks\u001b[1m]\u001b[0m Could not identify \u001b[32m'2015 WV01'\u001b[0m.                                                                   \n"
      ]
     },
     "metadata": {},
     "output_type": "display_data"
    },
    {
     "data": {
      "text/html": [
       "<pre style=\"white-space:pre;overflow-x:auto;line-height:normal;font-family:Menlo,'DejaVu Sans Mono',consolas,'Courier New',monospace\"><span style=\"color: #800000; text-decoration-color: #800000; font-weight: bold\">ERROR   </span> <span style=\"font-weight: bold\">[</span>rocks<span style=\"font-weight: bold\">]</span> Could not identify <span style=\"color: #008000; text-decoration-color: #008000\">'2016 OK00'</span>.                                                                   \n",
       "</pre>\n"
      ],
      "text/plain": [
       "\u001b[1;31mERROR   \u001b[0m \u001b[1m[\u001b[0mrocks\u001b[1m]\u001b[0m Could not identify \u001b[32m'2016 OK00'\u001b[0m.                                                                   \n"
      ]
     },
     "metadata": {},
     "output_type": "display_data"
    },
    {
     "data": {
      "text/html": [
       "<pre style=\"white-space:pre;overflow-x:auto;line-height:normal;font-family:Menlo,'DejaVu Sans Mono',consolas,'Courier New',monospace\"><span style=\"color: #800000; text-decoration-color: #800000; font-weight: bold\">ERROR   </span> <span style=\"font-weight: bold\">[</span>rocks<span style=\"font-weight: bold\">]</span> Could not identify <span style=\"color: #008000; text-decoration-color: #008000\">'2020 PC05'</span>.                                                                   \n",
       "</pre>\n"
      ],
      "text/plain": [
       "\u001b[1;31mERROR   \u001b[0m \u001b[1m[\u001b[0mrocks\u001b[1m]\u001b[0m Could not identify \u001b[32m'2020 PC05'\u001b[0m.                                                                   \n"
      ]
     },
     "metadata": {},
     "output_type": "display_data"
    },
    {
     "data": {
      "text/html": [
       "<pre style=\"white-space:pre;overflow-x:auto;line-height:normal;font-family:Menlo,'DejaVu Sans Mono',consolas,'Courier New',monospace\"><span style=\"color: #800000; text-decoration-color: #800000; font-weight: bold\">ERROR   </span> <span style=\"font-weight: bold\">[</span>rocks<span style=\"font-weight: bold\">]</span> Could not identify <span style=\"color: #008000; text-decoration-color: #008000\">'2017 RM00'</span>.                                                                   \n",
       "</pre>\n"
      ],
      "text/plain": [
       "\u001b[1;31mERROR   \u001b[0m \u001b[1m[\u001b[0mrocks\u001b[1m]\u001b[0m Could not identify \u001b[32m'2017 RM00'\u001b[0m.                                                                   \n"
      ]
     },
     "metadata": {},
     "output_type": "display_data"
    },
    {
     "data": {
      "text/html": [
       "<pre style=\"white-space:pre;overflow-x:auto;line-height:normal;font-family:Menlo,'DejaVu Sans Mono',consolas,'Courier New',monospace\"><span style=\"color: #800000; text-decoration-color: #800000; font-weight: bold\">ERROR   </span> <span style=\"font-weight: bold\">[</span>rocks<span style=\"font-weight: bold\">]</span> Could not identify <span style=\"color: #008000; text-decoration-color: #008000\">'2006 QB03'</span>.                                                                   \n",
       "</pre>\n"
      ],
      "text/plain": [
       "\u001b[1;31mERROR   \u001b[0m \u001b[1m[\u001b[0mrocks\u001b[1m]\u001b[0m Could not identify \u001b[32m'2006 QB03'\u001b[0m.                                                                   \n"
      ]
     },
     "metadata": {},
     "output_type": "display_data"
    },
    {
     "data": {
      "text/html": [
       "<pre style=\"white-space:pre;overflow-x:auto;line-height:normal;font-family:Menlo,'DejaVu Sans Mono',consolas,'Courier New',monospace\"><span style=\"color: #800000; text-decoration-color: #800000; font-weight: bold\">ERROR   </span> <span style=\"font-weight: bold\">[</span>rocks<span style=\"font-weight: bold\">]</span> Could not identify <span style=\"color: #008000; text-decoration-color: #008000\">'2020 KZ05'</span>.                                                                   \n",
       "</pre>\n"
      ],
      "text/plain": [
       "\u001b[1;31mERROR   \u001b[0m \u001b[1m[\u001b[0mrocks\u001b[1m]\u001b[0m Could not identify \u001b[32m'2020 KZ05'\u001b[0m.                                                                   \n"
      ]
     },
     "metadata": {},
     "output_type": "display_data"
    },
    {
     "data": {
      "text/html": [
       "<pre style=\"white-space:pre;overflow-x:auto;line-height:normal;font-family:Menlo,'DejaVu Sans Mono',consolas,'Courier New',monospace\"><span style=\"color: #800000; text-decoration-color: #800000; font-weight: bold\">ERROR   </span> <span style=\"font-weight: bold\">[</span>rocks<span style=\"font-weight: bold\">]</span> Could not identify <span style=\"color: #008000; text-decoration-color: #008000\">'2007 AS01'</span>.                                                                   \n",
       "</pre>\n"
      ],
      "text/plain": [
       "\u001b[1;31mERROR   \u001b[0m \u001b[1m[\u001b[0mrocks\u001b[1m]\u001b[0m Could not identify \u001b[32m'2007 AS01'\u001b[0m.                                                                   \n"
      ]
     },
     "metadata": {},
     "output_type": "display_data"
    },
    {
     "data": {
      "text/html": [
       "<pre style=\"white-space:pre;overflow-x:auto;line-height:normal;font-family:Menlo,'DejaVu Sans Mono',consolas,'Courier New',monospace\"><span style=\"color: #800000; text-decoration-color: #800000; font-weight: bold\">ERROR   </span> <span style=\"font-weight: bold\">[</span>rocks<span style=\"font-weight: bold\">]</span> Could not identify <span style=\"color: #008000; text-decoration-color: #008000\">'2015 MO01'</span>.                                                                   \n",
       "</pre>\n"
      ],
      "text/plain": [
       "\u001b[1;31mERROR   \u001b[0m \u001b[1m[\u001b[0mrocks\u001b[1m]\u001b[0m Could not identify \u001b[32m'2015 MO01'\u001b[0m.                                                                   \n"
      ]
     },
     "metadata": {},
     "output_type": "display_data"
    },
    {
     "data": {
      "text/html": [
       "<pre style=\"white-space:pre;overflow-x:auto;line-height:normal;font-family:Menlo,'DejaVu Sans Mono',consolas,'Courier New',monospace\"><span style=\"color: #800000; text-decoration-color: #800000; font-weight: bold\">ERROR   </span> <span style=\"font-weight: bold\">[</span>rocks<span style=\"font-weight: bold\">]</span> Could not identify <span style=\"color: #008000; text-decoration-color: #008000\">'2020 KU04'</span>.                                                                   \n",
       "</pre>\n"
      ],
      "text/plain": [
       "\u001b[1;31mERROR   \u001b[0m \u001b[1m[\u001b[0mrocks\u001b[1m]\u001b[0m Could not identify \u001b[32m'2020 KU04'\u001b[0m.                                                                   \n"
      ]
     },
     "metadata": {},
     "output_type": "display_data"
    },
    {
     "data": {
      "text/html": [
       "<pre style=\"white-space:pre;overflow-x:auto;line-height:normal;font-family:Menlo,'DejaVu Sans Mono',consolas,'Courier New',monospace\"><span style=\"color: #800000; text-decoration-color: #800000; font-weight: bold\">ERROR   </span> <span style=\"font-weight: bold\">[</span>rocks<span style=\"font-weight: bold\">]</span> Could not identify <span style=\"color: #008000; text-decoration-color: #008000\">'2020 VF01'</span>.                                                                   \n",
       "</pre>\n"
      ],
      "text/plain": [
       "\u001b[1;31mERROR   \u001b[0m \u001b[1m[\u001b[0mrocks\u001b[1m]\u001b[0m Could not identify \u001b[32m'2020 VF01'\u001b[0m.                                                                   \n"
      ]
     },
     "metadata": {},
     "output_type": "display_data"
    },
    {
     "data": {
      "text/html": [
       "<pre style=\"white-space:pre;overflow-x:auto;line-height:normal;font-family:Menlo,'DejaVu Sans Mono',consolas,'Courier New',monospace\"><span style=\"color: #800000; text-decoration-color: #800000; font-weight: bold\">ERROR   </span> <span style=\"font-weight: bold\">[</span>rocks<span style=\"font-weight: bold\">]</span> Could not identify <span style=\"color: #008000; text-decoration-color: #008000\">'2003 VA03'</span>.                                                                   \n",
       "</pre>\n"
      ],
      "text/plain": [
       "\u001b[1;31mERROR   \u001b[0m \u001b[1m[\u001b[0mrocks\u001b[1m]\u001b[0m Could not identify \u001b[32m'2003 VA03'\u001b[0m.                                                                   \n"
      ]
     },
     "metadata": {},
     "output_type": "display_data"
    },
    {
     "data": {
      "text/html": [
       "<pre style=\"white-space:pre;overflow-x:auto;line-height:normal;font-family:Menlo,'DejaVu Sans Mono',consolas,'Courier New',monospace\"><span style=\"color: #800000; text-decoration-color: #800000; font-weight: bold\">ERROR   </span> <span style=\"font-weight: bold\">[</span>rocks<span style=\"font-weight: bold\">]</span> Could not identify <span style=\"color: #008000; text-decoration-color: #008000\">'2016 QP01'</span>.                                                                   \n",
       "</pre>\n"
      ],
      "text/plain": [
       "\u001b[1;31mERROR   \u001b[0m \u001b[1m[\u001b[0mrocks\u001b[1m]\u001b[0m Could not identify \u001b[32m'2016 QP01'\u001b[0m.                                                                   \n"
      ]
     },
     "metadata": {},
     "output_type": "display_data"
    },
    {
     "data": {
      "text/html": [
       "<pre style=\"white-space:pre;overflow-x:auto;line-height:normal;font-family:Menlo,'DejaVu Sans Mono',consolas,'Courier New',monospace\"><span style=\"color: #800000; text-decoration-color: #800000; font-weight: bold\">ERROR   </span> <span style=\"font-weight: bold\">[</span>rocks<span style=\"font-weight: bold\">]</span> Could not identify <span style=\"color: #008000; text-decoration-color: #008000\">'2007 TG08'</span>.                                                                   \n",
       "</pre>\n"
      ],
      "text/plain": [
       "\u001b[1;31mERROR   \u001b[0m \u001b[1m[\u001b[0mrocks\u001b[1m]\u001b[0m Could not identify \u001b[32m'2007 TG08'\u001b[0m.                                                                   \n"
      ]
     },
     "metadata": {},
     "output_type": "display_data"
    },
    {
     "data": {
      "text/html": [
       "<pre style=\"white-space:pre;overflow-x:auto;line-height:normal;font-family:Menlo,'DejaVu Sans Mono',consolas,'Courier New',monospace\"><span style=\"color: #800000; text-decoration-color: #800000; font-weight: bold\">ERROR   </span> <span style=\"font-weight: bold\">[</span>rocks<span style=\"font-weight: bold\">]</span> Could not identify <span style=\"color: #008000; text-decoration-color: #008000\">'2016 OQ02'</span>.                                                                   \n",
       "</pre>\n"
      ],
      "text/plain": [
       "\u001b[1;31mERROR   \u001b[0m \u001b[1m[\u001b[0mrocks\u001b[1m]\u001b[0m Could not identify \u001b[32m'2016 OQ02'\u001b[0m.                                                                   \n"
      ]
     },
     "metadata": {},
     "output_type": "display_data"
    },
    {
     "data": {
      "text/html": [
       "<pre style=\"white-space:pre;overflow-x:auto;line-height:normal;font-family:Menlo,'DejaVu Sans Mono',consolas,'Courier New',monospace\"><span style=\"color: #800000; text-decoration-color: #800000; font-weight: bold\">ERROR   </span> <span style=\"font-weight: bold\">[</span>rocks<span style=\"font-weight: bold\">]</span> Could not identify <span style=\"color: #008000; text-decoration-color: #008000\">'2009 CC03'</span>.                                                                   \n",
       "</pre>\n"
      ],
      "text/plain": [
       "\u001b[1;31mERROR   \u001b[0m \u001b[1m[\u001b[0mrocks\u001b[1m]\u001b[0m Could not identify \u001b[32m'2009 CC03'\u001b[0m.                                                                   \n"
      ]
     },
     "metadata": {},
     "output_type": "display_data"
    },
    {
     "data": {
      "text/html": [
       "<pre style=\"white-space:pre;overflow-x:auto;line-height:normal;font-family:Menlo,'DejaVu Sans Mono',consolas,'Courier New',monospace\">\n",
       "</pre>\n"
      ],
      "text/plain": [
       "\n"
      ]
     },
     "metadata": {},
     "output_type": "display_data"
    }
   ],
   "source": [
    "# HG to data\n",
    "names_numbers = rocks.identify(data_hg.ssnamenr)\n",
    "data_hg['number'] = [nn[1] for nn in names_numbers]\n",
    "data_hg['name'] = [nn[0] for nn in names_numbers]\n",
    "\n",
    "data_hg['minphase'] = np.rad2deg(data_hg['params'].apply(lambda x: x['minphase']).values)\n",
    "data_hg['maxphase'] = np.rad2deg(data_hg['params'].apply(lambda x: x['maxphase']).values)\n",
    "data_hg['n_days'] = data_hg['ndays']\n",
    "data_hg['n_obs'] = data_hg['nmeasurements']\n",
    "\n",
    "data_hg['HG_H'] = data_hg['params'].apply(lambda x: x['H']).values\n",
    "data_hg['HG_dH'] = data_hg['params'].apply(lambda x: x['errH']).values\n",
    "data_hg['HG_G'] = data_hg['params'].apply(lambda x: x['G']).values\n",
    "data_hg['HG_dG'] = data_hg['params'].apply(lambda x: x['errG']).values\n",
    "\n",
    "data_hg['HG_rms'] = data_hg['params'].apply(lambda x: x['rms']).values\n",
    "data_hg['HG_chi2red'] = data_hg['params'].apply(lambda x: x['chi2red']).values\n",
    "\n",
    "data_hg = data_hg.drop(columns=[ 'nmeasurements', 'ndays', 'params'])\n",
    "\n",
    "cond = data_hg.name.notna()\n",
    "data_hg = data_hg[cond].reset_index(drop=True)"
   ]
  },
  {
   "cell_type": "code",
   "execution_count": 7,
   "id": "08bc86c8-5353-46f4-a6dd-037f73caff50",
   "metadata": {},
   "outputs": [],
   "source": [
    "# HG1G2 to data\n",
    "data_hg1g2['HG1G2_H'] = data_hg1g2['params'].apply(lambda x: x['H']).values\n",
    "data_hg1g2['HG1G2_dH'] = data_hg1g2['params'].apply(lambda x: x['errH']).values\n",
    "data_hg1g2['HG1G2_G1'] = data_hg1g2['params'].apply(lambda x: x['G1']).values\n",
    "data_hg1g2['HG1G2_dG1'] = data_hg1g2['params'].apply(lambda x: x['errG1']).values\n",
    "data_hg1g2['HG1G2_G2'] = data_hg1g2['params'].apply(lambda x: x['G2']).values\n",
    "data_hg1g2['HG1G2_dG2'] = data_hg1g2['params'].apply(lambda x: x['errG2']).values\n",
    "\n",
    "# data_hg1g2['HG1G2_minphase'] = np.rad2deg(data_hg1g2['params'].apply(lambda x: x['minphase']).values)\n",
    "# data_hg1g2['HG1G2_maxphase'] = np.rad2deg(data_hg1g2['params'].apply(lambda x: x['maxphase']).values)\n",
    "# data_hg1g2['HG1G2_n_days'] = data_hg1g2['ndays']\n",
    "# data_hg1g2['HG1G2_n_obs'] = data_hg1g2['nmeasurements']\n",
    "data_hg1g2['HG1G2_rms'] = data_hg1g2['params'].apply(lambda x: x['rms']).values\n",
    "data_hg1g2['HG1G2_chi2red'] = data_hg1g2['params'].apply(lambda x: x['chi2red']).values\n",
    "\n",
    "data_hg1g2 = data_hg1g2.drop(columns=['nmeasurements', 'ndays', 'params'])"
   ]
  },
  {
   "cell_type": "code",
   "execution_count": 8,
   "id": "9c0272c2-f699-4427-bd26-e436fbd93baf",
   "metadata": {},
   "outputs": [],
   "source": [
    "# HG1G2spin to data\n",
    "data_hg1g2sp['HG1G2sp_H'] = data_hg1g2sp['params'].apply(lambda x: x['H']).values\n",
    "data_hg1g2sp['HG1G2sp_dH'] = data_hg1g2sp['params'].apply(lambda x: x['errH']).values\n",
    "data_hg1g2sp['HG1G2sp_G1'] = data_hg1g2sp['params'].apply(lambda x: x['G1']).values\n",
    "data_hg1g2sp['HG1G2sp_dG1'] = data_hg1g2sp['params'].apply(lambda x: x['errG1']).values\n",
    "data_hg1g2sp['HG1G2sp_G2'] = data_hg1g2sp['params'].apply(lambda x: x['G2']).values\n",
    "data_hg1g2sp['HG1G2sp_dG2'] = data_hg1g2sp['params'].apply(lambda x: x['errG2']).values\n",
    "\n",
    "data_hg1g2sp['HG1G2sp_RA0'] = np.degrees(data_hg1g2sp['params'].apply(lambda x: x['RA0']).values)\n",
    "data_hg1g2sp['HG1G2sp_dRA0'] = np.degrees(data_hg1g2sp['params'].apply(lambda x: x['errRA0']).values)\n",
    "data_hg1g2sp['HG1G2sp_DEC0'] = np.degrees(data_hg1g2sp['params'].apply(lambda x: x['DEC0']).values)\n",
    "data_hg1g2sp['HG1G2sp_dDEC0'] = np.degrees(data_hg1g2sp['params'].apply(lambda x: x['errDEC0']).values)\n",
    "data_hg1g2sp['HG1G2sp_R'] = data_hg1g2sp['params'].apply(lambda x: x['R']).values\n",
    "data_hg1g2sp['HG1G2sp_dR'] = data_hg1g2sp['params'].apply(lambda x: x['errR']).values\n",
    "\n",
    "data_hg1g2sp['HG1G2sp_rms'] = data_hg1g2sp['params'].apply(lambda x: x['rms']).values\n",
    "data_hg1g2sp['HG1G2sp_chi2red'] = data_hg1g2sp['params'].apply(lambda x: x['chi2red']).values\n",
    "# data_hg1g2sp['HG1G2sp_minphase'] = np.rad2deg(data_hg1g2sp['params'].apply(lambda x: x['minphase']).values)\n",
    "# data_hg1g2sp['HG1G2sp_maxphase'] = np.rad2deg(data_hg1g2sp['params'].apply(lambda x: x['maxphase']).values)\n",
    "# data_hg1g2sp['HG1G2sp_n_days'] = data_hg1g2sp['ndays']\n",
    "# data_hg1g2sp['HG1G2sp_n_obs'] = data_hg1g2sp['nmeasurements']\n",
    "\n",
    "data_hg1g2sp = data_hg1g2sp.drop(columns=['nmeasurements', 'ndays', 'params'])"
   ]
  },
  {
   "cell_type": "code",
   "execution_count": 9,
   "id": "d3d94847-a6e4-4b93-9508-3fb0f41c32dd",
   "metadata": {},
   "outputs": [],
   "source": [
    "# HG1G2hyb to data\n",
    "for filt in filters.keys():\n",
    "    data_hg1g2hyb['HG1G2hyb_H_{}'.format(filters[filt])] = data_hg1g2hyb['params'].apply(lambda x: x['H_{}'.format(filt)]).values\n",
    "    data_hg1g2hyb['HG1G2hyb_dH_{}'.format(filters[filt])] = data_hg1g2hyb['params'].apply(lambda x: x['errH_{}'.format(filt)]).values\n",
    "    data_hg1g2hyb['HG1G2hyb_G1_{}'.format(filters[filt])] = data_hg1g2hyb['params'].apply(lambda x: x['G1_{}'.format(filt)]).values\n",
    "    data_hg1g2hyb['HG1G2hyb_dG1_{}'.format(filters[filt])] = data_hg1g2hyb['params'].apply(lambda x: x['errG1_{}'.format(filt)]).values\n",
    "    data_hg1g2hyb['HG1G2hyb_G2_{}'.format(filters[filt])] = data_hg1g2hyb['params'].apply(lambda x: x['G2_{}'.format(filt)]).values\n",
    "    data_hg1g2hyb['HG1G2hyb_dG2_{}'.format(filters[filt])] = data_hg1g2hyb['params'].apply(lambda x: x['errG2_{}'.format(filt)]).values\n",
    "    \n",
    "\n",
    "data_hg1g2hyb['HG1G2hyb_RA0'] = np.degrees(data_hg1g2hyb['params'].apply(lambda x: x['alpha0']).values)\n",
    "data_hg1g2hyb['HG1G2hyb_dRA0'] = np.degrees(data_hg1g2hyb['params'].apply(lambda x: x['erralpha0']).values)\n",
    "data_hg1g2hyb['HG1G2hyb_DEC0'] = np.degrees(data_hg1g2hyb['params'].apply(lambda x: x['delta0']).values)\n",
    "data_hg1g2hyb['HG1G2hyb_dDEC0'] = np.degrees(data_hg1g2hyb['params'].apply(lambda x: x['errdelta0']).values)\n",
    "data_hg1g2hyb['HG1G2hyb_R'] = data_hg1g2hyb['params'].apply(lambda x: x['R']).values\n",
    "data_hg1g2hyb['HG1G2hyb_dR'] = data_hg1g2hyb['params'].apply(lambda x: x['errR']).values\n",
    "\n",
    "data_hg1g2hyb['HG1G2hyb_rms'] = data_hg1g2hyb['params'].apply(lambda x: x['rms']).values\n",
    "data_hg1g2hyb['HG1G2hyb_chi2red'] = data_hg1g2hyb['params'].apply(lambda x: x['chi2red']).values\n",
    "data_hg1g2hyb['HG1G2hyb_n_oppo'] = data_hg1g2hyb['params'].apply(lambda x: x['noppositions']).values\n",
    "data_hg1g2hyb['HG1G2hyb_status'] = data_hg1g2hyb['params'].apply(lambda x: x['status']).values\n",
    "data_hg1g2hyb['HG1G2hyb_fit'] = data_hg1g2hyb['params'].apply(lambda x: x['fit']).values\n",
    "# data_hg1g2hyb['HG1G2hyb_minphase'] = np.rad2deg(data_hg1g2hyb['params'].apply(lambda x: x['minphase']).values)\n",
    "# data_hg1g2hyb['HG1G2hyb_maxphase'] = np.rad2deg(data_hg1g2hyb['params'].apply(lambda x: x['maxphase']).values)\n",
    "# data_hg1g2hyb['HG1G2hyb_n_days'] = data_hg1g2hyb['ndays']\n",
    "# data_hg1g2hyb['HG1G2hyb_n_obs'] = data_hg1g2hyb['nmeasurements']\n",
    "\n",
    "data_hg1g2hyb = data_hg1g2hyb.drop(columns=['nmeasurements', 'ndays', 'params'])\n"
   ]
  },
  {
   "cell_type": "code",
   "execution_count": 10,
   "id": "9c203198-a6a1-4eba-89a9-37e5460129fa",
   "metadata": {},
   "outputs": [],
   "source": [
    "# HG with HG1G2\n",
    "data_2 = data_hg.merge( data_hg1g2, on='ssnamenr')\n",
    "\n",
    "# (HG with HG1G2) wth HG1G2spin\n",
    "data_3 = data_2.merge( data_hg1g2sp, on='ssnamenr')\n",
    "\n",
    "# ((HG with HG1G2) wth HG1G2spin) with hybrid\n",
    "data = data_3.merge( data_hg1g2hyb, on='ssnamenr')"
   ]
  },
  {
   "cell_type": "code",
   "execution_count": 11,
   "id": "ec887062-3de0-4ee8-8d96-6d78348fe855",
   "metadata": {},
   "outputs": [
    {
     "data": {
      "text/plain": [
       "(104165, 104165, 104242, 104242, 104242, 104242)"
      ]
     },
     "execution_count": 11,
     "metadata": {},
     "output_type": "execute_result"
    }
   ],
   "source": [
    "len(data), len(data_hg), len(data_hg12),  len(data_hg1g2),  len(data_hg1g2sp),  len(data_hg1g2hyb)"
   ]
  },
  {
   "cell_type": "code",
   "execution_count": 12,
   "id": "16482917-0cc7-4d01-8eec-9c97818980a0",
   "metadata": {},
   "outputs": [
    {
     "data": {
      "text/html": [
       "<div>\n",
       "<style scoped>\n",
       "    .dataframe tbody tr th:only-of-type {\n",
       "        vertical-align: middle;\n",
       "    }\n",
       "\n",
       "    .dataframe tbody tr th {\n",
       "        vertical-align: top;\n",
       "    }\n",
       "\n",
       "    .dataframe thead th {\n",
       "        text-align: right;\n",
       "    }\n",
       "</style>\n",
       "<table border=\"1\" class=\"dataframe\">\n",
       "  <thead>\n",
       "    <tr style=\"text-align: right;\">\n",
       "      <th></th>\n",
       "      <th>ssnamenr</th>\n",
       "      <th>number</th>\n",
       "      <th>name</th>\n",
       "      <th>minphase</th>\n",
       "      <th>maxphase</th>\n",
       "      <th>n_days</th>\n",
       "      <th>n_obs</th>\n",
       "      <th>HG_H</th>\n",
       "      <th>HG_dH</th>\n",
       "      <th>HG_G</th>\n",
       "      <th>...</th>\n",
       "      <th>HG1G2hyb_dRA0</th>\n",
       "      <th>HG1G2hyb_DEC0</th>\n",
       "      <th>HG1G2hyb_dDEC0</th>\n",
       "      <th>HG1G2hyb_R</th>\n",
       "      <th>HG1G2hyb_dR</th>\n",
       "      <th>HG1G2hyb_rms</th>\n",
       "      <th>HG1G2hyb_chi2red</th>\n",
       "      <th>HG1G2hyb_n_oppo</th>\n",
       "      <th>HG1G2hyb_status</th>\n",
       "      <th>HG1G2hyb_fit</th>\n",
       "    </tr>\n",
       "  </thead>\n",
       "  <tbody>\n",
       "    <tr>\n",
       "      <th>0</th>\n",
       "      <td>3378</td>\n",
       "      <td>3378</td>\n",
       "      <td>Susanvictoria</td>\n",
       "      <td>7.209902</td>\n",
       "      <td>27.973639</td>\n",
       "      <td>694.757685</td>\n",
       "      <td>163</td>\n",
       "      <td>13.835591</td>\n",
       "      <td>0.073765</td>\n",
       "      <td>0.186857</td>\n",
       "      <td>...</td>\n",
       "      <td>9.557656</td>\n",
       "      <td>-12.798546</td>\n",
       "      <td>17.716061</td>\n",
       "      <td>0.703476</td>\n",
       "      <td>0.037446</td>\n",
       "      <td>0.157521</td>\n",
       "      <td>15.592551</td>\n",
       "      <td>5.0</td>\n",
       "      <td>2.0</td>\n",
       "      <td>0.0</td>\n",
       "    </tr>\n",
       "    <tr>\n",
       "      <th>1</th>\n",
       "      <td>66214</td>\n",
       "      <td>66214</td>\n",
       "      <td>1999 CO36</td>\n",
       "      <td>2.763971</td>\n",
       "      <td>24.397613</td>\n",
       "      <td>972.951458</td>\n",
       "      <td>73</td>\n",
       "      <td>15.128266</td>\n",
       "      <td>0.062540</td>\n",
       "      <td>0.027824</td>\n",
       "      <td>...</td>\n",
       "      <td>29.987010</td>\n",
       "      <td>57.333735</td>\n",
       "      <td>17.228420</td>\n",
       "      <td>0.584858</td>\n",
       "      <td>0.294525</td>\n",
       "      <td>0.226982</td>\n",
       "      <td>6.271087</td>\n",
       "      <td>6.0</td>\n",
       "      <td>2.0</td>\n",
       "      <td>0.0</td>\n",
       "    </tr>\n",
       "    <tr>\n",
       "      <th>2</th>\n",
       "      <td>30141</td>\n",
       "      <td>30141</td>\n",
       "      <td>Nelvenzon</td>\n",
       "      <td>3.434811</td>\n",
       "      <td>23.955449</td>\n",
       "      <td>621.800359</td>\n",
       "      <td>53</td>\n",
       "      <td>16.165762</td>\n",
       "      <td>0.136274</td>\n",
       "      <td>0.613963</td>\n",
       "      <td>...</td>\n",
       "      <td>3.850597</td>\n",
       "      <td>57.829176</td>\n",
       "      <td>9.215828</td>\n",
       "      <td>0.100000</td>\n",
       "      <td>0.459288</td>\n",
       "      <td>0.248674</td>\n",
       "      <td>10.099229</td>\n",
       "      <td>5.0</td>\n",
       "      <td>2.0</td>\n",
       "      <td>0.0</td>\n",
       "    </tr>\n",
       "    <tr>\n",
       "      <th>3</th>\n",
       "      <td>161891</td>\n",
       "      <td>161891</td>\n",
       "      <td>2007 DW10</td>\n",
       "      <td>1.758005</td>\n",
       "      <td>21.985170</td>\n",
       "      <td>632.723530</td>\n",
       "      <td>61</td>\n",
       "      <td>15.447201</td>\n",
       "      <td>0.046601</td>\n",
       "      <td>0.117947</td>\n",
       "      <td>...</td>\n",
       "      <td>44.012971</td>\n",
       "      <td>-74.451227</td>\n",
       "      <td>5.611651</td>\n",
       "      <td>0.100000</td>\n",
       "      <td>0.724887</td>\n",
       "      <td>0.118081</td>\n",
       "      <td>1.002377</td>\n",
       "      <td>2.0</td>\n",
       "      <td>2.0</td>\n",
       "      <td>0.0</td>\n",
       "    </tr>\n",
       "    <tr>\n",
       "      <th>4</th>\n",
       "      <td>85970</td>\n",
       "      <td>85970</td>\n",
       "      <td>Fundacaoterra</td>\n",
       "      <td>0.822790</td>\n",
       "      <td>22.376936</td>\n",
       "      <td>998.833889</td>\n",
       "      <td>54</td>\n",
       "      <td>15.927574</td>\n",
       "      <td>0.101270</td>\n",
       "      <td>0.443576</td>\n",
       "      <td>...</td>\n",
       "      <td>250.401893</td>\n",
       "      <td>41.637127</td>\n",
       "      <td>359.407232</td>\n",
       "      <td>0.874673</td>\n",
       "      <td>0.914385</td>\n",
       "      <td>0.241814</td>\n",
       "      <td>4.502612</td>\n",
       "      <td>6.0</td>\n",
       "      <td>4.0</td>\n",
       "      <td>0.0</td>\n",
       "    </tr>\n",
       "    <tr>\n",
       "      <th>...</th>\n",
       "      <td>...</td>\n",
       "      <td>...</td>\n",
       "      <td>...</td>\n",
       "      <td>...</td>\n",
       "      <td>...</td>\n",
       "      <td>...</td>\n",
       "      <td>...</td>\n",
       "      <td>...</td>\n",
       "      <td>...</td>\n",
       "      <td>...</td>\n",
       "      <td>...</td>\n",
       "      <td>...</td>\n",
       "      <td>...</td>\n",
       "      <td>...</td>\n",
       "      <td>...</td>\n",
       "      <td>...</td>\n",
       "      <td>...</td>\n",
       "      <td>...</td>\n",
       "      <td>...</td>\n",
       "      <td>...</td>\n",
       "      <td>...</td>\n",
       "    </tr>\n",
       "    <tr>\n",
       "      <th>104160</th>\n",
       "      <td>64758</td>\n",
       "      <td>64758</td>\n",
       "      <td>2001 XL163</td>\n",
       "      <td>1.497470</td>\n",
       "      <td>29.740566</td>\n",
       "      <td>608.827500</td>\n",
       "      <td>79</td>\n",
       "      <td>15.778768</td>\n",
       "      <td>0.072580</td>\n",
       "      <td>0.114509</td>\n",
       "      <td>...</td>\n",
       "      <td>14.982418</td>\n",
       "      <td>51.910852</td>\n",
       "      <td>12.906577</td>\n",
       "      <td>0.100000</td>\n",
       "      <td>0.394077</td>\n",
       "      <td>0.140667</td>\n",
       "      <td>2.366890</td>\n",
       "      <td>4.0</td>\n",
       "      <td>2.0</td>\n",
       "      <td>0.0</td>\n",
       "    </tr>\n",
       "    <tr>\n",
       "      <th>104161</th>\n",
       "      <td>76784</td>\n",
       "      <td>76784</td>\n",
       "      <td>2000 KR71</td>\n",
       "      <td>1.830102</td>\n",
       "      <td>25.589995</td>\n",
       "      <td>990.106308</td>\n",
       "      <td>82</td>\n",
       "      <td>15.468660</td>\n",
       "      <td>0.065853</td>\n",
       "      <td>0.093753</td>\n",
       "      <td>...</td>\n",
       "      <td>9.315215</td>\n",
       "      <td>-13.761004</td>\n",
       "      <td>42.692961</td>\n",
       "      <td>0.770202</td>\n",
       "      <td>0.122511</td>\n",
       "      <td>0.217536</td>\n",
       "      <td>4.852270</td>\n",
       "      <td>5.0</td>\n",
       "      <td>2.0</td>\n",
       "      <td>0.0</td>\n",
       "    </tr>\n",
       "    <tr>\n",
       "      <th>104162</th>\n",
       "      <td>181960</td>\n",
       "      <td>181960</td>\n",
       "      <td>1999 UM24</td>\n",
       "      <td>1.875814</td>\n",
       "      <td>18.193628</td>\n",
       "      <td>973.847419</td>\n",
       "      <td>107</td>\n",
       "      <td>14.037718</td>\n",
       "      <td>0.076177</td>\n",
       "      <td>0.000482</td>\n",
       "      <td>...</td>\n",
       "      <td>11.998336</td>\n",
       "      <td>-47.884875</td>\n",
       "      <td>44.613792</td>\n",
       "      <td>0.862264</td>\n",
       "      <td>0.068049</td>\n",
       "      <td>0.175417</td>\n",
       "      <td>3.266537</td>\n",
       "      <td>5.0</td>\n",
       "      <td>2.0</td>\n",
       "      <td>0.0</td>\n",
       "    </tr>\n",
       "    <tr>\n",
       "      <th>104163</th>\n",
       "      <td>366616</td>\n",
       "      <td>366616</td>\n",
       "      <td>2003 NP4</td>\n",
       "      <td>26.050772</td>\n",
       "      <td>37.302272</td>\n",
       "      <td>242.663241</td>\n",
       "      <td>153</td>\n",
       "      <td>16.717611</td>\n",
       "      <td>0.113371</td>\n",
       "      <td>0.149370</td>\n",
       "      <td>...</td>\n",
       "      <td>24.838405</td>\n",
       "      <td>-8.836291</td>\n",
       "      <td>26.896569</td>\n",
       "      <td>0.792875</td>\n",
       "      <td>0.229879</td>\n",
       "      <td>0.118694</td>\n",
       "      <td>2.036077</td>\n",
       "      <td>2.0</td>\n",
       "      <td>2.0</td>\n",
       "      <td>0.0</td>\n",
       "    </tr>\n",
       "    <tr>\n",
       "      <th>104164</th>\n",
       "      <td>222006</td>\n",
       "      <td>222006</td>\n",
       "      <td>1998 QJ59</td>\n",
       "      <td>2.836991</td>\n",
       "      <td>25.515992</td>\n",
       "      <td>623.817755</td>\n",
       "      <td>60</td>\n",
       "      <td>15.705935</td>\n",
       "      <td>0.052364</td>\n",
       "      <td>0.018479</td>\n",
       "      <td>...</td>\n",
       "      <td>1520.535183</td>\n",
       "      <td>30.849434</td>\n",
       "      <td>238.035234</td>\n",
       "      <td>0.930991</td>\n",
       "      <td>0.456307</td>\n",
       "      <td>0.088687</td>\n",
       "      <td>0.778103</td>\n",
       "      <td>1.0</td>\n",
       "      <td>2.0</td>\n",
       "      <td>0.0</td>\n",
       "    </tr>\n",
       "  </tbody>\n",
       "</table>\n",
       "<p>104165 rows × 70 columns</p>\n",
       "</div>"
      ],
      "text/plain": [
       "       ssnamenr  number           name   minphase   maxphase      n_days  \\\n",
       "0          3378    3378  Susanvictoria   7.209902  27.973639  694.757685   \n",
       "1         66214   66214      1999 CO36   2.763971  24.397613  972.951458   \n",
       "2         30141   30141      Nelvenzon   3.434811  23.955449  621.800359   \n",
       "3        161891  161891      2007 DW10   1.758005  21.985170  632.723530   \n",
       "4         85970   85970  Fundacaoterra   0.822790  22.376936  998.833889   \n",
       "...         ...     ...            ...        ...        ...         ...   \n",
       "104160    64758   64758     2001 XL163   1.497470  29.740566  608.827500   \n",
       "104161    76784   76784      2000 KR71   1.830102  25.589995  990.106308   \n",
       "104162   181960  181960      1999 UM24   1.875814  18.193628  973.847419   \n",
       "104163   366616  366616       2003 NP4  26.050772  37.302272  242.663241   \n",
       "104164   222006  222006      1998 QJ59   2.836991  25.515992  623.817755   \n",
       "\n",
       "        n_obs       HG_H     HG_dH      HG_G  ...  HG1G2hyb_dRA0  \\\n",
       "0         163  13.835591  0.073765  0.186857  ...       9.557656   \n",
       "1          73  15.128266  0.062540  0.027824  ...      29.987010   \n",
       "2          53  16.165762  0.136274  0.613963  ...       3.850597   \n",
       "3          61  15.447201  0.046601  0.117947  ...      44.012971   \n",
       "4          54  15.927574  0.101270  0.443576  ...     250.401893   \n",
       "...       ...        ...       ...       ...  ...            ...   \n",
       "104160     79  15.778768  0.072580  0.114509  ...      14.982418   \n",
       "104161     82  15.468660  0.065853  0.093753  ...       9.315215   \n",
       "104162    107  14.037718  0.076177  0.000482  ...      11.998336   \n",
       "104163    153  16.717611  0.113371  0.149370  ...      24.838405   \n",
       "104164     60  15.705935  0.052364  0.018479  ...    1520.535183   \n",
       "\n",
       "        HG1G2hyb_DEC0  HG1G2hyb_dDEC0  HG1G2hyb_R  HG1G2hyb_dR  HG1G2hyb_rms  \\\n",
       "0          -12.798546       17.716061    0.703476     0.037446      0.157521   \n",
       "1           57.333735       17.228420    0.584858     0.294525      0.226982   \n",
       "2           57.829176        9.215828    0.100000     0.459288      0.248674   \n",
       "3          -74.451227        5.611651    0.100000     0.724887      0.118081   \n",
       "4           41.637127      359.407232    0.874673     0.914385      0.241814   \n",
       "...               ...             ...         ...          ...           ...   \n",
       "104160      51.910852       12.906577    0.100000     0.394077      0.140667   \n",
       "104161     -13.761004       42.692961    0.770202     0.122511      0.217536   \n",
       "104162     -47.884875       44.613792    0.862264     0.068049      0.175417   \n",
       "104163      -8.836291       26.896569    0.792875     0.229879      0.118694   \n",
       "104164      30.849434      238.035234    0.930991     0.456307      0.088687   \n",
       "\n",
       "        HG1G2hyb_chi2red  HG1G2hyb_n_oppo  HG1G2hyb_status  HG1G2hyb_fit  \n",
       "0              15.592551              5.0              2.0           0.0  \n",
       "1               6.271087              6.0              2.0           0.0  \n",
       "2              10.099229              5.0              2.0           0.0  \n",
       "3               1.002377              2.0              2.0           0.0  \n",
       "4               4.502612              6.0              4.0           0.0  \n",
       "...                  ...              ...              ...           ...  \n",
       "104160          2.366890              4.0              2.0           0.0  \n",
       "104161          4.852270              5.0              2.0           0.0  \n",
       "104162          3.266537              5.0              2.0           0.0  \n",
       "104163          2.036077              2.0              2.0           0.0  \n",
       "104164          0.778103              1.0              2.0           0.0  \n",
       "\n",
       "[104165 rows x 70 columns]"
      ]
     },
     "execution_count": 12,
     "metadata": {},
     "output_type": "execute_result"
    }
   ],
   "source": [
    "data = data.astype({'number':'Int64'})\n",
    "data"
   ]
  },
  {
   "cell_type": "code",
   "execution_count": 13,
   "id": "6e32343b-14ea-4269-b257-0d6fd859acba",
   "metadata": {},
   "outputs": [],
   "source": [
    "data.to_parquet(f'{data_fink}data/sso_bft_50_inf_allsolutions.parquet')"
   ]
  },
  {
   "cell_type": "code",
   "execution_count": 14,
   "id": "41118d53-6948-419f-8b89-9d4d4d418e61",
   "metadata": {},
   "outputs": [
    {
     "data": {
      "text/plain": [
       "Index(['ssnamenr', 'number', 'name', 'minphase', 'maxphase', 'n_days', 'n_obs',\n",
       "       'HG_H', 'HG_dH', 'HG_G', 'HG_dG', 'HG_rms', 'HG_chi2red', 'HG1G2_H',\n",
       "       'HG1G2_dH', 'HG1G2_G1', 'HG1G2_dG1', 'HG1G2_G2', 'HG1G2_dG2',\n",
       "       'HG1G2_rms', 'HG1G2_chi2red', 'HG1G2sp_H', 'HG1G2sp_dH', 'HG1G2sp_G1',\n",
       "       'HG1G2sp_dG1', 'HG1G2sp_G2', 'HG1G2sp_dG2', 'HG1G2sp_RA0',\n",
       "       'HG1G2sp_dRA0', 'HG1G2sp_DEC0', 'HG1G2sp_dDEC0', 'HG1G2sp_R',\n",
       "       'HG1G2sp_dR', 'HG1G2sp_rms', 'HG1G2sp_chi2red', 'HG1G2hyb_H_g',\n",
       "       'HG1G2hyb_dH_g', 'HG1G2hyb_G1_g', 'HG1G2hyb_dG1_g', 'HG1G2hyb_G2_g',\n",
       "       'HG1G2hyb_dG2_g', 'HG1G2hyb_H_r', 'HG1G2hyb_dH_r', 'HG1G2hyb_G1_r',\n",
       "       'HG1G2hyb_dG1_r', 'HG1G2hyb_G2_r', 'HG1G2hyb_dG2_r', 'HG1G2hyb_H_o',\n",
       "       'HG1G2hyb_dH_o', 'HG1G2hyb_G1_o', 'HG1G2hyb_dG1_o', 'HG1G2hyb_G2_o',\n",
       "       'HG1G2hyb_dG2_o', 'HG1G2hyb_H_c', 'HG1G2hyb_dH_c', 'HG1G2hyb_G1_c',\n",
       "       'HG1G2hyb_dG1_c', 'HG1G2hyb_G2_c', 'HG1G2hyb_dG2_c', 'HG1G2hyb_RA0',\n",
       "       'HG1G2hyb_dRA0', 'HG1G2hyb_DEC0', 'HG1G2hyb_dDEC0', 'HG1G2hyb_R',\n",
       "       'HG1G2hyb_dR', 'HG1G2hyb_rms', 'HG1G2hyb_chi2red', 'HG1G2hyb_n_oppo',\n",
       "       'HG1G2hyb_status', 'HG1G2hyb_fit'],\n",
       "      dtype='object')"
      ]
     },
     "execution_count": 14,
     "metadata": {},
     "output_type": "execute_result"
    }
   ],
   "source": [
    "data.columns"
   ]
  },
  {
   "cell_type": "code",
   "execution_count": null,
   "id": "c08be926-b6a1-4e8e-85af-97af25edf451",
   "metadata": {},
   "outputs": [],
   "source": []
  },
  {
   "cell_type": "code",
   "execution_count": null,
   "id": "73c1e35b-c951-412c-b5b4-f6e185bdab10",
   "metadata": {},
   "outputs": [],
   "source": []
  }
 ],
 "metadata": {
  "kernelspec": {
   "display_name": "Python 3 (ipykernel)",
   "language": "python",
   "name": "python3"
  },
  "language_info": {
   "codemirror_mode": {
    "name": "ipython",
    "version": 3
   },
   "file_extension": ".py",
   "mimetype": "text/x-python",
   "name": "python",
   "nbconvert_exporter": "python",
   "pygments_lexer": "ipython3",
   "version": "3.9.12"
  }
 },
 "nbformat": 4,
 "nbformat_minor": 5
}
