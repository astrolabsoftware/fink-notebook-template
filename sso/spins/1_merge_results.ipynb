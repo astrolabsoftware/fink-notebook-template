{
 "cells": [
  {
   "cell_type": "code",
   "execution_count": 1,
   "id": "c67cc7b8-e6e2-44d4-9be9-ddafd36bca34",
   "metadata": {},
   "outputs": [],
   "source": [
    "import glob\n",
    "import numpy as np\n",
    "import pandas as pd\n",
    "\n",
    "import matplotlib.pyplot as plt\n",
    "\n",
    "import rocks\n",
    "rocks.set_log_level(\"error\")\n",
    "import time as t\n",
    "\n",
    "\n",
    "from astropy.time import Time\n",
    "import requests\n",
    "import io\n",
    "\n",
    "import astropy.units as u\n",
    "from astropy.coordinates import SkyCoord\n",
    "from astropy.coordinates import angular_separation\n",
    "\n",
    "from fink_utils.sso import spins as finkus"
   ]
  },
  {
   "cell_type": "markdown",
   "id": "6198a3d1-286c-4c4b-806e-5c085aabc386",
   "metadata": {},
   "source": [
    "# Get ZTF fit"
   ]
  },
  {
   "cell_type": "code",
   "execution_count": 2,
   "id": "b76b0d15-20ce-4b38-907d-6ce100dfd15f",
   "metadata": {},
   "outputs": [],
   "source": [
    "# Local Configuration\n",
    "data_fink = '/data/fink/tutorials/sso/spins/'\n",
    "data_fink = './'\n",
    "\n",
    "# To choose the definition of sets\n",
    "# gold_silver_choice = 'julien'\n",
    "gold_silver_choice = 'benoit'"
   ]
  },
  {
   "cell_type": "code",
   "execution_count": 3,
   "id": "97ca23d0-f509-45ca-8cf0-0b427ef6c6d6",
   "metadata": {},
   "outputs": [],
   "source": [
    "\n",
    "# ZTF filters 1: g, 2: r\n",
    "filters = {'1': 'g', '2': 'r'}\n"
   ]
  },
  {
   "cell_type": "code",
   "execution_count": 4,
   "id": "6b4db0c1-36bc-4db9-b2d2-751e97ba0d35",
   "metadata": {},
   "outputs": [],
   "source": [
    "data_hg1g2hyb = pd.read_parquet(f'{data_fink}data/sso_bft_50_inf_hybrid_bounds.parquet')\n",
    "data_hg1g2sp = pd.read_parquet(f'{data_fink}data/sso_bft_50_inf_hg1g2spins.parquet')\n",
    "data_hg1g2 = pd.read_parquet(f'{data_fink}data/sso_bft_50_inf_hg1g2.parquet')\n",
    "data_hg12 = pd.read_parquet(f'{data_fink}data/sso_bft_50_inf_hg12.parquet')\n",
    "data_hg = pd.read_parquet(f'{data_fink}data/sso_bft_50_inf_hg.parquet')"
   ]
  },
  {
   "cell_type": "code",
   "execution_count": 5,
   "id": "08b33276-79b7-4a6e-b9f3-9780be262f6f",
   "metadata": {},
   "outputs": [
    {
     "data": {
      "text/plain": [
       "(104242, 104242, 104242, 104242, 104242)"
      ]
     },
     "execution_count": 5,
     "metadata": {},
     "output_type": "execute_result"
    }
   ],
   "source": [
    "len(data_hg), len(data_hg12),  len(data_hg1g2),  len(data_hg1g2sp),  len(data_hg1g2hyb)"
   ]
  },
  {
   "cell_type": "markdown",
   "id": "cf0502d9-96ac-47fd-81e8-117536a18681",
   "metadata": {},
   "source": [
    "# Reformat solutions"
   ]
  },
  {
   "cell_type": "code",
   "execution_count": 6,
   "id": "07e17835-8b81-4846-b2f8-f60660475ea0",
   "metadata": {},
   "outputs": [
    {
     "data": {
      "text/html": [
       "<pre style=\"white-space:pre;overflow-x:auto;line-height:normal;font-family:Menlo,'DejaVu Sans Mono',consolas,'Courier New',monospace\"><span style=\"color: #800000; text-decoration-color: #800000; font-weight: bold\">ERROR   </span> <span style=\"font-weight: bold\">[</span>rocks<span style=\"font-weight: bold\">]</span> Could not find match for id <span style=\"color: #008080; text-decoration-color: #008080; font-weight: bold\">2001</span> RD02.                                                            \n",
       "</pre>\n"
      ],
      "text/plain": [
       "\u001b[1;31mERROR   \u001b[0m \u001b[1m[\u001b[0mrocks\u001b[1m]\u001b[0m Could not find match for id \u001b[1;36m2001\u001b[0m RD02.                                                            \n"
      ]
     },
     "metadata": {},
     "output_type": "display_data"
    },
    {
     "data": {
      "text/html": [
       "<pre style=\"white-space:pre;overflow-x:auto;line-height:normal;font-family:Menlo,'DejaVu Sans Mono',consolas,'Courier New',monospace\"><span style=\"color: #800000; text-decoration-color: #800000; font-weight: bold\">ERROR   </span> <span style=\"font-weight: bold\">[</span>rocks<span style=\"font-weight: bold\">]</span> Could not find match for id <span style=\"color: #008080; text-decoration-color: #008080; font-weight: bold\">2003</span> RK07.                                                            \n",
       "</pre>\n"
      ],
      "text/plain": [
       "\u001b[1;31mERROR   \u001b[0m \u001b[1m[\u001b[0mrocks\u001b[1m]\u001b[0m Could not find match for id \u001b[1;36m2003\u001b[0m RK07.                                                            \n"
      ]
     },
     "metadata": {},
     "output_type": "display_data"
    },
    {
     "data": {
      "text/html": [
       "<pre style=\"white-space:pre;overflow-x:auto;line-height:normal;font-family:Menlo,'DejaVu Sans Mono',consolas,'Courier New',monospace\"><span style=\"color: #800000; text-decoration-color: #800000; font-weight: bold\">ERROR   </span> <span style=\"font-weight: bold\">[</span>rocks<span style=\"font-weight: bold\">]</span> Could not find match for id <span style=\"color: #008080; text-decoration-color: #008080; font-weight: bold\">2002</span> GZ08.                                                            \n",
       "</pre>\n"
      ],
      "text/plain": [
       "\u001b[1;31mERROR   \u001b[0m \u001b[1m[\u001b[0mrocks\u001b[1m]\u001b[0m Could not find match for id \u001b[1;36m2002\u001b[0m GZ08.                                                            \n"
      ]
     },
     "metadata": {},
     "output_type": "display_data"
    },
    {
     "data": {
      "text/html": [
       "<pre style=\"white-space:pre;overflow-x:auto;line-height:normal;font-family:Menlo,'DejaVu Sans Mono',consolas,'Courier New',monospace\"><span style=\"color: #800000; text-decoration-color: #800000; font-weight: bold\">ERROR   </span> <span style=\"font-weight: bold\">[</span>rocks<span style=\"font-weight: bold\">]</span> Could not find match for id <span style=\"color: #008080; text-decoration-color: #008080; font-weight: bold\">2016</span> QP01.                                                            \n",
       "</pre>\n"
      ],
      "text/plain": [
       "\u001b[1;31mERROR   \u001b[0m \u001b[1m[\u001b[0mrocks\u001b[1m]\u001b[0m Could not find match for id \u001b[1;36m2016\u001b[0m QP01.                                                            \n"
      ]
     },
     "metadata": {},
     "output_type": "display_data"
    },
    {
     "data": {
      "text/html": [
       "<pre style=\"white-space:pre;overflow-x:auto;line-height:normal;font-family:Menlo,'DejaVu Sans Mono',consolas,'Courier New',monospace\"><span style=\"color: #800000; text-decoration-color: #800000; font-weight: bold\">ERROR   </span> <span style=\"font-weight: bold\">[</span>rocks<span style=\"font-weight: bold\">]</span> Could not find match for id <span style=\"color: #008080; text-decoration-color: #008080; font-weight: bold\">2015</span> WV01.                                                            \n",
       "</pre>\n"
      ],
      "text/plain": [
       "\u001b[1;31mERROR   \u001b[0m \u001b[1m[\u001b[0mrocks\u001b[1m]\u001b[0m Could not find match for id \u001b[1;36m2015\u001b[0m WV01.                                                            \n"
      ]
     },
     "metadata": {},
     "output_type": "display_data"
    },
    {
     "data": {
      "text/html": [
       "<pre style=\"white-space:pre;overflow-x:auto;line-height:normal;font-family:Menlo,'DejaVu Sans Mono',consolas,'Courier New',monospace\"><span style=\"color: #800000; text-decoration-color: #800000; font-weight: bold\">ERROR   </span> <span style=\"font-weight: bold\">[</span>rocks<span style=\"font-weight: bold\">]</span> Could not find match for id <span style=\"color: #008080; text-decoration-color: #008080; font-weight: bold\">2014</span> KL05.                                                            \n",
       "</pre>\n"
      ],
      "text/plain": [
       "\u001b[1;31mERROR   \u001b[0m \u001b[1m[\u001b[0mrocks\u001b[1m]\u001b[0m Could not find match for id \u001b[1;36m2014\u001b[0m KL05.                                                            \n"
      ]
     },
     "metadata": {},
     "output_type": "display_data"
    },
    {
     "data": {
      "text/html": [
       "<pre style=\"white-space:pre;overflow-x:auto;line-height:normal;font-family:Menlo,'DejaVu Sans Mono',consolas,'Courier New',monospace\"><span style=\"color: #800000; text-decoration-color: #800000; font-weight: bold\">ERROR   </span> <span style=\"font-weight: bold\">[</span>rocks<span style=\"font-weight: bold\">]</span> Could not find match for id <span style=\"color: #008080; text-decoration-color: #008080; font-weight: bold\">2016</span> WQ05.                                                            \n",
       "</pre>\n"
      ],
      "text/plain": [
       "\u001b[1;31mERROR   \u001b[0m \u001b[1m[\u001b[0mrocks\u001b[1m]\u001b[0m Could not find match for id \u001b[1;36m2016\u001b[0m WQ05.                                                            \n"
      ]
     },
     "metadata": {},
     "output_type": "display_data"
    },
    {
     "data": {
      "text/html": [
       "<pre style=\"white-space:pre;overflow-x:auto;line-height:normal;font-family:Menlo,'DejaVu Sans Mono',consolas,'Courier New',monospace\"><span style=\"color: #800000; text-decoration-color: #800000; font-weight: bold\">ERROR   </span> <span style=\"font-weight: bold\">[</span>rocks<span style=\"font-weight: bold\">]</span> Could not find match for id <span style=\"color: #008080; text-decoration-color: #008080; font-weight: bold\">2004</span> XM00.                                                            \n",
       "</pre>\n"
      ],
      "text/plain": [
       "\u001b[1;31mERROR   \u001b[0m \u001b[1m[\u001b[0mrocks\u001b[1m]\u001b[0m Could not find match for id \u001b[1;36m2004\u001b[0m XM00.                                                            \n"
      ]
     },
     "metadata": {},
     "output_type": "display_data"
    },
    {
     "data": {
      "text/html": [
       "<pre style=\"white-space:pre;overflow-x:auto;line-height:normal;font-family:Menlo,'DejaVu Sans Mono',consolas,'Courier New',monospace\"><span style=\"color: #800000; text-decoration-color: #800000; font-weight: bold\">ERROR   </span> <span style=\"font-weight: bold\">[</span>rocks<span style=\"font-weight: bold\">]</span> Could not find match for id <span style=\"color: #008080; text-decoration-color: #008080; font-weight: bold\">2015</span> JO05.                                                            \n",
       "</pre>\n"
      ],
      "text/plain": [
       "\u001b[1;31mERROR   \u001b[0m \u001b[1m[\u001b[0mrocks\u001b[1m]\u001b[0m Could not find match for id \u001b[1;36m2015\u001b[0m JO05.                                                            \n"
      ]
     },
     "metadata": {},
     "output_type": "display_data"
    },
    {
     "data": {
      "text/html": [
       "<pre style=\"white-space:pre;overflow-x:auto;line-height:normal;font-family:Menlo,'DejaVu Sans Mono',consolas,'Courier New',monospace\"><span style=\"color: #800000; text-decoration-color: #800000; font-weight: bold\">ERROR   </span> <span style=\"font-weight: bold\">[</span>rocks<span style=\"font-weight: bold\">]</span> Could not find match for id <span style=\"color: #008080; text-decoration-color: #008080; font-weight: bold\">2019</span> AQ03.                                                            \n",
       "</pre>\n"
      ],
      "text/plain": [
       "\u001b[1;31mERROR   \u001b[0m \u001b[1m[\u001b[0mrocks\u001b[1m]\u001b[0m Could not find match for id \u001b[1;36m2019\u001b[0m AQ03.                                                            \n"
      ]
     },
     "metadata": {},
     "output_type": "display_data"
    },
    {
     "data": {
      "text/html": [
       "<pre style=\"white-space:pre;overflow-x:auto;line-height:normal;font-family:Menlo,'DejaVu Sans Mono',consolas,'Courier New',monospace\"><span style=\"color: #800000; text-decoration-color: #800000; font-weight: bold\">ERROR   </span> <span style=\"font-weight: bold\">[</span>rocks<span style=\"font-weight: bold\">]</span> Could not find match for id <span style=\"color: #008080; text-decoration-color: #008080; font-weight: bold\">2011</span> LZ05.                                                            \n",
       "</pre>\n"
      ],
      "text/plain": [
       "\u001b[1;31mERROR   \u001b[0m \u001b[1m[\u001b[0mrocks\u001b[1m]\u001b[0m Could not find match for id \u001b[1;36m2011\u001b[0m LZ05.                                                            \n"
      ]
     },
     "metadata": {},
     "output_type": "display_data"
    },
    {
     "data": {
      "text/html": [
       "<pre style=\"white-space:pre;overflow-x:auto;line-height:normal;font-family:Menlo,'DejaVu Sans Mono',consolas,'Courier New',monospace\"><span style=\"color: #800000; text-decoration-color: #800000; font-weight: bold\">ERROR   </span> <span style=\"font-weight: bold\">[</span>rocks<span style=\"font-weight: bold\">]</span> Could not find match for id <span style=\"color: #008080; text-decoration-color: #008080; font-weight: bold\">2020</span> OL03.                                                            \n",
       "</pre>\n"
      ],
      "text/plain": [
       "\u001b[1;31mERROR   \u001b[0m \u001b[1m[\u001b[0mrocks\u001b[1m]\u001b[0m Could not find match for id \u001b[1;36m2020\u001b[0m OL03.                                                            \n"
      ]
     },
     "metadata": {},
     "output_type": "display_data"
    },
    {
     "data": {
      "text/html": [
       "<pre style=\"white-space:pre;overflow-x:auto;line-height:normal;font-family:Menlo,'DejaVu Sans Mono',consolas,'Courier New',monospace\"><span style=\"color: #800000; text-decoration-color: #800000; font-weight: bold\">ERROR   </span> <span style=\"font-weight: bold\">[</span>rocks<span style=\"font-weight: bold\">]</span> Could not find match for id <span style=\"color: #008080; text-decoration-color: #008080; font-weight: bold\">2009</span> PA09.                                                            \n",
       "</pre>\n"
      ],
      "text/plain": [
       "\u001b[1;31mERROR   \u001b[0m \u001b[1m[\u001b[0mrocks\u001b[1m]\u001b[0m Could not find match for id \u001b[1;36m2009\u001b[0m PA09.                                                            \n"
      ]
     },
     "metadata": {},
     "output_type": "display_data"
    },
    {
     "data": {
      "text/html": [
       "<pre style=\"white-space:pre;overflow-x:auto;line-height:normal;font-family:Menlo,'DejaVu Sans Mono',consolas,'Courier New',monospace\"><span style=\"color: #800000; text-decoration-color: #800000; font-weight: bold\">ERROR   </span> <span style=\"font-weight: bold\">[</span>rocks<span style=\"font-weight: bold\">]</span> Could not find match for id <span style=\"color: #008080; text-decoration-color: #008080; font-weight: bold\">2012</span> UA00.                                                            \n",
       "</pre>\n"
      ],
      "text/plain": [
       "\u001b[1;31mERROR   \u001b[0m \u001b[1m[\u001b[0mrocks\u001b[1m]\u001b[0m Could not find match for id \u001b[1;36m2012\u001b[0m UA00.                                                            \n"
      ]
     },
     "metadata": {},
     "output_type": "display_data"
    },
    {
     "data": {
      "text/html": [
       "<pre style=\"white-space:pre;overflow-x:auto;line-height:normal;font-family:Menlo,'DejaVu Sans Mono',consolas,'Courier New',monospace\"><span style=\"color: #800000; text-decoration-color: #800000; font-weight: bold\">ERROR   </span> <span style=\"font-weight: bold\">[</span>rocks<span style=\"font-weight: bold\">]</span> Could not find match for id <span style=\"color: #008080; text-decoration-color: #008080; font-weight: bold\">2014</span> RP00.                                                            \n",
       "</pre>\n"
      ],
      "text/plain": [
       "\u001b[1;31mERROR   \u001b[0m \u001b[1m[\u001b[0mrocks\u001b[1m]\u001b[0m Could not find match for id \u001b[1;36m2014\u001b[0m RP00.                                                            \n"
      ]
     },
     "metadata": {},
     "output_type": "display_data"
    },
    {
     "data": {
      "text/html": [
       "<pre style=\"white-space:pre;overflow-x:auto;line-height:normal;font-family:Menlo,'DejaVu Sans Mono',consolas,'Courier New',monospace\"><span style=\"color: #800000; text-decoration-color: #800000; font-weight: bold\">ERROR   </span> <span style=\"font-weight: bold\">[</span>rocks<span style=\"font-weight: bold\">]</span> Could not find match for id <span style=\"color: #008080; text-decoration-color: #008080; font-weight: bold\">2014</span> RH00.                                                            \n",
       "</pre>\n"
      ],
      "text/plain": [
       "\u001b[1;31mERROR   \u001b[0m \u001b[1m[\u001b[0mrocks\u001b[1m]\u001b[0m Could not find match for id \u001b[1;36m2014\u001b[0m RH00.                                                            \n"
      ]
     },
     "metadata": {},
     "output_type": "display_data"
    },
    {
     "data": {
      "text/html": [
       "<pre style=\"white-space:pre;overflow-x:auto;line-height:normal;font-family:Menlo,'DejaVu Sans Mono',consolas,'Courier New',monospace\"><span style=\"color: #800000; text-decoration-color: #800000; font-weight: bold\">ERROR   </span> <span style=\"font-weight: bold\">[</span>rocks<span style=\"font-weight: bold\">]</span> Could not find match for id <span style=\"color: #008080; text-decoration-color: #008080; font-weight: bold\">2020</span> ML03.                                                            \n",
       "</pre>\n"
      ],
      "text/plain": [
       "\u001b[1;31mERROR   \u001b[0m \u001b[1m[\u001b[0mrocks\u001b[1m]\u001b[0m Could not find match for id \u001b[1;36m2020\u001b[0m ML03.                                                            \n"
      ]
     },
     "metadata": {},
     "output_type": "display_data"
    },
    {
     "data": {
      "text/html": [
       "<pre style=\"white-space:pre;overflow-x:auto;line-height:normal;font-family:Menlo,'DejaVu Sans Mono',consolas,'Courier New',monospace\"><span style=\"color: #800000; text-decoration-color: #800000; font-weight: bold\">ERROR   </span> <span style=\"font-weight: bold\">[</span>rocks<span style=\"font-weight: bold\">]</span> Could not find match for id <span style=\"color: #008080; text-decoration-color: #008080; font-weight: bold\">2010</span> LS00.                                                            \n",
       "</pre>\n"
      ],
      "text/plain": [
       "\u001b[1;31mERROR   \u001b[0m \u001b[1m[\u001b[0mrocks\u001b[1m]\u001b[0m Could not find match for id \u001b[1;36m2010\u001b[0m LS00.                                                            \n"
      ]
     },
     "metadata": {},
     "output_type": "display_data"
    },
    {
     "data": {
      "text/html": [
       "<pre style=\"white-space:pre;overflow-x:auto;line-height:normal;font-family:Menlo,'DejaVu Sans Mono',consolas,'Courier New',monospace\"><span style=\"color: #800000; text-decoration-color: #800000; font-weight: bold\">ERROR   </span> <span style=\"font-weight: bold\">[</span>rocks<span style=\"font-weight: bold\">]</span> Could not find match for id <span style=\"color: #008080; text-decoration-color: #008080; font-weight: bold\">2002</span> NS07.                                                            \n",
       "</pre>\n"
      ],
      "text/plain": [
       "\u001b[1;31mERROR   \u001b[0m \u001b[1m[\u001b[0mrocks\u001b[1m]\u001b[0m Could not find match for id \u001b[1;36m2002\u001b[0m NS07.                                                            \n"
      ]
     },
     "metadata": {},
     "output_type": "display_data"
    },
    {
     "data": {
      "text/html": [
       "<pre style=\"white-space:pre;overflow-x:auto;line-height:normal;font-family:Menlo,'DejaVu Sans Mono',consolas,'Courier New',monospace\"><span style=\"color: #800000; text-decoration-color: #800000; font-weight: bold\">ERROR   </span> <span style=\"font-weight: bold\">[</span>rocks<span style=\"font-weight: bold\">]</span> Could not find match for id <span style=\"color: #008080; text-decoration-color: #008080; font-weight: bold\">1998</span> UQ01.                                                            \n",
       "</pre>\n"
      ],
      "text/plain": [
       "\u001b[1;31mERROR   \u001b[0m \u001b[1m[\u001b[0mrocks\u001b[1m]\u001b[0m Could not find match for id \u001b[1;36m1998\u001b[0m UQ01.                                                            \n"
      ]
     },
     "metadata": {},
     "output_type": "display_data"
    },
    {
     "data": {
      "text/html": [
       "<pre style=\"white-space:pre;overflow-x:auto;line-height:normal;font-family:Menlo,'DejaVu Sans Mono',consolas,'Courier New',monospace\"><span style=\"color: #800000; text-decoration-color: #800000; font-weight: bold\">ERROR   </span> <span style=\"font-weight: bold\">[</span>rocks<span style=\"font-weight: bold\">]</span> Could not find match for id <span style=\"color: #008080; text-decoration-color: #008080; font-weight: bold\">2015</span> MO01.                                                            \n",
       "</pre>\n"
      ],
      "text/plain": [
       "\u001b[1;31mERROR   \u001b[0m \u001b[1m[\u001b[0mrocks\u001b[1m]\u001b[0m Could not find match for id \u001b[1;36m2015\u001b[0m MO01.                                                            \n"
      ]
     },
     "metadata": {},
     "output_type": "display_data"
    },
    {
     "data": {
      "text/html": [
       "<pre style=\"white-space:pre;overflow-x:auto;line-height:normal;font-family:Menlo,'DejaVu Sans Mono',consolas,'Courier New',monospace\"><span style=\"color: #800000; text-decoration-color: #800000; font-weight: bold\">ERROR   </span> <span style=\"font-weight: bold\">[</span>rocks<span style=\"font-weight: bold\">]</span> Could not find match for id <span style=\"color: #008080; text-decoration-color: #008080; font-weight: bold\">2013</span> WJ00.                                                            \n",
       "</pre>\n"
      ],
      "text/plain": [
       "\u001b[1;31mERROR   \u001b[0m \u001b[1m[\u001b[0mrocks\u001b[1m]\u001b[0m Could not find match for id \u001b[1;36m2013\u001b[0m WJ00.                                                            \n"
      ]
     },
     "metadata": {},
     "output_type": "display_data"
    },
    {
     "data": {
      "text/html": [
       "<pre style=\"white-space:pre;overflow-x:auto;line-height:normal;font-family:Menlo,'DejaVu Sans Mono',consolas,'Courier New',monospace\"><span style=\"color: #800000; text-decoration-color: #800000; font-weight: bold\">ERROR   </span> <span style=\"font-weight: bold\">[</span>rocks<span style=\"font-weight: bold\">]</span> Could not find match for id <span style=\"color: #008080; text-decoration-color: #008080; font-weight: bold\">2010</span> WQ07.                                                            \n",
       "</pre>\n"
      ],
      "text/plain": [
       "\u001b[1;31mERROR   \u001b[0m \u001b[1m[\u001b[0mrocks\u001b[1m]\u001b[0m Could not find match for id \u001b[1;36m2010\u001b[0m WQ07.                                                            \n"
      ]
     },
     "metadata": {},
     "output_type": "display_data"
    },
    {
     "data": {
      "text/html": [
       "<pre style=\"white-space:pre;overflow-x:auto;line-height:normal;font-family:Menlo,'DejaVu Sans Mono',consolas,'Courier New',monospace\"><span style=\"color: #800000; text-decoration-color: #800000; font-weight: bold\">ERROR   </span> <span style=\"font-weight: bold\">[</span>rocks<span style=\"font-weight: bold\">]</span> Could not find match for id <span style=\"color: #008080; text-decoration-color: #008080; font-weight: bold\">2020</span> KU04.                                                            \n",
       "</pre>\n"
      ],
      "text/plain": [
       "\u001b[1;31mERROR   \u001b[0m \u001b[1m[\u001b[0mrocks\u001b[1m]\u001b[0m Could not find match for id \u001b[1;36m2020\u001b[0m KU04.                                                            \n"
      ]
     },
     "metadata": {},
     "output_type": "display_data"
    },
    {
     "data": {
      "text/html": [
       "<pre style=\"white-space:pre;overflow-x:auto;line-height:normal;font-family:Menlo,'DejaVu Sans Mono',consolas,'Courier New',monospace\"><span style=\"color: #800000; text-decoration-color: #800000; font-weight: bold\">ERROR   </span> <span style=\"font-weight: bold\">[</span>rocks<span style=\"font-weight: bold\">]</span> Could not find match for id <span style=\"color: #008080; text-decoration-color: #008080; font-weight: bold\">2013</span> PY06.                                                            \n",
       "</pre>\n"
      ],
      "text/plain": [
       "\u001b[1;31mERROR   \u001b[0m \u001b[1m[\u001b[0mrocks\u001b[1m]\u001b[0m Could not find match for id \u001b[1;36m2013\u001b[0m PY06.                                                            \n"
      ]
     },
     "metadata": {},
     "output_type": "display_data"
    },
    {
     "data": {
      "text/html": [
       "<pre style=\"white-space:pre;overflow-x:auto;line-height:normal;font-family:Menlo,'DejaVu Sans Mono',consolas,'Courier New',monospace\"><span style=\"color: #800000; text-decoration-color: #800000; font-weight: bold\">ERROR   </span> <span style=\"font-weight: bold\">[</span>rocks<span style=\"font-weight: bold\">]</span> Could not find match for id <span style=\"color: #008080; text-decoration-color: #008080; font-weight: bold\">2009</span> CC03.                                                            \n",
       "</pre>\n"
      ],
      "text/plain": [
       "\u001b[1;31mERROR   \u001b[0m \u001b[1m[\u001b[0mrocks\u001b[1m]\u001b[0m Could not find match for id \u001b[1;36m2009\u001b[0m CC03.                                                            \n"
      ]
     },
     "metadata": {},
     "output_type": "display_data"
    },
    {
     "data": {
      "text/html": [
       "<pre style=\"white-space:pre;overflow-x:auto;line-height:normal;font-family:Menlo,'DejaVu Sans Mono',consolas,'Courier New',monospace\"><span style=\"color: #800000; text-decoration-color: #800000; font-weight: bold\">ERROR   </span> <span style=\"font-weight: bold\">[</span>rocks<span style=\"font-weight: bold\">]</span> Could not find match for id <span style=\"color: #008080; text-decoration-color: #008080; font-weight: bold\">2017</span> YH03.                                                            \n",
       "</pre>\n"
      ],
      "text/plain": [
       "\u001b[1;31mERROR   \u001b[0m \u001b[1m[\u001b[0mrocks\u001b[1m]\u001b[0m Could not find match for id \u001b[1;36m2017\u001b[0m YH03.                                                            \n"
      ]
     },
     "metadata": {},
     "output_type": "display_data"
    },
    {
     "data": {
      "text/html": [
       "<pre style=\"white-space:pre;overflow-x:auto;line-height:normal;font-family:Menlo,'DejaVu Sans Mono',consolas,'Courier New',monospace\"><span style=\"color: #800000; text-decoration-color: #800000; font-weight: bold\">ERROR   </span> <span style=\"font-weight: bold\">[</span>rocks<span style=\"font-weight: bold\">]</span> Could not find match for id <span style=\"color: #008080; text-decoration-color: #008080; font-weight: bold\">2007</span> AS01.                                                            \n",
       "</pre>\n"
      ],
      "text/plain": [
       "\u001b[1;31mERROR   \u001b[0m \u001b[1m[\u001b[0mrocks\u001b[1m]\u001b[0m Could not find match for id \u001b[1;36m2007\u001b[0m AS01.                                                            \n"
      ]
     },
     "metadata": {},
     "output_type": "display_data"
    },
    {
     "data": {
      "text/html": [
       "<pre style=\"white-space:pre;overflow-x:auto;line-height:normal;font-family:Menlo,'DejaVu Sans Mono',consolas,'Courier New',monospace\"><span style=\"color: #800000; text-decoration-color: #800000; font-weight: bold\">ERROR   </span> <span style=\"font-weight: bold\">[</span>rocks<span style=\"font-weight: bold\">]</span> Could not find match for id 28P.                                                                  \n",
       "</pre>\n"
      ],
      "text/plain": [
       "\u001b[1;31mERROR   \u001b[0m \u001b[1m[\u001b[0mrocks\u001b[1m]\u001b[0m Could not find match for id 28P.                                                                  \n"
      ]
     },
     "metadata": {},
     "output_type": "display_data"
    },
    {
     "data": {
      "text/html": [
       "<pre style=\"white-space:pre;overflow-x:auto;line-height:normal;font-family:Menlo,'DejaVu Sans Mono',consolas,'Courier New',monospace\"><span style=\"color: #800000; text-decoration-color: #800000; font-weight: bold\">ERROR   </span> <span style=\"font-weight: bold\">[</span>rocks<span style=\"font-weight: bold\">]</span> Could not find match for id <span style=\"color: #008080; text-decoration-color: #008080; font-weight: bold\">2008</span> YF02.                                                            \n",
       "</pre>\n"
      ],
      "text/plain": [
       "\u001b[1;31mERROR   \u001b[0m \u001b[1m[\u001b[0mrocks\u001b[1m]\u001b[0m Could not find match for id \u001b[1;36m2008\u001b[0m YF02.                                                            \n"
      ]
     },
     "metadata": {},
     "output_type": "display_data"
    },
    {
     "data": {
      "text/html": [
       "<pre style=\"white-space:pre;overflow-x:auto;line-height:normal;font-family:Menlo,'DejaVu Sans Mono',consolas,'Courier New',monospace\"><span style=\"color: #800000; text-decoration-color: #800000; font-weight: bold\">ERROR   </span> <span style=\"font-weight: bold\">[</span>rocks<span style=\"font-weight: bold\">]</span> Could not find match for id <span style=\"color: #008080; text-decoration-color: #008080; font-weight: bold\">2020</span> VF01.                                                            \n",
       "</pre>\n"
      ],
      "text/plain": [
       "\u001b[1;31mERROR   \u001b[0m \u001b[1m[\u001b[0mrocks\u001b[1m]\u001b[0m Could not find match for id \u001b[1;36m2020\u001b[0m VF01.                                                            \n"
      ]
     },
     "metadata": {},
     "output_type": "display_data"
    },
    {
     "data": {
      "text/html": [
       "<pre style=\"white-space:pre;overflow-x:auto;line-height:normal;font-family:Menlo,'DejaVu Sans Mono',consolas,'Courier New',monospace\"><span style=\"color: #800000; text-decoration-color: #800000; font-weight: bold\">ERROR   </span> <span style=\"font-weight: bold\">[</span>rocks<span style=\"font-weight: bold\">]</span> Could not find match for id <span style=\"color: #008080; text-decoration-color: #008080; font-weight: bold\">2002</span> TA09.                                                            \n",
       "</pre>\n"
      ],
      "text/plain": [
       "\u001b[1;31mERROR   \u001b[0m \u001b[1m[\u001b[0mrocks\u001b[1m]\u001b[0m Could not find match for id \u001b[1;36m2002\u001b[0m TA09.                                                            \n"
      ]
     },
     "metadata": {},
     "output_type": "display_data"
    },
    {
     "data": {
      "text/html": [
       "<pre style=\"white-space:pre;overflow-x:auto;line-height:normal;font-family:Menlo,'DejaVu Sans Mono',consolas,'Courier New',monospace\"><span style=\"color: #800000; text-decoration-color: #800000; font-weight: bold\">ERROR   </span> <span style=\"font-weight: bold\">[</span>rocks<span style=\"font-weight: bold\">]</span> Could not find match for id <span style=\"color: #008080; text-decoration-color: #008080; font-weight: bold\">2020</span> OW03.                                                            \n",
       "</pre>\n"
      ],
      "text/plain": [
       "\u001b[1;31mERROR   \u001b[0m \u001b[1m[\u001b[0mrocks\u001b[1m]\u001b[0m Could not find match for id \u001b[1;36m2020\u001b[0m OW03.                                                            \n"
      ]
     },
     "metadata": {},
     "output_type": "display_data"
    },
    {
     "data": {
      "text/html": [
       "<pre style=\"white-space:pre;overflow-x:auto;line-height:normal;font-family:Menlo,'DejaVu Sans Mono',consolas,'Courier New',monospace\"><span style=\"color: #800000; text-decoration-color: #800000; font-weight: bold\">ERROR   </span> <span style=\"font-weight: bold\">[</span>rocks<span style=\"font-weight: bold\">]</span> Could not find match for id <span style=\"color: #008080; text-decoration-color: #008080; font-weight: bold\">2016</span> XB07.                                                            \n",
       "</pre>\n"
      ],
      "text/plain": [
       "\u001b[1;31mERROR   \u001b[0m \u001b[1m[\u001b[0mrocks\u001b[1m]\u001b[0m Could not find match for id \u001b[1;36m2016\u001b[0m XB07.                                                            \n"
      ]
     },
     "metadata": {},
     "output_type": "display_data"
    },
    {
     "data": {
      "text/html": [
       "<pre style=\"white-space:pre;overflow-x:auto;line-height:normal;font-family:Menlo,'DejaVu Sans Mono',consolas,'Courier New',monospace\"><span style=\"color: #800000; text-decoration-color: #800000; font-weight: bold\">ERROR   </span> <span style=\"font-weight: bold\">[</span>rocks<span style=\"font-weight: bold\">]</span> Could not find match for id <span style=\"color: #008080; text-decoration-color: #008080; font-weight: bold\">2020</span> JQ00.                                                            \n",
       "</pre>\n"
      ],
      "text/plain": [
       "\u001b[1;31mERROR   \u001b[0m \u001b[1m[\u001b[0mrocks\u001b[1m]\u001b[0m Could not find match for id \u001b[1;36m2020\u001b[0m JQ00.                                                            \n"
      ]
     },
     "metadata": {},
     "output_type": "display_data"
    },
    {
     "data": {
      "text/html": [
       "<pre style=\"white-space:pre;overflow-x:auto;line-height:normal;font-family:Menlo,'DejaVu Sans Mono',consolas,'Courier New',monospace\"><span style=\"color: #800000; text-decoration-color: #800000; font-weight: bold\">ERROR   </span> <span style=\"font-weight: bold\">[</span>rocks<span style=\"font-weight: bold\">]</span> Could not find match for id <span style=\"color: #008080; text-decoration-color: #008080; font-weight: bold\">2013</span> XE04.                                                            \n",
       "</pre>\n"
      ],
      "text/plain": [
       "\u001b[1;31mERROR   \u001b[0m \u001b[1m[\u001b[0mrocks\u001b[1m]\u001b[0m Could not find match for id \u001b[1;36m2013\u001b[0m XE04.                                                            \n"
      ]
     },
     "metadata": {},
     "output_type": "display_data"
    },
    {
     "data": {
      "text/html": [
       "<pre style=\"white-space:pre;overflow-x:auto;line-height:normal;font-family:Menlo,'DejaVu Sans Mono',consolas,'Courier New',monospace\"><span style=\"color: #800000; text-decoration-color: #800000; font-weight: bold\">ERROR   </span> <span style=\"font-weight: bold\">[</span>rocks<span style=\"font-weight: bold\">]</span> Could not find match for id <span style=\"color: #008080; text-decoration-color: #008080; font-weight: bold\">2020</span> PC05.                                                            \n",
       "</pre>\n"
      ],
      "text/plain": [
       "\u001b[1;31mERROR   \u001b[0m \u001b[1m[\u001b[0mrocks\u001b[1m]\u001b[0m Could not find match for id \u001b[1;36m2020\u001b[0m PC05.                                                            \n"
      ]
     },
     "metadata": {},
     "output_type": "display_data"
    },
    {
     "data": {
      "text/html": [
       "<pre style=\"white-space:pre;overflow-x:auto;line-height:normal;font-family:Menlo,'DejaVu Sans Mono',consolas,'Courier New',monospace\"><span style=\"color: #800000; text-decoration-color: #800000; font-weight: bold\">ERROR   </span> <span style=\"font-weight: bold\">[</span>rocks<span style=\"font-weight: bold\">]</span> Could not find match for id <span style=\"color: #008080; text-decoration-color: #008080; font-weight: bold\">2020</span> KJ06.                                                            \n",
       "</pre>\n"
      ],
      "text/plain": [
       "\u001b[1;31mERROR   \u001b[0m \u001b[1m[\u001b[0mrocks\u001b[1m]\u001b[0m Could not find match for id \u001b[1;36m2020\u001b[0m KJ06.                                                            \n"
      ]
     },
     "metadata": {},
     "output_type": "display_data"
    },
    {
     "data": {
      "text/html": [
       "<pre style=\"white-space:pre;overflow-x:auto;line-height:normal;font-family:Menlo,'DejaVu Sans Mono',consolas,'Courier New',monospace\"><span style=\"color: #800000; text-decoration-color: #800000; font-weight: bold\">ERROR   </span> <span style=\"font-weight: bold\">[</span>rocks<span style=\"font-weight: bold\">]</span> Could not find match for id <span style=\"color: #008080; text-decoration-color: #008080; font-weight: bold\">2011</span> AJ05.                                                            \n",
       "</pre>\n"
      ],
      "text/plain": [
       "\u001b[1;31mERROR   \u001b[0m \u001b[1m[\u001b[0mrocks\u001b[1m]\u001b[0m Could not find match for id \u001b[1;36m2011\u001b[0m AJ05.                                                            \n"
      ]
     },
     "metadata": {},
     "output_type": "display_data"
    },
    {
     "data": {
      "text/html": [
       "<pre style=\"white-space:pre;overflow-x:auto;line-height:normal;font-family:Menlo,'DejaVu Sans Mono',consolas,'Courier New',monospace\"><span style=\"color: #800000; text-decoration-color: #800000; font-weight: bold\">ERROR   </span> <span style=\"font-weight: bold\">[</span>rocks<span style=\"font-weight: bold\">]</span> Could not find match for id <span style=\"color: #008080; text-decoration-color: #008080; font-weight: bold\">2007</span> OR01.                                                            \n",
       "</pre>\n"
      ],
      "text/plain": [
       "\u001b[1;31mERROR   \u001b[0m \u001b[1m[\u001b[0mrocks\u001b[1m]\u001b[0m Could not find match for id \u001b[1;36m2007\u001b[0m OR01.                                                            \n"
      ]
     },
     "metadata": {},
     "output_type": "display_data"
    },
    {
     "data": {
      "text/html": [
       "<pre style=\"white-space:pre;overflow-x:auto;line-height:normal;font-family:Menlo,'DejaVu Sans Mono',consolas,'Courier New',monospace\"><span style=\"color: #800000; text-decoration-color: #800000; font-weight: bold\">ERROR   </span> <span style=\"font-weight: bold\">[</span>rocks<span style=\"font-weight: bold\">]</span> Could not find match for id <span style=\"color: #008080; text-decoration-color: #008080; font-weight: bold\">2021</span> NX07.                                                            \n",
       "</pre>\n"
      ],
      "text/plain": [
       "\u001b[1;31mERROR   \u001b[0m \u001b[1m[\u001b[0mrocks\u001b[1m]\u001b[0m Could not find match for id \u001b[1;36m2021\u001b[0m NX07.                                                            \n"
      ]
     },
     "metadata": {},
     "output_type": "display_data"
    },
    {
     "data": {
      "text/html": [
       "<pre style=\"white-space:pre;overflow-x:auto;line-height:normal;font-family:Menlo,'DejaVu Sans Mono',consolas,'Courier New',monospace\"><span style=\"color: #800000; text-decoration-color: #800000; font-weight: bold\">ERROR   </span> <span style=\"font-weight: bold\">[</span>rocks<span style=\"font-weight: bold\">]</span> Could not find match for id <span style=\"color: #008080; text-decoration-color: #008080; font-weight: bold\">2016</span> OK00.                                                            \n",
       "</pre>\n"
      ],
      "text/plain": [
       "\u001b[1;31mERROR   \u001b[0m \u001b[1m[\u001b[0mrocks\u001b[1m]\u001b[0m Could not find match for id \u001b[1;36m2016\u001b[0m OK00.                                                            \n"
      ]
     },
     "metadata": {},
     "output_type": "display_data"
    },
    {
     "data": {
      "text/html": [
       "<pre style=\"white-space:pre;overflow-x:auto;line-height:normal;font-family:Menlo,'DejaVu Sans Mono',consolas,'Courier New',monospace\"><span style=\"color: #800000; text-decoration-color: #800000; font-weight: bold\">ERROR   </span> <span style=\"font-weight: bold\">[</span>rocks<span style=\"font-weight: bold\">]</span> Could not find match for id <span style=\"color: #008080; text-decoration-color: #008080; font-weight: bold\">2001</span> YU03.                                                            \n",
       "</pre>\n"
      ],
      "text/plain": [
       "\u001b[1;31mERROR   \u001b[0m \u001b[1m[\u001b[0mrocks\u001b[1m]\u001b[0m Could not find match for id \u001b[1;36m2001\u001b[0m YU03.                                                            \n"
      ]
     },
     "metadata": {},
     "output_type": "display_data"
    },
    {
     "data": {
      "text/html": [
       "<pre style=\"white-space:pre;overflow-x:auto;line-height:normal;font-family:Menlo,'DejaVu Sans Mono',consolas,'Courier New',monospace\"><span style=\"color: #800000; text-decoration-color: #800000; font-weight: bold\">ERROR   </span> <span style=\"font-weight: bold\">[</span>rocks<span style=\"font-weight: bold\">]</span> Could not find match for id <span style=\"color: #008080; text-decoration-color: #008080; font-weight: bold\">2020</span> PD01.                                                            \n",
       "</pre>\n"
      ],
      "text/plain": [
       "\u001b[1;31mERROR   \u001b[0m \u001b[1m[\u001b[0mrocks\u001b[1m]\u001b[0m Could not find match for id \u001b[1;36m2020\u001b[0m PD01.                                                            \n"
      ]
     },
     "metadata": {},
     "output_type": "display_data"
    },
    {
     "data": {
      "text/html": [
       "<pre style=\"white-space:pre;overflow-x:auto;line-height:normal;font-family:Menlo,'DejaVu Sans Mono',consolas,'Courier New',monospace\"><span style=\"color: #800000; text-decoration-color: #800000; font-weight: bold\">ERROR   </span> <span style=\"font-weight: bold\">[</span>rocks<span style=\"font-weight: bold\">]</span> Could not find match for id <span style=\"color: #008080; text-decoration-color: #008080; font-weight: bold\">2016</span> VM04.                                                            \n",
       "</pre>\n"
      ],
      "text/plain": [
       "\u001b[1;31mERROR   \u001b[0m \u001b[1m[\u001b[0mrocks\u001b[1m]\u001b[0m Could not find match for id \u001b[1;36m2016\u001b[0m VM04.                                                            \n"
      ]
     },
     "metadata": {},
     "output_type": "display_data"
    },
    {
     "data": {
      "text/html": [
       "<pre style=\"white-space:pre;overflow-x:auto;line-height:normal;font-family:Menlo,'DejaVu Sans Mono',consolas,'Courier New',monospace\"><span style=\"color: #800000; text-decoration-color: #800000; font-weight: bold\">ERROR   </span> <span style=\"font-weight: bold\">[</span>rocks<span style=\"font-weight: bold\">]</span> Could not find match for id <span style=\"color: #008080; text-decoration-color: #008080; font-weight: bold\">2016</span> OQ02.                                                            \n",
       "</pre>\n"
      ],
      "text/plain": [
       "\u001b[1;31mERROR   \u001b[0m \u001b[1m[\u001b[0mrocks\u001b[1m]\u001b[0m Could not find match for id \u001b[1;36m2016\u001b[0m OQ02.                                                            \n"
      ]
     },
     "metadata": {},
     "output_type": "display_data"
    },
    {
     "data": {
      "text/html": [
       "<pre style=\"white-space:pre;overflow-x:auto;line-height:normal;font-family:Menlo,'DejaVu Sans Mono',consolas,'Courier New',monospace\"><span style=\"color: #800000; text-decoration-color: #800000; font-weight: bold\">ERROR   </span> <span style=\"font-weight: bold\">[</span>rocks<span style=\"font-weight: bold\">]</span> Could not find match for id <span style=\"color: #008080; text-decoration-color: #008080; font-weight: bold\">2003</span> NM03.                                                            \n",
       "</pre>\n"
      ],
      "text/plain": [
       "\u001b[1;31mERROR   \u001b[0m \u001b[1m[\u001b[0mrocks\u001b[1m]\u001b[0m Could not find match for id \u001b[1;36m2003\u001b[0m NM03.                                                            \n"
      ]
     },
     "metadata": {},
     "output_type": "display_data"
    },
    {
     "data": {
      "text/html": [
       "<pre style=\"white-space:pre;overflow-x:auto;line-height:normal;font-family:Menlo,'DejaVu Sans Mono',consolas,'Courier New',monospace\"><span style=\"color: #800000; text-decoration-color: #800000; font-weight: bold\">ERROR   </span> <span style=\"font-weight: bold\">[</span>rocks<span style=\"font-weight: bold\">]</span> Could not find match for id <span style=\"color: #008080; text-decoration-color: #008080; font-weight: bold\">2008</span> TE07.                                                            \n",
       "</pre>\n"
      ],
      "text/plain": [
       "\u001b[1;31mERROR   \u001b[0m \u001b[1m[\u001b[0mrocks\u001b[1m]\u001b[0m Could not find match for id \u001b[1;36m2008\u001b[0m TE07.                                                            \n"
      ]
     },
     "metadata": {},
     "output_type": "display_data"
    },
    {
     "data": {
      "text/html": [
       "<pre style=\"white-space:pre;overflow-x:auto;line-height:normal;font-family:Menlo,'DejaVu Sans Mono',consolas,'Courier New',monospace\"><span style=\"color: #800000; text-decoration-color: #800000; font-weight: bold\">ERROR   </span> <span style=\"font-weight: bold\">[</span>rocks<span style=\"font-weight: bold\">]</span> Could not find match for id <span style=\"color: #008080; text-decoration-color: #008080; font-weight: bold\">2003</span> VD01.                                                            \n",
       "</pre>\n"
      ],
      "text/plain": [
       "\u001b[1;31mERROR   \u001b[0m \u001b[1m[\u001b[0mrocks\u001b[1m]\u001b[0m Could not find match for id \u001b[1;36m2003\u001b[0m VD01.                                                            \n"
      ]
     },
     "metadata": {},
     "output_type": "display_data"
    },
    {
     "data": {
      "text/html": [
       "<pre style=\"white-space:pre;overflow-x:auto;line-height:normal;font-family:Menlo,'DejaVu Sans Mono',consolas,'Courier New',monospace\"><span style=\"color: #800000; text-decoration-color: #800000; font-weight: bold\">ERROR   </span> <span style=\"font-weight: bold\">[</span>rocks<span style=\"font-weight: bold\">]</span> Could not find match for id <span style=\"color: #008080; text-decoration-color: #008080; font-weight: bold\">2017</span> LO01.                                                            \n",
       "</pre>\n"
      ],
      "text/plain": [
       "\u001b[1;31mERROR   \u001b[0m \u001b[1m[\u001b[0mrocks\u001b[1m]\u001b[0m Could not find match for id \u001b[1;36m2017\u001b[0m LO01.                                                            \n"
      ]
     },
     "metadata": {},
     "output_type": "display_data"
    },
    {
     "data": {
      "text/html": [
       "<pre style=\"white-space:pre;overflow-x:auto;line-height:normal;font-family:Menlo,'DejaVu Sans Mono',consolas,'Courier New',monospace\"><span style=\"color: #800000; text-decoration-color: #800000; font-weight: bold\">ERROR   </span> <span style=\"font-weight: bold\">[</span>rocks<span style=\"font-weight: bold\">]</span> Could not find match for id <span style=\"color: #008080; text-decoration-color: #008080; font-weight: bold\">2007</span> NX01.                                                            \n",
       "</pre>\n"
      ],
      "text/plain": [
       "\u001b[1;31mERROR   \u001b[0m \u001b[1m[\u001b[0mrocks\u001b[1m]\u001b[0m Could not find match for id \u001b[1;36m2007\u001b[0m NX01.                                                            \n"
      ]
     },
     "metadata": {},
     "output_type": "display_data"
    },
    {
     "data": {
      "text/html": [
       "<pre style=\"white-space:pre;overflow-x:auto;line-height:normal;font-family:Menlo,'DejaVu Sans Mono',consolas,'Courier New',monospace\"><span style=\"color: #800000; text-decoration-color: #800000; font-weight: bold\">ERROR   </span> <span style=\"font-weight: bold\">[</span>rocks<span style=\"font-weight: bold\">]</span> Could not find match for id <span style=\"color: #008080; text-decoration-color: #008080; font-weight: bold\">2017</span> RM00.                                                            \n",
       "</pre>\n"
      ],
      "text/plain": [
       "\u001b[1;31mERROR   \u001b[0m \u001b[1m[\u001b[0mrocks\u001b[1m]\u001b[0m Could not find match for id \u001b[1;36m2017\u001b[0m RM00.                                                            \n"
      ]
     },
     "metadata": {},
     "output_type": "display_data"
    },
    {
     "data": {
      "text/html": [
       "<pre style=\"white-space:pre;overflow-x:auto;line-height:normal;font-family:Menlo,'DejaVu Sans Mono',consolas,'Courier New',monospace\"><span style=\"color: #800000; text-decoration-color: #800000; font-weight: bold\">ERROR   </span> <span style=\"font-weight: bold\">[</span>rocks<span style=\"font-weight: bold\">]</span> Could not find match for id <span style=\"color: #008080; text-decoration-color: #008080; font-weight: bold\">2002</span> XZ04.                                                            \n",
       "</pre>\n"
      ],
      "text/plain": [
       "\u001b[1;31mERROR   \u001b[0m \u001b[1m[\u001b[0mrocks\u001b[1m]\u001b[0m Could not find match for id \u001b[1;36m2002\u001b[0m XZ04.                                                            \n"
      ]
     },
     "metadata": {},
     "output_type": "display_data"
    },
    {
     "data": {
      "text/html": [
       "<pre style=\"white-space:pre;overflow-x:auto;line-height:normal;font-family:Menlo,'DejaVu Sans Mono',consolas,'Courier New',monospace\"><span style=\"color: #800000; text-decoration-color: #800000; font-weight: bold\">ERROR   </span> <span style=\"font-weight: bold\">[</span>rocks<span style=\"font-weight: bold\">]</span> Could not find match for id <span style=\"color: #008080; text-decoration-color: #008080; font-weight: bold\">2006</span> QB03.                                                            \n",
       "</pre>\n"
      ],
      "text/plain": [
       "\u001b[1;31mERROR   \u001b[0m \u001b[1m[\u001b[0mrocks\u001b[1m]\u001b[0m Could not find match for id \u001b[1;36m2006\u001b[0m QB03.                                                            \n"
      ]
     },
     "metadata": {},
     "output_type": "display_data"
    },
    {
     "data": {
      "text/html": [
       "<pre style=\"white-space:pre;overflow-x:auto;line-height:normal;font-family:Menlo,'DejaVu Sans Mono',consolas,'Courier New',monospace\"><span style=\"color: #800000; text-decoration-color: #800000; font-weight: bold\">ERROR   </span> <span style=\"font-weight: bold\">[</span>rocks<span style=\"font-weight: bold\">]</span> Could not find match for id <span style=\"color: #008080; text-decoration-color: #008080; font-weight: bold\">2004</span> MJ03.                                                            \n",
       "</pre>\n"
      ],
      "text/plain": [
       "\u001b[1;31mERROR   \u001b[0m \u001b[1m[\u001b[0mrocks\u001b[1m]\u001b[0m Could not find match for id \u001b[1;36m2004\u001b[0m MJ03.                                                            \n"
      ]
     },
     "metadata": {},
     "output_type": "display_data"
    },
    {
     "data": {
      "text/html": [
       "<pre style=\"white-space:pre;overflow-x:auto;line-height:normal;font-family:Menlo,'DejaVu Sans Mono',consolas,'Courier New',monospace\"><span style=\"color: #800000; text-decoration-color: #800000; font-weight: bold\">ERROR   </span> <span style=\"font-weight: bold\">[</span>rocks<span style=\"font-weight: bold\">]</span> Could not find match for id <span style=\"color: #008080; text-decoration-color: #008080; font-weight: bold\">2018</span> LM04.                                                            \n",
       "</pre>\n"
      ],
      "text/plain": [
       "\u001b[1;31mERROR   \u001b[0m \u001b[1m[\u001b[0mrocks\u001b[1m]\u001b[0m Could not find match for id \u001b[1;36m2018\u001b[0m LM04.                                                            \n"
      ]
     },
     "metadata": {},
     "output_type": "display_data"
    },
    {
     "data": {
      "text/html": [
       "<pre style=\"white-space:pre;overflow-x:auto;line-height:normal;font-family:Menlo,'DejaVu Sans Mono',consolas,'Courier New',monospace\"><span style=\"color: #800000; text-decoration-color: #800000; font-weight: bold\">ERROR   </span> <span style=\"font-weight: bold\">[</span>rocks<span style=\"font-weight: bold\">]</span> Could not find match for id <span style=\"color: #008080; text-decoration-color: #008080; font-weight: bold\">2021</span> LK02.                                                            \n",
       "</pre>\n"
      ],
      "text/plain": [
       "\u001b[1;31mERROR   \u001b[0m \u001b[1m[\u001b[0mrocks\u001b[1m]\u001b[0m Could not find match for id \u001b[1;36m2021\u001b[0m LK02.                                                            \n"
      ]
     },
     "metadata": {},
     "output_type": "display_data"
    },
    {
     "data": {
      "text/html": [
       "<pre style=\"white-space:pre;overflow-x:auto;line-height:normal;font-family:Menlo,'DejaVu Sans Mono',consolas,'Courier New',monospace\"><span style=\"color: #800000; text-decoration-color: #800000; font-weight: bold\">ERROR   </span> <span style=\"font-weight: bold\">[</span>rocks<span style=\"font-weight: bold\">]</span> Could not find match for id <span style=\"color: #008080; text-decoration-color: #008080; font-weight: bold\">2011</span> YQ04.                                                            \n",
       "</pre>\n"
      ],
      "text/plain": [
       "\u001b[1;31mERROR   \u001b[0m \u001b[1m[\u001b[0mrocks\u001b[1m]\u001b[0m Could not find match for id \u001b[1;36m2011\u001b[0m YQ04.                                                            \n"
      ]
     },
     "metadata": {},
     "output_type": "display_data"
    },
    {
     "data": {
      "text/html": [
       "<pre style=\"white-space:pre;overflow-x:auto;line-height:normal;font-family:Menlo,'DejaVu Sans Mono',consolas,'Courier New',monospace\"><span style=\"color: #800000; text-decoration-color: #800000; font-weight: bold\">ERROR   </span> <span style=\"font-weight: bold\">[</span>rocks<span style=\"font-weight: bold\">]</span> Could not find match for id <span style=\"color: #008080; text-decoration-color: #008080; font-weight: bold\">2018</span> XV05.                                                            \n",
       "</pre>\n"
      ],
      "text/plain": [
       "\u001b[1;31mERROR   \u001b[0m \u001b[1m[\u001b[0mrocks\u001b[1m]\u001b[0m Could not find match for id \u001b[1;36m2018\u001b[0m XV05.                                                            \n"
      ]
     },
     "metadata": {},
     "output_type": "display_data"
    },
    {
     "data": {
      "text/html": [
       "<pre style=\"white-space:pre;overflow-x:auto;line-height:normal;font-family:Menlo,'DejaVu Sans Mono',consolas,'Courier New',monospace\"><span style=\"color: #800000; text-decoration-color: #800000; font-weight: bold\">ERROR   </span> <span style=\"font-weight: bold\">[</span>rocks<span style=\"font-weight: bold\">]</span> Could not find match for id <span style=\"color: #008080; text-decoration-color: #008080; font-weight: bold\">2018</span> KG02.                                                            \n",
       "</pre>\n"
      ],
      "text/plain": [
       "\u001b[1;31mERROR   \u001b[0m \u001b[1m[\u001b[0mrocks\u001b[1m]\u001b[0m Could not find match for id \u001b[1;36m2018\u001b[0m KG02.                                                            \n"
      ]
     },
     "metadata": {},
     "output_type": "display_data"
    },
    {
     "data": {
      "text/html": [
       "<pre style=\"white-space:pre;overflow-x:auto;line-height:normal;font-family:Menlo,'DejaVu Sans Mono',consolas,'Courier New',monospace\"><span style=\"color: #800000; text-decoration-color: #800000; font-weight: bold\">ERROR   </span> <span style=\"font-weight: bold\">[</span>rocks<span style=\"font-weight: bold\">]</span> Could not find match for id <span style=\"color: #008080; text-decoration-color: #008080; font-weight: bold\">2007</span> UT07.                                                            \n",
       "</pre>\n"
      ],
      "text/plain": [
       "\u001b[1;31mERROR   \u001b[0m \u001b[1m[\u001b[0mrocks\u001b[1m]\u001b[0m Could not find match for id \u001b[1;36m2007\u001b[0m UT07.                                                            \n"
      ]
     },
     "metadata": {},
     "output_type": "display_data"
    },
    {
     "data": {
      "text/html": [
       "<pre style=\"white-space:pre;overflow-x:auto;line-height:normal;font-family:Menlo,'DejaVu Sans Mono',consolas,'Courier New',monospace\"><span style=\"color: #800000; text-decoration-color: #800000; font-weight: bold\">ERROR   </span> <span style=\"font-weight: bold\">[</span>rocks<span style=\"font-weight: bold\">]</span> Could not find match for id <span style=\"color: #008080; text-decoration-color: #008080; font-weight: bold\">2020</span> NA00.                                                            \n",
       "</pre>\n"
      ],
      "text/plain": [
       "\u001b[1;31mERROR   \u001b[0m \u001b[1m[\u001b[0mrocks\u001b[1m]\u001b[0m Could not find match for id \u001b[1;36m2020\u001b[0m NA00.                                                            \n"
      ]
     },
     "metadata": {},
     "output_type": "display_data"
    },
    {
     "data": {
      "text/html": [
       "<pre style=\"white-space:pre;overflow-x:auto;line-height:normal;font-family:Menlo,'DejaVu Sans Mono',consolas,'Courier New',monospace\"><span style=\"color: #800000; text-decoration-color: #800000; font-weight: bold\">ERROR   </span> <span style=\"font-weight: bold\">[</span>rocks<span style=\"font-weight: bold\">]</span> Could not find match for id <span style=\"color: #008080; text-decoration-color: #008080; font-weight: bold\">2001</span> BO02.                                                            \n",
       "</pre>\n"
      ],
      "text/plain": [
       "\u001b[1;31mERROR   \u001b[0m \u001b[1m[\u001b[0mrocks\u001b[1m]\u001b[0m Could not find match for id \u001b[1;36m2001\u001b[0m BO02.                                                            \n"
      ]
     },
     "metadata": {},
     "output_type": "display_data"
    },
    {
     "data": {
      "text/html": [
       "<pre style=\"white-space:pre;overflow-x:auto;line-height:normal;font-family:Menlo,'DejaVu Sans Mono',consolas,'Courier New',monospace\"><span style=\"color: #800000; text-decoration-color: #800000; font-weight: bold\">ERROR   </span> <span style=\"font-weight: bold\">[</span>rocks<span style=\"font-weight: bold\">]</span> Could not find match for id <span style=\"color: #008080; text-decoration-color: #008080; font-weight: bold\">2020</span> AV02.                                                            \n",
       "</pre>\n"
      ],
      "text/plain": [
       "\u001b[1;31mERROR   \u001b[0m \u001b[1m[\u001b[0mrocks\u001b[1m]\u001b[0m Could not find match for id \u001b[1;36m2020\u001b[0m AV02.                                                            \n"
      ]
     },
     "metadata": {},
     "output_type": "display_data"
    },
    {
     "data": {
      "text/html": [
       "<pre style=\"white-space:pre;overflow-x:auto;line-height:normal;font-family:Menlo,'DejaVu Sans Mono',consolas,'Courier New',monospace\"><span style=\"color: #800000; text-decoration-color: #800000; font-weight: bold\">ERROR   </span> <span style=\"font-weight: bold\">[</span>rocks<span style=\"font-weight: bold\">]</span> Could not find match for id <span style=\"color: #008080; text-decoration-color: #008080; font-weight: bold\">2012</span> LV07.                                                            \n",
       "</pre>\n"
      ],
      "text/plain": [
       "\u001b[1;31mERROR   \u001b[0m \u001b[1m[\u001b[0mrocks\u001b[1m]\u001b[0m Could not find match for id \u001b[1;36m2012\u001b[0m LV07.                                                            \n"
      ]
     },
     "metadata": {},
     "output_type": "display_data"
    },
    {
     "data": {
      "text/html": [
       "<pre style=\"white-space:pre;overflow-x:auto;line-height:normal;font-family:Menlo,'DejaVu Sans Mono',consolas,'Courier New',monospace\"><span style=\"color: #800000; text-decoration-color: #800000; font-weight: bold\">ERROR   </span> <span style=\"font-weight: bold\">[</span>rocks<span style=\"font-weight: bold\">]</span> Could not find match for id <span style=\"color: #008080; text-decoration-color: #008080; font-weight: bold\">2007</span> LX00.                                                            \n",
       "</pre>\n"
      ],
      "text/plain": [
       "\u001b[1;31mERROR   \u001b[0m \u001b[1m[\u001b[0mrocks\u001b[1m]\u001b[0m Could not find match for id \u001b[1;36m2007\u001b[0m LX00.                                                            \n"
      ]
     },
     "metadata": {},
     "output_type": "display_data"
    },
    {
     "data": {
      "text/html": [
       "<pre style=\"white-space:pre;overflow-x:auto;line-height:normal;font-family:Menlo,'DejaVu Sans Mono',consolas,'Courier New',monospace\"><span style=\"color: #800000; text-decoration-color: #800000; font-weight: bold\">ERROR   </span> <span style=\"font-weight: bold\">[</span>rocks<span style=\"font-weight: bold\">]</span> Could not find match for id <span style=\"color: #008080; text-decoration-color: #008080; font-weight: bold\">2007</span> TG08.                                                            \n",
       "</pre>\n"
      ],
      "text/plain": [
       "\u001b[1;31mERROR   \u001b[0m \u001b[1m[\u001b[0mrocks\u001b[1m]\u001b[0m Could not find match for id \u001b[1;36m2007\u001b[0m TG08.                                                            \n"
      ]
     },
     "metadata": {},
     "output_type": "display_data"
    },
    {
     "data": {
      "text/html": [
       "<pre style=\"white-space:pre;overflow-x:auto;line-height:normal;font-family:Menlo,'DejaVu Sans Mono',consolas,'Courier New',monospace\"><span style=\"color: #800000; text-decoration-color: #800000; font-weight: bold\">ERROR   </span> <span style=\"font-weight: bold\">[</span>rocks<span style=\"font-weight: bold\">]</span> Could not find match for id <span style=\"color: #008080; text-decoration-color: #008080; font-weight: bold\">2016</span> VW01.                                                            \n",
       "</pre>\n"
      ],
      "text/plain": [
       "\u001b[1;31mERROR   \u001b[0m \u001b[1m[\u001b[0mrocks\u001b[1m]\u001b[0m Could not find match for id \u001b[1;36m2016\u001b[0m VW01.                                                            \n"
      ]
     },
     "metadata": {},
     "output_type": "display_data"
    },
    {
     "data": {
      "text/html": [
       "<pre style=\"white-space:pre;overflow-x:auto;line-height:normal;font-family:Menlo,'DejaVu Sans Mono',consolas,'Courier New',monospace\"><span style=\"color: #800000; text-decoration-color: #800000; font-weight: bold\">ERROR   </span> <span style=\"font-weight: bold\">[</span>rocks<span style=\"font-weight: bold\">]</span> Could not find match for id <span style=\"color: #008080; text-decoration-color: #008080; font-weight: bold\">2016</span> XE01.                                                            \n",
       "</pre>\n"
      ],
      "text/plain": [
       "\u001b[1;31mERROR   \u001b[0m \u001b[1m[\u001b[0mrocks\u001b[1m]\u001b[0m Could not find match for id \u001b[1;36m2016\u001b[0m XE01.                                                            \n"
      ]
     },
     "metadata": {},
     "output_type": "display_data"
    },
    {
     "data": {
      "text/html": [
       "<pre style=\"white-space:pre;overflow-x:auto;line-height:normal;font-family:Menlo,'DejaVu Sans Mono',consolas,'Courier New',monospace\"><span style=\"color: #800000; text-decoration-color: #800000; font-weight: bold\">ERROR   </span> <span style=\"font-weight: bold\">[</span>rocks<span style=\"font-weight: bold\">]</span> Could not find match for id <span style=\"color: #008080; text-decoration-color: #008080; font-weight: bold\">2003</span> YM01.                                                            \n",
       "</pre>\n"
      ],
      "text/plain": [
       "\u001b[1;31mERROR   \u001b[0m \u001b[1m[\u001b[0mrocks\u001b[1m]\u001b[0m Could not find match for id \u001b[1;36m2003\u001b[0m YM01.                                                            \n"
      ]
     },
     "metadata": {},
     "output_type": "display_data"
    },
    {
     "data": {
      "text/html": [
       "<pre style=\"white-space:pre;overflow-x:auto;line-height:normal;font-family:Menlo,'DejaVu Sans Mono',consolas,'Courier New',monospace\"><span style=\"color: #800000; text-decoration-color: #800000; font-weight: bold\">ERROR   </span> <span style=\"font-weight: bold\">[</span>rocks<span style=\"font-weight: bold\">]</span> Could not find match for id <span style=\"color: #008080; text-decoration-color: #008080; font-weight: bold\">2020</span> FW03.                                                            \n",
       "</pre>\n"
      ],
      "text/plain": [
       "\u001b[1;31mERROR   \u001b[0m \u001b[1m[\u001b[0mrocks\u001b[1m]\u001b[0m Could not find match for id \u001b[1;36m2020\u001b[0m FW03.                                                            \n"
      ]
     },
     "metadata": {},
     "output_type": "display_data"
    },
    {
     "data": {
      "text/html": [
       "<pre style=\"white-space:pre;overflow-x:auto;line-height:normal;font-family:Menlo,'DejaVu Sans Mono',consolas,'Courier New',monospace\"><span style=\"color: #800000; text-decoration-color: #800000; font-weight: bold\">ERROR   </span> <span style=\"font-weight: bold\">[</span>rocks<span style=\"font-weight: bold\">]</span> Could not find match for id <span style=\"color: #008080; text-decoration-color: #008080; font-weight: bold\">2003</span> VA03.                                                            \n",
       "</pre>\n"
      ],
      "text/plain": [
       "\u001b[1;31mERROR   \u001b[0m \u001b[1m[\u001b[0mrocks\u001b[1m]\u001b[0m Could not find match for id \u001b[1;36m2003\u001b[0m VA03.                                                            \n"
      ]
     },
     "metadata": {},
     "output_type": "display_data"
    },
    {
     "data": {
      "text/html": [
       "<pre style=\"white-space:pre;overflow-x:auto;line-height:normal;font-family:Menlo,'DejaVu Sans Mono',consolas,'Courier New',monospace\"><span style=\"color: #800000; text-decoration-color: #800000; font-weight: bold\">ERROR   </span> <span style=\"font-weight: bold\">[</span>rocks<span style=\"font-weight: bold\">]</span> Could not find match for id <span style=\"color: #008080; text-decoration-color: #008080; font-weight: bold\">1999</span> UK05.                                                            \n",
       "</pre>\n"
      ],
      "text/plain": [
       "\u001b[1;31mERROR   \u001b[0m \u001b[1m[\u001b[0mrocks\u001b[1m]\u001b[0m Could not find match for id \u001b[1;36m1999\u001b[0m UK05.                                                            \n"
      ]
     },
     "metadata": {},
     "output_type": "display_data"
    },
    {
     "data": {
      "text/html": [
       "<pre style=\"white-space:pre;overflow-x:auto;line-height:normal;font-family:Menlo,'DejaVu Sans Mono',consolas,'Courier New',monospace\"><span style=\"color: #800000; text-decoration-color: #800000; font-weight: bold\">ERROR   </span> <span style=\"font-weight: bold\">[</span>rocks<span style=\"font-weight: bold\">]</span> Could not find match for id <span style=\"color: #008080; text-decoration-color: #008080; font-weight: bold\">2009</span> CD04.                                                            \n",
       "</pre>\n"
      ],
      "text/plain": [
       "\u001b[1;31mERROR   \u001b[0m \u001b[1m[\u001b[0mrocks\u001b[1m]\u001b[0m Could not find match for id \u001b[1;36m2009\u001b[0m CD04.                                                            \n"
      ]
     },
     "metadata": {},
     "output_type": "display_data"
    },
    {
     "data": {
      "text/html": [
       "<pre style=\"white-space:pre;overflow-x:auto;line-height:normal;font-family:Menlo,'DejaVu Sans Mono',consolas,'Courier New',monospace\"><span style=\"color: #800000; text-decoration-color: #800000; font-weight: bold\">ERROR   </span> <span style=\"font-weight: bold\">[</span>rocks<span style=\"font-weight: bold\">]</span> Could not find match for id <span style=\"color: #008080; text-decoration-color: #008080; font-weight: bold\">2020</span> KZ05.                                                            \n",
       "</pre>\n"
      ],
      "text/plain": [
       "\u001b[1;31mERROR   \u001b[0m \u001b[1m[\u001b[0mrocks\u001b[1m]\u001b[0m Could not find match for id \u001b[1;36m2020\u001b[0m KZ05.                                                            \n"
      ]
     },
     "metadata": {},
     "output_type": "display_data"
    },
    {
     "data": {
      "text/html": [
       "<pre style=\"white-space:pre;overflow-x:auto;line-height:normal;font-family:Menlo,'DejaVu Sans Mono',consolas,'Courier New',monospace\"><span style=\"color: #800000; text-decoration-color: #800000; font-weight: bold\">ERROR   </span> <span style=\"font-weight: bold\">[</span>rocks<span style=\"font-weight: bold\">]</span> Could not find match for id 162P.                                                                 \n",
       "</pre>\n"
      ],
      "text/plain": [
       "\u001b[1;31mERROR   \u001b[0m \u001b[1m[\u001b[0mrocks\u001b[1m]\u001b[0m Could not find match for id 162P.                                                                 \n"
      ]
     },
     "metadata": {},
     "output_type": "display_data"
    },
    {
     "data": {
      "text/html": [
       "<pre style=\"white-space:pre;overflow-x:auto;line-height:normal;font-family:Menlo,'DejaVu Sans Mono',consolas,'Courier New',monospace\"><span style=\"color: #800000; text-decoration-color: #800000; font-weight: bold\">ERROR   </span> <span style=\"font-weight: bold\">[</span>rocks<span style=\"font-weight: bold\">]</span> Could not find match for id <span style=\"color: #008080; text-decoration-color: #008080; font-weight: bold\">2003</span> UR00.                                                            \n",
       "</pre>\n"
      ],
      "text/plain": [
       "\u001b[1;31mERROR   \u001b[0m \u001b[1m[\u001b[0mrocks\u001b[1m]\u001b[0m Could not find match for id \u001b[1;36m2003\u001b[0m UR00.                                                            \n"
      ]
     },
     "metadata": {},
     "output_type": "display_data"
    },
    {
     "data": {
      "text/html": [
       "<pre style=\"white-space:pre;overflow-x:auto;line-height:normal;font-family:Menlo,'DejaVu Sans Mono',consolas,'Courier New',monospace\">\n",
       "</pre>\n"
      ],
      "text/plain": [
       "\n"
      ]
     },
     "metadata": {},
     "output_type": "display_data"
    }
   ],
   "source": [
    "# HG to data\n",
    "names_numbers = rocks.identify(data_hg.ssnamenr)\n",
    "data_hg['number'] = [nn[1] for nn in names_numbers]\n",
    "data_hg['name'] = [nn[0] for nn in names_numbers]\n",
    "\n",
    "data_hg['minphase'] = np.rad2deg(data_hg['params'].apply(lambda x: x['minphase']).values)\n",
    "data_hg['maxphase'] = np.rad2deg(data_hg['params'].apply(lambda x: x['maxphase']).values)\n",
    "data_hg['n_days'] = data_hg['ndays']\n",
    "data_hg['n_obs'] = data_hg['nmeasurements']\n",
    "\n",
    "data_hg['HG_H'] = data_hg['params'].apply(lambda x: x['H']).values\n",
    "data_hg['HG_dH'] = data_hg['params'].apply(lambda x: x['errH']).values\n",
    "data_hg['HG_G'] = data_hg['params'].apply(lambda x: x['G']).values\n",
    "data_hg['HG_dG'] = data_hg['params'].apply(lambda x: x['errG']).values\n",
    "\n",
    "data_hg['HG_rms'] = data_hg['params'].apply(lambda x: x['rms']).values\n",
    "data_hg['HG_chi2red'] = data_hg['params'].apply(lambda x: x['chi2red']).values\n",
    "\n",
    "data_hg = data_hg.drop(columns=[ 'nmeasurements', 'ndays', 'params'])\n",
    "\n",
    "cond = data_hg.name.notna()\n",
    "data_hg = data_hg[cond].reset_index(drop=True)"
   ]
  },
  {
   "cell_type": "code",
   "execution_count": 7,
   "id": "08bc86c8-5353-46f4-a6dd-037f73caff50",
   "metadata": {},
   "outputs": [],
   "source": [
    "# HG1G2 to data\n",
    "data_hg1g2['HG1G2_H'] = data_hg1g2['params'].apply(lambda x: x['H']).values\n",
    "data_hg1g2['HG1G2_dH'] = data_hg1g2['params'].apply(lambda x: x['errH']).values\n",
    "data_hg1g2['HG1G2_G1'] = data_hg1g2['params'].apply(lambda x: x['G1']).values\n",
    "data_hg1g2['HG1G2_dG1'] = data_hg1g2['params'].apply(lambda x: x['errG1']).values\n",
    "data_hg1g2['HG1G2_G2'] = data_hg1g2['params'].apply(lambda x: x['G2']).values\n",
    "data_hg1g2['HG1G2_dG2'] = data_hg1g2['params'].apply(lambda x: x['errG2']).values\n",
    "\n",
    "# data_hg1g2['HG1G2_minphase'] = np.rad2deg(data_hg1g2['params'].apply(lambda x: x['minphase']).values)\n",
    "# data_hg1g2['HG1G2_maxphase'] = np.rad2deg(data_hg1g2['params'].apply(lambda x: x['maxphase']).values)\n",
    "# data_hg1g2['HG1G2_n_days'] = data_hg1g2['ndays']\n",
    "# data_hg1g2['HG1G2_n_obs'] = data_hg1g2['nmeasurements']\n",
    "data_hg1g2['HG1G2_rms'] = data_hg1g2['params'].apply(lambda x: x['rms']).values\n",
    "data_hg1g2['HG1G2_chi2red'] = data_hg1g2['params'].apply(lambda x: x['chi2red']).values\n",
    "\n",
    "data_hg1g2 = data_hg1g2.drop(columns=['nmeasurements', 'ndays', 'params'])"
   ]
  },
  {
   "cell_type": "code",
   "execution_count": 8,
   "id": "9c0272c2-f699-4427-bd26-e436fbd93baf",
   "metadata": {},
   "outputs": [],
   "source": [
    "# HG1G2spin to data\n",
    "data_hg1g2sp['HG1G2sp_H'] = data_hg1g2sp['params'].apply(lambda x: x['H']).values\n",
    "data_hg1g2sp['HG1G2sp_dH'] = data_hg1g2sp['params'].apply(lambda x: x['errH']).values\n",
    "data_hg1g2sp['HG1G2sp_G1'] = data_hg1g2sp['params'].apply(lambda x: x['G1']).values\n",
    "data_hg1g2sp['HG1G2sp_dG1'] = data_hg1g2sp['params'].apply(lambda x: x['errG1']).values\n",
    "data_hg1g2sp['HG1G2sp_G2'] = data_hg1g2sp['params'].apply(lambda x: x['G2']).values\n",
    "data_hg1g2sp['HG1G2sp_dG2'] = data_hg1g2sp['params'].apply(lambda x: x['errG2']).values\n",
    "\n",
    "data_hg1g2sp['HG1G2sp_RA0'] = np.degrees(data_hg1g2sp['params'].apply(lambda x: x['RA0']).values)\n",
    "data_hg1g2sp['HG1G2sp_dRA0'] = np.degrees(data_hg1g2sp['params'].apply(lambda x: x['errRA0']).values)\n",
    "data_hg1g2sp['HG1G2sp_DEC0'] = np.degrees(data_hg1g2sp['params'].apply(lambda x: x['DEC0']).values)\n",
    "data_hg1g2sp['HG1G2sp_dDEC0'] = np.degrees(data_hg1g2sp['params'].apply(lambda x: x['errDEC0']).values)\n",
    "data_hg1g2sp['HG1G2sp_R'] = data_hg1g2sp['params'].apply(lambda x: x['R']).values\n",
    "data_hg1g2sp['HG1G2sp_dR'] = data_hg1g2sp['params'].apply(lambda x: x['errR']).values\n",
    "\n",
    "data_hg1g2sp['HG1G2sp_rms'] = data_hg1g2sp['params'].apply(lambda x: x['rms']).values\n",
    "data_hg1g2sp['HG1G2sp_chi2red'] = data_hg1g2sp['params'].apply(lambda x: x['chi2red']).values\n",
    "# data_hg1g2sp['HG1G2sp_minphase'] = np.rad2deg(data_hg1g2sp['params'].apply(lambda x: x['minphase']).values)\n",
    "# data_hg1g2sp['HG1G2sp_maxphase'] = np.rad2deg(data_hg1g2sp['params'].apply(lambda x: x['maxphase']).values)\n",
    "# data_hg1g2sp['HG1G2sp_n_days'] = data_hg1g2sp['ndays']\n",
    "# data_hg1g2sp['HG1G2sp_n_obs'] = data_hg1g2sp['nmeasurements']\n",
    "\n",
    "data_hg1g2sp = data_hg1g2sp.drop(columns=['nmeasurements', 'ndays', 'params'])"
   ]
  },
  {
   "cell_type": "code",
   "execution_count": 9,
   "id": "d3d94847-a6e4-4b93-9508-3fb0f41c32dd",
   "metadata": {},
   "outputs": [],
   "source": [
    "# HG1G2hyb to data\n",
    "for filt in filters.keys():\n",
    "    data_hg1g2hyb['HG1G2hyb_H_{}'.format(filters[filt])] = data_hg1g2hyb['params'].apply(lambda x: x['H_{}'.format(filt)]).values\n",
    "    data_hg1g2hyb['HG1G2hyb_dH_{}'.format(filters[filt])] = data_hg1g2hyb['params'].apply(lambda x: x['errH_{}'.format(filt)]).values\n",
    "    data_hg1g2hyb['HG1G2hyb_G1_{}'.format(filters[filt])] = data_hg1g2hyb['params'].apply(lambda x: x['G1_{}'.format(filt)]).values\n",
    "    data_hg1g2hyb['HG1G2hyb_dG1_{}'.format(filters[filt])] = data_hg1g2hyb['params'].apply(lambda x: x['errG1_{}'.format(filt)]).values\n",
    "    data_hg1g2hyb['HG1G2hyb_G2_{}'.format(filters[filt])] = data_hg1g2hyb['params'].apply(lambda x: x['G2_{}'.format(filt)]).values\n",
    "    data_hg1g2hyb['HG1G2hyb_dG2_{}'.format(filters[filt])] = data_hg1g2hyb['params'].apply(lambda x: x['errG2_{}'.format(filt)]).values\n",
    "    \n",
    "\n",
    "data_hg1g2hyb['HG1G2hyb_RA0'] = np.degrees(data_hg1g2hyb['params'].apply(lambda x: x['alpha0']).values)\n",
    "data_hg1g2hyb['HG1G2hyb_dRA0'] = np.degrees(data_hg1g2hyb['params'].apply(lambda x: x['erralpha0']).values)\n",
    "data_hg1g2hyb['HG1G2hyb_DEC0'] = np.degrees(data_hg1g2hyb['params'].apply(lambda x: x['delta0']).values)\n",
    "data_hg1g2hyb['HG1G2hyb_dDEC0'] = np.degrees(data_hg1g2hyb['params'].apply(lambda x: x['errdelta0']).values)\n",
    "data_hg1g2hyb['HG1G2hyb_R'] = data_hg1g2hyb['params'].apply(lambda x: x['R']).values\n",
    "data_hg1g2hyb['HG1G2hyb_dR'] = data_hg1g2hyb['params'].apply(lambda x: x['errR']).values\n",
    "\n",
    "data_hg1g2hyb['HG1G2hyb_rms'] = data_hg1g2hyb['params'].apply(lambda x: x['rms']).values\n",
    "data_hg1g2hyb['HG1G2hyb_chi2red'] = data_hg1g2hyb['params'].apply(lambda x: x['chi2red']).values\n",
    "data_hg1g2hyb['HG1G2hyb_n_oppo'] = data_hg1g2hyb['params'].apply(lambda x: x['noppositions']).values\n",
    "data_hg1g2hyb['HG1G2hyb_status'] = data_hg1g2hyb['params'].apply(lambda x: x['status']).values\n",
    "data_hg1g2hyb['HG1G2hyb_fit'] = data_hg1g2hyb['params'].apply(lambda x: x['fit']).values\n",
    "# data_hg1g2hyb['HG1G2hyb_minphase'] = np.rad2deg(data_hg1g2hyb['params'].apply(lambda x: x['minphase']).values)\n",
    "# data_hg1g2hyb['HG1G2hyb_maxphase'] = np.rad2deg(data_hg1g2hyb['params'].apply(lambda x: x['maxphase']).values)\n",
    "# data_hg1g2hyb['HG1G2hyb_n_days'] = data_hg1g2hyb['ndays']\n",
    "# data_hg1g2hyb['HG1G2hyb_n_obs'] = data_hg1g2hyb['nmeasurements']\n",
    "\n",
    "data_hg1g2hyb = data_hg1g2hyb.drop(columns=['nmeasurements', 'ndays', 'params'])\n"
   ]
  },
  {
   "cell_type": "code",
   "execution_count": 10,
   "id": "9c203198-a6a1-4eba-89a9-37e5460129fa",
   "metadata": {},
   "outputs": [],
   "source": [
    "# HG with HG1G2\n",
    "data_2 = data_hg.merge( data_hg1g2, on='ssnamenr')\n",
    "\n",
    "# (HG with HG1G2) wth HG1G2spin\n",
    "data_3 = data_2.merge( data_hg1g2sp, on='ssnamenr')\n",
    "\n",
    "# ((HG with HG1G2) wth HG1G2spin) with hybrid\n",
    "data = data_3.merge( data_hg1g2hyb, on='ssnamenr')"
   ]
  },
  {
   "cell_type": "code",
   "execution_count": 11,
   "id": "ec887062-3de0-4ee8-8d96-6d78348fe855",
   "metadata": {},
   "outputs": [
    {
     "data": {
      "text/plain": [
       "(104165, 104165, 104242, 104242, 104242, 104242)"
      ]
     },
     "execution_count": 11,
     "metadata": {},
     "output_type": "execute_result"
    }
   ],
   "source": [
    "len(data), len(data_hg), len(data_hg12),  len(data_hg1g2),  len(data_hg1g2sp),  len(data_hg1g2hyb)"
   ]
  },
  {
   "cell_type": "code",
   "execution_count": 12,
   "id": "16482917-0cc7-4d01-8eec-9c97818980a0",
   "metadata": {},
   "outputs": [
    {
     "data": {
      "text/html": [
       "<div>\n",
       "<style scoped>\n",
       "    .dataframe tbody tr th:only-of-type {\n",
       "        vertical-align: middle;\n",
       "    }\n",
       "\n",
       "    .dataframe tbody tr th {\n",
       "        vertical-align: top;\n",
       "    }\n",
       "\n",
       "    .dataframe thead th {\n",
       "        text-align: right;\n",
       "    }\n",
       "</style>\n",
       "<table border=\"1\" class=\"dataframe\">\n",
       "  <thead>\n",
       "    <tr style=\"text-align: right;\">\n",
       "      <th></th>\n",
       "      <th>ssnamenr</th>\n",
       "      <th>number</th>\n",
       "      <th>name</th>\n",
       "      <th>minphase</th>\n",
       "      <th>maxphase</th>\n",
       "      <th>n_days</th>\n",
       "      <th>n_obs</th>\n",
       "      <th>HG_H</th>\n",
       "      <th>HG_dH</th>\n",
       "      <th>HG_G</th>\n",
       "      <th>...</th>\n",
       "      <th>HG1G2hyb_dRA0</th>\n",
       "      <th>HG1G2hyb_DEC0</th>\n",
       "      <th>HG1G2hyb_dDEC0</th>\n",
       "      <th>HG1G2hyb_R</th>\n",
       "      <th>HG1G2hyb_dR</th>\n",
       "      <th>HG1G2hyb_rms</th>\n",
       "      <th>HG1G2hyb_chi2red</th>\n",
       "      <th>HG1G2hyb_n_oppo</th>\n",
       "      <th>HG1G2hyb_status</th>\n",
       "      <th>HG1G2hyb_fit</th>\n",
       "    </tr>\n",
       "  </thead>\n",
       "  <tbody>\n",
       "    <tr>\n",
       "      <th>0</th>\n",
       "      <td>3378</td>\n",
       "      <td>3378</td>\n",
       "      <td>Susanvictoria</td>\n",
       "      <td>7.209902</td>\n",
       "      <td>27.973639</td>\n",
       "      <td>694.757685</td>\n",
       "      <td>163</td>\n",
       "      <td>13.835591</td>\n",
       "      <td>0.073765</td>\n",
       "      <td>0.186857</td>\n",
       "      <td>...</td>\n",
       "      <td>153.917780</td>\n",
       "      <td>-15.299222</td>\n",
       "      <td>241.490163</td>\n",
       "      <td>0.979325</td>\n",
       "      <td>0.028333</td>\n",
       "      <td>0.055675</td>\n",
       "      <td>0.713563</td>\n",
       "      <td>2.0</td>\n",
       "      <td>2.0</td>\n",
       "      <td>0.0</td>\n",
       "    </tr>\n",
       "    <tr>\n",
       "      <th>1</th>\n",
       "      <td>66214</td>\n",
       "      <td>66214</td>\n",
       "      <td>1999 CO36</td>\n",
       "      <td>2.763971</td>\n",
       "      <td>24.397613</td>\n",
       "      <td>972.951458</td>\n",
       "      <td>73</td>\n",
       "      <td>15.128266</td>\n",
       "      <td>0.062540</td>\n",
       "      <td>0.027824</td>\n",
       "      <td>...</td>\n",
       "      <td>39.364009</td>\n",
       "      <td>78.000262</td>\n",
       "      <td>2.552685</td>\n",
       "      <td>0.466551</td>\n",
       "      <td>0.307383</td>\n",
       "      <td>0.104988</td>\n",
       "      <td>1.613918</td>\n",
       "      <td>2.0</td>\n",
       "      <td>2.0</td>\n",
       "      <td>0.0</td>\n",
       "    </tr>\n",
       "    <tr>\n",
       "      <th>2</th>\n",
       "      <td>30141</td>\n",
       "      <td>30141</td>\n",
       "      <td>Nelvenzon</td>\n",
       "      <td>3.434811</td>\n",
       "      <td>23.955449</td>\n",
       "      <td>621.800359</td>\n",
       "      <td>53</td>\n",
       "      <td>16.165762</td>\n",
       "      <td>0.136274</td>\n",
       "      <td>0.613963</td>\n",
       "      <td>...</td>\n",
       "      <td>6.628863</td>\n",
       "      <td>34.264050</td>\n",
       "      <td>53.109901</td>\n",
       "      <td>0.100000</td>\n",
       "      <td>1.668842</td>\n",
       "      <td>0.215337</td>\n",
       "      <td>3.232228</td>\n",
       "      <td>2.0</td>\n",
       "      <td>2.0</td>\n",
       "      <td>0.0</td>\n",
       "    </tr>\n",
       "    <tr>\n",
       "      <th>3</th>\n",
       "      <td>161891</td>\n",
       "      <td>161891</td>\n",
       "      <td>2007 DW10</td>\n",
       "      <td>1.758005</td>\n",
       "      <td>21.985170</td>\n",
       "      <td>632.723530</td>\n",
       "      <td>61</td>\n",
       "      <td>15.447201</td>\n",
       "      <td>0.046601</td>\n",
       "      <td>0.117947</td>\n",
       "      <td>...</td>\n",
       "      <td>44.012981</td>\n",
       "      <td>-74.451227</td>\n",
       "      <td>5.611647</td>\n",
       "      <td>0.100000</td>\n",
       "      <td>0.724887</td>\n",
       "      <td>0.118081</td>\n",
       "      <td>0.949253</td>\n",
       "      <td>2.0</td>\n",
       "      <td>2.0</td>\n",
       "      <td>0.0</td>\n",
       "    </tr>\n",
       "    <tr>\n",
       "      <th>4</th>\n",
       "      <td>85970</td>\n",
       "      <td>85970</td>\n",
       "      <td>Fundacaoterra</td>\n",
       "      <td>0.822790</td>\n",
       "      <td>22.376936</td>\n",
       "      <td>998.833889</td>\n",
       "      <td>54</td>\n",
       "      <td>15.927574</td>\n",
       "      <td>0.101270</td>\n",
       "      <td>0.443576</td>\n",
       "      <td>...</td>\n",
       "      <td>85.600630</td>\n",
       "      <td>6.505823</td>\n",
       "      <td>526.808775</td>\n",
       "      <td>0.787759</td>\n",
       "      <td>1.067188</td>\n",
       "      <td>0.241099</td>\n",
       "      <td>3.929848</td>\n",
       "      <td>2.0</td>\n",
       "      <td>2.0</td>\n",
       "      <td>0.0</td>\n",
       "    </tr>\n",
       "    <tr>\n",
       "      <th>...</th>\n",
       "      <td>...</td>\n",
       "      <td>...</td>\n",
       "      <td>...</td>\n",
       "      <td>...</td>\n",
       "      <td>...</td>\n",
       "      <td>...</td>\n",
       "      <td>...</td>\n",
       "      <td>...</td>\n",
       "      <td>...</td>\n",
       "      <td>...</td>\n",
       "      <td>...</td>\n",
       "      <td>...</td>\n",
       "      <td>...</td>\n",
       "      <td>...</td>\n",
       "      <td>...</td>\n",
       "      <td>...</td>\n",
       "      <td>...</td>\n",
       "      <td>...</td>\n",
       "      <td>...</td>\n",
       "      <td>...</td>\n",
       "      <td>...</td>\n",
       "    </tr>\n",
       "    <tr>\n",
       "      <th>104160</th>\n",
       "      <td>64758</td>\n",
       "      <td>64758</td>\n",
       "      <td>2001 XL163</td>\n",
       "      <td>1.497470</td>\n",
       "      <td>29.740566</td>\n",
       "      <td>608.827500</td>\n",
       "      <td>79</td>\n",
       "      <td>15.778768</td>\n",
       "      <td>0.072580</td>\n",
       "      <td>0.114509</td>\n",
       "      <td>...</td>\n",
       "      <td>17.848333</td>\n",
       "      <td>67.713929</td>\n",
       "      <td>6.546610</td>\n",
       "      <td>0.100000</td>\n",
       "      <td>0.863042</td>\n",
       "      <td>0.076590</td>\n",
       "      <td>0.511152</td>\n",
       "      <td>1.0</td>\n",
       "      <td>2.0</td>\n",
       "      <td>0.0</td>\n",
       "    </tr>\n",
       "    <tr>\n",
       "      <th>104161</th>\n",
       "      <td>76784</td>\n",
       "      <td>76784</td>\n",
       "      <td>2000 KR71</td>\n",
       "      <td>1.830102</td>\n",
       "      <td>25.589995</td>\n",
       "      <td>990.106308</td>\n",
       "      <td>82</td>\n",
       "      <td>15.468660</td>\n",
       "      <td>0.065853</td>\n",
       "      <td>0.093753</td>\n",
       "      <td>...</td>\n",
       "      <td>4.341772</td>\n",
       "      <td>10.253432</td>\n",
       "      <td>16.173789</td>\n",
       "      <td>0.512686</td>\n",
       "      <td>0.063486</td>\n",
       "      <td>0.180404</td>\n",
       "      <td>3.614875</td>\n",
       "      <td>2.0</td>\n",
       "      <td>2.0</td>\n",
       "      <td>0.0</td>\n",
       "    </tr>\n",
       "    <tr>\n",
       "      <th>104162</th>\n",
       "      <td>181960</td>\n",
       "      <td>181960</td>\n",
       "      <td>1999 UM24</td>\n",
       "      <td>1.875814</td>\n",
       "      <td>18.193628</td>\n",
       "      <td>973.847419</td>\n",
       "      <td>107</td>\n",
       "      <td>14.037718</td>\n",
       "      <td>0.076177</td>\n",
       "      <td>0.000482</td>\n",
       "      <td>...</td>\n",
       "      <td>10.708092</td>\n",
       "      <td>-40.830495</td>\n",
       "      <td>37.226966</td>\n",
       "      <td>0.756585</td>\n",
       "      <td>0.076064</td>\n",
       "      <td>0.117396</td>\n",
       "      <td>1.256240</td>\n",
       "      <td>2.0</td>\n",
       "      <td>2.0</td>\n",
       "      <td>0.0</td>\n",
       "    </tr>\n",
       "    <tr>\n",
       "      <th>104163</th>\n",
       "      <td>366616</td>\n",
       "      <td>366616</td>\n",
       "      <td>2003 NP4</td>\n",
       "      <td>26.050772</td>\n",
       "      <td>37.302272</td>\n",
       "      <td>242.663241</td>\n",
       "      <td>153</td>\n",
       "      <td>16.717611</td>\n",
       "      <td>0.113371</td>\n",
       "      <td>0.149370</td>\n",
       "      <td>...</td>\n",
       "      <td>17.179136</td>\n",
       "      <td>-1.625219</td>\n",
       "      <td>21.797540</td>\n",
       "      <td>0.851850</td>\n",
       "      <td>0.103011</td>\n",
       "      <td>0.048810</td>\n",
       "      <td>0.522309</td>\n",
       "      <td>1.0</td>\n",
       "      <td>2.0</td>\n",
       "      <td>0.0</td>\n",
       "    </tr>\n",
       "    <tr>\n",
       "      <th>104164</th>\n",
       "      <td>222006</td>\n",
       "      <td>222006</td>\n",
       "      <td>1998 QJ59</td>\n",
       "      <td>2.836991</td>\n",
       "      <td>25.515992</td>\n",
       "      <td>623.817755</td>\n",
       "      <td>60</td>\n",
       "      <td>15.705935</td>\n",
       "      <td>0.052364</td>\n",
       "      <td>0.018479</td>\n",
       "      <td>...</td>\n",
       "      <td>1520.758558</td>\n",
       "      <td>30.850165</td>\n",
       "      <td>238.073784</td>\n",
       "      <td>0.931002</td>\n",
       "      <td>0.456319</td>\n",
       "      <td>0.088687</td>\n",
       "      <td>0.791696</td>\n",
       "      <td>1.0</td>\n",
       "      <td>2.0</td>\n",
       "      <td>0.0</td>\n",
       "    </tr>\n",
       "  </tbody>\n",
       "</table>\n",
       "<p>104165 rows × 58 columns</p>\n",
       "</div>"
      ],
      "text/plain": [
       "       ssnamenr  number           name   minphase   maxphase      n_days  \\\n",
       "0          3378    3378  Susanvictoria   7.209902  27.973639  694.757685   \n",
       "1         66214   66214      1999 CO36   2.763971  24.397613  972.951458   \n",
       "2         30141   30141      Nelvenzon   3.434811  23.955449  621.800359   \n",
       "3        161891  161891      2007 DW10   1.758005  21.985170  632.723530   \n",
       "4         85970   85970  Fundacaoterra   0.822790  22.376936  998.833889   \n",
       "...         ...     ...            ...        ...        ...         ...   \n",
       "104160    64758   64758     2001 XL163   1.497470  29.740566  608.827500   \n",
       "104161    76784   76784      2000 KR71   1.830102  25.589995  990.106308   \n",
       "104162   181960  181960      1999 UM24   1.875814  18.193628  973.847419   \n",
       "104163   366616  366616       2003 NP4  26.050772  37.302272  242.663241   \n",
       "104164   222006  222006      1998 QJ59   2.836991  25.515992  623.817755   \n",
       "\n",
       "        n_obs       HG_H     HG_dH      HG_G  ...  HG1G2hyb_dRA0  \\\n",
       "0         163  13.835591  0.073765  0.186857  ...     153.917780   \n",
       "1          73  15.128266  0.062540  0.027824  ...      39.364009   \n",
       "2          53  16.165762  0.136274  0.613963  ...       6.628863   \n",
       "3          61  15.447201  0.046601  0.117947  ...      44.012981   \n",
       "4          54  15.927574  0.101270  0.443576  ...      85.600630   \n",
       "...       ...        ...       ...       ...  ...            ...   \n",
       "104160     79  15.778768  0.072580  0.114509  ...      17.848333   \n",
       "104161     82  15.468660  0.065853  0.093753  ...       4.341772   \n",
       "104162    107  14.037718  0.076177  0.000482  ...      10.708092   \n",
       "104163    153  16.717611  0.113371  0.149370  ...      17.179136   \n",
       "104164     60  15.705935  0.052364  0.018479  ...    1520.758558   \n",
       "\n",
       "        HG1G2hyb_DEC0  HG1G2hyb_dDEC0  HG1G2hyb_R  HG1G2hyb_dR  HG1G2hyb_rms  \\\n",
       "0          -15.299222      241.490163    0.979325     0.028333      0.055675   \n",
       "1           78.000262        2.552685    0.466551     0.307383      0.104988   \n",
       "2           34.264050       53.109901    0.100000     1.668842      0.215337   \n",
       "3          -74.451227        5.611647    0.100000     0.724887      0.118081   \n",
       "4            6.505823      526.808775    0.787759     1.067188      0.241099   \n",
       "...               ...             ...         ...          ...           ...   \n",
       "104160      67.713929        6.546610    0.100000     0.863042      0.076590   \n",
       "104161      10.253432       16.173789    0.512686     0.063486      0.180404   \n",
       "104162     -40.830495       37.226966    0.756585     0.076064      0.117396   \n",
       "104163      -1.625219       21.797540    0.851850     0.103011      0.048810   \n",
       "104164      30.850165      238.073784    0.931002     0.456319      0.088687   \n",
       "\n",
       "        HG1G2hyb_chi2red  HG1G2hyb_n_oppo  HG1G2hyb_status  HG1G2hyb_fit  \n",
       "0               0.713563              2.0              2.0           0.0  \n",
       "1               1.613918              2.0              2.0           0.0  \n",
       "2               3.232228              2.0              2.0           0.0  \n",
       "3               0.949253              2.0              2.0           0.0  \n",
       "4               3.929848              2.0              2.0           0.0  \n",
       "...                  ...              ...              ...           ...  \n",
       "104160          0.511152              1.0              2.0           0.0  \n",
       "104161          3.614875              2.0              2.0           0.0  \n",
       "104162          1.256240              2.0              2.0           0.0  \n",
       "104163          0.522309              1.0              2.0           0.0  \n",
       "104164          0.791696              1.0              2.0           0.0  \n",
       "\n",
       "[104165 rows x 58 columns]"
      ]
     },
     "execution_count": 12,
     "metadata": {},
     "output_type": "execute_result"
    }
   ],
   "source": [
    "data = data.astype({'number':'Int64'})\n",
    "data"
   ]
  },
  {
   "cell_type": "code",
   "execution_count": 13,
   "id": "6e32343b-14ea-4269-b257-0d6fd859acba",
   "metadata": {},
   "outputs": [],
   "source": [
    "data.to_parquet(f'{data_fink}data/sso_bft_50_inf_allsolutions.parquet')"
   ]
  },
  {
   "cell_type": "code",
   "execution_count": 14,
   "id": "41118d53-6948-419f-8b89-9d4d4d418e61",
   "metadata": {},
   "outputs": [
    {
     "data": {
      "text/plain": [
       "Index(['ssnamenr', 'number', 'name', 'minphase', 'maxphase', 'n_days', 'n_obs',\n",
       "       'HG_H', 'HG_dH', 'HG_G', 'HG_dG', 'HG_rms', 'HG_chi2red', 'HG1G2_H',\n",
       "       'HG1G2_dH', 'HG1G2_G1', 'HG1G2_dG1', 'HG1G2_G2', 'HG1G2_dG2',\n",
       "       'HG1G2_rms', 'HG1G2_chi2red', 'HG1G2sp_H', 'HG1G2sp_dH', 'HG1G2sp_G1',\n",
       "       'HG1G2sp_dG1', 'HG1G2sp_G2', 'HG1G2sp_dG2', 'HG1G2sp_RA0',\n",
       "       'HG1G2sp_dRA0', 'HG1G2sp_DEC0', 'HG1G2sp_dDEC0', 'HG1G2sp_R',\n",
       "       'HG1G2sp_dR', 'HG1G2sp_rms', 'HG1G2sp_chi2red', 'HG1G2hyb_H_g',\n",
       "       'HG1G2hyb_dH_g', 'HG1G2hyb_G1_g', 'HG1G2hyb_dG1_g', 'HG1G2hyb_G2_g',\n",
       "       'HG1G2hyb_dG2_g', 'HG1G2hyb_H_r', 'HG1G2hyb_dH_r', 'HG1G2hyb_G1_r',\n",
       "       'HG1G2hyb_dG1_r', 'HG1G2hyb_G2_r', 'HG1G2hyb_dG2_r', 'HG1G2hyb_RA0',\n",
       "       'HG1G2hyb_dRA0', 'HG1G2hyb_DEC0', 'HG1G2hyb_dDEC0', 'HG1G2hyb_R',\n",
       "       'HG1G2hyb_dR', 'HG1G2hyb_rms', 'HG1G2hyb_chi2red', 'HG1G2hyb_n_oppo',\n",
       "       'HG1G2hyb_status', 'HG1G2hyb_fit'],\n",
       "      dtype='object')"
      ]
     },
     "execution_count": 14,
     "metadata": {},
     "output_type": "execute_result"
    }
   ],
   "source": [
    "data.columns"
   ]
  },
  {
   "cell_type": "code",
   "execution_count": null,
   "id": "c08be926-b6a1-4e8e-85af-97af25edf451",
   "metadata": {},
   "outputs": [],
   "source": []
  },
  {
   "cell_type": "code",
   "execution_count": null,
   "id": "73c1e35b-c951-412c-b5b4-f6e185bdab10",
   "metadata": {},
   "outputs": [],
   "source": []
  }
 ],
 "metadata": {
  "kernelspec": {
   "display_name": "Python 3 (ipykernel)",
   "language": "python",
   "name": "python3"
  },
  "language_info": {
   "codemirror_mode": {
    "name": "ipython",
    "version": 3
   },
   "file_extension": ".py",
   "mimetype": "text/x-python",
   "name": "python",
   "nbconvert_exporter": "python",
   "pygments_lexer": "ipython3",
   "version": "3.9.12"
  }
 },
 "nbformat": 4,
 "nbformat_minor": 5
}
