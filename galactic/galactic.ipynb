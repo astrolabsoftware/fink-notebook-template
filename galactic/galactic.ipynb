{
 "cells": [
  {
   "cell_type": "markdown",
   "metadata": {},
   "source": [
    "<img src=\"../Fink_PrimaryLogo_WEB.jpg\" width=400 />\n",
    "\n",
    "# Fink case study: Galactic Science"
   ]
  },
  {
   "cell_type": "markdown",
   "metadata": {},
   "source": [
    "## Goal\n",
    "\n",
    "This notebook shows how to explore the alerts associated to galactic events in the Fink database. We show-case two science cases: variable stars & gravitational microlensing events."
   ]
  },
  {
   "cell_type": "markdown",
   "metadata": {},
   "source": [
    "## What is behind?\n",
    "\n",
    "Each night, Fink cross-matches in real-time alerts from the ZTF public stream with the CDS [SIMBAD (Wenger et al. 2020)](https://aas.aanda.org/articles/aas/abs/2000/07/ds1821/ds1821.html) database (galactic and extragalactic) using the [CDS xmatch service](http://cdsxmatch.u-strasbg.fr/xmatch). On the other hand, we also have a module to detect microlensing events, based on `Lensed Identification Algorithm` ([LIA](https://github.com/dgodinez77/LIA)). "
   ]
  },
  {
   "cell_type": "markdown",
   "metadata": {},
   "source": [
    "## Useful links\n",
    "\n",
    "- API documentation: https://fink-portal.org/api\n",
    "- Schema of Fink database: https://fink-portal.org/api/v1/columns\n",
    "- CDS xmatch service: http://cdsxmatch.u-strasbg.fr/xmatch\n",
    "- SIMBAD description of classes: http://simbad.u-strasbg.fr/simbad/sim-display?data=otypes\n",
    "- LIA: https://github.com/dgodinez77/LIA"
   ]
  },
  {
   "cell_type": "markdown",
   "metadata": {},
   "source": [
    "## Environment set up\n",
    "\n",
    "To run this notebook, you need to import the following libraries (some are already installed in  colab):"
   ]
  },
  {
   "cell_type": "code",
   "execution_count": 1,
   "metadata": {},
   "outputs": [
    {
     "name": "stdout",
     "output_type": "stream",
     "text": [
      "Requirement already satisfied: gatspy in /home/centos/miniconda/lib/python3.7/site-packages (0.3)\n",
      "Requirement already satisfied: seaborn in /home/centos/miniconda/lib/python3.7/site-packages (0.11.2)\n",
      "Requirement already satisfied: matplotlib>=2.2 in /home/centos/miniconda/lib/python3.7/site-packages (from seaborn) (3.5.1)\n",
      "Requirement already satisfied: scipy>=1.0 in /home/centos/miniconda/lib/python3.7/site-packages (from seaborn) (1.7.3)\n",
      "Requirement already satisfied: numpy>=1.15 in /home/centos/miniconda/lib/python3.7/site-packages (from seaborn) (1.21.5)\n",
      "Requirement already satisfied: pandas>=0.23 in /home/centos/miniconda/lib/python3.7/site-packages (from seaborn) (1.3.5)\n",
      "Requirement already satisfied: python-dateutil>=2.7 in /home/centos/miniconda/lib/python3.7/site-packages (from matplotlib>=2.2->seaborn) (2.8.2)\n",
      "Requirement already satisfied: fonttools>=4.22.0 in /home/centos/miniconda/lib/python3.7/site-packages (from matplotlib>=2.2->seaborn) (4.31.2)\n",
      "Requirement already satisfied: kiwisolver>=1.0.1 in /home/centos/miniconda/lib/python3.7/site-packages (from matplotlib>=2.2->seaborn) (1.4.2)\n",
      "Requirement already satisfied: pyparsing>=2.2.1 in /home/centos/miniconda/lib/python3.7/site-packages (from matplotlib>=2.2->seaborn) (3.0.7)\n",
      "Requirement already satisfied: packaging>=20.0 in /home/centos/miniconda/lib/python3.7/site-packages (from matplotlib>=2.2->seaborn) (21.3)\n",
      "Requirement already satisfied: cycler>=0.10 in /home/centos/miniconda/lib/python3.7/site-packages (from matplotlib>=2.2->seaborn) (0.11.0)\n",
      "Requirement already satisfied: pillow>=6.2.0 in /home/centos/miniconda/lib/python3.7/site-packages (from matplotlib>=2.2->seaborn) (9.0.1)\n",
      "Requirement already satisfied: typing-extensions in /home/centos/miniconda/lib/python3.7/site-packages (from kiwisolver>=1.0.1->matplotlib>=2.2->seaborn) (4.1.1)\n",
      "Requirement already satisfied: pytz>=2017.3 in /home/centos/miniconda/lib/python3.7/site-packages (from pandas>=0.23->seaborn) (2022.1)\n",
      "Requirement already satisfied: six>=1.5 in /home/centos/miniconda/lib/python3.7/site-packages (from python-dateutil>=2.7->matplotlib>=2.2->seaborn) (1.16.0)\n",
      "Requirement already satisfied: fink_science in /home/centos/miniconda/lib/python3.7/site-packages (0.5.1)\n",
      "Requirement already satisfied: astropy in /home/centos/miniconda/lib/python3.7/site-packages (4.3.1)\n",
      "Requirement already satisfied: pyerfa>=1.7.3 in /home/centos/miniconda/lib/python3.7/site-packages (from astropy) (2.0.0.1)\n",
      "Requirement already satisfied: numpy>=1.17 in /home/centos/miniconda/lib/python3.7/site-packages (from astropy) (1.21.5)\n",
      "Requirement already satisfied: importlib-metadata in /home/centos/miniconda/lib/python3.7/site-packages (from astropy) (4.11.3)\n",
      "Requirement already satisfied: zipp>=0.5 in /home/centos/miniconda/lib/python3.7/site-packages (from importlib-metadata->astropy) (3.7.0)\n",
      "Requirement already satisfied: typing-extensions>=3.6.4 in /home/centos/miniconda/lib/python3.7/site-packages (from importlib-metadata->astropy) (4.1.1)\n",
      "Requirement already satisfied: pyLIMA in /home/centos/miniconda/lib/python3.7/site-packages (0.8.3)\n",
      "Requirement already satisfied: bokeh in /home/centos/miniconda/lib/python3.7/site-packages (from pyLIMA) (2.4.2)\n",
      "Requirement already satisfied: scipy in /home/centos/miniconda/lib/python3.7/site-packages (from pyLIMA) (1.7.3)\n",
      "Requirement already satisfied: matplotlib in /home/centos/miniconda/lib/python3.7/site-packages (from pyLIMA) (3.5.1)\n",
      "Requirement already satisfied: astropy in /home/centos/miniconda/lib/python3.7/site-packages (from pyLIMA) (4.3.1)\n",
      "Requirement already satisfied: Cython in /home/centos/miniconda/lib/python3.7/site-packages (from pyLIMA) (0.29.28)\n",
      "Requirement already satisfied: PyAstronomy in /home/centos/miniconda/lib/python3.7/site-packages (from pyLIMA) (0.17.1)\n",
      "Requirement already satisfied: emcee in /home/centos/miniconda/lib/python3.7/site-packages (from pyLIMA) (3.1.1)\n",
      "Requirement already satisfied: VBBinaryLensing in /home/centos/miniconda/lib/python3.7/site-packages (from pyLIMA) (3.2.0)\n",
      "Requirement already satisfied: numba in /home/centos/miniconda/lib/python3.7/site-packages (from pyLIMA) (0.55.1)\n",
      "Requirement already satisfied: numpy in /home/centos/miniconda/lib/python3.7/site-packages (from pyLIMA) (1.21.5)\n",
      "Requirement already satisfied: importlib-metadata in /home/centos/miniconda/lib/python3.7/site-packages (from astropy->pyLIMA) (4.11.3)\n",
      "Requirement already satisfied: pyerfa>=1.7.3 in /home/centos/miniconda/lib/python3.7/site-packages (from astropy->pyLIMA) (2.0.0.1)\n",
      "Requirement already satisfied: tornado>=5.1 in /home/centos/miniconda/lib/python3.7/site-packages (from bokeh->pyLIMA) (6.1)\n",
      "Requirement already satisfied: typing-extensions>=3.10.0 in /home/centos/miniconda/lib/python3.7/site-packages (from bokeh->pyLIMA) (4.1.1)\n",
      "Requirement already satisfied: pillow>=7.1.0 in /home/centos/miniconda/lib/python3.7/site-packages (from bokeh->pyLIMA) (9.0.1)\n",
      "Requirement already satisfied: PyYAML>=3.10 in /home/centos/miniconda/lib/python3.7/site-packages (from bokeh->pyLIMA) (6.0)\n",
      "Requirement already satisfied: packaging>=16.8 in /home/centos/miniconda/lib/python3.7/site-packages (from bokeh->pyLIMA) (21.3)\n",
      "Requirement already satisfied: Jinja2>=2.9 in /home/centos/miniconda/lib/python3.7/site-packages (from bokeh->pyLIMA) (3.1.1)\n",
      "Requirement already satisfied: MarkupSafe>=2.0 in /home/centos/miniconda/lib/python3.7/site-packages (from Jinja2>=2.9->bokeh->pyLIMA) (2.1.1)\n",
      "Requirement already satisfied: pyparsing!=3.0.5,>=2.0.2 in /home/centos/miniconda/lib/python3.7/site-packages (from packaging>=16.8->bokeh->pyLIMA) (3.0.7)\n",
      "Requirement already satisfied: zipp>=0.5 in /home/centos/miniconda/lib/python3.7/site-packages (from importlib-metadata->astropy->pyLIMA) (3.7.0)\n",
      "Requirement already satisfied: fonttools>=4.22.0 in /home/centos/miniconda/lib/python3.7/site-packages (from matplotlib->pyLIMA) (4.31.2)\n",
      "Requirement already satisfied: kiwisolver>=1.0.1 in /home/centos/miniconda/lib/python3.7/site-packages (from matplotlib->pyLIMA) (1.4.2)\n",
      "Requirement already satisfied: python-dateutil>=2.7 in /home/centos/miniconda/lib/python3.7/site-packages (from matplotlib->pyLIMA) (2.8.2)\n",
      "Requirement already satisfied: cycler>=0.10 in /home/centos/miniconda/lib/python3.7/site-packages (from matplotlib->pyLIMA) (0.11.0)\n",
      "Requirement already satisfied: six>=1.5 in /home/centos/miniconda/lib/python3.7/site-packages (from python-dateutil>=2.7->matplotlib->pyLIMA) (1.16.0)\n",
      "Requirement already satisfied: llvmlite<0.39,>=0.38.0rc1 in /home/centos/miniconda/lib/python3.7/site-packages (from numba->pyLIMA) (0.38.0)\n",
      "Requirement already satisfied: setuptools in /home/centos/miniconda/lib/python3.7/site-packages (from numba->pyLIMA) (58.0.4)\n",
      "Requirement already satisfied: bidict in /home/centos/miniconda/lib/python3.7/site-packages (from PyAstronomy->pyLIMA) (0.22.0)\n",
      "Requirement already satisfied: quantities in /home/centos/miniconda/lib/python3.7/site-packages (from PyAstronomy->pyLIMA) (0.13.0)\n",
      "Requirement already satisfied: pybind11>=2.3 in /home/centos/miniconda/lib/python3.7/site-packages (from VBBinaryLensing->pyLIMA) (2.9.1)\n"
     ]
    }
   ],
   "source": [
    "!pip install gatspy\n",
    "!pip install seaborn\n",
    "!pip install fink_science\n",
    "!pip install astropy\n",
    "!pip install pyLIMA\n",
    "\n",
    "import io\n",
    "import requests\n",
    "\n",
    "import pandas as pd\n",
    "import numpy as np\n",
    "\n",
    "from fink_science.conversion import dc_mag\n",
    "\n",
    "from gatspy import periodic\n",
    "\n",
    "from astropy.coordinates import SkyCoord\n",
    "\n",
    "from pyLIMA import event\n",
    "from pyLIMA import telescopes\n",
    "from pyLIMA import microlmodels, microltoolbox\n",
    "from pyLIMA.microloutputs import create_the_fake_telescopes\n",
    "\n",
    "import matplotlib.pyplot as plt\n",
    "from matplotlib.offsetbox import AnchoredText\n",
    "import seaborn as sns\n",
    "sns.set_context('talk')"
   ]
  },
  {
   "cell_type": "markdown",
   "metadata": {},
   "source": [
    "## Case study 1: Variable stars in our galaxy"
   ]
  },
  {
   "cell_type": "markdown",
   "metadata": {},
   "source": [
    "### Association criterion and nightly rate \n",
    "\n",
    "Each night, up to 30% of the alerts that survive quality cuts ends up with a counter-part in the [SIMBAD (Wenger et al. 2020)](https://aas.aanda.org/articles/aas/abs/2000/07/ds1821/ds1821.html) database. Concerning galactic classes, the most present are Variable Star of RR Lyr type (`RRLyr`), Eclipsing binary (`EB*`), Long-period variable star (`LPV*`), Variable Star of Mira Cet type (`Mira`). The way we associate alerts to known SIMBAD objects is based on the spatial position only: if the alert is within 1 arcsecond of a known SIMBAD object, they are associated. In case of several objects within a radius of 1 arcsecond, we take the closest one."
   ]
  },
  {
   "cell_type": "markdown",
   "metadata": {},
   "source": [
    "### Querying the Fink database by class\n",
    "\n",
    "Fink has a service to query objects by their class. The list of arguments for getting latest alerts by class can be found at https://fink-portal.org/api/v1/latests, and the available classes can be found at https://fink-portal.org/api/v1/classes. We will focus on classes taken from SIMBAD association, starting with `(SIMBAD)`.\n",
    "\n",
    "\n",
    "#### Example: search for RRLyr"
   ]
  },
  {
   "cell_type": "code",
   "execution_count": 2,
   "metadata": {},
   "outputs": [],
   "source": [
    "# Get latests 100 alerts associated to RRLyr\n",
    "r = requests.post(\n",
    "  'https://fink-portal.org/api/v1/latests',\n",
    "  json={\n",
    "    'class': '(SIMBAD) RRLyr',\n",
    "    'n': '100',\n",
    "  }\n",
    ")\n",
    "\n",
    "# Format output in a DataFrame\n",
    "pdf_rrlyr = pd.read_json(r.content)"
   ]
  },
  {
   "cell_type": "markdown",
   "metadata": {},
   "source": [
    "You will get a pandas DataFrame containing, whose rows are alerts from the Fink database that are associated to the class `(SIMBAD) RRLyr`. We recall that the DataFrame column schema can be read from https://fink-portal.org/api/v1/columns. In the Fink Web Portal, you would just choose the class from the search bar:\n",
    "\n",
    "<img src=\"rrlyr_search.png\" width=1000 />"
   ]
  },
  {
   "cell_type": "markdown",
   "metadata": {},
   "source": [
    "#### Get photometry\n",
    "\n",
    "The `latests` service will give you latests alerts associated to a particular class, but you will not have the full photometry of each object. For this, you can query the `objects` service using a previously returned `objectId`:"
   ]
  },
  {
   "cell_type": "code",
   "execution_count": 3,
   "metadata": {},
   "outputs": [],
   "source": [
    "# Get alerts associated with an specific object ID\n",
    "r = requests.post(\n",
    "  'https://fink-portal.org/api/v1/objects',\n",
    "  json={\n",
    "    'objectId': 'ZTF17aaaehtj',\n",
    "    'withupperlim': 'True',\n",
    "  }\n",
    ")\n",
    "\n",
    "# Format output in a DataFrame\n",
    "pdf_rrlyr_phot = pd.read_json(r.content)"
   ]
  },
  {
   "cell_type": "markdown",
   "metadata": {},
   "source": [
    "#### Extracting some properties\n",
    "\n",
    "From the DataFrame, you can easily inspect the lightcurve of the object:"
   ]
  },
  {
   "cell_type": "code",
   "execution_count": 4,
   "metadata": {},
   "outputs": [
    {
     "data": {
      "image/png": "[encoded data removed]",
      "text/plain": [
       "<Figure size 1080x432 with 1 Axes>"
      ]
     },
     "metadata": {
      "needs_background": "light"
     },
     "output_type": "display_data"
    }
   ],
   "source": [
    "mjd = pdf_rrlyr_phot['i:jd'].apply(lambda x: x - 2400000.5)\n",
    "\n",
    "fig = plt.figure(figsize=(15, 6))\n",
    "\n",
    "colordic = {1: 'C0', 2: 'C1'}\n",
    "filtdic = {1: 'g', 2: 'r'}\n",
    "\n",
    "for filt in np.unique(pdf_rrlyr_phot['i:fid']):\n",
    "    maskFilt = pdf_rrlyr_phot['i:fid'] == filt\n",
    "\n",
    "    # The column `d:tag` is used to check data type\n",
    "    maskValid = pdf_rrlyr_phot['d:tag'] == 'valid'\n",
    "    plt.errorbar(\n",
    "        pdf_rrlyr_phot[maskValid & maskFilt]['i:jd'].apply(lambda x: x - 2400000.5),\n",
    "        pdf_rrlyr_phot[maskValid & maskFilt]['i:magpsf'],\n",
    "        pdf_rrlyr_phot[maskValid & maskFilt]['i:sigmapsf'],\n",
    "        ls = '', marker='o', color=colordic[filt], label='{} band'.format(filtdic[filt])\n",
    "    )\n",
    "\n",
    "    maskUpper = pdf_rrlyr_phot['d:tag'] == 'upperlim'\n",
    "    plt.plot(\n",
    "        pdf_rrlyr_phot[maskUpper & maskFilt]['i:jd'].apply(lambda x: x - 2400000.5),\n",
    "        pdf_rrlyr_phot[maskUpper & maskFilt]['i:diffmaglim'],\n",
    "        ls='', marker='v', color=colordic[filt], markerfacecolor='none'\n",
    "    )\n",
    "\n",
    "    maskBadquality = pdf_rrlyr_phot['d:tag'] == 'badquality'\n",
    "    plt.errorbar(\n",
    "        pdf_rrlyr_phot[maskBadquality & maskFilt]['i:jd'].apply(lambda x: x - 2400000.5),\n",
    "        pdf_rrlyr_phot[maskBadquality & maskFilt]['i:magpsf'],\n",
    "        pdf_rrlyr_phot[maskBadquality & maskFilt]['i:sigmapsf'],\n",
    "        ls='', marker='^', color=colordic[filt]\n",
    "    )\n",
    "\n",
    "plt.gca().invert_yaxis()\n",
    "plt.legend()\n",
    "plt.title(\n",
    "    'Object {} - class {}'.format(\n",
    "        pdf_rrlyr_phot['i:objectId'].values[0],\n",
    "        pdf_rrlyr_phot['d:cdsxmatch'].values[0]\n",
    "    )\n",
    ")\n",
    "plt.xlabel('Modified Julian Date [UTC]')\n",
    "plt.ylabel('Magnitude')\n",
    "plt.show()"
   ]
  },
  {
   "cell_type": "markdown",
   "metadata": {},
   "source": [
    "_Circles (&#9679;) with error bars show valid alerts that pass the Fink quality cuts. Upper triangles with errors (&#9650;) represent alert measurements that do not satisfy Fink quality cuts, but are nevetheless contained in the history of valid alerts and used by Fink science modules. Lower triangles (&#9661;) represent 5-sigma mag limit in difference image based on PSF-fit photometry contained in the history of valid alerts._"
   ]
  },
  {
   "cell_type": "markdown",
   "metadata": {},
   "source": [
    "#### Extracting period\n",
    "\n",
    "In the Fink Web Portal, we provide tools to fit for the period of an object. The fit is done using [gatspy](https://zenodo.org/record/47887) described in [VanderPlas & Ivezic (2015)](https://ui.adsabs.harvard.edu/abs/2015ApJ...812...18V/abstract). We use a multiband periodogram (LombScargleMultiband) to find the best period. Alternatively, you can manually set the period in days:\n",
    "\n",
    "<img src=\"rrlyr_fit.png\" width=1000 />\n",
    "\n",
    "Let's redo this analysis here. First we move from _difference magnitude_ to _apparent magnitude_:"
   ]
  },
  {
   "cell_type": "code",
   "execution_count": 5,
   "metadata": {},
   "outputs": [],
   "source": [
    "maskValid = pdf_rrlyr_phot['d:tag'] == 'valid'\n",
    "mag_dc, err_dc = np.transpose(\n",
    "    [\n",
    "        dc_mag(*args) for args in zip(\n",
    "            pdf_rrlyr_phot[maskValid]['i:fid'].astype(int).values,\n",
    "            pdf_rrlyr_phot[maskValid]['i:magpsf'].astype(float).values,\n",
    "            pdf_rrlyr_phot[maskValid]['i:sigmapsf'].astype(float).values,\n",
    "            pdf_rrlyr_phot[maskValid]['i:magnr'].astype(float).values,\n",
    "            pdf_rrlyr_phot[maskValid]['i:sigmagnr'].astype(float).values,\n",
    "            pdf_rrlyr_phot[maskValid]['i:magzpsci'].astype(float).values,\n",
    "            pdf_rrlyr_phot[maskValid]['i:isdiffpos'].values\n",
    "        )\n",
    "    ]\n",
    ")"
   ]
  },
  {
   "cell_type": "markdown",
   "metadata": {},
   "source": [
    "Let's use a `LombScargleMultiband` to fit the data and find the period:"
   ]
  },
  {
   "cell_type": "code",
   "execution_count": 6,
   "metadata": {},
   "outputs": [],
   "source": [
    "jd = pdf_rrlyr_phot[maskValid]['i:jd']\n",
    "model = periodic.LombScargleMultiband(\n",
    "    Nterms_base=1,\n",
    "    Nterms_band=1,\n",
    "    fit_period=True\n",
    ")\n",
    "\n",
    "model.optimizer.period_range = (0.1, 1.2)\n",
    "model.optimizer.quiet = True\n",
    "\n",
    "model.fit(\n",
    "    jd.astype(float),\n",
    "    mag_dc,\n",
    "    err_dc,\n",
    "    pdf_rrlyr_phot[maskValid]['i:fid'].astype(int)\n",
    ")\n",
    "\n",
    "period = model.best_period\n",
    "phase = jd.astype(float).values % period\n",
    "tfit = np.linspace(0, period, 100)"
   ]
  },
  {
   "cell_type": "markdown",
   "metadata": {},
   "source": [
    "and finally plot the folded lightcurve with the fitted period:"
   ]
  },
  {
   "cell_type": "code",
   "execution_count": 7,
   "metadata": {},
   "outputs": [
    {
     "data": {
      "image/png": "[encoded data removed]",
      "text/plain": [
       "<Figure size 1080x432 with 1 Axes>"
      ]
     },
     "metadata": {
      "needs_background": "light"
     },
     "output_type": "display_data"
    }
   ],
   "source": [
    "fig = plt.figure(figsize=(15, 6))\n",
    "\n",
    "colordic = {1: 'C0', 2: 'C1'}\n",
    "filtdic = {1: 'g', 2: 'r'}\n",
    "\n",
    "for filt in np.unique(pdf_rrlyr_phot['i:fid']):\n",
    "    maskFilt = pdf_rrlyr_phot[maskValid]['i:fid'] == filt\n",
    "    plt.errorbar(\n",
    "        phase[maskFilt], \n",
    "        mag_dc[maskFilt],\n",
    "        err_dc[maskFilt],\n",
    "        ls = '', marker='o', color=colordic[filt], \n",
    "        label='{} band'.format(filtdic[filt])\n",
    "    )\n",
    "    \n",
    "    plt.plot(tfit, model.predict(tfit, period=period, filts=filt))\n",
    "\n",
    "plt.ylim(13, 17)\n",
    "plt.gca().invert_yaxis()\n",
    "plt.legend()\n",
    "plt.title(\n",
    "    'Object {} - class {} - period {}'.format(\n",
    "        pdf_rrlyr_phot['i:objectId'].values[0],\n",
    "        pdf_rrlyr_phot['d:cdsxmatch'].values[0],\n",
    "        period\n",
    "    )\n",
    ")\n",
    "plt.xlabel('Phase')\n",
    "plt.ylabel('DC Magnitude');\n",
    "plt.show()"
   ]
  },
  {
   "cell_type": "markdown",
   "metadata": {},
   "source": [
    "You can actually check the validity of the period fit on [ASAS-SN](https://asas-sn.osu.edu/variables?ra=346.7715507&dec=31.7946076&radius=0.5&vmag_min=&vmag_max=&amplitude_min=&amplitude_max=&period_min=&period_max=&lksl_min=&lksl_max=&class_prob_min=&class_prob_max=&parallax_over_err_min=&parallax_over_err_max=&name=&references[]=I&references[]=II&references[]=III&references[]=IV&references[]=V&references[]=VI&sort_by=raj2000&sort_order=asc&show_non_periodic=true&show_without_class=true&asassn_discov_only=false&)."
   ]
  },
  {
   "cell_type": "markdown",
   "metadata": {},
   "source": [
    "## Case study 2: Gravitational microlensing \n",
    "\n",
    "We deployed a science module to find (early) gravitational microlensing events. The microlensing classification module is based on the Lens Identification Algorithm (LIA) presented in [Godines et al. (2019)](). In short, a Random Forest algorithm is trained with simulated light-curves similar in cadence and noise to the associated survey of interest (currently ZTF). Of course, we receive _alerts_ with limited photometry size (up to 30 days with ZTF), so the game is very challenging!\n",
    "\n",
    "### Association criterion and rate\n",
    "\n",
    "An event is considered as Microlensing candidate if the classifier simultaneously favoured microlensing in all available bands (`g`, `r`). In addition, we make a cut on the number of times the light of this event has varied (at 3 sigma) since the beginning of the survey. This last cut is here to removes variable stars with long-trend."
   ]
  },
  {
   "cell_type": "code",
   "execution_count": null,
   "metadata": {},
   "outputs": [],
   "source": [
    "# Get all latests alerts associated to Microlensing\n",
    "r = requests.post(\n",
    "  'https://fink-portal.org/api/v1/latests',\n",
    "  json={\n",
    "    'class': 'Microlensing candidate',\n",
    "    'n': '1000',\n",
    "  }\n",
    ")\n",
    "\n",
    "# Format output in a DataFrame\n",
    "pdf_mulens = pd.read_json(r.content)\n",
    "print(len(pdf_mulens))"
   ]
  },
  {
   "cell_type": "markdown",
   "metadata": {},
   "source": [
    "We have currently less than 500 alerts in 2 years of data flagged as Microlensing candidates. Let's see if they are associated to a known transient in SIMBAD:"
   ]
  },
  {
   "cell_type": "code",
   "execution_count": null,
   "metadata": {},
   "outputs": [],
   "source": [
    "pdf_mulens.groupby('d:cdsxmatch').count()"
   ]
  },
  {
   "cell_type": "markdown",
   "metadata": {},
   "source": [
    "A priori no (`cdsxmatch = Unknown`). Note that `cdsxmatch = Fail` means we couldn't perform the crossmatch with SIMBAD in real time (downtime, or network error, or ...). We usually recompute it on a later time. "
   ]
  },
  {
   "cell_type": "markdown",
   "metadata": {},
   "source": [
    "### Spatial distribution\n",
    "\n",
    "Let's see the spatial distribution of these events. For this, we will change coordinate to galactic ones:"
   ]
  },
  {
   "cell_type": "code",
   "execution_count": null,
   "metadata": {},
   "outputs": [],
   "source": [
    "gal = SkyCoord(pdf_mulens['i:ra'], pdf_mulens['i:dec'], unit='deg').galactic\n",
    "\n",
    "fig = plt.figure(figsize=(15, 10))\n",
    "\n",
    "ax = plt.subplot(projection='aitoff')\n",
    "\n",
    "mask_gal = np.abs(gal.b.deg) < 20\n",
    "\n",
    "plt.scatter(gal.l.wrap_at('180d').radian[~mask_gal], gal.b.radian[~mask_gal], color='C0', alpha=1, marker='o')\n",
    "plt.scatter(gal.l.wrap_at('180d').radian[mask_gal], gal.b.radian[mask_gal], color='C3', alpha=1, marker='.')\n",
    "\n",
    "x = np.arange(-180, 180, 0.1)\n",
    "plt.plot(x, [20*np.pi/180]*len(x), color='C3', alpha=0.5)\n",
    "plt.plot(x, [-20*np.pi/180]*len(x), color='C3', alpha=0.5)\n",
    "\n",
    "plt.grid();"
   ]
  },
  {
   "cell_type": "markdown",
   "metadata": {},
   "source": [
    "We draw a (arbitrary) line at galactic latitude `|b| < 20` degrees to highlight more likely galactic candidates."
   ]
  },
  {
   "cell_type": "markdown",
   "metadata": {},
   "source": [
    "### Closer look to a candidate\n",
    "\n",
    "We could look at all candidates, but let's focus only on one candidate for demonstration purposes:"
   ]
  },
  {
   "cell_type": "code",
   "execution_count": null,
   "metadata": {},
   "outputs": [],
   "source": [
    "r = requests.post(\n",
    "  'https://fink-portal.org/api/v1/objects',\n",
    "  json={\n",
    "    'objectId': 'ZTF18acsbhrp',\n",
    "    'withupperlim': 'True',\n",
    "  }\n",
    ")\n",
    "\n",
    "# Format output in a DataFrame\n",
    "pdf_mulens_single = pd.read_json(r.content)"
   ]
  },
  {
   "cell_type": "code",
   "execution_count": null,
   "metadata": {},
   "outputs": [],
   "source": [
    "pdf_mulens_single = pdf_mulens_single.sort_values('i:jd')\n",
    "mjd = pdf_mulens_single['i:jd'].apply(lambda x: x - 2400000.5)\n",
    "\n",
    "fig = plt.figure(figsize=(15, 6))\n",
    "\n",
    "colordic = {1: 'C0', 2: 'C1'}\n",
    "filtdic = {1: 'g', 2: 'r'}\n",
    "\n",
    "for filt in np.unique(pdf_mulens_single['i:fid']):\n",
    "    maskFilt = pdf_mulens_single['i:fid'] == filt\n",
    "\n",
    "    # The column `d:tag` is used to check data type\n",
    "    maskValid = pdf_mulens_single['d:tag'] == 'valid'\n",
    "    plt.errorbar(\n",
    "        pdf_mulens_single[maskValid & maskFilt]['i:jd'].apply(lambda x: x - 2400000.5),\n",
    "        pdf_mulens_single[maskValid & maskFilt]['i:magpsf'],\n",
    "        pdf_mulens_single[maskValid & maskFilt]['i:sigmapsf'],\n",
    "        ls = '', marker='o', color=colordic[filt], label='{} band'.format(filtdic[filt])\n",
    "    )\n",
    "\n",
    "    maskUpper = pdf_mulens_single['d:tag'] == 'upperlim'\n",
    "    plt.plot(\n",
    "        pdf_mulens_single[maskUpper & maskFilt]['i:jd'].apply(lambda x: x - 2400000.5),\n",
    "        pdf_mulens_single[maskUpper & maskFilt]['i:diffmaglim'],\n",
    "        ls='', marker='v', color=colordic[filt], markerfacecolor='none'\n",
    "    )\n",
    "\n",
    "    maskBadquality = pdf_mulens_single['d:tag'] == 'badquality'\n",
    "    plt.errorbar(\n",
    "        pdf_mulens_single[maskBadquality & maskFilt]['i:jd'].apply(lambda x: x - 2400000.5),\n",
    "        pdf_mulens_single[maskBadquality & maskFilt]['i:magpsf'],\n",
    "        pdf_mulens_single[maskBadquality & maskFilt]['i:sigmapsf'],\n",
    "        ls='', marker='^', color=colordic[filt]\n",
    "    )\n",
    "\n",
    "    \n",
    "# Highlight dates where it was flagged as an ML event\n",
    "c0 = pdf_mulens_single['d:mulens'] > 0.0\n",
    "jd0 = np.min(pdf_mulens_single[c0]['i:jd'].values)\n",
    "minjd = np.min(pdf_mulens_single[c0]['i:jd'].values) - 30\n",
    "maxjd = np.max(pdf_mulens_single[c0]['i:jd'].values)\n",
    "plt.axvline(jd0 - 2400000.5, color='black', ls='--')\n",
    "plt.axvline(minjd - 2400000.5, color='C3')\n",
    "plt.axvline(maxjd - 2400000.5, color='C3')\n",
    "plt.fill_betweenx([15, 25], minjd - 2400000.5, maxjd - 2400000.5, alpha=0.1, color='black')\n",
    "\n",
    "\n",
    "plt.ylim(16, 22)\n",
    "plt.gca().invert_yaxis()\n",
    "plt.legend()\n",
    "plt.title(\n",
    "    'Object {}'.format(\n",
    "        pdf_mulens_single['i:objectId'].values[0]\n",
    "    )\n",
    ")\n",
    "plt.xlabel('Modified Julian Date [UTC]')\n",
    "plt.ylabel('Difference Magnitude');"
   ]
  },
  {
   "cell_type": "markdown",
   "metadata": {},
   "source": [
    "_Circles (&#9679;) with error bars show valid alerts that pass the Fink quality cuts. Upper triangles with errors (&#9650;) represent alert measurements that do not satisfy Fink quality cuts, but are nevetheless contained in the history of valid alerts and used by Fink science modules. Lower triangles (&#9661;) represent 5-sigma mag limit in difference image based on PSF-fit photometry contained in the history of valid alerts._\n",
    "\n",
    "The data in between the red lines is favoured as Microlensing by the classifier, and the first microlensing trigger is shown with the black line (recall alerts carry up to 30 days of history). On the Fink Science Portal, you can then try to extract Microlensing paramaters. The fit is done using [pyLIMA](https://github.com/ebachelet/pyLIMA) described in [Bachelet et al (2017)](https://ui.adsabs.harvard.edu/abs/2017AJ....154..203B/abstract). We use a simple PSPL model to fit the data. Here is a screenshot of the Microlensing tab in the portal for this event:\n",
    "\n",
    "<img src=\"ml_fit.png\" width=1000 />\n",
    "\n",
    "\n",
    "Let's redo this fit here for demonstration purposes:"
   ]
  },
  {
   "cell_type": "code",
   "execution_count": null,
   "metadata": {},
   "outputs": [],
   "source": [
    "# Take only valid measurements\n",
    "pdf = pdf_mulens_single[pdf_mulens_single['d:tag'] == 'valid'].sort_values('i:jd', ascending=False)\n",
    "\n",
    "# Use DC magnitude instead of difference mag\n",
    "mag_dc, err_dc = np.transpose(\n",
    "    [\n",
    "        dc_mag(*args) for args in zip(\n",
    "            pdf['i:fid'].astype(int).values,\n",
    "            pdf['i:magpsf'].astype(float).values,\n",
    "            pdf['i:sigmapsf'].astype(float).values,\n",
    "            pdf['i:magnr'].astype(float).values,\n",
    "            pdf['i:sigmagnr'].astype(float).values,\n",
    "            pdf['i:magzpsci'].astype(float).values,\n",
    "            pdf['i:isdiffpos'].values\n",
    "        )\n",
    "    ]\n",
    ")\n",
    "\n",
    "# pyLIMA magic\n",
    "current_event = event.Event()\n",
    "current_event.name = pdf['i:objectId'].values[0]\n",
    "\n",
    "current_event.ra = pdf['i:ra'].values[0]\n",
    "current_event.dec = pdf['i:dec'].values[0]\n",
    "\n",
    "filts = {1: 'g', 2: 'r'}\n",
    "for fid in np.unique(pdf['i:fid'].values):\n",
    "    mask = pdf['i:fid'].values == fid\n",
    "    telescope = telescopes.Telescope(\n",
    "        name='ztf_{}'.format(filts[fid]),\n",
    "        camera_filter=format(filts[fid]),\n",
    "        light_curve_magnitude=np.transpose(\n",
    "            [\n",
    "                pdf['i:jd'].values[mask],\n",
    "                mag_dc[mask],\n",
    "                err_dc[mask]\n",
    "            ]\n",
    "        ),\n",
    "        light_curve_magnitude_dictionnary={\n",
    "            'time': 0,\n",
    "            'mag': 1,\n",
    "            'err_mag': 2\n",
    "        }\n",
    "    )\n",
    "\n",
    "    current_event.telescopes.append(telescope)\n",
    "\n",
    "# Simplest model\n",
    "mulens_model = microlmodels.create_model('PSPL', current_event)\n",
    "current_event.fit(mulens_model, 'DE')\n",
    "\n",
    "# 4 parameters model\n",
    "dof = len(pdf) - 4 - 1\n",
    "\n",
    "results = current_event.fits[0]\n",
    "\n",
    "normalised_lightcurves = microltoolbox.align_the_data_to_the_reference_telescope(results, 0, results.fit_results)\n",
    "\n",
    "# Model\n",
    "create_the_fake_telescopes(results, results.fit_results)\n",
    "\n",
    "telescope_ = results.event.fake_telescopes[0]\n",
    "\n",
    "flux_model = mulens_model.compute_the_microlensing_model(telescope_, results.model.compute_pyLIMA_parameters(results.fit_results))[0]\n",
    "\n",
    "time = telescope_.lightcurve_flux[:, 0]\n",
    "magnitude = microltoolbox.flux_to_magnitude(flux_model)\n",
    "\n",
    "# fitted parameters\n",
    "names = results.model.model_dictionnary\n",
    "params = results.fit_results\n",
    "err = np.diag(np.sqrt(results.fit_covariance))"
   ]
  },
  {
   "cell_type": "markdown",
   "metadata": {},
   "source": [
    "Finally plot the fit on top of the (rescaled) measurements:"
   ]
  },
  {
   "cell_type": "code",
   "execution_count": null,
   "metadata": {},
   "outputs": [],
   "source": [
    "fig = plt.figure(figsize=(15, 6))\n",
    "ax = plt.subplot()\n",
    "\n",
    "plt.errorbar(\n",
    "    [t - 2400000.5 for t in normalised_lightcurves[0][:, 0]],\n",
    "    normalised_lightcurves[0][:, 1],\n",
    "    normalised_lightcurves[0][:, 2],\n",
    "    ls=''\n",
    ")\n",
    "\n",
    "plt.errorbar(\n",
    "    [t - 2400000.5 for t in normalised_lightcurves[1][:, 0]],\n",
    "    normalised_lightcurves[1][:, 1],\n",
    "    normalised_lightcurves[1][:, 2],\n",
    "    ls=''\n",
    ")\n",
    "\n",
    "plt.plot(\n",
    "    [t - 2400000.5 for t in time],\n",
    "    magnitude,\n",
    "    color='black', ls='--', alpha=0.5\n",
    ")\n",
    "\n",
    "plt.gca().invert_yaxis()\n",
    "\n",
    "msg = \"\"\"\n",
    "# Fitted parameters\n",
    "t0: {:.0f} +/- {:.0f} (MJD)\n",
    "tE: {:.2f} +/- {:.2f} (days)\n",
    "u0: {:.2f} +/- {:.2f}\n",
    "chi2/dof: {:.2f}\n",
    "\"\"\".format(\n",
    "    params[names['to']] - 2400000.5,\n",
    "    err[names['to']],\n",
    "    params[names['tE']],\n",
    "    err[names['tE']],\n",
    "    params[names['uo']],\n",
    "    err[names['uo']],\n",
    "    params[-1] / dof\n",
    ")\n",
    "anchored_text = AnchoredText(msg, loc=2, prop={'fontsize': 15})\n",
    "ax.add_artist(anchored_text)\n",
    "plt.xlabel('Modified Julian Date [UTC]')\n",
    "plt.ylabel('Magnitude');"
   ]
  },
  {
   "cell_type": "markdown",
   "metadata": {},
   "source": [
    "Not too bad - although we need much more data to conclude on the nature of the object ;-)"
   ]
  },
  {
   "cell_type": "markdown",
   "metadata": {},
   "source": [
    "### Inspecting the event using the full ZTF lightcurve\n",
    "\n",
    "To futher check this event, we can query its data using the ZTF lightcurve API:"
   ]
  },
  {
   "cell_type": "code",
   "execution_count": null,
   "metadata": {},
   "outputs": [],
   "source": [
    "maskNone = pdf_mulens_single['d:tag'] == 'valid'\n",
    "ra0 = np.mean(pdf_mulens_single[maskNone]['i:ra'].values)\n",
    "dec0 = np.mean(pdf_mulens_single[maskNone]['i:dec'].values)\n",
    "\n",
    "r = requests.post(\n",
    "    'https://irsa.ipac.caltech.edu/cgi-bin/ZTF/nph_light_curves', \n",
    "    data={'POS': 'CIRCLE {} {} 0.0004'.format(ra0, dec0), \n",
    "          'BAD_CATFLAGS_MASK': 32768, \n",
    "          'FORMAT': 'csv'\n",
    "         }\n",
    ")\n",
    "\n",
    "pdf = pd.read_csv(io.StringIO(r.text))"
   ]
  },
  {
   "cell_type": "code",
   "execution_count": null,
   "metadata": {},
   "outputs": [],
   "source": [
    "pdf_mulens_single = pdf_mulens_single.sort_values('i:jd')\n",
    "mjd = pdf_mulens_single['i:jd'].apply(lambda x: x - 2400000.5)\n",
    "\n",
    "fig = plt.figure(figsize=(15, 6))\n",
    "\n",
    "colordic = {1: 'C0', 2: 'C1'}\n",
    "filtdic = {1: 'g', 2: 'r'}\n",
    "\n",
    "for filt in np.unique(pdf_mulens_single['i:fid']):\n",
    "    maskFilt = pdf_mulens_single['i:fid'] == filt\n",
    "\n",
    "    # The column `d:tag` is used to check data type\n",
    "    maskValid = pdf_mulens_single['d:tag'] == 'valid'\n",
    "    \n",
    "    # Use DC magnitude\n",
    "    mag_dc, err_dc = np.transpose(\n",
    "        [\n",
    "            dc_mag(*args) for args in zip(\n",
    "                pdf_mulens_single[maskValid & maskFilt]['i:fid'].astype(int).values,\n",
    "                pdf_mulens_single[maskValid & maskFilt]['i:magpsf'].astype(float).values,\n",
    "                pdf_mulens_single[maskValid & maskFilt]['i:sigmapsf'].astype(float).values,\n",
    "                pdf_mulens_single[maskValid & maskFilt]['i:magnr'].astype(float).values,\n",
    "                pdf_mulens_single[maskValid & maskFilt]['i:sigmagnr'].astype(float).values,\n",
    "                pdf_mulens_single[maskValid & maskFilt]['i:magzpsci'].astype(float).values,\n",
    "                pdf_mulens_single[maskValid & maskFilt]['i:isdiffpos'].values\n",
    "            )\n",
    "        ]\n",
    "    )\n",
    "\n",
    "    \n",
    "    plt.errorbar(\n",
    "        pdf_mulens_single[maskValid & maskFilt]['i:jd'].apply(lambda x: x - 2400000.5),\n",
    "        mag_dc,\n",
    "        err_dc,\n",
    "        ls = '', marker='o', color=colordic[filt], \n",
    "        label='{} band'.format(filtdic[filt])\n",
    "    )\n",
    "\n",
    "    \n",
    "# Highlight dates where it was flagged as an ML event\n",
    "c0 = pdf_mulens_single['d:mulens'] > 0.0\n",
    "jd0 = np.min(pdf_mulens_single[c0]['i:jd'].values)\n",
    "minjd = np.min(pdf_mulens_single[c0]['i:jd'].values) - 30\n",
    "maxjd = np.max(pdf_mulens_single[c0]['i:jd'].values)\n",
    "plt.axvline(jd0 - 2400000.5, color='black', ls='--')\n",
    "plt.axvline(minjd - 2400000.5, color='C3')\n",
    "plt.axvline(maxjd - 2400000.5, color='C3')\n",
    "plt.fill_betweenx([15, 25], minjd - 2400000.5, maxjd - 2400000.5, alpha=0.1, color='black')\n",
    "\n",
    "\n",
    "colordic = {'zg': 'C0', 'zr': 'C1', 'zi': 'C2'}\n",
    "for filt in np.unique(pdf['filtercode']):\n",
    "    maskFilt = pdf['filtercode'] == filt\n",
    "    plt.errorbar(\n",
    "        pdf[maskFilt]['mjd'], \n",
    "        pdf[maskFilt]['mag'], \n",
    "        pdf[maskFilt]['magerr'], \n",
    "        ls='', color=colordic[filt], alpha=0.5,\n",
    "        label='ZTF DR {} band'.format(filt))\n",
    "\n",
    "plt.ylim(19, 17)\n",
    "plt.gca().invert_yaxis()\n",
    "plt.legend(ncol=3)\n",
    "plt.title(\n",
    "    'Object {}'.format(\n",
    "        pdf_mulens_single['i:objectId'].values[0]\n",
    "    )\n",
    ")\n",
    "plt.xlabel('Modified Julian Date [UTC]')\n",
    "plt.ylabel('Magnitude');"
   ]
  },
  {
   "cell_type": "markdown",
   "metadata": {},
   "source": [
    "Very likely a variable star! Too bad!"
   ]
  },
  {
   "cell_type": "markdown",
   "metadata": {},
   "source": [
    "### Concluding remarks\n",
    "\n",
    "Doing early microlensing on ZTF alerts is challenging as we work live with very limited history (up to 30 days in the past). We could aggregate in real-time alert data and history data contained in our database, but the scaling of this becomes challenging with the volume of data. On the other end, LSST alert will probably contain a longer history (currently up to 1 year of data) which will help to caracterize the baseline (mean, and stability of the flux pre-event). Stay tuned!"
   ]
  },
  {
   "cell_type": "markdown",
   "metadata": {},
   "source": [
    "## How to reach us\n",
    "\n",
    "An issue to report, or a question to ask: contact@fink-broker.org!"
   ]
  },
  {
   "cell_type": "code",
   "execution_count": null,
   "metadata": {},
   "outputs": [],
   "source": []
  }
 ],
 "metadata": {
  "kernelspec": {
   "display_name": "Python 3 (ipykernel)",
   "language": "python",
   "name": "python3"
  },
  "language_info": {
   "codemirror_mode": {
    "name": "ipython",
    "version": 3
   },
   "file_extension": ".py",
   "mimetype": "text/x-python",
   "name": "python",
   "nbconvert_exporter": "python",
   "pygments_lexer": "ipython3",
   "version": "3.7.11"
  }
 },
 "nbformat": 4,
 "nbformat_minor": 4
}
