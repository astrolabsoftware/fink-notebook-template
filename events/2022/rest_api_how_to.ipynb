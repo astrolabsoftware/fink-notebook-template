{
 "cells": [
  {
   "cell_type": "markdown",
   "id": "2c80ad04",
   "metadata": {},
   "source": [
    "# Fink REST API - How-to"
   ]
  },
  {
   "cell_type": "markdown",
   "id": "f399fba4",
   "metadata": {},
   "source": [
    "## HBase in Fink\n",
    "\n",
    "- Used as the backend for our web services (incl. REST API)\n",
    "- Updated once a night, at the end of the observing night\n",
    "- Support concurrency & can deal simultaneously with hundreds of requests without problems\n",
    "\n",
    "![](images/rest_api.png)"
   ]
  },
  {
   "cell_type": "markdown",
   "id": "73a95a98",
   "metadata": {},
   "source": [
    "## Retrieve object data\n",
    "\n",
    "The list of arguments for retrieving object data can be found at https://fink-portal.org/api/v1/objects.\n",
    "\n",
    "In a unix shell, you would simply use\n",
    "\n",
    "```bash\n",
    "# Get data for ZTF21aaxtctv and save it in a CSV file\n",
    "curl -H \"Content-Type: application/json\" -X POST -d '{\"objectId\":\"ZTF21aaxtctv\", \"output-format\":\"csv\"}' https://fink-portal.org/api/v1/objects -o ZTF21aaxtctv.csv\n",
    "\n",
    "# you can also specify parameters in the URL, e.g. with wget:\n",
    "wget \"https://fink-portal.org/api/v1/objects?objectId=ZTF21aaxtctv&output-format=json\" -O ZTF21aaxtctv.json\n",
    "```\n",
    "\n",
    "In python, you would use"
   ]
  },
  {
   "cell_type": "code",
   "execution_count": 1,
   "id": "86f50778",
   "metadata": {},
   "outputs": [],
   "source": [
    "import requests\n",
    "import pandas as pd\n",
    "\n",
    "# get data for ZTF21aaxtctv\n",
    "r = requests.post(\n",
    "  'https://fink-portal.org/api/v1/objects',\n",
    "  json={\n",
    "    'objectId': 'ZTF21aaxtctv',\n",
    "    'output-format': 'json'\n",
    "  }\n",
    ")\n",
    "\n",
    "# Format output in a DataFrame\n",
    "pdf = pd.read_json(r.content)"
   ]
  },
  {
   "cell_type": "code",
   "execution_count": 2,
   "id": "c46bda2c",
   "metadata": {},
   "outputs": [
    {
     "data": {
      "text/html": [
       "<div>\n",
       "<style scoped>\n",
       "    .dataframe tbody tr th:only-of-type {\n",
       "        vertical-align: middle;\n",
       "    }\n",
       "\n",
       "    .dataframe tbody tr th {\n",
       "        vertical-align: top;\n",
       "    }\n",
       "\n",
       "    .dataframe thead th {\n",
       "        text-align: right;\n",
       "    }\n",
       "</style>\n",
       "<table border=\"1\" class=\"dataframe\">\n",
       "  <thead>\n",
       "    <tr style=\"text-align: right;\">\n",
       "      <th></th>\n",
       "      <th>b:cutoutDifference_stampData</th>\n",
       "      <th>b:cutoutScience_stampData</th>\n",
       "      <th>b:cutoutTemplate_stampData</th>\n",
       "      <th>d:cdsxmatch</th>\n",
       "      <th>d:mulens</th>\n",
       "      <th>d:nalerthist</th>\n",
       "      <th>d:rf_kn_vs_nonkn</th>\n",
       "      <th>d:rf_snia_vs_nonia</th>\n",
       "      <th>d:roid</th>\n",
       "      <th>d:snn_sn_vs_all</th>\n",
       "      <th>...</th>\n",
       "      <th>d:tracklet</th>\n",
       "      <th>v:classification</th>\n",
       "      <th>v:g-r</th>\n",
       "      <th>v:rate(g-r)</th>\n",
       "      <th>v:dg</th>\n",
       "      <th>v:rate(dg)</th>\n",
       "      <th>v:dr</th>\n",
       "      <th>v:rate(dr)</th>\n",
       "      <th>v:lastdate</th>\n",
       "      <th>v:constellation</th>\n",
       "    </tr>\n",
       "  </thead>\n",
       "  <tbody>\n",
       "    <tr>\n",
       "      <th>0</th>\n",
       "      <td>binary:ZTF21aaxtctv_2459537.0520833:cutoutDiff...</td>\n",
       "      <td>binary:ZTF21aaxtctv_2459537.0520833:cutoutScie...</td>\n",
       "      <td>binary:ZTF21aaxtctv_2459537.0520833:cutoutTemp...</td>\n",
       "      <td>Unknown</td>\n",
       "      <td>0.0</td>\n",
       "      <td>5</td>\n",
       "      <td>0</td>\n",
       "      <td>0.0</td>\n",
       "      <td>0</td>\n",
       "      <td>0.0</td>\n",
       "      <td>...</td>\n",
       "      <td></td>\n",
       "      <td>Unknown</td>\n",
       "      <td>NaN</td>\n",
       "      <td>NaN</td>\n",
       "      <td>0.0</td>\n",
       "      <td>0.0</td>\n",
       "      <td>0.023330</td>\n",
       "      <td>9.880839</td>\n",
       "      <td>2021-11-18 13:14:59.997</td>\n",
       "      <td>Virgo</td>\n",
       "    </tr>\n",
       "    <tr>\n",
       "      <th>1</th>\n",
       "      <td>binary:ZTF21aaxtctv_2459537.0497222:cutoutDiff...</td>\n",
       "      <td>binary:ZTF21aaxtctv_2459537.0497222:cutoutScie...</td>\n",
       "      <td>binary:ZTF21aaxtctv_2459537.0497222:cutoutTemp...</td>\n",
       "      <td>Unknown</td>\n",
       "      <td>0.0</td>\n",
       "      <td>4</td>\n",
       "      <td>0</td>\n",
       "      <td>0.0</td>\n",
       "      <td>0</td>\n",
       "      <td>0.0</td>\n",
       "      <td>...</td>\n",
       "      <td></td>\n",
       "      <td>Unknown</td>\n",
       "      <td>NaN</td>\n",
       "      <td>NaN</td>\n",
       "      <td>0.0</td>\n",
       "      <td>0.0</td>\n",
       "      <td>-0.036741</td>\n",
       "      <td>-15.560908</td>\n",
       "      <td>2021-11-18 13:11:35.998</td>\n",
       "      <td>Virgo</td>\n",
       "    </tr>\n",
       "  </tbody>\n",
       "</table>\n",
       "<p>2 rows × 129 columns</p>\n",
       "</div>"
      ],
      "text/plain": [
       "                        b:cutoutDifference_stampData  \\\n",
       "0  binary:ZTF21aaxtctv_2459537.0520833:cutoutDiff...   \n",
       "1  binary:ZTF21aaxtctv_2459537.0497222:cutoutDiff...   \n",
       "\n",
       "                           b:cutoutScience_stampData  \\\n",
       "0  binary:ZTF21aaxtctv_2459537.0520833:cutoutScie...   \n",
       "1  binary:ZTF21aaxtctv_2459537.0497222:cutoutScie...   \n",
       "\n",
       "                          b:cutoutTemplate_stampData d:cdsxmatch  d:mulens  \\\n",
       "0  binary:ZTF21aaxtctv_2459537.0520833:cutoutTemp...     Unknown       0.0   \n",
       "1  binary:ZTF21aaxtctv_2459537.0497222:cutoutTemp...     Unknown       0.0   \n",
       "\n",
       "   d:nalerthist  d:rf_kn_vs_nonkn  d:rf_snia_vs_nonia  d:roid  \\\n",
       "0             5                 0                 0.0       0   \n",
       "1             4                 0                 0.0       0   \n",
       "\n",
       "   d:snn_sn_vs_all  ...  d:tracklet  v:classification  v:g-r  v:rate(g-r)  \\\n",
       "0              0.0  ...                       Unknown    NaN          NaN   \n",
       "1              0.0  ...                       Unknown    NaN          NaN   \n",
       "\n",
       "   v:dg  v:rate(dg)      v:dr  v:rate(dr)               v:lastdate  \\\n",
       "0   0.0         0.0  0.023330    9.880839  2021-11-18 13:14:59.997   \n",
       "1   0.0         0.0 -0.036741  -15.560908  2021-11-18 13:11:35.998   \n",
       "\n",
       "   v:constellation  \n",
       "0            Virgo  \n",
       "1            Virgo  \n",
       "\n",
       "[2 rows x 129 columns]"
      ]
     },
     "execution_count": 2,
     "metadata": {},
     "output_type": "execute_result"
    }
   ],
   "source": [
    "pdf.head(2)"
   ]
  },
  {
   "cell_type": "markdown",
   "id": "698dc002",
   "metadata": {},
   "source": [
    "You can also retrieve the data for several objects at once:"
   ]
  },
  {
   "cell_type": "code",
   "execution_count": 3,
   "id": "01040c68",
   "metadata": {},
   "outputs": [],
   "source": [
    "mylist = ['ZTF21aaxtctv', 'ZTF21abfmbix', 'ZTF21abfaohe']\n",
    "\n",
    "# get data for many objects\n",
    "r = requests.post(\n",
    "  'https://fink-portal.org/api/v1/objects',\n",
    "  json={\n",
    "    'objectId': ','.join(mylist),\n",
    "    'output-format': 'json'\n",
    "  }\n",
    ")\n",
    "\n",
    "# Format output in a DataFrame\n",
    "pdf = pd.read_json(r.content)"
   ]
  },
  {
   "cell_type": "markdown",
   "id": "5fea30f1",
   "metadata": {},
   "source": [
    "Note that for `csv` output, you need to use"
   ]
  },
  {
   "cell_type": "markdown",
   "id": "34e1a62e",
   "metadata": {},
   "source": [
    "```python\n",
    "# get data for ZTF21aaxtctv in CSV format...\n",
    "r = ...\n",
    "\n",
    "pd.read_csv(io.BytesIO(r.content))\n",
    "```\n",
    "\n",
    "You can also get a votable:\n",
    "\n",
    "```python\n",
    "import io\n",
    "from astropy.io import votable\n",
    "\n",
    "# get data for ZTF21aaxtctv in JSON format...\n",
    "r = ...\n",
    "\n",
    "vt = votable.parse(io.BytesIO(r.content))\n",
    "```\n",
    "\n",
    "By default, we transfer all available data fields (original ZTF fields and Fink science module outputs).\n",
    "But you can also choose to transfer only a subset of the fields:"
   ]
  },
  {
   "cell_type": "code",
   "execution_count": 4,
   "id": "41c1d85a",
   "metadata": {},
   "outputs": [],
   "source": [
    "def load_all_fields():\n",
    "    r = requests.post(\n",
    "      'https://fink-portal.org/api/v1/objects',\n",
    "      json={\n",
    "        'objectId': 'ZTF21aaxtctv',\n",
    "      }\n",
    "    )\n",
    "    return r\n",
    "    \n",
    "def load_some_fields():\n",
    "    \"\"\" Select only jd, and magpsf\n",
    "    \n",
    "    Note that the fields should be comma-separated. \n",
    "    Unknown field names are ignored. \n",
    "    This will speed-up dramatically results in some cases:    \n",
    "    \"\"\"\n",
    "    r = requests.post(\n",
    "      'https://fink-portal.org/api/v1/objects',\n",
    "      json={\n",
    "        'objectId': 'ZTF21aaxtctv',\n",
    "        'columns': 'i:jd,i:magpsf'\n",
    "      }\n",
    "    )\n",
    "    return r"
   ]
  },
  {
   "cell_type": "code",
   "execution_count": 5,
   "id": "d17d99df",
   "metadata": {},
   "outputs": [
    {
     "name": "stdout",
     "output_type": "stream",
     "text": [
      "545 ms ± 94.1 ms per loop (mean ± std. dev. of 7 runs, 1 loop each)\n"
     ]
    }
   ],
   "source": [
    "%timeit load_all_fields()"
   ]
  },
  {
   "cell_type": "code",
   "execution_count": 6,
   "id": "7613ec81",
   "metadata": {},
   "outputs": [
    {
     "name": "stdout",
     "output_type": "stream",
     "text": [
      "83 ms ± 3.15 ms per loop (mean ± std. dev. of 7 runs, 10 loops each)\n"
     ]
    }
   ],
   "source": [
    "%timeit load_some_fields()"
   ]
  },
  {
   "cell_type": "code",
   "execution_count": 7,
   "id": "ad68c0f9",
   "metadata": {},
   "outputs": [
    {
     "data": {
      "text/html": [
       "<div>\n",
       "<style scoped>\n",
       "    .dataframe tbody tr th:only-of-type {\n",
       "        vertical-align: middle;\n",
       "    }\n",
       "\n",
       "    .dataframe tbody tr th {\n",
       "        vertical-align: top;\n",
       "    }\n",
       "\n",
       "    .dataframe thead th {\n",
       "        text-align: right;\n",
       "    }\n",
       "</style>\n",
       "<table border=\"1\" class=\"dataframe\">\n",
       "  <thead>\n",
       "    <tr style=\"text-align: right;\">\n",
       "      <th></th>\n",
       "      <th>i:jd</th>\n",
       "      <th>i:magpsf</th>\n",
       "    </tr>\n",
       "  </thead>\n",
       "  <tbody>\n",
       "    <tr>\n",
       "      <th>0</th>\n",
       "      <td>2.459537e+06</td>\n",
       "      <td>19.149723</td>\n",
       "    </tr>\n",
       "    <tr>\n",
       "      <th>1</th>\n",
       "      <td>2.459537e+06</td>\n",
       "      <td>19.170815</td>\n",
       "    </tr>\n",
       "  </tbody>\n",
       "</table>\n",
       "</div>"
      ],
      "text/plain": [
       "           i:jd   i:magpsf\n",
       "0  2.459537e+06  19.149723\n",
       "1  2.459537e+06  19.170815"
      ]
     },
     "execution_count": 7,
     "metadata": {},
     "output_type": "execute_result"
    }
   ],
   "source": [
    "pdf = pd.read_json(load_some_fields().content)\n",
    "pdf.head(2)"
   ]
  },
  {
   "cell_type": "markdown",
   "id": "ce80ea1d",
   "metadata": {},
   "source": []
  },
  {
   "cell_type": "markdown",
   "id": "1d4ccab0",
   "metadata": {},
   "source": [
    "### Upper limits and bad quality data\n",
    "\n",
    "You can also retrieve upper limits and bad quality data (as defined by Fink quality cuts)\n",
    "alongside valid measurements. For this you would use `withupperlim` (see usage below).\n",
    "Note that the returned data will contained a new column, `d:tag`, to easily check data type:\n",
    "`valid` (valid alert measurements), `upperlim` (upper limits), `badquality` (alert measurements that did not pass quality cuts).\n",
    "Here is an example that query the data, and plot it:"
   ]
  },
  {
   "cell_type": "code",
   "execution_count": 8,
   "id": "a602c728",
   "metadata": {},
   "outputs": [
    {
     "data": {
      "image/png": "[encoded data removed]",
      "text/plain": [
       "<Figure size 1080x432 with 1 Axes>"
      ]
     },
     "metadata": {
      "needs_background": "light"
     },
     "output_type": "display_data"
    }
   ],
   "source": [
    "import requests\n",
    "import pandas as pd\n",
    "import numpy as np\n",
    "import matplotlib.pyplot as plt\n",
    "import seaborn as sns\n",
    "sns.set_context('talk')\n",
    "\n",
    "# get data for ZTF21aaxtctv\n",
    "r = requests.post(\n",
    "  'https://fink-portal.org/api/v1/objects',\n",
    "  json={\n",
    "    'objectId': 'ZTF21aaxtctv',\n",
    "    'withupperlim': 'True'\n",
    "  }\n",
    ")\n",
    "\n",
    "# Format output in a DataFrame\n",
    "pdf = pd.read_json(r.content)\n",
    "\n",
    "def plot_photometry(pdf):\n",
    "    fig = plt.figure(figsize=(15, 6))\n",
    "\n",
    "    colordic = {1: 'C0', 2: 'C1'}\n",
    "\n",
    "    for filt in np.unique(pdf['i:fid']):\n",
    "        maskFilt = pdf['i:fid'] == filt\n",
    "\n",
    "        # The column `d:tag` is used to check data type\n",
    "        maskValid = pdf['d:tag'] == 'valid'\n",
    "        plt.errorbar(\n",
    "            pdf[maskValid & maskFilt]['i:jd'].apply(lambda x: x - 2400000.5),\n",
    "            pdf[maskValid & maskFilt]['i:magpsf'],\n",
    "            pdf[maskValid & maskFilt]['i:sigmapsf'],\n",
    "            ls = '', marker='o', color=colordic[filt]\n",
    "        )\n",
    "\n",
    "        maskUpper = pdf['d:tag'] == 'upperlim'\n",
    "        plt.plot(\n",
    "            pdf[maskUpper & maskFilt]['i:jd'].apply(lambda x: x - 2400000.5),\n",
    "            pdf[maskUpper & maskFilt]['i:diffmaglim'],\n",
    "            ls='', marker='^', color=colordic[filt], markerfacecolor='none'\n",
    "        )\n",
    "\n",
    "        maskBadquality = pdf['d:tag'] == 'badquality'\n",
    "        plt.errorbar(\n",
    "            pdf[maskBadquality & maskFilt]['i:jd'].apply(lambda x: x - 2400000.5),\n",
    "            pdf[maskBadquality & maskFilt]['i:magpsf'],\n",
    "            pdf[maskBadquality & maskFilt]['i:sigmapsf'],\n",
    "            ls='', marker='v', color=colordic[filt]\n",
    "        )\n",
    "\n",
    "    plt.gca().invert_yaxis()\n",
    "    plt.xlabel('Modified Julian Date')\n",
    "    plt.ylabel('Magnitude')\n",
    "    plt.show()\n",
    "plot_photometry(pdf)"
   ]
  },
  {
   "cell_type": "markdown",
   "id": "7b8c789a",
   "metadata": {},
   "source": [
    "### Cutouts\n",
    "\n",
    "Finally, you can also request data from cutouts stored in alerts (science, template and difference).\n",
    "Simply set `withcutouts` in the json payload (string):"
   ]
  },
  {
   "cell_type": "code",
   "execution_count": 9,
   "id": "a879db7a",
   "metadata": {},
   "outputs": [
    {
     "data": {
      "image/png": "[encoded data removed]",
      "text/plain": [
       "<Figure size 1080x432 with 3 Axes>"
      ]
     },
     "metadata": {
      "needs_background": "light"
     },
     "output_type": "display_data"
    }
   ],
   "source": [
    "import requests\n",
    "import pandas as pd\n",
    "import matplotlib.pyplot as plt\n",
    "\n",
    "columns = [\n",
    "    'b:cutoutScience_stampData',\n",
    "    'b:cutoutTemplate_stampData',\n",
    "    'b:cutoutDifference_stampData'\n",
    "]\n",
    "\n",
    "# transfer cutout data\n",
    "r = requests.post(\n",
    "    'https://fink-portal.org/api/v1/objects',\n",
    "    json={\n",
    "        'objectId': 'ZTF21aaxtctv',\n",
    "        'withcutouts': 'True',\n",
    "        'cols': ','.join(columns)\n",
    "  }\n",
    ")\n",
    "\n",
    "# Format output in a DataFrame\n",
    "pdf = pd.read_json(r.content)\n",
    "\n",
    "fig, axes = plt.subplots(1, 3, figsize=(15, 6))\n",
    "\n",
    "for col in columns:\n",
    "    # 2D array\n",
    "    data = pdf[col].values[0]\n",
    "\n",
    "    axes[columns.index(col)].imshow(np.arcsinh(data))\n",
    "\n",
    "plt.show()"
   ]
  },
  {
   "cell_type": "markdown",
   "id": "efa9c631",
   "metadata": {},
   "source": [
    "## Retrieve cutout data from the Fink database\n",
    "\n",
    "The list of arguments for retrieving cutout data can be found at https://fink-portal.org/api/v1/cutouts.\n",
    "\n",
    "### PNG\n",
    "\n",
    "In a unix shell, you can retrieve the last cutout of an object by simply using\n",
    "\n",
    "```bash\n",
    "curl -H \"Content-Type: application/json\" \\\\\n",
    "    -X POST -d \\\\\n",
    "    '{\"objectId\":\"ZTF21aaxtctv\", \"kind\":\"Science\"}' \\\\\n",
    "    https://fink-portal.org/api/v1/cutouts -o cutoutScience.png\n",
    "\n",
    "# you can also specify parameters in the URL, e.g. with wget:\n",
    "wget \"https://fink-portal.org/api/v1/cutouts?objectId=ZTF21aaxtctv&kind=Science\" -O ZTF21aaxtctv_Science.png\n",
    "```\n",
    "\n",
    "This will retrieve the `Science` image and save it on `cutoutScience.png`.\n",
    "In Python, the equivalent script would be:"
   ]
  },
  {
   "cell_type": "code",
   "execution_count": 10,
   "id": "2cebfc81",
   "metadata": {},
   "outputs": [
    {
     "data": {
      "image/png": "[encoded data removed]",
      "text/plain": [
       "<PIL.Image.Image image mode=L size=300x300 at 0x7F9B95776310>"
      ]
     },
     "execution_count": 10,
     "metadata": {},
     "output_type": "execute_result"
    }
   ],
   "source": [
    "import io\n",
    "import requests\n",
    "from PIL import Image as im\n",
    "\n",
    "# get data for ZTF21aaxtctv\n",
    "r = requests.post(\n",
    "    'https://fink-portal.org/api/v1/cutouts',\n",
    "    json={\n",
    "        'objectId': 'ZTF21aaxtctv',\n",
    "        'kind': 'Science',\n",
    "    }\n",
    ")\n",
    "\n",
    "image = im.open(io.BytesIO(r.content))\n",
    "image.resize((300, 300))"
   ]
  },
  {
   "cell_type": "markdown",
   "id": "be6f2714",
   "metadata": {},
   "source": [
    "Note you can choose between the `Science`, `Template`, or `Difference` images.\n",
    "You can also customise the image treatment by"
   ]
  },
  {
   "cell_type": "code",
   "execution_count": 11,
   "id": "78efc286",
   "metadata": {},
   "outputs": [
    {
     "data": {
      "image/png": "[encoded data removed]",
      "text/plain": [
       "<PIL.Image.Image image mode=RGBA size=300x300 at 0x7F9B95744F90>"
      ]
     },
     "execution_count": 11,
     "metadata": {},
     "output_type": "execute_result"
    }
   ],
   "source": [
    "import io\n",
    "import requests\n",
    "from PIL import Image as im\n",
    "\n",
    "# get data for ZTF21aaxtctv\n",
    "r = requests.post(\n",
    "    'https://fink-portal.org/api/v1/cutouts',\n",
    "    json={\n",
    "        'objectId': 'ZTF21aaxtctv',\n",
    "        'kind': 'Science', # Science, Template, Difference\n",
    "        'stretch': 'sigmoid', # sigmoid[default], linear, sqrt, power, log\n",
    "        'colormap': 'viridis', # Valid matplotlib colormap name (see matplotlib.cm). Default is grayscale.\n",
    "        'pmin': 0.5, # The percentile value used to determine the pixel value of minimum cut level. Default is 0.5. No effect for sigmoid.\n",
    "        'pmax': 99.5, # The percentile value used to determine the pixel value of maximum cut level. Default is 99.5. No effect for sigmoid.\n",
    "        'convolution_kernel': 'gauss' # Convolve the image with a kernel (gauss or box). Default is None (not specified).\n",
    "    }\n",
    ")\n",
    "\n",
    "image = im.open(io.BytesIO(r.content))\n",
    "# image.save('mysupercutout.png')\n",
    "image.resize((300, 300))"
   ]
  },
  {
   "cell_type": "markdown",
   "id": "4ae8313a",
   "metadata": {},
   "source": [
    "By default, you will retrieve the cutout of the last alert emitted for the object `objectId`.\n",
    "You can also access cutouts of other alerts from this object by specifying their candidate ID:"
   ]
  },
  {
   "cell_type": "code",
   "execution_count": 12,
   "id": "f3d08a34",
   "metadata": {},
   "outputs": [
    {
     "data": {
      "image/png": "[encoded data removed]",
      "text/plain": [
       "<PIL.Image.Image image mode=L size=300x300 at 0x7F9B953D0C90>"
      ]
     },
     "execution_count": 12,
     "metadata": {},
     "output_type": "execute_result"
    }
   ],
   "source": [
    "import io\n",
    "import requests\n",
    "import pandas as pd\n",
    "from PIL import Image as im\n",
    "\n",
    "# Get all candidate ID with JD for ZTF21aaxtctv\n",
    "r = requests.post(\n",
    "    'https://fink-portal.org/api/v1/objects',\n",
    "    json={\n",
    "        'objectId': 'ZTF21aaxtctv',\n",
    "        'columns': 'i:candid,i:jd'\n",
    "    }\n",
    ")\n",
    "\n",
    "pdf_candid = pd.read_json(r.content)\n",
    "# Get the first alert\n",
    "first_alert = pdf_candid['i:candid'].values[-1]\n",
    "\n",
    "# get data for ZTF21aaxtctv\n",
    "r = requests.post(\n",
    "    'https://fink-portal.org/api/v1/cutouts',\n",
    "    json={\n",
    "        'objectId': 'ZTF21aaxtctv',\n",
    "        'kind': 'Science',\n",
    "        'candid': str(first_alert)\n",
    "    }\n",
    ")\n",
    "\n",
    "image = im.open(io.BytesIO(r.content))\n",
    "# image.save('mysupercutout_firstalert.png')\n",
    "image.resize((300, 300))"
   ]
  },
  {
   "cell_type": "markdown",
   "id": "f844cd5d",
   "metadata": {},
   "source": [
    "### FITS\n",
    "\n",
    "You can also retrieve the original FITS file stored in the alert:\n",
    "\n",
    "```bash\n",
    "curl -H \"Content-Type: application/json\" \\\\\n",
    "    -X POST -d \\\\\n",
    "    '{\"objectId\":\"ZTF21aaxtctv\", \"kind\":\"Science\", \"output-format\": \"FITS\"}' \\\\\n",
    "    https://fink-portal.org/api/v1/cutouts -o cutoutScience.fits\n",
    "```\n",
    "\n",
    "or equivalently in Python:"
   ]
  },
  {
   "cell_type": "code",
   "execution_count": 13,
   "id": "207da0d0",
   "metadata": {},
   "outputs": [
    {
     "data": {
      "text/plain": [
       "[<astropy.io.fits.hdu.image.PrimaryHDU object at 0x7f9b96f7f3d0>]"
      ]
     },
     "execution_count": 13,
     "metadata": {},
     "output_type": "execute_result"
    }
   ],
   "source": [
    "import io\n",
    "from astropy.io import fits\n",
    "import requests\n",
    "import pandas as pd\n",
    "\n",
    "# get data for ZTF21aaxtctv\n",
    "r = requests.post(\n",
    "    'https://fink-portal.org/api/v1/cutouts',\n",
    "    json={\n",
    "        'objectId': 'ZTF21aaxtctv',\n",
    "        'kind': 'Science',\n",
    "        'output-format': 'FITS'\n",
    "    }\n",
    ")\n",
    "\n",
    "data = fits.open(io.BytesIO(r.content), ignore_missing_simple=True)\n",
    "# data.writeto('cutoutScience.fits')\n",
    "data"
   ]
  },
  {
   "cell_type": "markdown",
   "id": "15ef290c",
   "metadata": {},
   "source": [
    "### Numpy array\n",
    "\n",
    "You can also retrieve only the data block stored in the alert:"
   ]
  },
  {
   "cell_type": "code",
   "execution_count": 14,
   "id": "09dcd3db",
   "metadata": {},
   "outputs": [
    {
     "data": {
      "text/plain": [
       "(63, 63)"
      ]
     },
     "execution_count": 14,
     "metadata": {},
     "output_type": "execute_result"
    }
   ],
   "source": [
    "import requests\n",
    "import pandas as pd\n",
    "\n",
    "# get data for ZTF21aaxtctv\n",
    "r = requests.post(\n",
    "    'https://fink-portal.org/api/v1/cutouts',\n",
    "    json={\n",
    "        'objectId': 'ZTF21aaxtctv',\n",
    "        'kind': 'Science',\n",
    "        'output-format': 'array'\n",
    "    }\n",
    ")\n",
    "\n",
    "pdf = pd.read_json(r.content)\n",
    "array = pdf['b:cutoutScience_stampData'].values[0]\n",
    "np.shape(array)"
   ]
  },
  {
   "cell_type": "markdown",
   "id": "fdb25168",
   "metadata": {},
   "source": [
    "## Conesearch\n",
    "\n",
    "Perform a conesearch around a position on the sky given by (RA, Dec, radius).\n",
    "The initializer for RA/Dec is very flexible and supports inputs provided in a number of convenient formats.\n",
    "The following ways of initializing a conesearch are all equivalent (radius in arcsecond):\n",
    "\n",
    "* 193.822, 2.89732, 5\n",
    "* 193d49m18.267s, 2d53m50.35s, 5\n",
    "* 12h55m17.218s, +02d53m50.35s, 5\n",
    "* 12 55 17.218, +02 53 50.35, 5\n",
    "* 12:55:17.218, 02:53:50.35, 5\n",
    "\n",
    "In a unix shell, you would simply use\n",
    "\n",
    "```bash\n",
    "# Get all objects falling within (center, radius) = ((ra, dec), radius)\n",
    "curl -H \"Content-Type: application/json\" -X POST -d '{\"ra\":\"193.822\", \"dec\":\"2.89732\", \"radius\":\"5\"}' https://fink-portal.org/api/v1/explorer -o conesearch.json\n",
    "\n",
    "# you can also specify parameters in the URL, e.g. with wget:\n",
    "wget \"https://fink-portal.org/api/v1/explorer?ra=193.822&dec=2.89732&radius=5&startdate_conesearch=2021-06-25 05:59:37.000&window_days_conesearch=7&output-format=json\" -O conesearch.json\n",
    "```\n",
    "\n",
    "In python, you would use"
   ]
  },
  {
   "cell_type": "code",
   "execution_count": 15,
   "id": "8134d42c",
   "metadata": {},
   "outputs": [],
   "source": [
    "import requests\n",
    "import pandas as pd\n",
    "\n",
    "# Get all objects falling within (center, radius) = ((ra, dec), radius)\n",
    "r = requests.post(\n",
    "  'https://fink-portal.org/api/v1/explorer',\n",
    "  json={\n",
    "    'ra': '193.822',\n",
    "    'dec': '2.89732',\n",
    "    'radius': '5'\n",
    "  }\n",
    ")\n",
    "\n",
    "# Format output in a DataFrame\n",
    "pdf = pd.read_json(r.content)"
   ]
  },
  {
   "cell_type": "markdown",
   "id": "877c64b8",
   "metadata": {},
   "source": [
    "Maximum radius length is 18,000 arcseconds (5 degrees). Note that in case of\n",
    "several objects matching, the results will be sorted according to the column\n",
    "`v:separation_degree`, which is the angular separation in degree between\n",
    "the input (ra, dec) and the objects found. Also note this focuses on ALERTS, not OBJECTS, because the classification in Fink is done for alerts.\n",
    "\n",
    "In addition, you can specify time boundaries:"
   ]
  },
  {
   "cell_type": "code",
   "execution_count": 16,
   "id": "83ad847b",
   "metadata": {},
   "outputs": [],
   "source": [
    "import requests\n",
    "import pandas as pd\n",
    "\n",
    "# Get all objects falling within (center, radius) = ((ra, dec), radius)\n",
    "# between 2021-06-25 05:59:37.000 (included) and 2021-07-01 05:59:37.000 (excluded)\n",
    "r = requests.post(\n",
    "  'https://fink-portal.org/api/v1/explorer',\n",
    "  json={\n",
    "    'ra': '193.822',\n",
    "    'dec': '2.89732',\n",
    "    'radius': '5',\n",
    "    'startdate_conesearch': '2021-06-25 05:59:37.000',\n",
    "    'window_days_conesearch': 7\n",
    "  }\n",
    ")\n",
    "\n",
    "# Format output in a DataFrame\n",
    "pdf = pd.read_json(r.content)"
   ]
  },
  {
   "cell_type": "markdown",
   "id": "42e4cde0",
   "metadata": {},
   "source": [
    "Here is the performance of the service for querying a\n",
    "single object (database of 1.3TB, about 40 million alerts):\n",
    "\n",
    "![conesearch](https://user-images.githubusercontent.com/20426972/123047697-e493a500-d3fd-11eb-9f30-216dce9cbf43.png)\n",
    "\n",
    "_circle marks with dashed lines are results for a full scan search\n",
    "(~2 years of data, 40 million alerts), while the upper triangles with\n",
    "dotted lines are results when restraining to 7 days search.\n",
    "The numbers close to markers show the number of objects returned by the conesearch._"
   ]
  },
  {
   "cell_type": "markdown",
   "id": "085bfaba",
   "metadata": {},
   "source": [
    "## Search by Date\n",
    "\n",
    "Choose a starting date and a time window to see all alerts in this period.\n",
    "Dates are in UTC, and the time window in minutes.\n",
    "Example of valid search:\n",
    "\n",
    "* 2021-07-01 05:59:37.000\n",
    "\n",
    "In a unix shell, you would simply use\n",
    "\n",
    "```bash\n",
    "# Get all objects between 2021-07-01 05:59:37.000 and 2021-07-01 06:09:37.000 UTC\n",
    "curl -H \"Content-Type: application/json\" -X POST -d '{\"startdate\":\"2021-07-01 05:59:37.000\", \"window\":\"10\"}' https://fink-portal.org/api/v1/explorer -o datesearch.json\n",
    "\n",
    "# you can also specify parameters in the URL, e.g. with wget:\n",
    "wget \"https://fink-portal.org/api/v1/explorer?startdate=2021-07-01 05:59:37.000&window=10&output-format=json\" -O datesearch.json\n",
    "```\n",
    "\n",
    "In python, you would use"
   ]
  },
  {
   "cell_type": "code",
   "execution_count": 17,
   "id": "91547f27",
   "metadata": {},
   "outputs": [],
   "source": [
    "import requests\n",
    "import pandas as pd\n",
    "\n",
    "# Get all objects between 2021-07-01 05:59:37.000 and 2021-07-01 06:09:37.000 UTC\n",
    "r = requests.post(\n",
    "  'https://fink-portal.org/api/v1/explorer',\n",
    "  json={\n",
    "    'startdate': '2021-07-01 05:59:37.000',\n",
    "    'window': '10'\n",
    "  }\n",
    ")\n",
    "\n",
    "# Format output in a DataFrame\n",
    "pdf = pd.read_json(r.content)"
   ]
  },
  {
   "cell_type": "markdown",
   "id": "1f5673e9",
   "metadata": {},
   "source": [
    "You can see it takes some time to load the data, because we currently transfer all columns... Modifications will be done soon."
   ]
  },
  {
   "cell_type": "code",
   "execution_count": 18,
   "id": "8034c43d",
   "metadata": {},
   "outputs": [
    {
     "data": {
      "text/html": [
       "<div>\n",
       "<style scoped>\n",
       "    .dataframe tbody tr th:only-of-type {\n",
       "        vertical-align: middle;\n",
       "    }\n",
       "\n",
       "    .dataframe tbody tr th {\n",
       "        vertical-align: top;\n",
       "    }\n",
       "\n",
       "    .dataframe thead th {\n",
       "        text-align: right;\n",
       "    }\n",
       "</style>\n",
       "<table border=\"1\" class=\"dataframe\">\n",
       "  <thead>\n",
       "    <tr style=\"text-align: right;\">\n",
       "      <th></th>\n",
       "      <th>d:cdsxmatch</th>\n",
       "      <th>d:mulens</th>\n",
       "      <th>d:rf_kn_vs_nonkn</th>\n",
       "      <th>d:rf_snia_vs_nonia</th>\n",
       "      <th>d:roid</th>\n",
       "      <th>d:snn_sn_vs_all</th>\n",
       "      <th>d:snn_snia_vs_nonia</th>\n",
       "      <th>d:tracklet</th>\n",
       "      <th>i:candid</th>\n",
       "      <th>i:chipsf</th>\n",
       "      <th>...</th>\n",
       "      <th>i:sigmapsf</th>\n",
       "      <th>i:ssdistnr</th>\n",
       "      <th>i:ssmagnr</th>\n",
       "      <th>i:ssnamenr</th>\n",
       "      <th>i:tooflag</th>\n",
       "      <th>i:xpos</th>\n",
       "      <th>i:ypos</th>\n",
       "      <th>v:classification</th>\n",
       "      <th>v:lastdate</th>\n",
       "      <th>v:constellation</th>\n",
       "    </tr>\n",
       "  </thead>\n",
       "  <tbody>\n",
       "    <tr>\n",
       "      <th>2464</th>\n",
       "      <td>Unknown</td>\n",
       "      <td>0.0</td>\n",
       "      <td>0</td>\n",
       "      <td>0.135</td>\n",
       "      <td>0</td>\n",
       "      <td>0.009939</td>\n",
       "      <td>0.868732</td>\n",
       "      <td>nan</td>\n",
       "      <td>1642249732315015013</td>\n",
       "      <td>53.030850</td>\n",
       "      <td>...</td>\n",
       "      <td>0.028584</td>\n",
       "      <td>-999</td>\n",
       "      <td>-999.0</td>\n",
       "      <td>null</td>\n",
       "      <td>0</td>\n",
       "      <td>855.9870</td>\n",
       "      <td>2451.6245</td>\n",
       "      <td>SN candidate</td>\n",
       "      <td>2021-07-01 05:59:37.000</td>\n",
       "      <td>Virgo</td>\n",
       "    </tr>\n",
       "    <tr>\n",
       "      <th>2023</th>\n",
       "      <td>Unknown</td>\n",
       "      <td>0.0</td>\n",
       "      <td>0</td>\n",
       "      <td>0.106</td>\n",
       "      <td>0</td>\n",
       "      <td>0.000000</td>\n",
       "      <td>0.000000</td>\n",
       "      <td>nan</td>\n",
       "      <td>1642250831115015010</td>\n",
       "      <td>1.783729</td>\n",
       "      <td>...</td>\n",
       "      <td>0.107317</td>\n",
       "      <td>-999</td>\n",
       "      <td>-999.0</td>\n",
       "      <td>null</td>\n",
       "      <td>0</td>\n",
       "      <td>1361.1305</td>\n",
       "      <td>1611.5293</td>\n",
       "      <td>Unknown</td>\n",
       "      <td>2021-07-01 06:01:11.997</td>\n",
       "      <td>Libra</td>\n",
       "    </tr>\n",
       "    <tr>\n",
       "      <th>2084</th>\n",
       "      <td>Unknown</td>\n",
       "      <td>0.0</td>\n",
       "      <td>0</td>\n",
       "      <td>0.087</td>\n",
       "      <td>0</td>\n",
       "      <td>0.000000</td>\n",
       "      <td>0.000000</td>\n",
       "      <td>nan</td>\n",
       "      <td>1642250830315015024</td>\n",
       "      <td>1.368616</td>\n",
       "      <td>...</td>\n",
       "      <td>0.132419</td>\n",
       "      <td>-999</td>\n",
       "      <td>-999.0</td>\n",
       "      <td>null</td>\n",
       "      <td>0</td>\n",
       "      <td>2018.6060</td>\n",
       "      <td>1784.6932</td>\n",
       "      <td>Unknown</td>\n",
       "      <td>2021-07-01 06:01:11.997</td>\n",
       "      <td>Scorpius</td>\n",
       "    </tr>\n",
       "    <tr>\n",
       "      <th>2074</th>\n",
       "      <td>Unknown</td>\n",
       "      <td>0.0</td>\n",
       "      <td>0</td>\n",
       "      <td>0.046</td>\n",
       "      <td>0</td>\n",
       "      <td>0.000000</td>\n",
       "      <td>0.000000</td>\n",
       "      <td>nan</td>\n",
       "      <td>1642250831715015009</td>\n",
       "      <td>15.777208</td>\n",
       "      <td>...</td>\n",
       "      <td>0.097214</td>\n",
       "      <td>-999</td>\n",
       "      <td>-999.0</td>\n",
       "      <td>null</td>\n",
       "      <td>0</td>\n",
       "      <td>1106.7772</td>\n",
       "      <td>1492.5022</td>\n",
       "      <td>Unknown</td>\n",
       "      <td>2021-07-01 06:01:11.997</td>\n",
       "      <td>Scorpius</td>\n",
       "    </tr>\n",
       "    <tr>\n",
       "      <th>141</th>\n",
       "      <td>Unknown</td>\n",
       "      <td>0.0</td>\n",
       "      <td>0</td>\n",
       "      <td>0.046</td>\n",
       "      <td>0</td>\n",
       "      <td>0.000000</td>\n",
       "      <td>0.000000</td>\n",
       "      <td>nan</td>\n",
       "      <td>1642251786315010005</td>\n",
       "      <td>10.625117</td>\n",
       "      <td>...</td>\n",
       "      <td>0.156160</td>\n",
       "      <td>-999</td>\n",
       "      <td>-999.0</td>\n",
       "      <td>null</td>\n",
       "      <td>0</td>\n",
       "      <td>259.8762</td>\n",
       "      <td>1471.4307</td>\n",
       "      <td>Unknown</td>\n",
       "      <td>2021-07-01 06:02:33.999</td>\n",
       "      <td>Ophiucus</td>\n",
       "    </tr>\n",
       "    <tr>\n",
       "      <th>...</th>\n",
       "      <td>...</td>\n",
       "      <td>...</td>\n",
       "      <td>...</td>\n",
       "      <td>...</td>\n",
       "      <td>...</td>\n",
       "      <td>...</td>\n",
       "      <td>...</td>\n",
       "      <td>...</td>\n",
       "      <td>...</td>\n",
       "      <td>...</td>\n",
       "      <td>...</td>\n",
       "      <td>...</td>\n",
       "      <td>...</td>\n",
       "      <td>...</td>\n",
       "      <td>...</td>\n",
       "      <td>...</td>\n",
       "      <td>...</td>\n",
       "      <td>...</td>\n",
       "      <td>...</td>\n",
       "      <td>...</td>\n",
       "      <td>...</td>\n",
       "    </tr>\n",
       "    <tr>\n",
       "      <th>837</th>\n",
       "      <td>Unknown</td>\n",
       "      <td>0.0</td>\n",
       "      <td>0</td>\n",
       "      <td>0.000</td>\n",
       "      <td>3</td>\n",
       "      <td>0.000000</td>\n",
       "      <td>0.000000</td>\n",
       "      <td>nan</td>\n",
       "      <td>1642251300915015019</td>\n",
       "      <td>1.544776</td>\n",
       "      <td>...</td>\n",
       "      <td>0.208598</td>\n",
       "      <td>0</td>\n",
       "      <td>19.7</td>\n",
       "      <td>118311</td>\n",
       "      <td>0</td>\n",
       "      <td>299.8589</td>\n",
       "      <td>2342.6077</td>\n",
       "      <td>Solar System MPC</td>\n",
       "      <td>2021-07-01 06:01:53.003</td>\n",
       "      <td>Libra</td>\n",
       "    </tr>\n",
       "    <tr>\n",
       "      <th>838</th>\n",
       "      <td>Unknown</td>\n",
       "      <td>0.0</td>\n",
       "      <td>0</td>\n",
       "      <td>0.000</td>\n",
       "      <td>3</td>\n",
       "      <td>0.000000</td>\n",
       "      <td>0.000000</td>\n",
       "      <td>nan</td>\n",
       "      <td>1642251300915015018</td>\n",
       "      <td>0.986492</td>\n",
       "      <td>...</td>\n",
       "      <td>0.169158</td>\n",
       "      <td>0</td>\n",
       "      <td>19.4</td>\n",
       "      <td>141633</td>\n",
       "      <td>0</td>\n",
       "      <td>1017.9193</td>\n",
       "      <td>2897.4468</td>\n",
       "      <td>Solar System MPC</td>\n",
       "      <td>2021-07-01 06:01:53.003</td>\n",
       "      <td>Libra</td>\n",
       "    </tr>\n",
       "    <tr>\n",
       "      <th>839</th>\n",
       "      <td>Unknown</td>\n",
       "      <td>0.0</td>\n",
       "      <td>0</td>\n",
       "      <td>0.000</td>\n",
       "      <td>3</td>\n",
       "      <td>0.000000</td>\n",
       "      <td>0.000000</td>\n",
       "      <td>nan</td>\n",
       "      <td>1642251300915015013</td>\n",
       "      <td>1.365358</td>\n",
       "      <td>...</td>\n",
       "      <td>0.146369</td>\n",
       "      <td>0</td>\n",
       "      <td>19.5</td>\n",
       "      <td>35424</td>\n",
       "      <td>0</td>\n",
       "      <td>2461.6987</td>\n",
       "      <td>1223.7521</td>\n",
       "      <td>Solar System MPC</td>\n",
       "      <td>2021-07-01 06:01:53.003</td>\n",
       "      <td>Libra</td>\n",
       "    </tr>\n",
       "    <tr>\n",
       "      <th>840</th>\n",
       "      <td>V*</td>\n",
       "      <td>0.0</td>\n",
       "      <td>0</td>\n",
       "      <td>0.000</td>\n",
       "      <td>0</td>\n",
       "      <td>0.000000</td>\n",
       "      <td>0.000000</td>\n",
       "      <td>nan</td>\n",
       "      <td>1642251301615010001</td>\n",
       "      <td>9.958154</td>\n",
       "      <td>...</td>\n",
       "      <td>0.167798</td>\n",
       "      <td>-999</td>\n",
       "      <td>-999.0</td>\n",
       "      <td>null</td>\n",
       "      <td>0</td>\n",
       "      <td>625.7769</td>\n",
       "      <td>491.2318</td>\n",
       "      <td>V*</td>\n",
       "      <td>2021-07-01 06:01:53.003</td>\n",
       "      <td>Scorpius</td>\n",
       "    </tr>\n",
       "    <tr>\n",
       "      <th>2497</th>\n",
       "      <td>RRLyr</td>\n",
       "      <td>0.0</td>\n",
       "      <td>0</td>\n",
       "      <td>0.000</td>\n",
       "      <td>0</td>\n",
       "      <td>0.000000</td>\n",
       "      <td>0.000000</td>\n",
       "      <td>nan</td>\n",
       "      <td>1642249732515015003</td>\n",
       "      <td>1.330981</td>\n",
       "      <td>...</td>\n",
       "      <td>0.165761</td>\n",
       "      <td>-999</td>\n",
       "      <td>-999.0</td>\n",
       "      <td>null</td>\n",
       "      <td>0</td>\n",
       "      <td>2349.0515</td>\n",
       "      <td>1792.7096</td>\n",
       "      <td>RRLyr</td>\n",
       "      <td>2021-07-01 05:59:37.000</td>\n",
       "      <td>Virgo</td>\n",
       "    </tr>\n",
       "  </tbody>\n",
       "</table>\n",
       "<p>2498 rows × 47 columns</p>\n",
       "</div>"
      ],
      "text/plain": [
       "     d:cdsxmatch  d:mulens  d:rf_kn_vs_nonkn  d:rf_snia_vs_nonia  d:roid  \\\n",
       "2464     Unknown       0.0                 0               0.135       0   \n",
       "2023     Unknown       0.0                 0               0.106       0   \n",
       "2084     Unknown       0.0                 0               0.087       0   \n",
       "2074     Unknown       0.0                 0               0.046       0   \n",
       "141      Unknown       0.0                 0               0.046       0   \n",
       "...          ...       ...               ...                 ...     ...   \n",
       "837      Unknown       0.0                 0               0.000       3   \n",
       "838      Unknown       0.0                 0               0.000       3   \n",
       "839      Unknown       0.0                 0               0.000       3   \n",
       "840           V*       0.0                 0               0.000       0   \n",
       "2497       RRLyr       0.0                 0               0.000       0   \n",
       "\n",
       "      d:snn_sn_vs_all  d:snn_snia_vs_nonia d:tracklet             i:candid  \\\n",
       "2464         0.009939             0.868732        nan  1642249732315015013   \n",
       "2023         0.000000             0.000000        nan  1642250831115015010   \n",
       "2084         0.000000             0.000000        nan  1642250830315015024   \n",
       "2074         0.000000             0.000000        nan  1642250831715015009   \n",
       "141          0.000000             0.000000        nan  1642251786315010005   \n",
       "...               ...                  ...        ...                  ...   \n",
       "837          0.000000             0.000000        nan  1642251300915015019   \n",
       "838          0.000000             0.000000        nan  1642251300915015018   \n",
       "839          0.000000             0.000000        nan  1642251300915015013   \n",
       "840          0.000000             0.000000        nan  1642251301615010001   \n",
       "2497         0.000000             0.000000        nan  1642249732515015003   \n",
       "\n",
       "       i:chipsf  ...  i:sigmapsf  i:ssdistnr  i:ssmagnr  i:ssnamenr  \\\n",
       "2464  53.030850  ...    0.028584        -999     -999.0        null   \n",
       "2023   1.783729  ...    0.107317        -999     -999.0        null   \n",
       "2084   1.368616  ...    0.132419        -999     -999.0        null   \n",
       "2074  15.777208  ...    0.097214        -999     -999.0        null   \n",
       "141   10.625117  ...    0.156160        -999     -999.0        null   \n",
       "...         ...  ...         ...         ...        ...         ...   \n",
       "837    1.544776  ...    0.208598           0       19.7      118311   \n",
       "838    0.986492  ...    0.169158           0       19.4      141633   \n",
       "839    1.365358  ...    0.146369           0       19.5       35424   \n",
       "840    9.958154  ...    0.167798        -999     -999.0        null   \n",
       "2497   1.330981  ...    0.165761        -999     -999.0        null   \n",
       "\n",
       "      i:tooflag     i:xpos     i:ypos  v:classification  \\\n",
       "2464          0   855.9870  2451.6245      SN candidate   \n",
       "2023          0  1361.1305  1611.5293           Unknown   \n",
       "2084          0  2018.6060  1784.6932           Unknown   \n",
       "2074          0  1106.7772  1492.5022           Unknown   \n",
       "141           0   259.8762  1471.4307           Unknown   \n",
       "...         ...        ...        ...               ...   \n",
       "837           0   299.8589  2342.6077  Solar System MPC   \n",
       "838           0  1017.9193  2897.4468  Solar System MPC   \n",
       "839           0  2461.6987  1223.7521  Solar System MPC   \n",
       "840           0   625.7769   491.2318                V*   \n",
       "2497          0  2349.0515  1792.7096             RRLyr   \n",
       "\n",
       "                   v:lastdate  v:constellation  \n",
       "2464  2021-07-01 05:59:37.000            Virgo  \n",
       "2023  2021-07-01 06:01:11.997            Libra  \n",
       "2084  2021-07-01 06:01:11.997         Scorpius  \n",
       "2074  2021-07-01 06:01:11.997         Scorpius  \n",
       "141   2021-07-01 06:02:33.999         Ophiucus  \n",
       "...                       ...              ...  \n",
       "837   2021-07-01 06:01:53.003            Libra  \n",
       "838   2021-07-01 06:01:53.003            Libra  \n",
       "839   2021-07-01 06:01:53.003            Libra  \n",
       "840   2021-07-01 06:01:53.003         Scorpius  \n",
       "2497  2021-07-01 05:59:37.000            Virgo  \n",
       "\n",
       "[2498 rows x 47 columns]"
      ]
     },
     "execution_count": 18,
     "metadata": {},
     "output_type": "execute_result"
    }
   ],
   "source": [
    "pdf.sort_values('d:rf_snia_vs_nonia', ascending=False)"
   ]
  },
  {
   "cell_type": "markdown",
   "id": "a0a651df",
   "metadata": {},
   "source": [
    "Please, note this focuses on ALERTS, not OBJECTS, because the classification in Fink is done for alerts."
   ]
  },
  {
   "cell_type": "markdown",
   "id": "18ada4ae",
   "metadata": {},
   "source": [
    "## Get latest alerts by class\n",
    "\n",
    "The list of arguments for getting latest alerts by class can be found at https://fink-portal.org/api/v1/latests.\n",
    "\n",
    "The list of Fink class can be found at https://fink-portal.org/api/v1/classes\n",
    "\n",
    "```bash\n",
    "# Get list of available class in Fink\n",
    "curl -H \"Content-Type: application/json\" -X GET https://fink-portal.org/api/v1/classes -o finkclass.json\n",
    "```\n",
    "\n",
    "To get the last 5 candidates of the class `Early SN Ia candidate`, you would simply use in a unix shell:\n",
    "\n",
    "```bash\n",
    "# Get latests 5 Early SN Ia candidates\n",
    "curl -H \"Content-Type: application/json\" -X POST -d '{\"class\":\"Early SN Ia candidate\", \"n\":\"5\"}' https://fink-portal.org/api/v1/latests -o latest_five_sn_candidates.json\n",
    "\n",
    "# you can also specify parameters in the URL, e.g. with wget:\n",
    "wget \"https://fink-portal.org/api/v1/latests?class=Early SN Ia candidate&n=5&output-format=json\" -O latest_five_sn_candidates.json\n",
    "```\n",
    "\n",
    "In python, you would use"
   ]
  },
  {
   "cell_type": "code",
   "execution_count": 19,
   "id": "5b359b33",
   "metadata": {},
   "outputs": [],
   "source": [
    "import requests\n",
    "import pandas as pd\n",
    "\n",
    "# Get latests 5 Early SN Ia candidates\n",
    "r = requests.post(\n",
    "  'https://fink-portal.org/api/v1/latests',\n",
    "  json={\n",
    "    'class': 'Early SN Ia candidate',\n",
    "    'n': '5'\n",
    "  }\n",
    ")\n",
    "\n",
    "# Format output in a DataFrame\n",
    "pdf = pd.read_json(r.content)"
   ]
  },
  {
   "cell_type": "markdown",
   "id": "a5cf8500",
   "metadata": {},
   "source": [
    "Note that for `csv` output, you need to use\n",
    "\n",
    "```python\n",
    "# get latests in CSV format...\n",
    "r = ...\n",
    "\n",
    "pd.read_csv(io.BytesIO(r.content))\n",
    "```\n",
    "\n",
    "You can also specify `startdate` and `stopdate` for your search:"
   ]
  },
  {
   "cell_type": "code",
   "execution_count": 20,
   "id": "64ef6e9c",
   "metadata": {},
   "outputs": [],
   "source": [
    "import requests\n",
    "import pandas as pd\n",
    "\n",
    "# Get all classified SN Ia from TNS between March 1st 2021 and March 5th 2021\n",
    "r = requests.post(\n",
    "  'https://fink-portal.org/api/v1/latests',\n",
    "  json={\n",
    "    'class': '(TNS) SN Ia',\n",
    "    'n': '100',\n",
    "    'startdate': '2021-03-01',\n",
    "    'stopdate': '2021-03-05'\n",
    "  }\n",
    ")\n",
    "\n",
    "# Format output in a DataFrame\n",
    "pdf = pd.read_json(r.content)"
   ]
  },
  {
   "cell_type": "markdown",
   "id": "178c5dad",
   "metadata": {},
   "source": [
    "Please, note this focuses on ALERTS, not OBJECTS, because the classification in Fink is done for alerts. If you then want to get the photometry for all objects, you need to query again the database using the `api/v1/objects` endpoint:"
   ]
  },
  {
   "cell_type": "code",
   "execution_count": 21,
   "id": "896ebe0c",
   "metadata": {},
   "outputs": [
    {
     "data": {
      "text/plain": [
       "'ZTF21aanyfqu'"
      ]
     },
     "execution_count": 21,
     "metadata": {},
     "output_type": "execute_result"
    }
   ],
   "source": [
    "pdf = pdf.sort_values('i:ndethist', ascending=True)\n",
    "my_alert = pdf['i:objectId'].values[0]\n",
    "my_alert"
   ]
  },
  {
   "cell_type": "code",
   "execution_count": 22,
   "id": "fb364bab",
   "metadata": {},
   "outputs": [],
   "source": [
    "# get data for ZTF21aaxtctv\n",
    "r = requests.post(\n",
    "    'https://fink-portal.org/api/v1/objects',\n",
    "    json={\n",
    "        'objectId': my_alert,\n",
    "        'withupperlim': 'True',\n",
    "        'output-format': 'json'\n",
    "    }\n",
    ")\n",
    "\n",
    "# Format output in a DataFrame\n",
    "pdf = pd.read_json(r.content)"
   ]
  },
  {
   "cell_type": "code",
   "execution_count": 23,
   "id": "c3c89bf8",
   "metadata": {},
   "outputs": [
    {
     "data": {
      "image/png": "[encoded data removed]",
      "text/plain": [
       "<Figure size 1080x432 with 1 Axes>"
      ]
     },
     "metadata": {
      "needs_background": "light"
     },
     "output_type": "display_data"
    }
   ],
   "source": [
    "plot_photometry(pdf)"
   ]
  },
  {
   "cell_type": "code",
   "execution_count": 24,
   "id": "7abe0bf6",
   "metadata": {},
   "outputs": [
    {
     "data": {
      "image/png": "[encoded data removed]",
      "text/plain": [
       "<Figure size 432x288 with 1 Axes>"
      ]
     },
     "metadata": {
      "needs_background": "light"
     },
     "output_type": "display_data"
    }
   ],
   "source": [
    "mask = pdf['d:tag'] == 'valid'\n",
    "plt.hist(pdf['v:classification'][mask].values);"
   ]
  },
  {
   "cell_type": "markdown",
   "id": "175394c4",
   "metadata": {},
   "source": [
    "## Retrieve Solar System Object data\n",
    "\n",
    "The list of arguments for retrieving SSO data can be found at https://fink-portal.org/api/v1/sso.\n",
    "The numbers or designations are taken from the MPC archive.\n",
    "When searching for a particular asteroid or comet, it is best to use the IAU number,\n",
    "as in 8467 for asteroid \"8467 Benoitcarry\". You can also try for numbered comet (e.g. 10P),\n",
    "or interstellar object (none so far...). If the number does not yet exist, you can search for designation.\n",
    "Here are some examples of valid queries:\n",
    "\n",
    "* Asteroids by number (default)\n",
    "  * Asteroids (Main Belt): 8467, 1922\n",
    "  * Asteroids (Hungarians): 18582, 77799\n",
    "  * Asteroids (Jupiter Trojans): 4501, 1583\n",
    "  * Asteroids (Mars Crossers): 302530\n",
    "* Asteroids by designation (if number does not exist yet)\n",
    "  * 2010JO69, 2017AD19, 2012XK111\n",
    "* Comets by number (default)\n",
    "  * 10P, 249P, 124P\n",
    "* Comets by designation (if number does no exist yet)\n",
    "  * C/2020V2, C/2020R2\n",
    "\n",
    "Note for designation, you can also use space (2010 JO69 or C/2020 V2).\n",
    "\n",
    "In a unix shell, you would simply use\n",
    "\n",
    "```bash\n",
    "# Get data for the asteroid 8467 and save it in a CSV file\n",
    "curl -H \"Content-Type: application/json\" -X POST -d '{\"n_or_d\":\"8467\", \"output-format\":\"csv\"}' https://fink-portal.org/api/v1/sso -o 8467.csv\n",
    "\n",
    "# you can also specify parameters in the URL, e.g. with wget:\n",
    "wget \"https://fink-portal.org/api/v1/sso?n_or_d=8467&output-format=json\" -O 8467.json\n",
    "```\n",
    "\n",
    "In python, you would use"
   ]
  },
  {
   "cell_type": "code",
   "execution_count": 25,
   "id": "13e5f890",
   "metadata": {},
   "outputs": [],
   "source": [
    "import requests\n",
    "import pandas as pd\n",
    "\n",
    "# get data for object 8467\n",
    "r = requests.post(\n",
    "  'https://fink-portal.org/api/v1/sso',\n",
    "  json={\n",
    "    'n_or_d': '8467',\n",
    "    'output-format': 'json'\n",
    "  }\n",
    ")\n",
    "\n",
    "# Format output in a DataFrame\n",
    "pdf = pd.read_json(r.content)"
   ]
  },
  {
   "cell_type": "markdown",
   "id": "a37924af",
   "metadata": {},
   "source": [
    "You can also attach the ephemerides provided by the [Miriade ephemeride service](https://ssp.imcce.fr/webservices/miriade/api/ephemcc/):"
   ]
  },
  {
   "cell_type": "code",
   "execution_count": 26,
   "id": "e7a1ad64",
   "metadata": {},
   "outputs": [
    {
     "name": "stdout",
     "output_type": "stream",
     "text": [
      "Index(['index', 'Date', 'LAST', 'HA', 'Az', 'H', 'Dobs', 'Dhelio', 'VMag',\n",
      "       'SDSS:g', 'SDSS:r', 'Phase', 'Elong.', 'AM', 'dRAcosDEC', 'dDEC', 'RV',\n",
      "       'RA', 'Dec', 'Longitude', 'Latitude', 'd:cdsxmatch', 'd:mulens',\n",
      "       'd:rf_kn_vs_nonkn', 'd:rf_snia_vs_nonia', 'd:roid', 'd:snn_sn_vs_all',\n",
      "       'd:snn_snia_vs_nonia', 'i:candid', 'i:chipsf', 'i:classtar', 'i:dec',\n",
      "       'i:diffmaglim', 'i:distnr', 'i:distpsnr1', 'i:drb', 'i:fid', 'i:field',\n",
      "       'i:isdiffpos', 'i:jd', 'i:jdendhist', 'i:jdstarthist', 'i:maggaia',\n",
      "       'i:magnr', 'i:magpsf', 'i:magzpsci', 'i:ndethist', 'i:neargaia',\n",
      "       'i:nid', 'i:nmtchps', 'i:objectId', 'i:publisher', 'i:ra', 'i:rb',\n",
      "       'i:rcid', 'i:sgscore1', 'i:sigmagnr', 'i:sigmapsf', 'i:ssdistnr',\n",
      "       'i:ssmagnr', 'i:ssnamenr', 'i:tooflag', 'i:xpos', 'i:ypos',\n",
      "       'd:tracklet', 'v:classification', 'v:lastdate', 'v:constellation',\n",
      "       'i:magpsf_red'],\n",
      "      dtype='object')\n"
     ]
    }
   ],
   "source": [
    "import requests\n",
    "import pandas as pd\n",
    "\n",
    "# get data for object 8467\n",
    "r = requests.post(\n",
    "  'https://fink-portal.org/api/v1/sso',\n",
    "  json={\n",
    "    'n_or_d': '8467',\n",
    "    'withEphem': True,\n",
    "    'output-format': 'json'\n",
    "  }\n",
    ")\n",
    "\n",
    "# Format output in a DataFrame\n",
    "pdf = pd.read_json(r.content)\n",
    "print(pdf.columns)"
   ]
  },
  {
   "cell_type": "markdown",
   "id": "e3740674",
   "metadata": {},
   "source": [
    "Where first columns are fields returned from Miriade (beware it adds few seconds delay).\n",
    "There are some limitations:\n",
    "\n",
    "    - Color ephemerides are returned only for asteroids\n",
    "    - Temporary designations (C/... or YYYY...) do not have ephemerides available\n",
    "\n",
    "See e.g. what we display at https://fink-portal.org/?query_type=SSO&n_or_d=8467\n",
    "\n",
    "By default, we transfer all available data fields (original ZTF fields and Fink science module outputs).\n",
    "But you can also choose to transfer only a subset of the fields to speed-up the query:"
   ]
  },
  {
   "cell_type": "code",
   "execution_count": 27,
   "id": "d1829760",
   "metadata": {},
   "outputs": [],
   "source": [
    "# select only jd, and magpsf\n",
    "r = requests.post(\n",
    "  'https://fink-portal.org/api/v1/sso',\n",
    "  json={\n",
    "    'n_or_d': '8467',\n",
    "    'columns': 'i:jd,i:magpsf'\n",
    "  }\n",
    ")"
   ]
  },
  {
   "cell_type": "markdown",
   "id": "993eabf3",
   "metadata": {},
   "source": [
    "## Retrieve tracklet data\n",
    "\n",
    "The list of arguments for retrieving tracklet data can be found at https://fink-portal.org/api/v1/tracklet.\n",
    "\n",
    "Each night there are a lot of fast moving objects seen in single exposures (or a few).\n",
    "These objects usually leave discrete tracks (several connected dots), that we call tracklets.\n",
    "The magnitude is rather low, and their magnitude can oscillate (e.g. rotating objects).\n",
    "This is somehow similar to solar system object, expect that these objects\n",
    "seem mainly man-made, they are fast moving, and they typically orbit around the Earth (this\n",
    "is also tighted to the detection method we use).\n",
    "\n",
    "In order to get tracklet data, you need to specify the date in the format `YYYY-MM-DD hh:mm:ss`.\n",
    "Note you can also specify bigger interval, e.g. `YYYY-MM-DD` to get all tracklets for one day,\n",
    "or `YYYY-MM-DD hh` to get all tracklets for one hour.\n",
    "\n",
    "In a unix shell, you would simply use\n",
    "\n",
    "```bash\n",
    "# Get tracklet data for the night 2021-08-10\n",
    "curl -H \"Content-Type: application/json\" -X POST -d '{\"date\":\"2021-08-10\", \"output-format\":\"csv\"}' https://fink-portal.org/api/v1/tracklet -o trck_20210810.csv\n",
    "\n",
    "# you can also specify parameters in the URL, e.g. with wget:\n",
    "wget \"https://fink-portal.org/api/v1/tracklet?date=2021-08-10&output-format=json\" -O trck_20210810.json\n",
    "```\n",
    "\n",
    "In python, you would use"
   ]
  },
  {
   "cell_type": "code",
   "execution_count": 28,
   "id": "45cbb733",
   "metadata": {},
   "outputs": [],
   "source": [
    "import requests\n",
    "import pandas as pd\n",
    "\n",
    "# Get all tracklet data for the night 2021-08-10\n",
    "r = requests.post(\n",
    "  'https://fink-portal.org/api/v1/tracklet',\n",
    "  json={\n",
    "    'date': '2021-08-10',\n",
    "    'output-format': 'json'\n",
    "  }\n",
    ")\n",
    "\n",
    "# Format output in a DataFrame\n",
    "pdf = pd.read_json(r.content)"
   ]
  },
  {
   "cell_type": "markdown",
   "id": "abbb6dba",
   "metadata": {},
   "source": [
    "You can also specify up to the second if you know the exposure time:"
   ]
  },
  {
   "cell_type": "code",
   "execution_count": 29,
   "id": "e8390421",
   "metadata": {},
   "outputs": [],
   "source": [
    "# Get tracklet data TRCK_20211022_091949\n",
    "r = requests.post(\n",
    "  'https://fink-portal.org/api/v1/tracklet',\n",
    "  json={\n",
    "    'id': '2021-10-22 09:19:49',\n",
    "    'output-format': 'json'\n",
    "  }\n",
    ")"
   ]
  },
  {
   "cell_type": "markdown",
   "id": "27e303b4",
   "metadata": {},
   "source": [
    "Finally if there are several tracklets in one exposure, you can select the one you want:"
   ]
  },
  {
   "cell_type": "code",
   "execution_count": 30,
   "id": "cb7ef5f5",
   "metadata": {},
   "outputs": [],
   "source": [
    "# Get first tracklet TRCK_20211022_091949_00\n",
    "r = requests.post(\n",
    "  'https://fink-portal.org/api/v1/tracklet',\n",
    "  json={\n",
    "    'id': '2021-10-22 09:19:49 00',\n",
    "    'output-format': 'json'\n",
    "  }\n",
    ")"
   ]
  },
  {
   "cell_type": "markdown",
   "id": "b624a3ca",
   "metadata": {},
   "source": [
    "They are ordered by two digits 00, 01, 02, ..."
   ]
  },
  {
   "cell_type": "markdown",
   "id": "483ff418",
   "metadata": {},
   "source": [
    "## Fink data statistics\n",
    "\n",
    "The [statistics](https://fink-portal.org/stats) page makes use of the REST API.\n",
    "If you want to further explore Fink statistics, or create your own dashboard based on Fink data,\n",
    "you can do also all of these yourself using the REST API. Here is an example using Python:"
   ]
  },
  {
   "cell_type": "code",
   "execution_count": 31,
   "id": "20174722",
   "metadata": {},
   "outputs": [],
   "source": [
    "import requests\n",
    "import pandas as pd\n",
    "\n",
    "# get stats for all the year 2021\n",
    "r = requests.post(\n",
    "  'https://fink-portal.org/api/v1/statistics',\n",
    "  json={\n",
    "    'date': '2021',\n",
    "    'output-format': 'json'\n",
    "  }\n",
    ")\n",
    "\n",
    "# Format output in a DataFrame\n",
    "pdf = pd.read_json(r.content)"
   ]
  },
  {
   "cell_type": "markdown",
   "id": "1525e2c0",
   "metadata": {},
   "source": [
    "Note `date` can be either a given night (YYYYMMDD), month (YYYYMM), year (YYYY), or eveything (empty string).\n",
    "The schema of the dataframe is the following:"
   ]
  },
  {
   "cell_type": "code",
   "execution_count": 32,
   "id": "54f75fdb",
   "metadata": {},
   "outputs": [],
   "source": [
    "dic_names = {\n",
    "    'basic:night': 'Observation date',\n",
    "    'basic:raw': 'Number of alerts received',\n",
    "    'basic:sci': 'Number of alerts processed (passing quality cuts)',\n",
    "    'basic:n_g': 'Number of measurements in the g band',\n",
    "    'basic:n_r': 'Number of measurements in the r band',\n",
    "    'basic:exposures': 'Number of exposures (30 seconds)',\n",
    "    'basic:fields': 'Number of fields visited',\n",
    "    'class:simbad_tot': 'Number of alerts with a counterpart in SIMBAD',\n",
    "    'class:simbad_gal': 'Number of alerts with a close-by candidate host-galaxy in SIMBAD',\n",
    "    'class:Solar System MPC': 'Number of alerts with a counterpart in MPC (SSO)',\n",
    "    'class:SN candidate': 'Number of alerts classified as SN by Fink',\n",
    "    'class:Early SN Ia candidate': 'Number of alerts classified as early SN Ia by Fink',\n",
    "    'class:Kilonova candidate': 'Number of alerts classified as Kilonova by Fink',\n",
    "    'class:Microlensing candidate': 'Number of alerts classified as Microlensing by Fink',\n",
    "    'class:SN candidate': 'Number of alerts classified as SN by Fink',\n",
    "    'class:Solar System candidate': 'Number of alerts classified as SSO candidates by Fink',\n",
    "    'class:Tracklet': 'Number of alerts classified as satelitte glints or space debris by Fink',\n",
    "    'class:Unknown': 'Number of alerts without classification'\n",
    "}"
   ]
  },
  {
   "cell_type": "markdown",
   "id": "52c3aa5d",
   "metadata": {},
   "source": [
    "All other fields starting with `class:` are crossmatch from the SIMBAD database."
   ]
  },
  {
   "cell_type": "code",
   "execution_count": null,
   "id": "2d07f682",
   "metadata": {},
   "outputs": [],
   "source": []
  }
 ],
 "metadata": {
  "kernelspec": {
   "display_name": "Python 3",
   "language": "python",
   "name": "python3"
  },
  "language_info": {
   "codemirror_mode": {
    "name": "ipython",
    "version": 3
   },
   "file_extension": ".py",
   "mimetype": "text/x-python",
   "name": "python",
   "nbconvert_exporter": "python",
   "pygments_lexer": "ipython3",
   "version": "3.7.11"
  }
 },
 "nbformat": 4,
 "nbformat_minor": 5
}
