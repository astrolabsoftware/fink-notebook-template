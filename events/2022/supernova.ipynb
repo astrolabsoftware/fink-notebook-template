{
 "cells": [
  {
   "cell_type": "markdown",
   "id": "3b652c1e",
   "metadata": {},
   "source": [
    "# <img src=\"../../Fink_PrimaryLogo_WEB.jpg\" width=400 />\n",
    "\n",
    "# Fink case study: supernovae"
   ]
  },
  {
   "cell_type": "markdown",
   "id": "e238f6f3",
   "metadata": {},
   "source": [
    "## Goal\n",
    "\n",
    "The goal of this notebook is to show how Fink can contribute to supernova science. \n",
    "\n",
    "Real-time analysis for follow-up coordination will be better done through the Fink livestreams which processes and makes available the alert data within minutes of reception. Access through this notebook uses the API access which is not real-time based. We aggregate the data into our API and Science Portal database at the end of each observing night. API access can be useful to analyze last night and older alerts. \n",
    "\n",
    "In this notebook you will find examples on:\n",
    "- Early SNe Ia candidates from Fink\n",
    "- Summary statistics of early SNe Ia filter"
   ]
  },
  {
   "cell_type": "markdown",
   "id": "a1c2627f",
   "metadata": {},
   "source": [
    "## Useful links\n",
    "\n",
    "- API documentation: https://fink-portal.org/api\n",
    "- Schema of Fink database: https://fink-portal.org/api/v1/columns\n",
    "- CDS xmatch service: http://cdsxmatch.u-strasbg.fr/xmatch\n",
    "- SIMBAD description of classes: http://simbad.u-strasbg.fr/simbad/sim-display?data=otypes"
   ]
  },
  {
   "cell_type": "markdown",
   "id": "30c3d465",
   "metadata": {},
   "source": [
    "## Environment set up\n",
    "\n",
    "To run this notebook, you need to import the following libraries (already installed in colab):"
   ]
  },
  {
   "cell_type": "code",
   "execution_count": 1,
   "id": "ad697720",
   "metadata": {},
   "outputs": [],
   "source": [
    "import requests\n",
    "import numpy as np\n",
    "import pandas as pd\n",
    "import matplotlib.pyplot as plt\n",
    "\n",
    "APIURL = 'https://fink-portal.org'"
   ]
  },
  {
   "cell_type": "markdown",
   "id": "f1dedab4",
   "metadata": {},
   "source": [
    "# Early SNe Ia\n",
    "\n",
    "**Early supernova candidates is a tag defined and provided by Fink.** \n",
    "It requires that the alert has no known transient association (from SIMBAD catalogue), it is relatively new (number of previous detections < 20) and when both a [SuperNNova](https://github.com/supernnova/SuperNNova) [(Möller & de Boissière 2019)](https://academic.oup.com/mnras/article-abstract/491/3/4277/5651173) trained to identify SNe Ia or SNe and a Random Forest (Leoni et al. in prep.) based on [(Ishida et al. 2019b)](https://ui.adsabs.harvard.edu/abs/2019MNRAS.483....2I/abstract) trained to select early supernovae have a probability higher than 50% of this object being a SN.\n",
    "\n",
    "Currently, we are reporting to the International Astronomical Union Transient Name Server (TNS) our early SN Ia candidates https://www.wis-tns.org"
   ]
  },
  {
   "cell_type": "markdown",
   "id": "f4cde5b7",
   "metadata": {},
   "source": [
    "We will query the **latests alerts wich are classified as Early SN candidates**. In Fink we process alerts, an object can contain several alerts (linked to observations)."
   ]
  },
  {
   "cell_type": "code",
   "execution_count": 2,
   "id": "803ca286",
   "metadata": {},
   "outputs": [],
   "source": [
    "r = requests.post(\n",
    "  '{}/api/v1/latests'.format(APIURL),\n",
    "  json={\n",
    "    'class': 'Early SN Ia candidate',\n",
    "    'n': '10', # number of alerts (200 max)\n",
    "  }\n",
    ")\n",
    "\n",
    "# Format output in a DataFrame\n",
    "pdf = pd.read_json(r.content)"
   ]
  },
  {
   "cell_type": "markdown",
   "id": "ac978600",
   "metadata": {},
   "source": [
    "You will get a pandas DataFrame with the column schema from https://fink-portal.org/api/v1/columns. To check the columns:"
   ]
  },
  {
   "cell_type": "code",
   "execution_count": 3,
   "id": "e41de57f",
   "metadata": {},
   "outputs": [
    {
     "data": {
      "text/plain": [
       "Index(['d:cdsxmatch', 'd:mulens', 'd:rf_kn_vs_nonkn', 'd:rf_snia_vs_nonia',\n",
       "       'd:roid', 'd:snn_sn_vs_all', 'd:snn_snia_vs_nonia', 'i:candid',\n",
       "       'i:chipsf', 'i:classtar', 'i:dec', 'i:diffmaglim', 'i:distnr',\n",
       "       'i:distpsnr1', 'i:drb', 'i:fid', 'i:field', 'i:isdiffpos', 'i:jd',\n",
       "       'i:jdendhist', 'i:jdstarthist', 'i:maggaia', 'i:magnr', 'i:magpsf',\n",
       "       'i:magzpsci', 'i:ndethist', 'i:neargaia', 'i:nid', 'i:nmtchps',\n",
       "       'i:objectId', 'i:publisher', 'i:ra', 'i:rb', 'i:rcid', 'i:sgscore1',\n",
       "       'i:sigmagnr', 'i:sigmapsf', 'i:ssdistnr', 'i:ssmagnr', 'i:ssnamenr',\n",
       "       'i:tooflag', 'i:xpos', 'i:ypos', 'd:tracklet', 'v:classification',\n",
       "       'v:lastdate', 'v:constellation'],\n",
       "      dtype='object')"
      ]
     },
     "execution_count": 3,
     "metadata": {},
     "output_type": "execute_result"
    }
   ],
   "source": [
    "pdf.keys()"
   ]
  },
  {
   "cell_type": "markdown",
   "id": "07b085a5",
   "metadata": {},
   "source": [
    "###  <font color='blue'>Tip #1:</font> reproducibility\n",
    "Thsi query return the **latests** alerts on this class. You may want to fix a date range to ensure reproducibility of results"
   ]
  },
  {
   "cell_type": "code",
   "execution_count": 4,
   "id": "6706a3d2",
   "metadata": {},
   "outputs": [],
   "source": [
    "r = requests.post(\n",
    "  '{}/api/v1/latests'.format(APIURL),\n",
    "  json={\n",
    "    'class': 'Early SN Ia candidate',\n",
    "    'n': '10', # number of alerts (200 max)\n",
    "    'startdate': '2021-04-01', # use a start date\n",
    "    'stopdate': '2021-04-13', # use a stop date\n",
    "  }\n",
    ")\n",
    "\n",
    "# Format output in a DataFrame\n",
    "pdf = pd.read_json(r.content)"
   ]
  },
  {
   "cell_type": "markdown",
   "id": "c6930cb7",
   "metadata": {},
   "source": [
    "###  <font color='blue'>Tip #2:</font> faster querying \n",
    "This data frame contains many columns that you may not need. To make this query run faster we can easily set up a query with a limited number of columns!"
   ]
  },
  {
   "cell_type": "code",
   "execution_count": 5,
   "id": "1817ed2c",
   "metadata": {},
   "outputs": [],
   "source": [
    "r = requests.post(\n",
    "  '{}/api/v1/latests'.format(APIURL),\n",
    "  json={\n",
    "    'class': 'Early SN Ia candidate',\n",
    "    'n': '10', # number of alerts (200 max)\n",
    "    'startdate': '2021-04-01', # use a start date\n",
    "    'stopdate': '2021-04-13', # use a stop date\n",
    "    'columns': 'i:objectId,d:cdsxmatch,d:rf_snia_vs_nonia,d:snn_snia_vs_nonia,d:snn_sn_vs_all',\n",
    "  }\n",
    ")\n",
    "\n",
    "# Format output in a DataFrame\n",
    "pdf = pd.read_json(r.content)"
   ]
  },
  {
   "cell_type": "code",
   "execution_count": 6,
   "id": "bc01c648",
   "metadata": {},
   "outputs": [
    {
     "data": {
      "text/html": [
       "<div>\n",
       "<style scoped>\n",
       "    .dataframe tbody tr th:only-of-type {\n",
       "        vertical-align: middle;\n",
       "    }\n",
       "\n",
       "    .dataframe tbody tr th {\n",
       "        vertical-align: top;\n",
       "    }\n",
       "\n",
       "    .dataframe thead th {\n",
       "        text-align: right;\n",
       "    }\n",
       "</style>\n",
       "<table border=\"1\" class=\"dataframe\">\n",
       "  <thead>\n",
       "    <tr style=\"text-align: right;\">\n",
       "      <th></th>\n",
       "      <th>d:cdsxmatch</th>\n",
       "      <th>d:rf_snia_vs_nonia</th>\n",
       "      <th>d:snn_sn_vs_all</th>\n",
       "      <th>d:snn_snia_vs_nonia</th>\n",
       "      <th>i:objectId</th>\n",
       "    </tr>\n",
       "  </thead>\n",
       "  <tbody>\n",
       "    <tr>\n",
       "      <th>0</th>\n",
       "      <td>Unknown</td>\n",
       "      <td>0.957</td>\n",
       "      <td>0.787708</td>\n",
       "      <td>0.880269</td>\n",
       "      <td>ZTF21aarmkuj</td>\n",
       "    </tr>\n",
       "    <tr>\n",
       "      <th>1</th>\n",
       "      <td>Unknown</td>\n",
       "      <td>0.751</td>\n",
       "      <td>0.604498</td>\n",
       "      <td>0.736482</td>\n",
       "      <td>ZTF21aatitlf</td>\n",
       "    </tr>\n",
       "    <tr>\n",
       "      <th>2</th>\n",
       "      <td>Unknown</td>\n",
       "      <td>0.941</td>\n",
       "      <td>0.984186</td>\n",
       "      <td>0.872538</td>\n",
       "      <td>ZTF21aaqxiaj</td>\n",
       "    </tr>\n",
       "    <tr>\n",
       "      <th>3</th>\n",
       "      <td>Unknown</td>\n",
       "      <td>0.668</td>\n",
       "      <td>0.909120</td>\n",
       "      <td>0.882660</td>\n",
       "      <td>ZTF21aaquhqr</td>\n",
       "    </tr>\n",
       "    <tr>\n",
       "      <th>4</th>\n",
       "      <td>Unknown</td>\n",
       "      <td>0.657</td>\n",
       "      <td>0.909349</td>\n",
       "      <td>0.883286</td>\n",
       "      <td>ZTF21aaquhqr</td>\n",
       "    </tr>\n",
       "    <tr>\n",
       "      <th>5</th>\n",
       "      <td>Unknown</td>\n",
       "      <td>0.922</td>\n",
       "      <td>0.874443</td>\n",
       "      <td>0.706066</td>\n",
       "      <td>ZTF21aassamj</td>\n",
       "    </tr>\n",
       "    <tr>\n",
       "      <th>6</th>\n",
       "      <td>Unknown</td>\n",
       "      <td>0.622</td>\n",
       "      <td>0.751971</td>\n",
       "      <td>0.692514</td>\n",
       "      <td>ZTF21aarskup</td>\n",
       "    </tr>\n",
       "    <tr>\n",
       "      <th>7</th>\n",
       "      <td>Unknown</td>\n",
       "      <td>0.823</td>\n",
       "      <td>0.759206</td>\n",
       "      <td>0.671824</td>\n",
       "      <td>ZTF21aaswvyc</td>\n",
       "    </tr>\n",
       "    <tr>\n",
       "      <th>8</th>\n",
       "      <td>Unknown</td>\n",
       "      <td>0.698</td>\n",
       "      <td>0.835022</td>\n",
       "      <td>0.818026</td>\n",
       "      <td>ZTF21aarskup</td>\n",
       "    </tr>\n",
       "    <tr>\n",
       "      <th>9</th>\n",
       "      <td>Unknown</td>\n",
       "      <td>0.973</td>\n",
       "      <td>0.677686</td>\n",
       "      <td>0.787034</td>\n",
       "      <td>ZTF21aassamj</td>\n",
       "    </tr>\n",
       "  </tbody>\n",
       "</table>\n",
       "</div>"
      ],
      "text/plain": [
       "  d:cdsxmatch  d:rf_snia_vs_nonia  d:snn_sn_vs_all  d:snn_snia_vs_nonia  \\\n",
       "0     Unknown               0.957         0.787708             0.880269   \n",
       "1     Unknown               0.751         0.604498             0.736482   \n",
       "2     Unknown               0.941         0.984186             0.872538   \n",
       "3     Unknown               0.668         0.909120             0.882660   \n",
       "4     Unknown               0.657         0.909349             0.883286   \n",
       "5     Unknown               0.922         0.874443             0.706066   \n",
       "6     Unknown               0.622         0.751971             0.692514   \n",
       "7     Unknown               0.823         0.759206             0.671824   \n",
       "8     Unknown               0.698         0.835022             0.818026   \n",
       "9     Unknown               0.973         0.677686             0.787034   \n",
       "\n",
       "     i:objectId  \n",
       "0  ZTF21aarmkuj  \n",
       "1  ZTF21aatitlf  \n",
       "2  ZTF21aaqxiaj  \n",
       "3  ZTF21aaquhqr  \n",
       "4  ZTF21aaquhqr  \n",
       "5  ZTF21aassamj  \n",
       "6  ZTF21aarskup  \n",
       "7  ZTF21aaswvyc  \n",
       "8  ZTF21aarskup  \n",
       "9  ZTF21aassamj  "
      ]
     },
     "execution_count": 6,
     "metadata": {},
     "output_type": "execute_result"
    }
   ],
   "source": [
    "pdf"
   ]
  },
  {
   "cell_type": "markdown",
   "id": "6ccbb35b",
   "metadata": {},
   "source": [
    "### Get photometry\n",
    "\n",
    "The `latests` service will give you latests alerts associated to a particular class, but you will not have the full photometry of each object and its thumbnails. For this, you can query the `objects` service using a previously returned `objectId`\n",
    "\n",
    "You can query one by one object or do a request in a loop to get many"
   ]
  },
  {
   "cell_type": "code",
   "execution_count": 7,
   "id": "6c092b5a",
   "metadata": {},
   "outputs": [
    {
     "name": "stdout",
     "output_type": "stream",
     "text": [
      "Get photometry of ZTF21aarmkuj\n"
     ]
    }
   ],
   "source": [
    "cand_objId = pdf['i:objectId'][0]\n",
    "print(f\"Get photometry of {cand_objId}\")"
   ]
  },
  {
   "cell_type": "code",
   "execution_count": 8,
   "id": "693c875e",
   "metadata": {},
   "outputs": [],
   "source": [
    "# Get alerts associated with an specific object ID\n",
    "r = requests.post(\n",
    "  'https://fink-portal.org/api/v1/objects',\n",
    "  json={\n",
    "    'objectId': cand_objId, # this is the object ID of this candidate\n",
    "    'withupperlim': 'True', # retrieve also upper limit measurements, and bad quality measurements\n",
    "  }\n",
    ")\n",
    "\n",
    "# Format output in a DataFrame\n",
    "pdf_phot_single_obj = pd.read_json(r.content)"
   ]
  },
  {
   "cell_type": "code",
   "execution_count": 9,
   "id": "af94e800",
   "metadata": {},
   "outputs": [
    {
     "data": {
      "text/plain": [
       "Index(['b:cutoutDifference_stampData', 'b:cutoutScience_stampData',\n",
       "       'b:cutoutTemplate_stampData', 'd:cdsxmatch', 'd:mulens', 'd:nalerthist',\n",
       "       'd:rf_kn_vs_nonkn', 'd:rf_snia_vs_nonia', 'd:roid', 'd:snn_sn_vs_all',\n",
       "       ...\n",
       "       'v:classification', 'v:g-r', 'v:rate(g-r)', 'v:dg', 'v:rate(dg)',\n",
       "       'v:dr', 'v:rate(dr)', 'v:lastdate', 'v:constellation', 'd:tag'],\n",
       "      dtype='object', length=130)"
      ]
     },
     "execution_count": 9,
     "metadata": {},
     "output_type": "execute_result"
    }
   ],
   "source": [
    "pdf_phot_single_obj.keys()"
   ]
  },
  {
   "cell_type": "markdown",
   "id": "095ddec0",
   "metadata": {},
   "source": [
    "### Plot light-curve for visualization\n",
    "\n",
    "See the example on http://fink-portal.org/api to plot full lightcurve with layout template.  We implement here an useful function for plotting light-curves in this notebook."
   ]
  },
  {
   "cell_type": "code",
   "execution_count": 10,
   "id": "7eacb955",
   "metadata": {},
   "outputs": [],
   "source": [
    "def plot_lc(pdf):\n",
    "    \"\"\" Plot photometry contains in an alert\n",
    "    \n",
    "    Parameters\n",
    "    ----------\n",
    "    pdf: pandas DataFrame\n",
    "        Pandas DataFrame with single alert row\n",
    "    \"\"\"\n",
    "    fig = plt.figure(figsize=(15, 6))\n",
    "\n",
    "    # Colors to plot\n",
    "    colordic = {1: 'C0', 2: 'C1'}\n",
    "\n",
    "    # Labels of ZTF filters\n",
    "    filtdic = {1: 'g', 2: 'r'}\n",
    "\n",
    "    for filt in np.unique(pdf['i:fid']):\n",
    "        # select data from one filter at a time\n",
    "        maskFilt = pdf['i:fid'] == filt\n",
    "\n",
    "        # The column `d:tag` is used to check data type\n",
    "        maskValid = pdf['d:tag'] == 'valid'\n",
    "        plt.errorbar(\n",
    "            pdf[maskValid & maskFilt]['i:jd'].apply(lambda x: x - 2400000.5),\n",
    "            pdf[maskValid & maskFilt]['i:magpsf'],\n",
    "            pdf[maskValid & maskFilt]['i:sigmapsf'],\n",
    "            ls = '', marker='o', color=colordic[filt], label=filtdic[filt]\n",
    "        )\n",
    "\n",
    "        maskUpper = pdf['d:tag'] == 'upperlim'\n",
    "        plt.plot(\n",
    "            pdf[maskUpper & maskFilt]['i:jd'].apply(lambda x: x - 2400000.5),\n",
    "            pdf[maskUpper & maskFilt]['i:diffmaglim'],\n",
    "            ls='', marker='v', color=colordic[filt], markerfacecolor='none'\n",
    "        )\n",
    "\n",
    "        maskBadquality = pdf['d:tag'] == 'badquality'\n",
    "        plt.errorbar(\n",
    "            pdf[maskBadquality & maskFilt]['i:jd'].apply(lambda x: x - 2400000.5),\n",
    "            pdf[maskBadquality & maskFilt]['i:magpsf'],\n",
    "            pdf[maskBadquality & maskFilt]['i:sigmapsf'],\n",
    "            ls='', marker='^', color=colordic[filt]\n",
    "        )\n",
    "\n",
    "    plt.gca().invert_yaxis()\n",
    "    plt.legend()\n",
    "    plt.title(pdf['i:objectId'][0])\n",
    "    plt.xlabel('Modified Julian Date')\n",
    "    plt.ylabel('Magnitude')\n",
    "    plt.show()\n",
    "    msg = \"\"\"\n",
    "    - Circles (●) with error bars show valid alerts that pass the Fink quality cuts. \n",
    "    - Upper triangles with errors (▲), represent alert measurements that do not satisfy Fink quality cuts, but are nevetheless contained in the history of valid alerts and used by classifiers.\n",
    "    - Lower triangles (▽), represent 5-sigma mag limit in difference image based on PSF-fit photometry contained in the history of valid alerts.\n",
    "    \"\"\"\n",
    "    print(msg)"
   ]
  },
  {
   "cell_type": "code",
   "execution_count": 11,
   "id": "e873ceab",
   "metadata": {},
   "outputs": [
    {
     "data": {
      "image/png": "[encoded data removed]",
      "text/plain": [
       "<Figure size 1080x432 with 1 Axes>"
      ]
     },
     "metadata": {
      "needs_background": "light"
     },
     "output_type": "display_data"
    },
    {
     "name": "stdout",
     "output_type": "stream",
     "text": [
      "\n",
      "    - Circles (●) with error bars show valid alerts that pass the Fink quality cuts. \n",
      "    - Upper triangles with errors (▲), represent alert measurements that do not satisfy Fink quality cuts, but are nevetheless contained in the history of valid alerts and used by classifiers.\n",
      "    - Lower triangles (▽), represent 5-sigma mag limit in difference image based on PSF-fit photometry contained in the history of valid alerts.\n",
      "    \n"
     ]
    }
   ],
   "source": [
    "plot_lc(pdf_phot_single_obj)"
   ]
  },
  {
   "cell_type": "markdown",
   "id": "8e4707ab",
   "metadata": {},
   "source": [
    "### Was this object spectroscopically classified?\n",
    "\n",
    "We report SN Ia candidates, however to confirm they are SNe Ia we need a realiable classification mechanism. \n",
    "\n",
    "We can now query International Astronomical Union Transient Name Server (TNS) for spectroscopic classifications of transients. Fink contains now a class '(TNS) SN Ia' for all spectrsocopically classified SNe Ia "
   ]
  },
  {
   "cell_type": "code",
   "execution_count": 12,
   "id": "b84ea5ed",
   "metadata": {},
   "outputs": [],
   "source": [
    "r = requests.post(\n",
    "  '{}/api/v1/latests'.format(APIURL),\n",
    "  json={\n",
    "    'class': '(TNS) SN Ia',\n",
    "    'n': '200', # number of alerts (200 max)\n",
    "    'startdate': '2021-04-01', # use a start date\n",
    "    'stopdate': '2021-04-15', # use a stop date\n",
    "    'columns': 'i:objectId,d:cdsxmatch,d:rf_snia_vs_nonia,d:snn_snia_vs_nonia,d:snn_sn_vs_all',\n",
    "  }\n",
    ")\n",
    "\n",
    "# Format output in a DataFrame\n",
    "pdf_tns = pd.read_json(r.content)"
   ]
  },
  {
   "cell_type": "code",
   "execution_count": 13,
   "id": "25fe95dc",
   "metadata": {},
   "outputs": [],
   "source": [
    "# fetch objIds of spectroscopic SNe Ia\n",
    "tns_objId = pdf_tns['i:objectId'].values"
   ]
  },
  {
   "cell_type": "markdown",
   "id": "afaecac5",
   "metadata": {},
   "source": [
    "Check if the object plotted above (cand_objId) was spectroscopically classified\n",
    "# FIX ME!"
   ]
  },
  {
   "cell_type": "code",
   "execution_count": 14,
   "id": "8011a9f8",
   "metadata": {},
   "outputs": [
    {
     "data": {
      "text/plain": [
       "[]"
      ]
     },
     "execution_count": 14,
     "metadata": {},
     "output_type": "execute_result"
    }
   ],
   "source": [
    "# if the objectId is in the list this will return it\n",
    "[s for s in tns_objId if cand_objId in s]"
   ]
  },
  {
   "cell_type": "markdown",
   "id": "7361b26c",
   "metadata": {},
   "source": [
    "**This object was later classified spectroscopically as a type SN!**\n"
   ]
  },
  {
   "cell_type": "markdown",
   "id": "12b1b28e",
   "metadata": {},
   "source": [
    "# Summary statistics of early SNe Ia filter\n",
    "Until now, we have only analysed either latest alerts or an specific object. It may be useful to get some summary statistics of this filter in Fink. To do so, we can use another request in the API. "
   ]
  },
  {
   "cell_type": "code",
   "execution_count": 15,
   "id": "3817e456",
   "metadata": {},
   "outputs": [],
   "source": [
    "# get stats for all the year 2021\n",
    "r = requests.post(\n",
    "  'https://fink-portal.org/api/v1/statistics',\n",
    "  json={\n",
    "    'date': '2021',\n",
    "    'output-format': 'json'\n",
    "  }\n",
    ")\n",
    "# Format output in a DataFrame\n",
    "pdf_stats = pd.read_json(r.content)"
   ]
  },
  {
   "cell_type": "markdown",
   "id": "b55aab44",
   "metadata": {},
   "source": [
    "This dataframe is organized by observing night for this year. Where 'key:key' is the ztf date and 'key:time' the integer time"
   ]
  },
  {
   "cell_type": "code",
   "execution_count": 16,
   "id": "49ab6e27",
   "metadata": {},
   "outputs": [
    {
     "data": {
      "text/plain": [
       "['basic:exposures',\n",
       " 'basic:fields',\n",
       " 'basic:n_g',\n",
       " 'basic:n_r',\n",
       " 'basic:raw',\n",
       " 'basic:sci',\n",
       " 'class:**',\n",
       " 'class:AGB*',\n",
       " 'class:AGN',\n",
       " 'class:AGN_Candidate',\n",
       " 'class:Ae*',\n",
       " 'class:Ambiguous',\n",
       " 'class:Assoc*',\n",
       " 'class:BClG',\n",
       " 'class:BLLac',\n",
       " 'class:BLLac_Candidate',\n",
       " 'class:BYDra',\n",
       " 'class:Be*',\n",
       " 'class:Blazar',\n",
       " 'class:Blazar_Candidate',\n",
       " 'class:Blue',\n",
       " 'class:BlueCompG',\n",
       " 'class:BlueSG*',\n",
       " 'class:BlueStraggler',\n",
       " 'class:Bubble',\n",
       " 'class:C*',\n",
       " 'class:Candidate_AGB*',\n",
       " 'class:Candidate_Ae*',\n",
       " 'class:Candidate_BSG*',\n",
       " 'class:Candidate_Be*',\n",
       " 'class:Candidate_C*',\n",
       " 'class:Candidate_CV*',\n",
       " 'class:Candidate_Cepheid',\n",
       " 'class:Candidate_EB*',\n",
       " 'class:Candidate_HB*',\n",
       " 'class:Candidate_HMXB',\n",
       " 'class:Candidate_Hsd',\n",
       " 'class:Candidate_LMXB',\n",
       " 'class:Candidate_LP*',\n",
       " 'class:Candidate_Lens',\n",
       " 'class:Candidate_LensSystem',\n",
       " 'class:Candidate_Mi*',\n",
       " 'class:Candidate_Nova',\n",
       " 'class:Candidate_RGB*',\n",
       " 'class:Candidate_RRLyr',\n",
       " 'class:Candidate_RSG*',\n",
       " 'class:Candidate_S*',\n",
       " 'class:Candidate_SG*',\n",
       " 'class:Candidate_SN*',\n",
       " 'class:Candidate_Symb*',\n",
       " 'class:Candidate_TTau*',\n",
       " 'class:Candidate_WD*',\n",
       " 'class:Candidate_WR*',\n",
       " 'class:Candidate_XB*',\n",
       " 'class:Candidate_YSG*',\n",
       " 'class:Candidate_YSO',\n",
       " 'class:Candidate_brownD*',\n",
       " 'class:Candidate_low-mass*',\n",
       " 'class:Candidate_post-AGB*',\n",
       " 'class:CataclyV*',\n",
       " 'class:Cepheid',\n",
       " 'class:Cl*',\n",
       " 'class:Cl*?',\n",
       " 'class:ClG',\n",
       " 'class:Compact_Gr_G',\n",
       " 'class:DkNeb',\n",
       " 'class:EB*',\n",
       " 'class:Early SN Ia candidate',\n",
       " 'class:EllipVar',\n",
       " 'class:Em*',\n",
       " 'class:EmG',\n",
       " 'class:EmObj',\n",
       " 'class:Erupt*RCrB',\n",
       " 'class:Eruptive*',\n",
       " 'class:FIR',\n",
       " 'class:GalNeb',\n",
       " 'class:Galaxy',\n",
       " 'class:GinCl',\n",
       " 'class:GinGroup',\n",
       " 'class:GinPair',\n",
       " 'class:GlCl',\n",
       " 'class:GlCl?',\n",
       " 'class:Globule',\n",
       " 'class:GravLens',\n",
       " 'class:GravLensSystem',\n",
       " 'class:GroupG',\n",
       " 'class:HB*',\n",
       " 'class:HH',\n",
       " 'class:HI',\n",
       " 'class:HII',\n",
       " 'class:HII_G',\n",
       " 'class:HIshell',\n",
       " 'class:HMXB',\n",
       " 'class:HV*',\n",
       " 'class:HVCld',\n",
       " 'class:HotSubdwarf',\n",
       " 'class:IG',\n",
       " 'class:IR',\n",
       " 'class:ISM',\n",
       " 'class:Inexistent',\n",
       " 'class:Irregular_V*',\n",
       " 'class:Kilonova candidate',\n",
       " 'class:LINER',\n",
       " 'class:LMXB',\n",
       " 'class:LPV*',\n",
       " 'class:LSB_G',\n",
       " 'class:LensedG',\n",
       " 'class:LensedImage',\n",
       " 'class:LensedQ',\n",
       " 'class:LensingEv',\n",
       " 'class:MIR',\n",
       " 'class:Maser',\n",
       " 'class:Microlensing candidate',\n",
       " 'class:Mira',\n",
       " 'class:MolCld',\n",
       " 'class:NIR',\n",
       " 'class:Nova',\n",
       " 'class:OH/IR',\n",
       " 'class:OpCl',\n",
       " 'class:Orion_V*',\n",
       " 'class:PM*',\n",
       " 'class:PN',\n",
       " 'class:PN?',\n",
       " 'class:PairG',\n",
       " 'class:PartofCloud',\n",
       " 'class:PartofG',\n",
       " 'class:Pec*',\n",
       " 'class:Planet',\n",
       " 'class:Planet?',\n",
       " 'class:Possible_G',\n",
       " 'class:Possible_GrG',\n",
       " 'class:Possible_lensImage',\n",
       " 'class:PulsV*',\n",
       " 'class:PulsV*RVTau',\n",
       " 'class:PulsV*WVir',\n",
       " 'class:PulsV*bCep',\n",
       " 'class:PulsV*delSct',\n",
       " 'class:Pulsar',\n",
       " 'class:QSO',\n",
       " 'class:QSO_Candidate',\n",
       " 'class:RCrB_Candidate',\n",
       " 'class:RGB*',\n",
       " 'class:RRLyr',\n",
       " 'class:RSCVn',\n",
       " 'class:Radio',\n",
       " 'class:Radio(cm)',\n",
       " 'class:Radio(mm)',\n",
       " 'class:Radio(sub-mm)',\n",
       " 'class:RadioG',\n",
       " 'class:RedSG*',\n",
       " 'class:Region',\n",
       " 'class:RfNeb',\n",
       " 'class:RotV*',\n",
       " 'class:RotV*alf2CVn',\n",
       " 'class:S*',\n",
       " 'class:SB*',\n",
       " 'class:SFregion',\n",
       " 'class:SG*',\n",
       " 'class:SN',\n",
       " 'class:SN candidate',\n",
       " 'class:SNR',\n",
       " 'class:SNR?',\n",
       " 'class:Seyfert',\n",
       " 'class:Seyfert_1',\n",
       " 'class:Seyfert_2',\n",
       " 'class:Solar System MPC',\n",
       " 'class:Solar System candidate',\n",
       " 'class:Star',\n",
       " 'class:StarburstG',\n",
       " 'class:Symbiotic*',\n",
       " 'class:TTau*',\n",
       " 'class:Tracklet',\n",
       " 'class:UV',\n",
       " 'class:Unknown',\n",
       " 'class:V*',\n",
       " 'class:V*?',\n",
       " 'class:WD*',\n",
       " 'class:WR*',\n",
       " 'class:X',\n",
       " 'class:XB',\n",
       " 'class:YSO',\n",
       " 'class:YellowSG*',\n",
       " 'class:brownD*',\n",
       " 'class:deltaCep',\n",
       " 'class:denseCore',\n",
       " 'class:gamma',\n",
       " 'class:gammaBurst',\n",
       " 'class:gammaDor',\n",
       " 'class:low-mass*',\n",
       " 'class:multiple_object',\n",
       " 'class:outflow?',\n",
       " 'class:post-AGB*',\n",
       " 'class:pulsV*SX',\n",
       " 'class:simbad_gal',\n",
       " 'class:simbad_tot',\n",
       " 'key:key',\n",
       " 'key:time']"
      ]
     },
     "execution_count": 16,
     "metadata": {},
     "output_type": "execute_result"
    }
   ],
   "source": [
    "pdf_stats.keys().to_list()"
   ]
  },
  {
   "cell_type": "markdown",
   "id": "a2cc1d3a",
   "metadata": {},
   "source": [
    "To get the stats for the whole year of SNe Ia candidates"
   ]
  },
  {
   "cell_type": "code",
   "execution_count": 17,
   "id": "29a2f4b4",
   "metadata": {},
   "outputs": [],
   "source": [
    "n_alerts_earlySNeIa = pdf_stats['class:Early SN Ia candidate'].sum()"
   ]
  },
  {
   "cell_type": "code",
   "execution_count": 18,
   "id": "6ffb9af6",
   "metadata": {},
   "outputs": [
    {
     "name": "stdout",
     "output_type": "stream",
     "text": [
      "Numer of alerts classified as Early SNe Ia 3728\n"
     ]
    }
   ],
   "source": [
    "print(f\"Numer of alerts classified as Early SNe Ia {int(n_alerts_earlySNeIa)}\")"
   ]
  },
  {
   "cell_type": "markdown",
   "id": "aeb9b9e5",
   "metadata": {},
   "source": [
    "Plot the number of alerts received 'basic:raw', the number of alerts that pass quality cuts 'basic:sci' those that are tagged as Early SNe Ia"
   ]
  },
  {
   "cell_type": "code",
   "execution_count": 19,
   "id": "d4784e56",
   "metadata": {},
   "outputs": [
    {
     "data": {
      "text/plain": [
       "Text(0, 0.5, 'Number of alerts')"
      ]
     },
     "execution_count": 19,
     "metadata": {},
     "output_type": "execute_result"
    },
    {
     "data": {
      "image/png": "[encoded data removed]",
      "text/plain": [
       "<Figure size 864x432 with 1 Axes>"
      ]
     },
     "metadata": {
      "needs_background": "light"
     },
     "output_type": "display_data"
    }
   ],
   "source": [
    "fig = plt.figure(figsize=(12,6))\n",
    "cols = ['basic:raw','basic:sci','class:Early SN Ia candidate']\n",
    "plt.bar(cols, pdf_stats[cols].sum())\n",
    "plt.yscale('log')\n",
    "plt.ylabel('Number of alerts')"
   ]
  },
  {
   "cell_type": "code",
   "execution_count": null,
   "id": "6367f928",
   "metadata": {},
   "outputs": [],
   "source": []
  }
 ],
 "metadata": {
  "kernelspec": {
   "display_name": "Python 3 (ipykernel)",
   "language": "python",
   "name": "python3"
  },
  "language_info": {
   "codemirror_mode": {
    "name": "ipython",
    "version": 3
   },
   "file_extension": ".py",
   "mimetype": "text/x-python",
   "name": "python",
   "nbconvert_exporter": "python",
   "pygments_lexer": "ipython3",
   "version": "3.9.5"
  }
 },
 "nbformat": 4,
 "nbformat_minor": 5
}
